{
 "cells": [
  {
   "cell_type": "markdown",
   "id": "51efaa34-d093-4ae8-b425-d9def1728723",
   "metadata": {},
   "source": [
    "## Notebook discovery gneral Student Enrollment.\r\n",
    "Review codes of example student enrollmen and understanding itt\r\n",
    "\r\n",
    "Sourcesold url: :\r\n",
    "\r\n",
    "https://gurobi-machinelearning.readthedocs.io/en/stable/mlm-examples/student_admission.htnew url: ml\r\n",
    "\r\n",
    "\r\n",
    "https://gurobi-machinelearning.readthedocs.io/en/stable/auto_examples/example2_student_admission.html#sphx-glr-auto-examples-example2-student-admission-py"
   ]
  },
  {
   "cell_type": "markdown",
   "id": "cb3896d6-9331-45ad-b065-3bf7634e0a2e",
   "metadata": {},
   "source": [
    "### 0. Packages"
   ]
  },
  {
   "cell_type": "code",
   "execution_count": null,
   "id": "50dcd389-dc2e-4f3b-b8e3-8e280dba0366",
   "metadata": {},
   "outputs": [],
   "source": [
    "# ## install gurobi packages\n",
    "\n",
    "# !pip install gurobipy\n",
    "# !pip install --upgrade gurobipy\n",
    "# !pip install gurobi-machinelearning\n",
    "# !pip install gurobipy-pandas"
   ]
  },
  {
   "cell_type": "code",
   "execution_count": null,
   "id": "2e3710e9-ef00-4c29-8806-ede1669a35ee",
   "metadata": {},
   "outputs": [],
   "source": [
    "!pip show gurobipy"
   ]
  },
  {
   "cell_type": "code",
   "execution_count": null,
   "id": "5545ec04-82d9-4536-8d4e-2d687d86701c",
   "metadata": {},
   "outputs": [],
   "source": [
    "import numpy as np\n",
    "import pandas as pd\n",
    "from matplotlib import pyplot as plt\n",
    "import seaborn as sns\n",
    "from scipy.stats import pointbiserialr, spearmanr\n",
    "\n",
    "from sklearn.linear_model import LogisticRegression\n",
    "from sklearn.tree import DecisionTreeRegressor\n",
    "from sklearn.pipeline import make_pipeline\n",
    "from sklearn.preprocessing import StandardScaler\n",
    "from sklearn.model_selection import train_test_split\n",
    "from sklearn.metrics import confusion_matrix\n",
    "from sklearn.metrics import accuracy_score\n",
    "\n",
    "import sys\n",
    "\n",
    "# package gurobi\n",
    "import gurobipy as gp\n",
    "from gurobi_ml import add_predictor_constr\n",
    "import gurobipy_pandas as gppd"
   ]
  },
  {
   "cell_type": "code",
   "execution_count": null,
   "id": "1ba07cb1-b5e5-481d-89dd-e515b7c41904",
   "metadata": {},
   "outputs": [],
   "source": []
  },
  {
   "cell_type": "markdown",
   "id": "9c433b7d-e84e-4e64-960b-a3861a92339a",
   "metadata": {},
   "source": [
    "### 2. Setear licencia"
   ]
  },
  {
   "cell_type": "code",
   "execution_count": null,
   "id": "81acd36b-333d-431d-9aea-f10033b6a714",
   "metadata": {},
   "outputs": [],
   "source": [
    "# import os\n",
    "# path_licencia_gurobi = \"gurobi.lic\"\n",
    "# os.environ [\"GRB_LICENSE_FILE\"] = path_licencia_gurobi\n",
    "# print(os.environ[\"GRB_LICENSE_FILE\"])"
   ]
  },
  {
   "cell_type": "code",
   "execution_count": null,
   "id": "8f428732-61b0-4abe-b4fa-4b89484a5436",
   "metadata": {},
   "outputs": [],
   "source": [
    "# crear modelo con licencia\n",
    "modelo_prueba = gp.Model('Modelo Prueba')\n",
    "modelo_prueba"
   ]
  },
  {
   "cell_type": "code",
   "execution_count": null,
   "id": "cfa92a61-4517-4bb0-89e8-e23c1c622d7e",
   "metadata": {},
   "outputs": [],
   "source": []
  },
  {
   "cell_type": "markdown",
   "id": "c4a54fef-ebc4-4e14-9113-e52c20141e18",
   "metadata": {},
   "source": [
    "### 3. Explicación data y variables"
   ]
  },
  {
   "cell_type": "markdown",
   "id": "bac85be2-1bbd-42d4-b5a5-4ee314361dc6",
   "metadata": {},
   "source": [
    "#### CONTEXTO PROBLEMA\n",
    "\n",
    "Tengo un conjunto de estudiantes que desean ingresar a la universidad, tiene un carrera en el colegio y además dan pruebas para entrar a la universidad (esto se ve reflejado un variables SAT y GPA), además la universidad (de acuerdo a criterios que halla tenido esta decide ofrecerle a cada estudiante una cierta cantidad de dinero de beca, definido como variable MERIT). Luego, el estudiante en base a criterios que el tenga decide ingresar o no la universidad (visto como variable target ENROLL).\n",
    "\n",
    "El objetivo de la universidad es maximizar la cantidad de alumnos que ingresan sujeto a un cierto presupuesto que ellos tienen.\n",
    "\n",
    "**EXPLICACIÓN:**\n",
    "- Que el estudiante ingresa a la universidad o no (y) está dado por una función que mapea el monto de la beca (X), GPA y SAT\n",
    "- Cada estudiante puede recibir como máximo 2.5 como beca (merit). Un máximo de 2.5k de beca\n",
    "- Existe un presupuesto total para becas que está dado por la \"cantidad de alumnos que postulan\" multiplicado por un cierto factor de la forma 0.2n\n",
    "- Quiero maximizar la cantidad de alumnos que ingresan a la universidad decidiendo qué monto de beca asignarle"
   ]
  },
  {
   "cell_type": "markdown",
   "id": "38186eb7-cf47-44b5-81e3-ecad33506546",
   "metadata": {},
   "source": [
    "#### LIST OF ALL VARIABLES IN THE DATA\n",
    "\n",
    "- **SAT**: The SAT is an entrance exam used by most colleges and universities to make admissions decisions. The SAT is a multiple-choice, pencil-and-paper test created and administered by the College Board.\n",
    "- **GPA**: Grade Point Average\n",
    "- **merit**: Amounth of money offered as a scholarship for a student (I think probably according the SAT and GPA). The column is named merit because probably I think according the SAT and GPA of a student the University offers more or minus money\n",
    "- **enroll**: binary variable. 1 the student ingress to the university. 0 The student doens't ingress to the university"
   ]
  },
  {
   "cell_type": "markdown",
   "id": "18dadbf3-3a33-4542-af05-c78fd1717bba",
   "metadata": {},
   "source": [
    "#### CLASIFIACIÓN VARIABLES\n",
    "Desde el punto de vista de la universidad, las variables se pueden clasificar en:\n",
    "\n",
    "**Variable no controlables:**\n",
    "- SAT\n",
    "- GPA\n",
    "\n",
    "**Variables controlables:**\n",
    "- merit (cantidad de dinero que ofrecen)\n",
    "\n",
    "**Variable resultante:**\n",
    "- enroll"
   ]
  },
  {
   "cell_type": "code",
   "execution_count": null,
   "id": "17fa4fc5-146a-4846-860c-2c9668ac31af",
   "metadata": {},
   "outputs": [],
   "source": []
  },
  {
   "cell_type": "markdown",
   "id": "ec21bae5-8a3f-49d5-a57e-2859a4f66446",
   "metadata": {},
   "source": [
    "### 4. Read data"
   ]
  },
  {
   "cell_type": "code",
   "execution_count": null,
   "id": "232e2d0f-b5da-413b-aee2-bb7b131d8758",
   "metadata": {},
   "outputs": [],
   "source": [
    "# Read Data: Base URL for retrieving data\n",
    "janos_data_url = \"https://raw.githubusercontent.com/INFORMSJoC/2020.1023/master/data/\"\n",
    "historical_data = pd.read_csv(\n",
    "    janos_data_url + \"college_student_enroll-s1-1.csv\", index_col=0\n",
    ")"
   ]
  },
  {
   "cell_type": "code",
   "execution_count": null,
   "id": "03bcbd11-a708-423a-8a63-ef67548777f0",
   "metadata": {},
   "outputs": [],
   "source": [
    "historical_data.head()"
   ]
  },
  {
   "cell_type": "code",
   "execution_count": null,
   "id": "87e94389-aae2-4552-a2d5-ba588262d6ff",
   "metadata": {},
   "outputs": [],
   "source": [
    "# classify our features between the ones that are fixed and the ones that will be\n",
    "# part of the optimization problem\n",
    "features = [\"merit\", \"SAT\", \"GPA\"]\n",
    "target = \"enroll\"\n",
    "features_target = features + [target]"
   ]
  },
  {
   "cell_type": "code",
   "execution_count": null,
   "id": "419be992-5ba9-4eec-b0ad-0b13f3cecb61",
   "metadata": {},
   "outputs": [],
   "source": []
  },
  {
   "cell_type": "markdown",
   "id": "81e3cb93-fb54-4187-93f2-c8ba6296246f",
   "metadata": {},
   "source": [
    "### 5. EDA"
   ]
  },
  {
   "cell_type": "markdown",
   "id": "b3f77aad-094d-412f-99ef-37da8cfb2f6a",
   "metadata": {},
   "source": [
    "#### 5.1 General eda"
   ]
  },
  {
   "cell_type": "code",
   "execution_count": null,
   "id": "c5fa5fdf-2a60-4723-b092-d652d0798acd",
   "metadata": {},
   "outputs": [],
   "source": [
    "# descriptive statistic\n",
    "historical_data.describe()"
   ]
  },
  {
   "cell_type": "code",
   "execution_count": null,
   "id": "7847b6e9-e392-495f-b4b9-3d13b004015a",
   "metadata": {},
   "outputs": [],
   "source": [
    "# histograms\n",
    "for feature in features_target:\n",
    "    historical_data[feature].hist()\n",
    "    plt.title(feature)\n",
    "    plt.show()"
   ]
  },
  {
   "cell_type": "markdown",
   "id": "360f4b74-396f-47a7-9c2e-ca4f6e70a5b6",
   "metadata": {},
   "source": [
    "#### 5.2 correlations"
   ]
  },
  {
   "cell_type": "code",
   "execution_count": null,
   "id": "9170ebdb-2db4-4247-8811-15b4fa97f4dc",
   "metadata": {},
   "outputs": [],
   "source": [
    "correlation_matrix = historical_data.corr()\n",
    "\n",
    "# plt.figure(figsize=(10, 8))\n",
    "# sns.heatmap(correlation_matrix, annot=True, cmap='coolwarm', fmt='.2f', linewidths=0.5)\n",
    "# plt.title('Correlation Matrix')\n",
    "# plt.show()\n",
    "\n",
    "correlation_matrix"
   ]
  },
  {
   "cell_type": "markdown",
   "id": "b764d9dc-0fac-405e-8354-9b1c4c8d110f",
   "metadata": {},
   "source": [
    "Insights:\n",
    "- gpa y sat están altamente correlacionados, demasiado (0.96)\n",
    "- merit tiene cierta relación con sat y gpa. A un sat alto también habrá un merit (beca) mayor. Sin embargo, se esperaría una correlación mayor pero no es el caso. En los gráficos a continuación al separar merit y no merit también se puede observar el porqué de la baja correlación (bajo lo que se esperaría)\n",
    "- enroll is binary variable. Doesn't apply this correlation"
   ]
  },
  {
   "cell_type": "markdown",
   "id": "6c1ec285-e916-434d-9edb-b2be2c3869f0",
   "metadata": {},
   "source": [
    "#### 5.3 correlations features(continuos) vs target (categorical)"
   ]
  },
  {
   "cell_type": "code",
   "execution_count": null,
   "id": "13fa7374-281f-47c2-b5d0-74015670aa87",
   "metadata": {},
   "outputs": [],
   "source": [
    "# Calcular la correlación de punto biserial entre la variable binaria y las variables continuas\n",
    "correlations_pb = {}\n",
    "for column in historical_data.columns:\n",
    "    if column != target:\n",
    "        correlation, p_value = pointbiserialr(historical_data[target], historical_data[column])\n",
    "        correlations_pb[column] = correlation\n",
    "\n",
    "# Opcional: Puedes utilizar el coeficiente de correlación de rango de orden (Spearman) para variables no lineales\n",
    "# correlations_spearman = historical_data.corr(method='spearman')['target']\n",
    "\n",
    "# Crear un DataFrame con las correlaciones\n",
    "correlations_df = pd.DataFrame(list(correlations_pb.items()), columns=['Variable', 'Point Biserial Correlation'])\n",
    "correlations_df.set_index('Variable', inplace=True)\n",
    "\n",
    "# Mostrar el DataFrame con las correlaciones\n",
    "print(correlations_df)\n",
    "\n",
    "# Crear un mapa de calor (heatmap) de las correlaciones\n",
    "# plt.figure(figsize=(10, 6))\n",
    "# sns.heatmap(correlations_df.transpose(), annot=True, cmap='coolwarm', linewidths=0.5)\n",
    "# plt.title('Correlaciones con la Variable Target')\n",
    "# plt.show()"
   ]
  },
  {
   "cell_type": "code",
   "execution_count": null,
   "id": "5ebe7fd2-c571-42c2-a08f-73720a34df27",
   "metadata": {},
   "outputs": [],
   "source": []
  },
  {
   "cell_type": "markdown",
   "id": "107a2b8a-3885-42e1-9d31-e88e76971da5",
   "metadata": {},
   "source": [
    "#### 5.3 Zoom merit. because some values in the histogram are zero?"
   ]
  },
  {
   "cell_type": "code",
   "execution_count": null,
   "id": "b14adf07-9c83-4a7e-b38e-579961fee660",
   "metadata": {},
   "outputs": [],
   "source": [
    "# divide data merit and no merit\n",
    "data_no_merit = historical_data[historical_data['merit']==0]\n",
    "data_merit = historical_data[historical_data['merit']!=0]\n",
    "\n",
    "# number merit and no merit\n",
    "number_of_students_no_merit = historical_data[historical_data['merit']==0].shape[0]\n",
    "number_of_students_merit = historical_data[historical_data['merit']!=0].shape[0]"
   ]
  },
  {
   "cell_type": "code",
   "execution_count": null,
   "id": "d762f278-5e04-45d4-a11f-0d2b585b4b2d",
   "metadata": {},
   "outputs": [],
   "source": [
    "# histograms\n",
    "def plot_hist_merit_no_merit(df_no_merit, df_merit, variable):\n",
    "    \"\"\"\n",
    "    Plot histogram of a feature divide into dataframe with merit and no merit\n",
    "    \"\"\"\n",
    "    plt.hist(df_no_merit[variable], label = 'NO merit', alpha = 0.3, color = 'gray')\n",
    "    plt.hist(df_merit[variable], label = 'merit', alpha = 0.3, color = 'orange')\n",
    "    plt.legend()\n",
    "    plt.title(feature)\n",
    "    plt.show()\n",
    "\n",
    "for feature in features_target:\n",
    "    plot_hist_merit_no_merit(df_no_merit = data_no_merit, \n",
    "                             df_merit = data_merit, \n",
    "                            variable = feature)"
   ]
  },
  {
   "cell_type": "markdown",
   "id": "4e3ba156-548a-442b-a19b-c0dadf2cc6f2",
   "metadata": {},
   "source": [
    "Insights:\n",
    "- con no merit se observa (merit = 0) se observa que la cola del histograma de merit efectivamente era porque el valor era cero\n",
    "- es más frecuente un merit = 0 con un SAT bajo (de acuerdo a la intuición)\n",
    "- es más frecuente un merit = 0 con un GPA bajo (de acuerdo a la intuición)\n",
    "- se pueden hacer más análisis pero no es el objetivo de este notebook\n",
    "- Si hay merit este parte desde 0.5k hasta los 2.5 valor tope de acuerdo a la explicación del problema"
   ]
  },
  {
   "cell_type": "markdown",
   "id": "4c0092b3-49b1-4855-a7a1-07241bd3e772",
   "metadata": {},
   "source": [
    "**Conclusiones:**\r\n",
    "- El monto de la beca que como variable de decisión puede tomar valores entre 0 y 2.5, pero en los datos, los valores se mueven desde 0.5 hasta 2.5. Lo que puede generar un riesg en caso de que se quisiera probar el efecto de asignarle a alguien por ejemplo 0.3 de becao"
   ]
  },
  {
   "cell_type": "code",
   "execution_count": null,
   "id": "58cb5da4-ac0b-419d-8b9b-97c4f83a3734",
   "metadata": {},
   "outputs": [],
   "source": []
  },
  {
   "cell_type": "markdown",
   "id": "e493f04b-9d77-4daf-af35-16aeb51696e5",
   "metadata": {},
   "source": [
    "### 6. Model\n",
    "Predecir si el estudiante va a ingresar a no a la universidad de acuerdo a SAT, GPA y merit"
   ]
  },
  {
   "cell_type": "code",
   "execution_count": null,
   "id": "d448fa81-dbc1-474f-8d54-617ca0241262",
   "metadata": {},
   "outputs": [],
   "source": [
    "# split data\n",
    "X_train, X_test, y_train, y_test = train_test_split(\n",
    "     historical_data.loc[:, features],\n",
    "     historical_data.loc[:, target],\n",
    "     test_size=0.2,\n",
    "     random_state=42)"
   ]
  },
  {
   "cell_type": "code",
   "execution_count": null,
   "id": "12407cda-bc0e-4217-a3f7-ae1ec5a6f9d0",
   "metadata": {},
   "outputs": [],
   "source": [
    "X_train.head()"
   ]
  },
  {
   "cell_type": "code",
   "execution_count": null,
   "id": "7a45d0a0-c69e-45ac-811f-6eaffede67c4",
   "metadata": {},
   "outputs": [],
   "source": [
    "# Run our regression\n",
    "scaler = StandardScaler()\n",
    "regression = LogisticRegression(random_state = 42)\n",
    "pipe = make_pipeline(scaler, regression)\n",
    "pipe.fit(X = X_train, y = y_train)"
   ]
  },
  {
   "cell_type": "markdown",
   "id": "dabb7a45-f4c9-45cb-a04a-51bc98cd77c2",
   "metadata": {},
   "source": [
    "### 7. Evaluación modelo"
   ]
  },
  {
   "cell_type": "code",
   "execution_count": null,
   "id": "1524751d-bcc5-4de1-a5a2-0618fa9c4f11",
   "metadata": {},
   "outputs": [],
   "source": [
    "y_pred_test = pipe.predict(X_test)"
   ]
  },
  {
   "cell_type": "code",
   "execution_count": null,
   "id": "8cf1a39b-438e-43e1-9783-a73633254756",
   "metadata": {},
   "outputs": [],
   "source": [
    "# accuracy\n",
    "accuracy_score(y_true = y_test,\n",
    "               y_pred = y_pred_test\n",
    "               )"
   ]
  },
  {
   "cell_type": "code",
   "execution_count": null,
   "id": "76e5663a-6e2b-4cd9-9a67-f6569e5dfd52",
   "metadata": {},
   "outputs": [],
   "source": [
    "# confusion matrix datos test\n",
    "\n",
    "confusion_matrix(y_true = y_test,\n",
    "                 y_pred = y_pred_test\n",
    "                 )"
   ]
  },
  {
   "cell_type": "code",
   "execution_count": null,
   "id": "e0b1e316-1cc4-4b6e-b832-26a5a688ff53",
   "metadata": {},
   "outputs": [],
   "source": []
  },
  {
   "cell_type": "markdown",
   "id": "9a6952b8-c65c-4c9e-8f36-66dd82786a75",
   "metadata": {},
   "source": [
    "### 8. Optimization model\n",
    "Luego de tener un modelo que dado: SAT, GPA y merit pueda calcular si el alumno va a ingresar a la universidad o no (utilizando datos históricos, ej postulaciones de la universidad de lo últimos 5 años), ahora con datos nuevos donde está la información de las variables no controlables SAT y GPA, ej de las postulaciones a la universidad de este año, la universidad busca conocer qué MERIT (beca económica) ofrecerle a este conjunto de estudiantes para maximar la cantidad de alumnos que entran con el presupuesto de becas que cuentanmente"
   ]
  },
  {
   "cell_type": "markdown",
   "id": "90230ccc-2bd2-4bed-8383-8a087da3e5c1",
   "metadata": {},
   "source": [
    "CARGAR DATA\n",
    "**Esta data no contiene las variables de decisión del modelo.** En este caso, contiene solo SAT y GPA ya que merit y enroll son variables de decisión X e y respectivamente\n",
    "\n",
    "PARÁMETROS\n",
    "- Los datos obtenidos del dataset SAT, GPA\n",
    "- Presupuesto\n",
    "\n",
    "VARIABLES DE DECISIÓN\n",
    "- **X**: en los datos, es la columna: **merit**. Variable continua. Es la cantidad de dinero que se le asigna como beca. Dinero medido en K.\n",
    "- **y**: en los datos, es la columna: **enroll**. variable binaria, si el estudiante ingresa a la universidad"
   ]
  },
  {
   "cell_type": "code",
   "execution_count": null,
   "id": "de7f2124-fad2-4a75-8901-ebeeb36ba32c",
   "metadata": {},
   "outputs": [],
   "source": []
  },
  {
   "cell_type": "code",
   "execution_count": null,
   "id": "8aa57504-690c-4200-bef7-1a28c81ca116",
   "metadata": {},
   "outputs": [],
   "source": []
  },
  {
   "cell_type": "markdown",
   "id": "a28b25fc-5e8b-428b-890b-d45fd495a036",
   "metadata": {},
   "source": [
    "#### 8.1 Cargar data"
   ]
  },
  {
   "cell_type": "code",
   "execution_count": null,
   "id": "03e20be7-5bf1-4ad0-bdd8-34a3652e08db",
   "metadata": {},
   "outputs": [],
   "source": [
    "# Retrieve new data used to build the optimization problem\n",
    "studentsdata = pd.read_csv(janos_data_url + \"college_applications6000.csv\", index_col=0)\n",
    "studentsdata"
   ]
  },
  {
   "cell_type": "code",
   "execution_count": null,
   "id": "ff5fc2fe-3761-4582-90c4-bab8c04de885",
   "metadata": {},
   "outputs": [],
   "source": [
    "# visualizar data para optimizador vs data historica - SAT\n",
    "plt.hist(studentsdata['SAT'], alpha = 0.2, label = 'data_para_optimizador')\n",
    "plt.hist(historical_data['SAT'], alpha = 0.2, label = 'data_historical')\n",
    "plt.legend()\n",
    "plt.title('SAT')\n",
    "plt.show()"
   ]
  },
  {
   "cell_type": "code",
   "execution_count": null,
   "id": "6c4efbb0-3d43-4302-96f9-570e66eeb50c",
   "metadata": {},
   "outputs": [],
   "source": [
    "# visualizar data para optimizador vs data historica - GPA\n",
    "plt.hist(studentsdata['GPA'], alpha = 0.2, label = 'data_para_optimizador')\n",
    "plt.hist(historical_data['GPA'], alpha = 0.2, label = 'data_historical')\n",
    "plt.legend()\n",
    "plt.title('GPA')\n",
    "plt.show()"
   ]
  },
  {
   "cell_type": "code",
   "execution_count": null,
   "id": "5110e914-3050-4e77-8ae4-673d3f33d4d1",
   "metadata": {},
   "outputs": [],
   "source": [
    "# TODO:\n",
    "# validar igualdad de distribuciones\n",
    "# https://towardsdatascience.com/comparing-sample-distributions-with-the-kolmogorov-smirnov-ks-test-a2292ad6fee5"
   ]
  },
  {
   "cell_type": "code",
   "execution_count": null,
   "id": "bd2dc318-609c-4a0c-8846-61a827dfbb78",
   "metadata": {},
   "outputs": [],
   "source": []
  },
  {
   "cell_type": "markdown",
   "id": "ea912428-289c-4b4b-82a8-3696a02915db",
   "metadata": {},
   "source": [
    "### 8.2 Samplear por licencia gratuita\r\n",
    "Samplear datos por licencia gratuita que admite solo 250 índices"
   ]
  },
  {
   "cell_type": "code",
   "execution_count": null,
   "id": "4f425ff6-5a6e-4112-93e7-d7775e415e78",
   "metadata": {},
   "outputs": [],
   "source": [
    "nstudents = 25\n",
    "\n",
    "# Select randomly nstudents in the data\n",
    "studentsdata = studentsdata.sample(nstudents)"
   ]
  },
  {
   "cell_type": "code",
   "execution_count": null,
   "id": "8008ec67-3c50-4e4b-bde4-18a86025e25f",
   "metadata": {},
   "outputs": [],
   "source": []
  },
  {
   "cell_type": "markdown",
   "id": "37d0abf6-0917-4bc5-ad17-5bc56b4c70b2",
   "metadata": {},
   "source": [
    "#### 8.3 Create Optimization model\r\n",
    "Since our data is in pandas data frames, we use the **package gurobipy-pandas to help create the variables directly using the index of the data frame**"
   ]
  },
  {
   "cell_type": "code",
   "execution_count": null,
   "id": "1699ee15-ee1b-4c2d-8ac3-a4561fa0a0e3",
   "metadata": {},
   "outputs": [],
   "source": [
    "# Start with classical part of the model\n",
    "m = gp.Model(\"Student Enrollment Model\")\n",
    "m"
   ]
  },
  {
   "cell_type": "code",
   "execution_count": null,
   "id": "ed1e88c3-5871-4941-acb5-1ed1906ae9cb",
   "metadata": {},
   "outputs": [],
   "source": []
  },
  {
   "cell_type": "markdown",
   "id": "b37c54e3-80a0-44e6-a1dd-f4cf7a1f0401",
   "metadata": {},
   "source": [
    "#### 8.4 Agregar variables de decisión"
   ]
  },
  {
   "cell_type": "code",
   "execution_count": null,
   "id": "d654509f-4db1-4ec3-a5d8-4147cac39091",
   "metadata": {},
   "outputs": [],
   "source": [
    "# Agregar variable de decisión: y\n",
    "# The y variables are modeling the probability of enrollment of each student. They are indexed by students data\n",
    "y = gppd.add_vars(m, studentsdata, name='enroll_probability')\n",
    "y"
   ]
  },
  {
   "cell_type": "code",
   "execution_count": null,
   "id": "0dd31833-da70-4529-9ee1-1ed696e4f1a8",
   "metadata": {},
   "outputs": [],
   "source": [
    "# TODO YO: COMO RECONOCE QUE ES UNA VARIABLE BINARIA?"
   ]
  },
  {
   "cell_type": "code",
   "execution_count": null,
   "id": "bada33da-5ab9-4af2-a291-a578806bb79d",
   "metadata": {},
   "outputs": [],
   "source": []
  },
  {
   "cell_type": "code",
   "execution_count": null,
   "id": "f405be72-ced4-4496-9443-484aaeb221a1",
   "metadata": {},
   "outputs": [],
   "source": [
    "# Agregar variable de decisión: X - agregarla directamente en el dataframe. \n",
    "# ESTO PORQUE PARA EL MODELO DE MACHINE LEARNING ES MAS FÁCIL PASAR EL DATAFRAME CON TODAS LAS FEATURES QUE NECESITA PARA HACER LA INFERENCIA\n",
    "# se le pasa el dataframe con las features que no son variables de decisión y se crean las columnas con las features que sí son variables de decisión\n",
    "\n",
    "\n",
    "# We add to studentsdata a column of variables to model the \"merit\" feature. Those variable are between 0 and 2.5.\n",
    "# They are added directly to the data frame using the gppd extension.\n",
    "studentsdata = studentsdata.gppd.add_vars(m, lb=0.0, ub=2.5, name='merit')"
   ]
  },
  {
   "cell_type": "code",
   "execution_count": null,
   "id": "8ce65bc7-7de7-4ce8-b3fb-93e84b670703",
   "metadata": {},
   "outputs": [],
   "source": [
    "studentsdata.head()"
   ]
  },
  {
   "cell_type": "code",
   "execution_count": null,
   "id": "00bc04df-cba5-4c6a-8c94-cd4c2af901a6",
   "metadata": {},
   "outputs": [],
   "source": [
    "# Definir variable de decisión X. AQUI SIMPLEMENTE SE DEFINE UNA VARIABLE DE PYTHON \"x\" sin las otras variables del dataframe porque para definir una restricción se hace de la forma x.sum(),\n",
    "# SIN EMBARGO ESTO ES TOTALMENTE INNECESARIO Y SE PUEDE OMITIR ESTA DEFICIÓN DE VARIABLES PARA EVITAR CONFUNDIR\n",
    "\n",
    "# We denote by x the (variable) \"merit\" feature\n",
    "x = studentsdata.loc[:, \"merit\"]\n",
    "x"
   ]
  },
  {
   "cell_type": "code",
   "execution_count": null,
   "id": "5c9960d2-bef0-4037-8975-36ee9b383039",
   "metadata": {},
   "outputs": [],
   "source": [
    "# ordenar dataframe en el mismo orden de feautures utilizado para entrenar el modelo\n",
    "# Make sure that studentsdata contains only the features column and in the right order\n",
    "studentsdata = studentsdata.loc[:, features]\n",
    "studentsdata"
   ]
  },
  {
   "cell_type": "code",
   "execution_count": null,
   "id": "63d31f8c-4a0c-412b-b6ac-bb43a5ebf238",
   "metadata": {},
   "outputs": [],
   "source": [
    "# \"compilar\" el modelo de optimización - cargando las variables de decisión - 6000 estudiantes - 6000 elementos en el conjunto i - Variables de decisión Xi = 6000 y yi = 6000 -> 12000 variables de decisión\n",
    "m.update()\n",
    "m"
   ]
  },
  {
   "cell_type": "code",
   "execution_count": null,
   "id": "c5b69fa2-be06-4573-ba0d-d4f2876801df",
   "metadata": {},
   "outputs": [],
   "source": [
    "# Let's look at our features dataframe for the optimization\n",
    "studentsdata[:10]"
   ]
  },
  {
   "cell_type": "code",
   "execution_count": null,
   "id": "f4f8c24a-826b-4431-b57f-e8d9909221e5",
   "metadata": {},
   "outputs": [],
   "source": []
  },
  {
   "cell_type": "markdown",
   "id": "3ae7e1ab-5811-49f4-a998-ac104778e23b",
   "metadata": {},
   "source": [
    "#### 8.4 Agregar función objetivo y restricciones"
   ]
  },
  {
   "cell_type": "code",
   "execution_count": null,
   "id": "183f6f0b-a4a9-45b4-b6ea-bd767bff742c",
   "metadata": {},
   "outputs": [],
   "source": [
    "# AGREGAR FUNCIÓN OBJETIVO. Al tomar como origen un dataframe, permite escribir sumatorias de variables como si fueran un dataframe\n",
    "y.sum()"
   ]
  },
  {
   "cell_type": "code",
   "execution_count": null,
   "id": "372335e4-d30b-42ff-a24b-8bdcdb63affe",
   "metadata": {},
   "outputs": [],
   "source": [
    "# funcion objetivo del modelo\n",
    "m.setObjective(y.sum(), gp.GRB.MAXIMIZE)"
   ]
  },
  {
   "cell_type": "code",
   "execution_count": null,
   "id": "64acc294-d136-4dfa-aeb8-854cb6d8bc12",
   "metadata": {},
   "outputs": [],
   "source": [
    "### agregar restricciones del modelo - presupuesto para becas (ojo solo es una restricción)\n",
    "\n",
    "len_students = studentsdata.shape[0] # calcular la cantidad de estudiantes\n",
    "m.addConstr(x.sum() <= 0.2 * len_students)"
   ]
  },
  {
   "cell_type": "code",
   "execution_count": null,
   "id": "0c0eb633-f14e-46ee-a5d9-154c86077807",
   "metadata": {},
   "outputs": [],
   "source": [
    "0.2 * len_students # ver lado derecho de restricción, presupuesto disponible"
   ]
  },
  {
   "cell_type": "code",
   "execution_count": null,
   "id": "76c7f098-da1b-4700-bb7b-cad93a81a2de",
   "metadata": {},
   "outputs": [],
   "source": [
    "# ver modelo antes de actualizarse - no tiene cargada las restricciones ni la función objetivo\n",
    "m"
   ]
  },
  {
   "cell_type": "code",
   "execution_count": null,
   "id": "0035f194-b7a8-4d7b-b709-44d801372415",
   "metadata": {},
   "outputs": [],
   "source": [
    "# actualizar modelo\n",
    "m.update()"
   ]
  },
  {
   "cell_type": "code",
   "execution_count": null,
   "id": "ebd023ea-0cdb-4e60-849d-578c4b2f01cc",
   "metadata": {},
   "outputs": [],
   "source": [
    "# ver modelo actualizado - se agregó SOLO UNA RESTRICCIÓN: limite de presupuesto\n",
    "m"
   ]
  },
  {
   "cell_type": "code",
   "execution_count": null,
   "id": "d66871ea-1acc-4a06-ac30-db9af70a5e76",
   "metadata": {},
   "outputs": [],
   "source": []
  },
  {
   "cell_type": "markdown",
   "id": "f8f72db6-1974-4384-becd-a302f63180e3",
   "metadata": {},
   "source": [
    "#### 8.6 Agregar restricción dada por el modelo de ML\r\n",
    "predicción de prob de unirse estudiantes dado GPA, SAT y merit\r\n",
    "\r\n",
    "**\"add_predictor_const\"**\r\n",
    "\r\n",
    "Documentación códigos: https://github.com/Gurobi/gurobi-machinelearning/blob/main/src/gurobi_ml/add_predictor.py\r\n",
    "\r\n",
    "Se deben de definir los siguientes parámetros de entrada:\r\n",
    "\r\n",
    "    gp_model : :gurobipy:`model`\r\n",
    "            The gurobipy model where the predictor should be inserted.\r\n",
    "    predictor:\r\n",
    "        The predictor to insert.\r\n",
    "    input_vars : mvar_array_like\r\n",
    "        Decision variables used as input for predictor in gp_model.\r\n",
    "    output_vars : mvar_array_like, optional\r\n",
    "        Decision variables used as output for predictor in gp_model."
   ]
  },
  {
   "cell_type": "code",
   "execution_count": null,
   "id": "d60cc50b-2c9d-4eba-921f-f2c28b0f19ac",
   "metadata": {},
   "outputs": [],
   "source": [
    "# definir variable de entrada\n",
    "pred_constr = add_predictor_constr(\n",
    "    m, # model gurobi\n",
    "    pipe, # predictor - artefacto modelo ml\n",
    "    studentsdata, # input_var - dataframe que contiene las instancias de entrada del modelo de optimización. valores numéricos y variables de decisión\n",
    "    y, # output_var - variables de decisión\n",
    "    output_type=\"probability_1\"\n",
    ")"
   ]
  },
  {
   "cell_type": "code",
   "execution_count": null,
   "id": "96b724d3-c650-42dd-b8d9-f49182027d03",
   "metadata": {},
   "outputs": [],
   "source": [
    "studentsdata"
   ]
  },
  {
   "cell_type": "code",
   "execution_count": null,
   "id": "85482bce-2797-48f6-8d86-b499b02d834b",
   "metadata": {},
   "outputs": [],
   "source": [
    "pred_constr"
   ]
  },
  {
   "cell_type": "code",
   "execution_count": null,
   "id": "6f9da4dd-6af6-4eb0-a833-24374eabbf78",
   "metadata": {},
   "outputs": [],
   "source": [
    "# no se necesita hacer un model.update(), por lo que se ve, se actualiza de forma inmediata agregando las restricciones\n",
    "m"
   ]
  },
  {
   "cell_type": "code",
   "execution_count": null,
   "id": "1a0ad9ef-39dd-43a5-96c8-d09ee88bcc79",
   "metadata": {},
   "outputs": [],
   "source": [
    "# estadísticas de los modelos agregados como restricciones\n",
    "# referencia: son 6000 estudiantes, por lo tanto son 6000 elementos en el conjunto i\n",
    "pred_constr.print_stats()"
   ]
  },
  {
   "cell_type": "code",
   "execution_count": null,
   "id": "c2664f69-bf2f-4db5-b83e-ecd799c85c79",
   "metadata": {},
   "outputs": [],
   "source": []
  },
  {
   "cell_type": "markdown",
   "id": "8da9ee77-7c48-460d-9966-0ee235c7aad7",
   "metadata": {},
   "source": [
    "### 8.7 Optimizar"
   ]
  },
  {
   "cell_type": "code",
   "execution_count": null,
   "id": "ffb65218-7e61-44af-b83c-de8db90350cf",
   "metadata": {},
   "outputs": [],
   "source": [
    "m.optimize()"
   ]
  },
  {
   "cell_type": "code",
   "execution_count": null,
   "id": "71b79410-ea88-4359-9677-72a444369fd1",
   "metadata": {},
   "outputs": [],
   "source": []
  },
  {
   "cell_type": "markdown",
   "id": "441e6a1e-9153-47c3-aead-04c02a499f37",
   "metadata": {},
   "source": [
    "### 8.8 Consideraciones y mejoras para regresiones logaritmicas\r\n",
    "Remember that for the logistic regression, Gurobi does a piecewise-linear approximation of the logistic function. We can therefore get some significant errors when comparing the results of the Gurobi model with what is predicted by the regression."
   ]
  },
  {
   "cell_type": "code",
   "execution_count": null,
   "id": "39d43d15-471f-40b4-a820-87811813a85b",
   "metadata": {},
   "outputs": [],
   "source": [
    "print(\n",
    "    \"Maximum error in approximating the regression {:.6}\".format(\n",
    "        np.max(pred_constr.get_error())\n",
    "    )\n",
    ")"
   ]
  },
  {
   "cell_type": "markdown",
   "id": "0c1416b4-f73b-4561-9cdb-31017123bd57",
   "metadata": {},
   "source": [
    "The error we get might be considered too large, but we can use Gurobi parameters to tune the piecewise-linear approximation made by Gurobi (at the expense of a harder models).\r\n",
    "\r\n",
    "The specific parameters are explained in the documentation of Functions Constraints in Gurobi’s manual.\r\n",
    "\r\n",
    "We can pass those parameters to the add_predictor_constr function in the form of a dictionary with the keyword parameter pwd_attributes.\r\n",
    "\r\n",
    "Now we want a more precise solution, so we remove the current constraint, add a new one that does a tighter approximation and resolve the model.\r\n",
    "\r\n",
    "https://www.gurobi.com/documentation/9.1/refman/constraints.html#subsubsection:GenConstrFunction"
   ]
  },
  {
   "cell_type": "code",
   "execution_count": null,
   "id": "42cdefae-ee40-4561-a46c-c6ca02f8e519",
   "metadata": {},
   "outputs": [],
   "source": [
    "pred_constr.remove()\n",
    "\n",
    "pwl_attributes = {\n",
    "    \"FuncPieces\": -1,\n",
    "    \"FuncPieceLength\": 0.01,\n",
    "    \"FuncPieceError\": 1e-5,\n",
    "    \"FuncPieceRatio\": -1.0,\n",
    "}\n",
    "pred_constr = add_predictor_constr(\n",
    "    m, pipe, studentsdata, y, output_type=\"probability_1\", pwl_attributes=pwl_attributes\n",
    ")\n",
    "\n",
    "m.optimize()"
   ]
  },
  {
   "cell_type": "code",
   "execution_count": null,
   "id": "3d7eac45-051f-40db-b17a-1531ddbcbd5f",
   "metadata": {},
   "outputs": [],
   "source": [
    "print(\n",
    "    \"Maximum error in approximating the regression {:.6}\".format(\n",
    "        np.max(pred_constr.get_error())\n",
    "    )\n",
    ")"
   ]
  },
  {
   "cell_type": "code",
   "execution_count": null,
   "id": "2ac9c9a3-6351-45cb-807d-43397fab5c41",
   "metadata": {},
   "outputs": [],
   "source": []
  },
  {
   "cell_type": "markdown",
   "id": "261f32b7-d17e-4a3d-93f3-da8fc4115716",
   "metadata": {},
   "source": [
    "### 8.9 Resultados"
   ]
  },
  {
   "cell_type": "code",
   "execution_count": null,
   "id": "afb820b3-5ba2-4efb-978a-5a6cedaa819f",
   "metadata": {},
   "outputs": [],
   "source": [
    "pred_constr.input_values"
   ]
  },
  {
   "cell_type": "code",
   "execution_count": null,
   "id": "e5673370-e8b7-418b-a614-53f79e3bd8f1",
   "metadata": {},
   "outputs": [],
   "source": [
    "pred_constr.output_values"
   ]
  },
  {
   "cell_type": "code",
   "execution_count": null,
   "id": "15f28de6-c56d-43d7-93e5-6e84999d661e",
   "metadata": {},
   "outputs": [],
   "source": [
    "pd.DataFrame(pred_constr.output_values)"
   ]
  },
  {
   "cell_type": "code",
   "execution_count": null,
   "id": "a94ebaa9-c66d-4a9f-9235-c2e73b9c1d78",
   "metadata": {},
   "outputs": [],
   "source": [
    "pd.DataFrame(pred_constr.output_values).hist()"
   ]
  },
  {
   "cell_type": "code",
   "execution_count": null,
   "id": "4b26cda5-29a8-4bc7-8d08-d49a53fb6531",
   "metadata": {},
   "outputs": [],
   "source": [
    "x"
   ]
  },
  {
   "cell_type": "code",
   "execution_count": null,
   "id": "d2fe6518-6c67-4883-bf6e-5ded1dd09df8",
   "metadata": {},
   "outputs": [],
   "source": [
    "y"
   ]
  },
  {
   "cell_type": "code",
   "execution_count": null,
   "id": "3921d4fd-d05b-41ce-9336-821a85403561",
   "metadata": {},
   "outputs": [],
   "source": [
    "x.iloc[0]"
   ]
  },
  {
   "cell_type": "code",
   "execution_count": null,
   "id": "9fd16971-a1b2-44df-8ad3-c528bc9b2ed1",
   "metadata": {},
   "outputs": [],
   "source": [
    "y.iloc[0]"
   ]
  },
  {
   "cell_type": "code",
   "execution_count": null,
   "id": "30106246-4acd-43d9-b3b3-982856594a48",
   "metadata": {},
   "outputs": [],
   "source": [
    "# obtener un valor individual de las variables de decisión\n",
    "y.iloc[0].X"
   ]
  },
  {
   "cell_type": "code",
   "execution_count": null,
   "id": "3e305294-a589-4102-9882-a78216fb7bb9",
   "metadata": {},
   "outputs": [],
   "source": [
    "# obtener un valor individual de las variables de decisión\n",
    "x.iloc[0].X"
   ]
  },
  {
   "cell_type": "code",
   "execution_count": null,
   "id": "98f03a96-aa5f-41c5-a32a-c8ee1d09fb92",
   "metadata": {},
   "outputs": [],
   "source": [
    "# obtener valores desde un for\n",
    "x_values = []\n",
    "for index in range(x.shape[0]):\n",
    "  x_values.append(x.iloc[index].X)\n",
    "\n",
    "x_values"
   ]
  },
  {
   "cell_type": "code",
   "execution_count": null,
   "id": "049a9888-8d02-4d8e-abb2-da6544ee6dea",
   "metadata": {},
   "outputs": [],
   "source": [
    "print(f\"Optimal objective value: {m.objVal}\")"
   ]
  },
  {
   "cell_type": "code",
   "execution_count": null,
   "id": "e7b164a5-c6fd-49d0-a461-448f7e0c8a3c",
   "metadata": {},
   "outputs": [],
   "source": [
    "# # para obtener los valores de la variable de decisión como serie de pandas bien ----> AL FINAL ESTA ES LA MEJOR FORMA PARA OBTENER LOS VALORES\n",
    "# DE LAS VARIABLES DE DECISIÓN DEL MODELO DE OPTIMIZACIÓN\n",
    "x.gppd.X"
   ]
  },
  {
   "cell_type": "code",
   "execution_count": null,
   "id": "e1f85bc5-1735-4768-9617-cfc0b975ecc4",
   "metadata": {},
   "outputs": [],
   "source": []
  },
  {
   "cell_type": "code",
   "execution_count": null,
   "id": "d7eff490-e911-474d-a159-072d146205c9",
   "metadata": {},
   "outputs": [],
   "source": []
  },
  {
   "cell_type": "markdown",
   "id": "54532dc5-9b3d-43b0-9ace-729a4d3e4d91",
   "metadata": {},
   "source": [
    "# IMPORTANTE REVISAR ERROR"
   ]
  },
  {
   "cell_type": "code",
   "execution_count": null,
   "id": "39c2a3aa-85c8-45e5-bf3e-36521b30bd29",
   "metadata": {},
   "outputs": [],
   "source": [
    "### TODO YO:\n",
    "# LAS VARIABLES DE DECISIÓN \"Y\" TOMAN VALORES NUMÉRICOS EN LUGAR DE NÚMEROS BINARIOS\n",
    "# REVISAR POR QUÉ SIENDO QUE EL MODELO PREDICE VALORES BINARIOS"
   ]
  },
  {
   "cell_type": "code",
   "execution_count": null,
   "id": "22302ca6-ef40-4644-b304-3492eac906eb",
   "metadata": {},
   "outputs": [],
   "source": [
    "y_pred_test"
   ]
  },
  {
   "cell_type": "code",
   "execution_count": null,
   "id": "7efea65a-4dac-4811-89fa-8448716a8eca",
   "metadata": {},
   "outputs": [],
   "source": []
  },
  {
   "cell_type": "code",
   "execution_count": null,
   "id": "e52d87cb-df57-48d5-ac4a-2d95652a68be",
   "metadata": {},
   "outputs": [],
   "source": []
  },
  {
   "cell_type": "markdown",
   "id": "c8803963-9afd-45e0-893a-543c9162873e",
   "metadata": {},
   "source": [
    "# NOTE: EL PROBLEMA CON ESTE EJEMPLO ES QUE LA OPTIMIZACIÓN ES PARA UN CONJUNTO DE DATOS, POR EJEMPLO, DADO 100 ESTUDIANTES QUE POSTULAN ESTE AÑO, QUÉ CANTIDAD DE BECAS OFRCERLE A CADA ESTUDIANTE DADO QUE TENGO UN PRESUPUESTO QUE DEPENDE DE LA CANTIDAD DE ESTUDIANTES\n",
    "\n",
    "# ---> NO ES POSIBLE PREDECIR QUÉ BECA OFRCERLE A UN ESTUDIANTE INDIVIDUAL QUE POSTULA <-------"
   ]
  },
  {
   "cell_type": "code",
   "execution_count": null,
   "id": "887bf51c-1cd6-460f-aa3e-2e4acefa7172",
   "metadata": {},
   "outputs": [],
   "source": []
  }
 ],
 "metadata": {
  "kernelspec": {
   "display_name": "Python 3 (ipykernel)",
   "language": "python",
   "name": "python3"
  },
  "language_info": {
   "codemirror_mode": {
    "name": "ipython",
    "version": 3
   },
   "file_extension": ".py",
   "mimetype": "text/x-python",
   "name": "python",
   "nbconvert_exporter": "python",
   "pygments_lexer": "ipython3",
   "version": "3.10.14"
  }
 },
 "nbformat": 4,
 "nbformat_minor": 5
}
