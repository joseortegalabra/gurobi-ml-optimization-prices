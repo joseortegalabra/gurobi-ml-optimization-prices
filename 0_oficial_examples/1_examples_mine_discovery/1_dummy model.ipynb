{
 "cells": [
  {
   "cell_type": "code",
   "execution_count": 1,
   "id": "dec35c6b-a497-4b8e-bc57-afe8e2d54871",
   "metadata": {},
   "outputs": [],
   "source": [
    "import pandas as pd\n",
    "import numpy as np\n",
    "import gurobipy as gp"
   ]
  },
  {
   "cell_type": "markdown",
   "id": "cb915ecf-30ab-49fc-b5d2-8a894c6bad5c",
   "metadata": {},
   "source": [
    "### Modelo"
   ]
  },
  {
   "cell_type": "code",
   "execution_count": 2,
   "id": "82b1554d-bb99-49f8-acfc-abd7e9609f07",
   "metadata": {},
   "outputs": [],
   "source": [
    "# Solve the following MIP:\n",
    "#  maximize\n",
    "#        x +   y + 2 z\n",
    "#  subject to\n",
    "#        x + 2 y + 3 z <= 4\n",
    "#        x +   y       >= 1\n",
    "#        x, y, z binary"
   ]
  },
  {
   "cell_type": "code",
   "execution_count": 3,
   "id": "a65696a5-d12a-4e7a-bd6e-40c085756d77",
   "metadata": {},
   "outputs": [
    {
     "name": "stdout",
     "output_type": "stream",
     "text": [
      "Restricted license - for non-production use only - expires 2025-11-24\n"
     ]
    }
   ],
   "source": [
    "# Create a new model\n",
    "m = gp.Model()"
   ]
  },
  {
   "cell_type": "code",
   "execution_count": 4,
   "id": "33f72862-ec1d-498a-8d50-4ea446d10878",
   "metadata": {},
   "outputs": [],
   "source": [
    "# Create variables\n",
    "x = m.addVar(vtype='B', name=\"x\")\n",
    "y = m.addVar(vtype='B', name=\"y\")\n",
    "z = m.addVar(vtype='B', name=\"z\")"
   ]
  },
  {
   "cell_type": "code",
   "execution_count": 5,
   "id": "fc5fe13a-6957-44bc-87d8-a2f9cbad3cd5",
   "metadata": {},
   "outputs": [],
   "source": [
    "# Set objective function\n",
    "m.setObjective(x + y + 2 * z, gp.GRB.MAXIMIZE)"
   ]
  },
  {
   "cell_type": "code",
   "execution_count": 6,
   "id": "b10d5112-c6d6-47d2-abf1-3136d9da7b21",
   "metadata": {},
   "outputs": [
    {
     "data": {
      "text/plain": [
       "<gurobi.Constr *Awaiting Model Update*>"
      ]
     },
     "execution_count": 6,
     "metadata": {},
     "output_type": "execute_result"
    }
   ],
   "source": [
    "# Add constraints\n",
    "m.addConstr(x + 2 * y + 3 * z <= 4)\n",
    "m.addConstr(x + y >= 1)"
   ]
  },
  {
   "cell_type": "code",
   "execution_count": 7,
   "id": "4265b54b-e1f1-4fdd-8421-1fc05ff6bed9",
   "metadata": {},
   "outputs": [
    {
     "data": {
      "text/plain": [
       "<gurobi.Model MIP instance Unnamed: 2 constrs, 3 vars, No parameter changes>"
      ]
     },
     "execution_count": 7,
     "metadata": {},
     "output_type": "execute_result"
    }
   ],
   "source": [
    "m.update()\n",
    "m"
   ]
  },
  {
   "cell_type": "code",
   "execution_count": 8,
   "id": "3deb03ad-7ae1-4a35-9547-cf81105cf226",
   "metadata": {},
   "outputs": [
    {
     "name": "stdout",
     "output_type": "stream",
     "text": [
      "Gurobi Optimizer version 11.0.0 build v11.0.0rc2 (mac64[arm] - Darwin 23.5.0 23F79)\n",
      "\n",
      "CPU model: Apple M2 Pro\n",
      "Thread count: 12 physical cores, 12 logical processors, using up to 12 threads\n",
      "\n",
      "Optimize a model with 2 rows, 3 columns and 5 nonzeros\n",
      "Model fingerprint: 0x98886187\n",
      "Variable types: 0 continuous, 3 integer (3 binary)\n",
      "Coefficient statistics:\n",
      "  Matrix range     [1e+00, 3e+00]\n",
      "  Objective range  [1e+00, 2e+00]\n",
      "  Bounds range     [1e+00, 1e+00]\n",
      "  RHS range        [1e+00, 4e+00]\n",
      "Found heuristic solution: objective 2.0000000\n",
      "Presolve removed 2 rows and 3 columns\n",
      "Presolve time: 0.00s\n",
      "Presolve: All rows and columns removed\n",
      "\n",
      "Explored 0 nodes (0 simplex iterations) in 0.01 seconds (0.00 work units)\n",
      "Thread count was 1 (of 12 available processors)\n",
      "\n",
      "Solution count 2: 3 2 \n",
      "\n",
      "Optimal solution found (tolerance 1.00e-04)\n",
      "Best objective 3.000000000000e+00, best bound 3.000000000000e+00, gap 0.0000%\n"
     ]
    }
   ],
   "source": [
    "# Solve it!\n",
    "m.optimize()"
   ]
  },
  {
   "cell_type": "code",
   "execution_count": 9,
   "id": "2a908863-7050-4f81-9943-3b2d82327329",
   "metadata": {},
   "outputs": [
    {
     "name": "stdout",
     "output_type": "stream",
     "text": [
      "Optimal objective value: 3.0\n",
      "Solution values: x=1.0, y=0.0, z=1.0\n"
     ]
    }
   ],
   "source": [
    "print(f\"Optimal objective value: {m.objVal}\")\n",
    "print(f\"Solution values: x={x.X}, y={y.X}, z={z.X}\")"
   ]
  },
  {
   "cell_type": "code",
   "execution_count": null,
   "id": "06054bfb-3fb1-4539-ae3f-6b40ef921750",
   "metadata": {},
   "outputs": [],
   "source": []
  }
 ],
 "metadata": {
  "kernelspec": {
   "display_name": "Python 3 (ipykernel)",
   "language": "python",
   "name": "python3"
  },
  "language_info": {
   "codemirror_mode": {
    "name": "ipython",
    "version": 3
   },
   "file_extension": ".py",
   "mimetype": "text/x-python",
   "name": "python",
   "nbconvert_exporter": "python",
   "pygments_lexer": "ipython3",
   "version": "3.10.14"
  }
 },
 "nbformat": 4,
 "nbformat_minor": 5
}
