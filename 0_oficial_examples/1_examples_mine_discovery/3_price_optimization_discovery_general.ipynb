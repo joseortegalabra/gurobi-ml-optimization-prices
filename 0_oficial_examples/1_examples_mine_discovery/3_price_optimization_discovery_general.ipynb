{
 "cells": [
  {
   "cell_type": "markdown",
   "id": "72088e35-c8cf-4fd9-b2e1-64cd2605047f",
   "metadata": {},
   "source": [
    "## Price Optimization\n",
    "Review codes of example price optimization\n",
    "\n",
    "-----\n",
    "**Documentation gurobiML**\n",
    "https://gurobi-machinelearning.readthedocs.io/en/stable/auto_examples/example4_price_optimization.html#sphx-glr-auto-examples-example4-price-optimization-py\n",
    "\n",
    "-----\n",
    "**Link to colab notebooks**\n",
    "\n",
    "- Price optimization only gurobi: https://colab.research.google.com/github/Gurobi/modeling-examples/blob/master/price_optimization/price_optimization.ipynb#scrollTo=4537e1ae\n",
    "\n",
    "- Price optimization gurobi machine learning (gurobiML): https://colab.research.google.com/github/Gurobi/modeling-examples/blob/master/price_optimization/price_optimization_gurobiML.ipynb\n",
    "\n",
    "- Price optimization gurobiML with licence: https://colab.research.google.com/github/Gurobi/modeling-examples/blob/master/price_optimization/price_optimization_gurobiML_wls.ipynb#scrollTo=pzQR12rAr-b_"
   ]
  },
  {
   "cell_type": "code",
   "execution_count": null,
   "id": "6a5e2fd5-1e8d-4599-ae3b-a16274499b40",
   "metadata": {},
   "outputs": [],
   "source": []
  },
  {
   "cell_type": "markdown",
   "id": "5079cf39-ef73-4e02-9690-a3c07645b1ac",
   "metadata": {},
   "source": [
    "### 0. Packages"
   ]
  },
  {
   "cell_type": "code",
   "execution_count": null,
   "id": "1be42c68-c319-48f1-ab9c-e7dea678c96f",
   "metadata": {},
   "outputs": [],
   "source": [
    "# ## install gurobi packages\n",
    "\n",
    "# !pip install gurobipy\n",
    "# !pip install gurobi-machinelearning\n",
    "# !pip install gurobipy-pandas"
   ]
  },
  {
   "cell_type": "code",
   "execution_count": null,
   "id": "66c7a710-ad2a-4533-8cf5-967600a058dd",
   "metadata": {},
   "outputs": [],
   "source": [
    "import warnings\n",
    "\n",
    "import matplotlib.pyplot as plt\n",
    "import numpy as np\n",
    "import pandas as pd\n",
    "import seaborn as sns\n",
    "\n",
    "# sklearn\n",
    "import sklearn\n",
    "from sklearn import tree\n",
    "from sklearn.model_selection import train_test_split\n",
    "from sklearn.compose import make_column_transformer\n",
    "from sklearn.preprocessing import OneHotEncoder, StandardScaler\n",
    "from sklearn.linear_model import LinearRegression\n",
    "from sklearn.metrics import r2_score\n",
    "from sklearn.pipeline import make_pipeline\n",
    "\n",
    "# plotly\n",
    "from plotly.subplots import make_subplots\n",
    "import plotly.graph_objects as go\n",
    "import plotly.express as px\n",
    "\n",
    "# package gurobi\n",
    "import gurobipy as gp\n",
    "from gurobi_ml import add_predictor_constr\n",
    "import gurobipy_pandas as gppd"
   ]
  },
  {
   "cell_type": "markdown",
   "id": "282278ca-12d5-41d9-af6d-aab0c0f491f9",
   "metadata": {},
   "source": [
    "### 1. Setear licencia"
   ]
  },
  {
   "cell_type": "code",
   "execution_count": null,
   "id": "cf659878-a331-417c-9b88-f1b3a33fb16a",
   "metadata": {},
   "outputs": [],
   "source": [
    "# # setear variable de ambiente con la licencia\n",
    "# import os\n",
    "# path_licencia_gurobi = \"gurobi.lic\"\n",
    "# os.environ [\"GRB_LICENSE_FILE\"] = path_licencia_gurobi\n",
    "# print(os.environ[\"GRB_LICENSE_FILE\"])"
   ]
  },
  {
   "cell_type": "code",
   "execution_count": null,
   "id": "22b0086b-86d4-4912-8284-029fc8e4c94e",
   "metadata": {},
   "outputs": [],
   "source": [
    "# crear modelo con licencia seteada\n",
    "modelo_prueba = gp.Model('Modelo Prueba')"
   ]
  },
  {
   "cell_type": "code",
   "execution_count": null,
   "id": "1fd6c821-ba5e-4410-a36c-70ee45059f8c",
   "metadata": {},
   "outputs": [],
   "source": []
  },
  {
   "cell_type": "markdown",
   "id": "5e9ffb0d-fc03-455d-ad98-259a176062c9",
   "metadata": {},
   "source": [
    "### 2. Load data"
   ]
  },
  {
   "cell_type": "code",
   "execution_count": null,
   "id": "34a93620-8e05-491d-a44b-fcc1aaa92df5",
   "metadata": {},
   "outputs": [],
   "source": [
    "data_url = \"https://raw.githubusercontent.com/Gurobi/modeling-examples/master/price_optimization/\"\n",
    "avocado = pd.read_csv(\n",
    "    data_url + \"HABdata_2019_2022.csv\"\n",
    ")  # dataset downloaded directly from HAB\n",
    "avocado_old = pd.read_csv(\n",
    "    data_url + \"kaggledata_till2018.csv\"\n",
    ")  # dataset downloaded from Kaggle\n",
    "\n",
    "# The date is in different formats in the two data sets and\n",
    "# need to be converted separately\n",
    "avocado[\"date\"] = pd.to_datetime(avocado[\"date\"], format=\"%m/%d/%y %H:%M\")\n",
    "avocado_old[\"date\"] = pd.to_datetime(avocado_old[\"date\"], format=\"%m/%d/%y\")\n",
    "\n",
    "# Concatenate the two notebooks\n",
    "avocado = pd.concat([avocado, avocado_old])\n",
    "avocado"
   ]
  },
  {
   "cell_type": "code",
   "execution_count": null,
   "id": "ee8ab840-a33e-4a9a-a270-4f698fcbdf1e",
   "metadata": {},
   "outputs": [],
   "source": []
  },
  {
   "cell_type": "markdown",
   "id": "4da0574b-acc6-4a76-8c58-3aaef5f5315d",
   "metadata": {},
   "source": [
    "### 3. Prepare dataset\r\n",
    "- Agregar índice con el año\r\n",
    "- Agregar columna con las temporadas alta. De febrero a Agosto\r\n",
    "- Transformar las unidades vendidas a millones de unidades vendidas (units/1000000)\r\n",
    "- Elegir solo tipo de palta convencional"
   ]
  },
  {
   "cell_type": "code",
   "execution_count": null,
   "id": "f321b9ed-1cd5-42d4-9d74-ad3c9d768b59",
   "metadata": {},
   "outputs": [],
   "source": [
    "# Add the index for each year from 2015 through 2022\n",
    "avocado[\"year\"] = pd.DatetimeIndex(avocado[\"date\"]).year\n",
    "avocado = avocado.sort_values(by=\"date\")\n",
    "\n",
    "# Define the peak season -> definir meses peak desde febrero hasta agosto\n",
    "avocado[\"month\"] = pd.DatetimeIndex(avocado[\"date\"]).month\n",
    "peak_months = range(2, 8)  # <--------- Set the months for the \"peak season\"\n",
    "\n",
    "\n",
    "def peak_season(row):\n",
    "    return 1 if int(row[\"month\"]) in peak_months else 0\n",
    "\n",
    "\n",
    "avocado[\"peak\"] = avocado.apply(lambda row: peak_season(row), axis=1)\n",
    "\n",
    "\n",
    "# Scale the number of avocados to millions\n",
    "avocado[\"units_sold\"] = avocado[\"units_sold\"] / 1000000\n",
    "\n",
    "# Select only conventional avocados\n",
    "avocado = avocado[avocado[\"type\"] == \"Conventional\"]\n",
    "\n",
    "avocado = avocado[\n",
    "    [\"date\", \"units_sold\", \"price\", \"region\", \"year\", \"month\", \"peak\"]\n",
    "].reset_index(drop=True)\n",
    "\n",
    "avocado"
   ]
  },
  {
   "cell_type": "code",
   "execution_count": null,
   "id": "e6b63804-a4bd-4723-b2de-f2e0143796f5",
   "metadata": {},
   "outputs": [],
   "source": []
  },
  {
   "cell_type": "markdown",
   "id": "dcf7890e-75e3-4bca-9c1d-f1ff69f0946c",
   "metadata": {},
   "source": [
    "### 4. EDA\n",
    "EDA de los datos propio para entenderlos"
   ]
  },
  {
   "cell_type": "markdown",
   "id": "f58376da-3699-406b-b496-335db03d0fb0",
   "metadata": {},
   "source": [
    "NULOS"
   ]
  },
  {
   "cell_type": "code",
   "execution_count": null,
   "id": "ac71b9c8-1d34-4ea4-9546-b3f91bd4977b",
   "metadata": {},
   "outputs": [],
   "source": [
    "### NULOS\n",
    "avocado.isnull().sum()"
   ]
  },
  {
   "cell_type": "markdown",
   "id": "f3b2ae03-f18c-4a1c-9979-bf8dbe314a9b",
   "metadata": {},
   "source": [
    "CANTIDAD DE VALORES ÚNICOS EN VARIABLES DISCRETAS"
   ]
  },
  {
   "cell_type": "code",
   "execution_count": null,
   "id": "33e5a8f2-6538-47d5-86e7-0297f24a40d3",
   "metadata": {},
   "outputs": [],
   "source": [
    "list_features_cat = ['region', 'year', 'month', 'peak']\n",
    "list_features_cat"
   ]
  },
  {
   "cell_type": "code",
   "execution_count": null,
   "id": "56ba23a0-5d38-4e66-a657-bba7a0ee5873",
   "metadata": {},
   "outputs": [],
   "source": [
    "for feature_cat in list_features_cat:\n",
    "    print('FEATURE: ', feature_cat)\n",
    "    print('number of unique regions: ', avocado[feature_cat].nunique())\n",
    "    print('unique regions: ', avocado[feature_cat].unique())\n",
    "    print('\\n')"
   ]
  },
  {
   "cell_type": "markdown",
   "id": "46b2abac-ff9e-4cea-a64d-075fb6a863ff",
   "metadata": {},
   "source": [
    "HIST DE TODAS LAS FEATURES - PLOTLY"
   ]
  },
  {
   "cell_type": "code",
   "execution_count": null,
   "id": "682d4541-bebb-4078-abc6-b636b71a63e2",
   "metadata": {},
   "outputs": [],
   "source": [
    "avocado.describe()"
   ]
  },
  {
   "cell_type": "code",
   "execution_count": null,
   "id": "8757f940-62b4-449a-927e-637a849cb3e4",
   "metadata": {},
   "outputs": [],
   "source": [
    "def plot_hist(df, features_to_plot):\n",
    "    \"\"\"\n",
    "    Dado un histograma y un listado de features, plotear histograma de cada una de las features\n",
    "    Args:\n",
    "        df: dataframe\n",
    "        features_to_plot: list - features to plot\n",
    "    \"\"\"\n",
    "\n",
    "    # shape sub plots\n",
    "    number_columns = 1 #fixed\n",
    "    number_rows = len(features_to_plot)\n",
    "    \n",
    "    # create plot\n",
    "    fig = make_subplots(rows = number_rows, cols = number_columns)\n",
    "    \n",
    "    \n",
    "    # append subplots\n",
    "    for index_feature in range(number_rows):\n",
    "        \n",
    "        # plot\n",
    "        fig.append_trace(\n",
    "            #px.histogram(df, x = features_to_plot[index_feature]),\n",
    "            go.Histogram(x=df[features_to_plot[index_feature]]),\n",
    "            row=index_feature + 1, \n",
    "            col = 1\n",
    "        )\n",
    "        \n",
    "        #Update x-axis title for each subplot\n",
    "        fig.update_xaxes(title_text=features_to_plot[index_feature], row=index_feature + 1, col=1)\n",
    "    \n",
    "    \n",
    "    fig.update_layout(height=1600, width=600, title_text=\"Histograms\")\n",
    "    fig.show()"
   ]
  },
  {
   "cell_type": "code",
   "execution_count": null,
   "id": "8cf78d8d-1015-4cf1-96e6-6bc7d53df53c",
   "metadata": {},
   "outputs": [],
   "source": [
    "plot_hist(df = avocado,\n",
    "         features_to_plot = avocado.columns.tolist()[1:]\n",
    "         )"
   ]
  },
  {
   "cell_type": "code",
   "execution_count": null,
   "id": "8c915e54-42b7-4285-b097-5d5ad5a881ef",
   "metadata": {},
   "outputs": [],
   "source": []
  },
  {
   "cell_type": "code",
   "execution_count": null,
   "id": "19c75dc7-0d18-4338-83f1-16dbf2346db0",
   "metadata": {},
   "outputs": [],
   "source": []
  },
  {
   "cell_type": "code",
   "execution_count": null,
   "id": "8c38dede-7b16-4fe9-8aed-3ed95b875e56",
   "metadata": {},
   "outputs": [],
   "source": []
  },
  {
   "cell_type": "markdown",
   "id": "f133c7ca-79ec-450e-9baf-403a3b67dd6b",
   "metadata": {},
   "source": [
    "### 5. Observe trends in the data\r\n",
    "Now, we will infer sales trends in time and seasonality. For simplicity, let’s proceed with data from the United States as a whole."
   ]
  },
  {
   "cell_type": "markdown",
   "id": "6a53a2f4-4a05-4b18-bfb1-08c3d323258e",
   "metadata": {},
   "source": [
    "#### 5.1 Only data form the United States as a whole"
   ]
  },
  {
   "cell_type": "code",
   "execution_count": null,
   "id": "fe3109bc-f441-46a9-9f03-1ed69291d156",
   "metadata": {},
   "outputs": [],
   "source": [
    "df_Total_US = avocado[avocado[\"region\"] == \"Total_US\"]\n",
    "df_Total_US.head()"
   ]
  },
  {
   "cell_type": "code",
   "execution_count": null,
   "id": "1d141b7e-c366-4c31-9681-fe04e6404fbb",
   "metadata": {},
   "outputs": [],
   "source": [
    "plot_hist(df = df_Total_US,\n",
    "         features_to_plot = df_Total_US.columns.tolist()[1:]\n",
    "         )"
   ]
  },
  {
   "cell_type": "code",
   "execution_count": null,
   "id": "08c672fc-495e-4639-80a7-f55b67cffb61",
   "metadata": {},
   "outputs": [],
   "source": []
  },
  {
   "cell_type": "markdown",
   "id": "bd19fbba-1de4-4731-b4ea-4d960ca3309f",
   "metadata": {},
   "source": [
    "#### 5.2 Sales over the years"
   ]
  },
  {
   "cell_type": "code",
   "execution_count": null,
   "id": "14e35f85-87ee-43d6-846d-2b2a7d7b3446",
   "metadata": {},
   "outputs": [],
   "source": [
    "### sales over the years\n",
    "\n",
    "fig, axes = plt.subplots(nrows=1, ncols=1, figsize=(10, 5))\n",
    "mean = df_Total_US.groupby(\"year\")[\"units_sold\"].mean()\n",
    "std = df_Total_US.groupby(\"year\")[\"units_sold\"].std()\n",
    "axes.errorbar(mean.index, mean, xerr=0.5, yerr=2 * std, linestyle=\"\")\n",
    "axes.set_ylabel(\"Units Sold (millions)\")\n",
    "axes.set_xlabel(\"Year\")\n",
    "\n",
    "fig.tight_layout()"
   ]
  },
  {
   "cell_type": "code",
   "execution_count": null,
   "id": "ef06c9a0-efa0-4dbb-9db3-86ab817ea92b",
   "metadata": {},
   "outputs": [],
   "source": [
    "### time series sales over the years\n",
    "\n",
    "# sort data\n",
    "df_timeseries = df_Total_US.sort_values(by = ['date'], ascending = True)\n",
    "\n",
    "# plot timeseries\n",
    "fig = px.line(df_timeseries, x='date', y=\"units_sold\")\n",
    "fig.show()"
   ]
  },
  {
   "cell_type": "markdown",
   "id": "c69aa1e0-0a0e-4da1-bb0c-c85a6ff91886",
   "metadata": {},
   "source": [
    "We can see that the sales generally increased over the years, albeit marginally. The dip in 2019 is the effect of the well-documented 2019 avocado shortage that led to avocados nearly doubling in price."
   ]
  },
  {
   "cell_type": "code",
   "execution_count": null,
   "id": "2104db53-81f8-4f15-8f1d-b834e574c22f",
   "metadata": {},
   "outputs": [],
   "source": []
  },
  {
   "cell_type": "markdown",
   "id": "e65cc7ef-b22e-4cd1-b8db-81ae341a3bcd",
   "metadata": {},
   "source": [
    "#### 5.3 Seasonality\n",
    "We will now see the sales trends within a year."
   ]
  },
  {
   "cell_type": "code",
   "execution_count": null,
   "id": "16170ea7-c789-4a6d-92fc-19c5af3a7316",
   "metadata": {},
   "outputs": [],
   "source": [
    "fig, axes = plt.subplots(nrows=1, ncols=1, figsize=(10, 5))\n",
    "\n",
    "mean = df_Total_US.groupby(\"month\")[\"units_sold\"].mean()\n",
    "std = df_Total_US.groupby(\"month\")[\"units_sold\"].std()\n",
    "\n",
    "axes.errorbar(mean.index, mean, xerr=0.5, yerr=2 * std, linestyle=\"\")\n",
    "axes.set_ylabel(\"Units Sold (millions)\")\n",
    "axes.set_xlabel(\"Month\")\n",
    "\n",
    "fig.tight_layout()\n",
    "\n",
    "plt.xlabel(\"Month\")\n",
    "axes.set_xticks(range(1, 13))\n",
    "plt.ylabel(\"Units sold (millions)\")\n",
    "plt.show()"
   ]
  },
  {
   "cell_type": "markdown",
   "id": "bfabc7cf-b101-4830-ba4c-964cea6d4557",
   "metadata": {},
   "source": [
    "We see a Super Bowl peak in February and a Cinco de Mayo peak in May."
   ]
  },
  {
   "cell_type": "code",
   "execution_count": null,
   "id": "e7b13018-c8b7-42ad-a38e-5cc66ecceb2f",
   "metadata": {},
   "outputs": [],
   "source": []
  },
  {
   "cell_type": "markdown",
   "id": "8aab610a-863f-4739-b95b-7cde11cac842",
   "metadata": {},
   "source": [
    "#### 5.4 Correlations\n",
    "Now, we will see how the variables are correlated with each other. The end goal is to predict sales given the price of an avocado, year and seasonality (peak or not)."
   ]
  },
  {
   "cell_type": "code",
   "execution_count": null,
   "id": "9619ba94-aaae-4ede-a47f-a07c46e75563",
   "metadata": {},
   "outputs": [],
   "source": [
    "# calculate correlations\n",
    "columns_to_corr = [\"units_sold\", \"price\", \"year\", \"peak\"]\n",
    "corr_df = df_Total_US[columns_to_corr].corr()\n",
    "corr_df = corr_df.round(2)\n",
    "\n",
    "# plot correlations\n",
    "fig = px.imshow(corr_df, width=1000, height=500, text_auto=True, labels = dict(x='Correlations of all features'))\n",
    "fig.update_xaxes(side=\"top\")\n",
    "fig.show()"
   ]
  },
  {
   "cell_type": "code",
   "execution_count": null,
   "id": "3f0f01d3-2435-4c04-b7a9-238a17f90215",
   "metadata": {},
   "outputs": [],
   "source": [
    "## only correlations of units solds\n",
    "columns_to_corr = [\"units_sold\", \"price\", \"year\", \"peak\"]\n",
    "corr_price = df_Total_US[columns_to_corr].corr()\n",
    "corr_price = corr_price[[\"units_sold\"]]\n",
    "corr_price = corr_price.round(2)\n",
    "\n",
    "## correlations\n",
    "fig = px.imshow(corr_price, width=1000, height=500, text_auto=True, labels = dict(x='Correlations of \"units solds\"'))\n",
    "fig.update_xaxes(side=\"top\")\n",
    "fig.show()"
   ]
  },
  {
   "cell_type": "markdown",
   "id": "e072a964-fdd7-4a8b-a6f5-3175848730f0",
   "metadata": {},
   "source": [
    "As expected, the sales quantity has a negative correlation with the price per avocado. The sales quantity has a positive correlation with the year and season being a peak season."
   ]
  },
  {
   "cell_type": "code",
   "execution_count": null,
   "id": "c53eb2f8-da4e-43ea-9906-fc413d91d72a",
   "metadata": {},
   "outputs": [],
   "source": []
  },
  {
   "cell_type": "markdown",
   "id": "39e1987d-6765-4b70-b814-6dd72cf824af",
   "metadata": {},
   "source": [
    "#### 5.5 Regions\n",
    "Finally, we will see how the sales differ among the different regions. This will determine the number of avocados that we want to supply to each region."
   ]
  },
  {
   "cell_type": "code",
   "execution_count": null,
   "id": "1eb682f0-5a9f-4452-9185-5874f67b5175",
   "metadata": {},
   "outputs": [],
   "source": [
    "# create a dataframe with all regions, deleting the total_US\n",
    "regions = [\n",
    "    \"Great_Lakes\",\n",
    "    \"Midsouth\",\n",
    "    \"Northeast\",\n",
    "    \"Northern_New_England\",\n",
    "    \"SouthCentral\",\n",
    "    \"Southeast\",\n",
    "    \"West\",\n",
    "    \"Plains\",\n",
    "]\n",
    "df = avocado[avocado.region.isin(regions)]"
   ]
  },
  {
   "cell_type": "code",
   "execution_count": null,
   "id": "3b65c97a-7318-4db3-b41e-2191af37ac7c",
   "metadata": {},
   "outputs": [],
   "source": [
    "# plot units sold of each region\n",
    "\n",
    "\n",
    "fig, axes = plt.subplots(nrows=1, ncols=1, figsize=(10, 5))\n",
    "\n",
    "mean = df.groupby(\"region\")[\"units_sold\"].mean()\n",
    "std = df.groupby(\"region\")[\"units_sold\"].std()\n",
    "\n",
    "axes.errorbar(range(len(mean)), mean, xerr=0.5, yerr=2 * std, linestyle=\"\")\n",
    "\n",
    "fig.tight_layout()\n",
    "\n",
    "plt.xlabel(\"Region\")\n",
    "plt.xticks(range(len(mean)), pd.DataFrame(mean)[\"units_sold\"].index, rotation=20)\n",
    "plt.ylabel(\"Units sold (millions)\")\n",
    "plt.show()"
   ]
  },
  {
   "cell_type": "code",
   "execution_count": null,
   "id": "09b97847-8926-441d-9a11-f574db459328",
   "metadata": {},
   "outputs": [],
   "source": []
  },
  {
   "cell_type": "markdown",
   "id": "1746be42-3d63-4f0d-ba8f-4c823639bc04",
   "metadata": {},
   "source": [
    "#### 5.6: Predict the Sales\n",
    "The trends observed in Part I motivate us to construct a prediction model for sales using the independent variables- price, year, region and seasonality. Henceforth, the sales quantity will be referred to as the predicted demandarn."
   ]
  },
  {
   "cell_type": "code",
   "execution_count": null,
   "id": "34a168a1-bd0e-44df-baa6-117583bbeebb",
   "metadata": {},
   "outputs": [],
   "source": [
    "# define X and y\n",
    "X = df[[\"region\", \"price\", \"year\", \"peak\"]]\n",
    "y = df[[\"units_sold\"]]"
   ]
  },
  {
   "cell_type": "code",
   "execution_count": null,
   "id": "37f25328-2f13-42a5-ae84-e2334d0c233c",
   "metadata": {},
   "outputs": [],
   "source": [
    "X.head()"
   ]
  },
  {
   "cell_type": "code",
   "execution_count": null,
   "id": "bc035ee4-09c6-47e0-94af-f0c953335a8d",
   "metadata": {},
   "outputs": [],
   "source": [
    "y.head()"
   ]
  },
  {
   "cell_type": "code",
   "execution_count": null,
   "id": "ae375bf2-6a5f-42e2-b54d-3f86a65b75b1",
   "metadata": {},
   "outputs": [],
   "source": [
    "# Split the data for training and testing\n",
    "X_train, X_test, y_train, y_test = train_test_split(\n",
    "    X, y, train_size=0.8, random_state=1\n",
    ")"
   ]
  },
  {
   "cell_type": "code",
   "execution_count": null,
   "id": "0ca116ff-5110-4d8c-b469-cf75ea5dadd5",
   "metadata": {},
   "outputs": [],
   "source": [
    "X_train.head()"
   ]
  },
  {
   "cell_type": "code",
   "execution_count": null,
   "id": "b041fb70-5f79-4d78-a159-7248b2ec203b",
   "metadata": {},
   "outputs": [],
   "source": [
    "X_train.info()"
   ]
  },
  {
   "cell_type": "code",
   "execution_count": null,
   "id": "20c1f34b-6a04-4766-b6b7-4f9f1ae6a2de",
   "metadata": {},
   "outputs": [],
   "source": []
  },
  {
   "cell_type": "markdown",
   "id": "54031836-24af-47da-bcf1-2e167db2aecd",
   "metadata": {},
   "source": [
    "Transform the data\n",
    "- \"region\" is a categorical feature -> one hot encoding\n",
    "- standar scaler -> price and year"
   ]
  },
  {
   "cell_type": "code",
   "execution_count": null,
   "id": "ea17a224-89b3-4045-8545-9574b851ce68",
   "metadata": {},
   "outputs": [],
   "source": [
    "feat_transform = make_column_transformer(\n",
    "    (OneHotEncoder(drop=\"first\"), [\"region\"]),\n",
    "    (StandardScaler(), [\"price\", \"year\"]),\n",
    "    (\"passthrough\", [\"peak\"]),\n",
    "    verbose_feature_names_out=False,\n",
    "    remainder=\"drop\",\n",
    ")"
   ]
  },
  {
   "cell_type": "markdown",
   "id": "0dc94635-115b-41d8-b75b-7c3d6c9caa3e",
   "metadata": {},
   "source": [
    "The regression model is a pipeline consisting of the Column Transformer we just defined and a Linear Regression.\r\n",
    "\r\n",
    "Define it and train it."
   ]
  },
  {
   "cell_type": "code",
   "execution_count": null,
   "id": "473dc148-11c8-4daf-bf8c-bc4a89db6952",
   "metadata": {},
   "outputs": [],
   "source": [
    "from sklearn.linear_model import LinearRegression\n",
    "from sklearn.metrics import r2_score\n",
    "from sklearn.pipeline import make_pipeline\n",
    "\n",
    "lin_reg = make_pipeline(feat_transform, LinearRegression())\n",
    "lin_reg.fit(X_train, y_train)\n",
    "\n",
    "# Get R^2 from test data\n",
    "y_pred = lin_reg.predict(X_test)\n",
    "print(f\"The R^2 value in the test set is {r2_score(y_test, y_pred)}\")"
   ]
  },
  {
   "cell_type": "markdown",
   "id": "077915d3-fe20-4549-9190-66bd57ba9846",
   "metadata": {},
   "source": [
    "#### inference example"
   ]
  },
  {
   "cell_type": "code",
   "execution_count": null,
   "id": "bcb1c92f-c633-4498-865d-1168fc80015f",
   "metadata": {},
   "outputs": [],
   "source": [
    "# one inference example: \n",
    "X_inference = X_test.iloc[[0], :]\n",
    "X_inference"
   ]
  },
  {
   "cell_type": "code",
   "execution_count": null,
   "id": "0f4401c5-102b-4003-8e88-35506eb91cde",
   "metadata": {},
   "outputs": [],
   "source": [
    "# predict with the model - DADO UN PRECIO, ESTOY CALCULANDO UNA DEMANDA\n",
    "demand_predicted = lin_reg.predict(X_inference)\n",
    "demand_predicted"
   ]
  },
  {
   "cell_type": "code",
   "execution_count": null,
   "id": "d63653b5-ad39-4a0d-b6f8-1af2d2b5494c",
   "metadata": {},
   "outputs": [],
   "source": [
    "# real value\n",
    "y_test.iloc[[0], :]"
   ]
  },
  {
   "cell_type": "markdown",
   "id": "c5dd54b9-1f3d-4932-afae-65f939e0fa67",
   "metadata": {},
   "source": [
    "#### estoy cambiando el año...., cómo puede generalizar bien este modelo con datos que claramente no conoce a futuro"
   ]
  },
  {
   "cell_type": "code",
   "execution_count": null,
   "id": "e36c1c44-6761-4ff6-aa53-3542528f3ac1",
   "metadata": {},
   "outputs": [],
   "source": []
  },
  {
   "cell_type": "markdown",
   "id": "1967c8c8-8501-4c30-a4b7-a2e2ffe5afca",
   "metadata": {},
   "source": [
    "We can observe a good R2\n",
    " value in the test set. We will now train the fit the weights to the full dataset\n",
    "YO: WHY, POR QUÉ ESTAS HACIENDO ESTO."
   ]
  },
  {
   "cell_type": "code",
   "execution_count": null,
   "id": "e423dffa-6f38-436e-987e-748e0f19a8a2",
   "metadata": {},
   "outputs": [],
   "source": [
    "X.head()"
   ]
  },
  {
   "cell_type": "code",
   "execution_count": null,
   "id": "169970a5-ba47-4de2-b806-469593bd2ad6",
   "metadata": {},
   "outputs": [],
   "source": [
    "lin_reg.fit(X, y)\n",
    "\n",
    "y_pred_full = lin_reg.predict(X)\n",
    "print(f\"The R^2 value in the full dataset is {r2_score(y, y_pred_full)}\")"
   ]
  },
  {
   "cell_type": "markdown",
   "id": "ac66bb7e-a26a-4b2d-96ca-3639f2d73ea8",
   "metadata": {},
   "source": []
  },
  {
   "cell_type": "code",
   "execution_count": null,
   "id": "7c631042-c906-4078-84fe-c5603901702b",
   "metadata": {},
   "outputs": [],
   "source": []
  },
  {
   "cell_type": "code",
   "execution_count": null,
   "id": "d3b76de8-96da-479d-9864-0dc27e4c7875",
   "metadata": {},
   "outputs": [],
   "source": []
  },
  {
   "cell_type": "markdown",
   "id": "f0568057-18d8-4dbf-84c0-d28c0b34c44e",
   "metadata": {},
   "source": [
    "## Part III: Optimize for Price and Supply of Avocados"
   ]
  },
  {
   "cell_type": "markdown",
   "id": "2bb3ad6c-2925-432f-b59e-fd60edd2e511",
   "metadata": {},
   "source": [
    "Sabiendo cómo afecta el precio de un aguacate a la demanda, ¿cómo podemos fijar el precio óptimo del aguacate? No queremos fijar el precio demasiado alto, ya que eso podría reducir la demanda y las ventas. Al mismo tiempo, fijar un precio demasiado bajo podría no ser óptimo a la hora de maximizar los ingresos. Entonces, ¿cuál es el punto ideal?\n",
    "\n",
    "En cuanto a la logística de distribución, queremos asegurarnos de que haya suficientes aguacates en todas las regiones. Podemos abordar estas consideraciones en un modelo de optimización matemática. Un modelo de optimización encuentra la mejor solución de acuerdo con una función objetivo tal que la solución satisfaga un conjunto de restricciones. Aquí, una solución se expresa como un vector de valores reales o valores enteros llamados variables de decisión. Las restricciones son un conjunto de ecuaciones o desigualdades escritas en función de las variables de decisión.\n",
    "\n",
    "Al comienzo de cada semana, suponga que la cantidad total de productos disponibles es finita. Esta cantidad debe distribuirse a las distintas regiones maximizando al mismo tiempo los ingresos netos. Así que hay dos decisiones clave: el precio de un aguacate en cada región y la cantidad de aguacates asignados a cada región.\n",
    "\n",
    "Definamos ahora algunos parámetros de entrada y notaciones utilizadas para crear el modelo. el subíndice\n",
    "  se utilizará para indicar cada región."
   ]
  },
  {
   "cell_type": "code",
   "execution_count": null,
   "id": "1814377d-d51f-4d23-ac54-aa38cc2397b5",
   "metadata": {},
   "outputs": [],
   "source": []
  },
  {
   "cell_type": "markdown",
   "id": "6618e3cc-cf05-4c4a-9623-4f9cf8cd5408",
   "metadata": {},
   "source": [
    "Input Parameters\r\n",
    ": set of regions,\r\n",
    "\r\n",
    ": predicted demand in region \r\n",
    " when the avocado per product is \r\n",
    ",\r\n",
    "\r\n",
    ": available avocados to be distributed across the regions,\r\n",
    "\r\n",
    ": cost (\r\n",
    ") per wasted avocado,\r\n",
    "\r\n",
    ": cost (\r\n",
    ") of transporting a avocado to region \r\n",
    ",\r\n",
    "\r\n",
    ": minimum and maximum price (\r\n",
    ") per avocado for reigon \r\n",
    ",\r\n",
    "\r\n",
    ": minimum and maximum number of avocados allocated to region \r\n",
    ","
   ]
  },
  {
   "cell_type": "markdown",
   "id": "f5b40533-48f2-4071-87e0-b20a21ae73ec",
   "metadata": {},
   "source": [
    "El siguiente código carga el paquete Python de Gurobi e inicia el modelo de optimización. El valor de\n",
    "  se establece en\n",
    "  millones de aguacates, lo que se aproxima al valor medio de oferta semanal según los datos. A modo de ejemplo, consideremos la temporada alta de 2021. El costo de desperdiciar un aguacate se establece en\n",
    ". El costo de transportar un aguacate oscila entre\n",
    "  a\n",
    "  basado en la distancia de cada región a la frontera sur, de donde proviene la mayor parte del suministro de aguacate. Además, podemos fijar el precio de un aguacate para que no exceda\n",
    "  una pieza."
   ]
  },
  {
   "cell_type": "code",
   "execution_count": null,
   "id": "0033ad06-2843-4a62-8dfc-3aa4b71e9c83",
   "metadata": {},
   "outputs": [],
   "source": [
    "# Sets and parameters\n",
    "B = 30  # total amount ot avocado supply\n",
    "\n",
    "peak_or_not = 1  # 1 if it is the peak season; 1 if isn't\n",
    "year = 2022\n",
    "\n",
    "c_waste = 0.1  # the cost ($) of wasting an avocado\n"
   ]
  },
  {
   "cell_type": "code",
   "execution_count": null,
   "id": "7c878767-f6fc-4c0f-bc61-1df3ff9b1a2b",
   "metadata": {},
   "outputs": [],
   "source": [
    "# the cost of transporting an avocado\n",
    "c_transport = pd.Series(\n",
    "    {\n",
    "        \"Great_Lakes\": 0.3,\n",
    "        \"Midsouth\": 0.1,\n",
    "        \"Northeast\": 0.4,\n",
    "        \"Northern_New_England\": 0.5,\n",
    "        \"SouthCentral\": 0.3,\n",
    "        \"Southeast\": 0.2,\n",
    "        \"West\": 0.2,\n",
    "        \"Plains\": 0.2,\n",
    "    },\n",
    "    name=\"transport_cost\",\n",
    ")"
   ]
  },
  {
   "cell_type": "code",
   "execution_count": null,
   "id": "3cb11ce8-fa31-4eb6-981e-b5fe1b06d140",
   "metadata": {},
   "outputs": [],
   "source": [
    "c_transport = c_transport.loc[regions]\n",
    "# the cost of transporting an avocado\n",
    "\n",
    "c_transport"
   ]
  },
  {
   "cell_type": "code",
   "execution_count": null,
   "id": "978d0bf4-bdc3-4cdd-930f-3c9d865cdf25",
   "metadata": {},
   "outputs": [],
   "source": [
    "# Get the lower and upper bounds from the dataset for the price and the number of products to be stocked\n",
    "a_min = 0  # minimum avocado price in each region\n",
    "a_max = 2  # maximum avocado price in each region"
   ]
  },
  {
   "cell_type": "code",
   "execution_count": null,
   "id": "788ab831-dfcc-4ca4-877b-b0f6445960ea",
   "metadata": {
    "scrolled": true
   },
   "outputs": [],
   "source": [
    "df.head() # tengo un dataframe con los valores individuales de unidades vendidaad en cada en cada region"
   ]
  },
  {
   "cell_type": "code",
   "execution_count": null,
   "id": "2d7d28f7-ff21-4a88-9a0d-8d66b563fcdd",
   "metadata": {},
   "outputs": [],
   "source": [
    "# genero un dataframe en base a las unidades vendidas mínimas y maximas agrupadas por region\n",
    "data = pd.concat(\n",
    "    [\n",
    "        c_transport,\n",
    "        df.groupby(\"region\")[\"units_sold\"].min().rename(\"min_delivery\"),\n",
    "        df.groupby(\"region\")[\"units_sold\"].max().rename(\"max_delivery\"),\n",
    "    ],\n",
    "    axis=1,\n",
    ")\n",
    "\n",
    "data"
   ]
  },
  {
   "cell_type": "markdown",
   "id": "e623d722-360e-4d4d-9f43-715faebe131f",
   "metadata": {},
   "source": [
    "Variables de decisión\r\n",
    "Definamos ahora las variables de decisión. En nuestro modelo, queremos almacenar el precio y la cantidad de aguacates asignados a cada región. También queremos variables que rastreen cuántos aguacates se prevé que se venderán y cuántos se desperdiciarán. La siguiente notación se utiliza para modelar estas variables de decisión.\r\n",
    "\r\n",
    "  el precio de un aguacate (\r\n",
    ") en cada región,\r\n",
    "\r\n",
    "  el número de aguacates suministrados a cada región,\r\n",
    "\r\n",
    "  el número previsto de aguacates vendidos en cada región,\r\n",
    "\r\n",
    "  el número previsto de aguacates desperdiciados en cada región.\r\n",
    "\r\n",
    "  la demanda prevista en cada región.\r\n",
    "\r\n",
    "Todas esas variables se crean usando gurobipy-pandas, con la función gppd.add_vars se les asigna el mismo índice que el m datos.\n",
    "\n",
    "\n",
    "\n",
    "\n",
    "\n",
    "\n"
   ]
  },
  {
   "cell_type": "code",
   "execution_count": null,
   "id": "2123deb8-1487-44d5-8cc2-bee64f87972e",
   "metadata": {},
   "outputs": [],
   "source": [
    "import gurobipy as gp\n",
    "import gurobipy_pandas as gppd\n",
    "\n",
    "m = gp.Model(\"Avocado_Price_Allocation\")\n",
    "\n",
    "p = gppd.add_vars(m, data, name=\"price\", lb=a_min, ub=a_max)\n",
    "x = gppd.add_vars(m, data, name=\"x\", lb=\"min_delivery\", ub=\"max_delivery\")\n",
    "s = gppd.add_vars(\n",
    "    m, data, name=\"s\"\n",
    ")  # predicted amount of sales in each region for the given price).\n",
    "w = gppd.add_vars(m, data, name=\"w\")  # excess wasteage in each region).\n",
    "d = gppd.add_vars(\n",
    "    m, data, lb=-gp.GRB.INFINITY, name=\"demand\"\n",
    ")  # Add variables for the regression\n",
    "\n",
    "m.update()"
   ]
  },
  {
   "cell_type": "code",
   "execution_count": null,
   "id": "fb2158f4-041f-4f4a-b9e9-f1cb94c8e82f",
   "metadata": {},
   "outputs": [],
   "source": [
    "# Display one of the variables - PRECIO POR CADA REGION (tengo un modelo que predice la cantidad vendida cierto día dado un precio)\n",
    "p"
   ]
  },
  {
   "cell_type": "code",
   "execution_count": null,
   "id": "c15e7af5-1b85-4555-a124-3d2cd7239000",
   "metadata": {},
   "outputs": [],
   "source": []
  },
  {
   "cell_type": "markdown",
   "id": "a0ff531f-7b28-4e53-b79c-69c3220d861d",
   "metadata": {},
   "source": [
    "Establecer el objetivo\r\n",
    "A continuación, definiremos la función objetivo: queremos maximizar los ingresos netos. Los ingresos por ventas en cada región se calculan multiplicando el precio de un aguacate en esa región por la cantidad vendida allí. Se incurre en dos tipos de costos: los costos de desperdicio por el exceso de aguacates no vendidos y el costo de transporte de los aguacates a las diferentes regiones.\r\n",
    "\r\n",
    "Los ingresos netos son los ingresos por ventas restados de los costos totales incurridos. Suponemos que los costos de compra son fijos y no están incorporados en este modelo.\r\n",
    "\r\n",
    "Utilizando las variables de decisión definidas, el objetivo se puede escribir de la siguiente ma modelo."
   ]
  },
  {
   "cell_type": "code",
   "execution_count": null,
   "id": "9cc48474-a10b-4910-830c-dee178ed6876",
   "metadata": {},
   "outputs": [],
   "source": [
    "m.setObjective(\n",
    "    (p * s).sum() - c_waste * w.sum() - (c_transport * x).sum(), gp.GRB.MAXIMIZE\n",
    ")"
   ]
  },
  {
   "cell_type": "code",
   "execution_count": null,
   "id": "90224309-ffc3-415b-807a-f5460daeda9e",
   "metadata": {},
   "outputs": [],
   "source": [
    "m"
   ]
  },
  {
   "cell_type": "code",
   "execution_count": null,
   "id": "0459e1ce-ac85-4ae1-ab22-b1f2159ecd8e",
   "metadata": {},
   "outputs": [],
   "source": []
  },
  {
   "cell_type": "markdown",
   "id": "dc236479-b14a-4422-a7dc-12d496cdcd82",
   "metadata": {},
   "source": [
    "Agregue la restricción de oferta\r\n",
    "Introducimos ahora las restricciones. La primera restricción es asegurarse de que el número total de aguacates suministrados sea igual a\r\n",
    ", que se puede expresar matemáticamente de la siguiente manera.\r\n",
    "\r\n",
    "\r\n",
    "El siguiente código agrega esta restricción al modelo."
   ]
  },
  {
   "cell_type": "code",
   "execution_count": null,
   "id": "0c5ad2a2-fc34-4f24-a902-b1361863f6c6",
   "metadata": {},
   "outputs": [],
   "source": [
    "m.addConstr(x.sum() == B)\n",
    "m.update()"
   ]
  },
  {
   "cell_type": "code",
   "execution_count": null,
   "id": "b1495e5a-4684-47fb-bc3a-fd2052ac9c64",
   "metadata": {},
   "outputs": [],
   "source": []
  },
  {
   "cell_type": "markdown",
   "id": "1ab3218d-1be1-45d0-a410-19fd18a042f3",
   "metadata": {},
   "source": [
    "Agregar restricciones que definan la cantidad de ventas\r\n",
    "A continuación, debemos definir la cantidad de ventas prevista en cada región. Podemos suponer que si ofrecemos más de la demanda prevista, venderemos exactamente la demanda prevista. De lo contrario, vendemos exactamente la cantidad asignada. Por lo tanto, la cantidad de ventas prevista es el mínimo de la cantidad asignada y la demanda prevista, es decir,\r\n",
    ". Esta relación se puede modelar mediante las dos restricciones siguientes para cada región\r\n",
    ".\r\n",
    "\r\n",
    " \r\n",
    "\r\n",
    "Estas restricciones asegurarán que la cantidad de ventas\r\n",
    "  en la región\r\n",
    "  no es mayor que la cantidad asignada ni la demanda prevista. Tenga en cuenta que la función objetivo de maximización intenta maximizar los ingresos de las ventas y, por lo tanto, el optimizador maximizará la cantidad de ventas prevista. Esto supone que el excedente y los costos de transporte son menores que el precio de venta por aguacate. Por lo tanto, estas restricciones junto con el objetivo asegurarán que las ventas sean iguales al mínimo de oferta y demanda prevista.\r\n",
    "\r\n",
    "Agreguemos ahora estas restricciones al modelo.\r\n",
    "\r\n",
    "En este caso, usamos gurobipy-pandas, función add_constrs"
   ]
  },
  {
   "cell_type": "code",
   "execution_count": null,
   "id": "504c961a-35c0-4e34-ba1a-579696837142",
   "metadata": {},
   "outputs": [],
   "source": [
    "gppd.add_constrs(m, s, gp.GRB.LESS_EQUAL, x)\n",
    "gppd.add_constrs(m, s, gp.GRB.LESS_EQUAL, d)\n",
    "m.update()"
   ]
  },
  {
   "cell_type": "code",
   "execution_count": null,
   "id": "915db033-a1a7-4d7b-b143-29f2d7e34a89",
   "metadata": {},
   "outputs": [],
   "source": []
  },
  {
   "cell_type": "markdown",
   "id": "7f4a5d1b-7a76-482a-ba93-1c0c9897d397",
   "metadata": {},
   "source": [
    "Agregue las restricciones de desperdicio\r\n",
    "Finalmente, debemos definir el desperdicio previsto en cada región, dado por la cantidad ofrecida que no se prevé vender. Podemos expresar esto matemáticamente para cada región.\r\n",
    ".\r\n",
    "\r\n",
    "\r\n",
    "Podemos agregar estas restricciones al modelo."
   ]
  },
  {
   "cell_type": "code",
   "execution_count": null,
   "id": "bc19c0df-4037-4f98-9839-b8f85d100d8e",
   "metadata": {},
   "outputs": [],
   "source": [
    "gppd.add_constrs(m, w, gp.GRB.EQUAL, x - s)\n",
    "m.update()"
   ]
  },
  {
   "cell_type": "markdown",
   "id": "92d0e50e-babb-4d29-902a-a31f3f8d0101",
   "metadata": {},
   "source": [
    "Agregue las restricciones para predecir la demanda.\n",
    "Primero, creamos nuestra entrada para la restricción del predictor.\n",
    "\n",
    "Las hazañas del marco de datos contendrán características corregidas:\n",
    "\n",
    "año\n",
    "\n",
    "pico con el valor de pico_or_not\n",
    "\n",
    "región que repite los nombres de las regiones.\n",
    "\n",
    "y la variable precio p.\n",
    "\n",
    "Está indexado por regiones (predecimos la demanda de forma independiente para cada región).\n",
    "\n",
    "Muestre el marco de datos para asegurarse de que sea correcto."
   ]
  },
  {
   "cell_type": "code",
   "execution_count": null,
   "id": "a908f963-1861-49a5-bf8a-b38f7b054bc6",
   "metadata": {},
   "outputs": [],
   "source": []
  },
  {
   "cell_type": "code",
   "execution_count": null,
   "id": "d80b3c07-f9b6-4d75-998c-7642ebd49b7e",
   "metadata": {},
   "outputs": [],
   "source": [
    "###3 crear dataframe con las variables de decision¿? - \n",
    "# tengo que decidir dado la region en la que estoy y el año y el periodo del año, cual va a ser el precio a vender que me maximize mi ganancias\n",
    "# dado un cierto precio, tengo un modelo que me dice cuánto venderé y con esa info de precio y cantidad puedo conocer mis ganancias\n",
    "#y luego con el calculo del costo de transorte,)\n",
    "feats = pd.DataFrame(\n",
    "    data={\n",
    "        \"region\": regions,\n",
    "        \"price\": p,\n",
    "        \"year\": year,\n",
    "        \"peak\": peak_or_not,\n",
    "    },\n",
    "    index=regions,\n",
    ")\n",
    "feats"
   ]
  },
  {
   "cell_type": "code",
   "execution_count": null,
   "id": "fc27a7c2-b87e-4706-b36e-9e9eddda4687",
   "metadata": {},
   "outputs": [],
   "source": [
    "year"
   ]
  },
  {
   "cell_type": "code",
   "execution_count": null,
   "id": "2c38e76d-d345-4b42-a465-2452a60c4294",
   "metadata": {},
   "outputs": [],
   "source": [
    "peak_or_not"
   ]
  },
  {
   "cell_type": "markdown",
   "id": "f7afab12-6700-4dfd-957a-df462363bb83",
   "metadata": {},
   "source": [
    "#### IMPORTANTE los valores de \"year\" y \"peak_or_not\" son definidos como parámetros del modelo de optimización (son variables del modelo de predicción, y aquí yo le estoy definiendo)"
   ]
  },
  {
   "cell_type": "code",
   "execution_count": null,
   "id": "8db51875-c527-49d4-91ad-525b2622b4f3",
   "metadata": {},
   "outputs": [],
   "source": [
    "regions"
   ]
  },
  {
   "cell_type": "markdown",
   "id": "adc3932d-afa2-43a2-b6d8-7b8bf51c6070",
   "metadata": {},
   "source": [
    "#### IMPORTANTE: regions son los valores de todas las regiones posibles. Al final en los datos tengo muchos valores por día de unidades vendidas pero al modelo de optimización le paso una instancia que quiero conocer (una instancia por región). Muchas menos observaciones que el ejemplo de predicción si el estudiante ingresa a la universidad o no dado las notas y las beca ofrecida donde se pasaba un dataset de todos los alumnos y para cada uno había que predecir porque una restricción estaba dada por la cantidad de alumnos"
   ]
  },
  {
   "cell_type": "code",
   "execution_count": null,
   "id": "bd6a7f4c-db26-4310-8525-25dcf07ec35c",
   "metadata": {},
   "outputs": [],
   "source": []
  },
  {
   "cell_type": "markdown",
   "id": "bf5dae61-e601-4d8b-a4f2-488e60391b74",
   "metadata": {},
   "source": [
    "Now, we just need to call add_predictor_constr to insert the constraints linking the features and the demand."
   ]
  },
  {
   "cell_type": "code",
   "execution_count": null,
   "id": "ade36e66-1698-422f-b7a9-9e49496829fa",
   "metadata": {},
   "outputs": [],
   "source": [
    "m"
   ]
  },
  {
   "cell_type": "code",
   "execution_count": null,
   "id": "5031a651-64a7-4c72-8d54-33f30fa231ef",
   "metadata": {},
   "outputs": [],
   "source": [
    "lin_reg"
   ]
  },
  {
   "cell_type": "code",
   "execution_count": null,
   "id": "0e4bef8e-f4a5-4d6d-a770-cbad5771f3f0",
   "metadata": {},
   "outputs": [],
   "source": [
    "feats"
   ]
  },
  {
   "cell_type": "code",
   "execution_count": null,
   "id": "866f8591-2a57-420e-a21e-a3ea39ddffe6",
   "metadata": {},
   "outputs": [],
   "source": [
    "d"
   ]
  },
  {
   "cell_type": "code",
   "execution_count": null,
   "id": "79ede7cb-9d7c-41fb-a029-5d0a8625fe51",
   "metadata": {},
   "outputs": [],
   "source": [
    "from gurobi_ml import add_predictor_constr\n",
    "\n",
    "pred_constr = add_predictor_constr(m, lin_reg, feats, d) # d output\n",
    "\n",
    "pred_constr.print_stats()"
   ]
  },
  {
   "cell_type": "markdown",
   "id": "56d4e323-f94e-4484-a6b6-e134ebe6ba2f",
   "metadata": {},
   "source": [
    "Fire Up the Solver\r\n",
    "We have added the decision variables, objective function, and the constraints to the model. The model is ready to be solved. Before we do so, we should let the solver know what type of model this is. The default setting assumes that the objective and the constraints are linear functions of the variables.\r\n",
    "\r\n",
    "In our model, the objective is quadratic since we take the product of price and the predicted sales, both of which are variables. Maximizing a quadratic term is said to be non-convex, and we specify this by setting the value of the Gurobi NonConvex parameter to be \r\n",
    "."
   ]
  },
  {
   "cell_type": "code",
   "execution_count": null,
   "id": "f96d1fef-de06-499b-a103-c12308623ac3",
   "metadata": {},
   "outputs": [],
   "source": [
    "m.Params.NonConvex = 2\n",
    "m.optimize()"
   ]
  },
  {
   "cell_type": "code",
   "execution_count": null,
   "id": "a753d689-6253-4f20-afe5-8246633ad34d",
   "metadata": {},
   "outputs": [],
   "source": []
  },
  {
   "cell_type": "markdown",
   "id": "e5afb3c5-cc0d-4144-922c-00ac6bb7873d",
   "metadata": {},
   "source": [
    "El solucionador resolvió el problema de optimización en menos de un segundo. Analicemos ahora la solución óptima almacenándola en un marco de datos de Pandas."
   ]
  },
  {
   "cell_type": "code",
   "execution_count": null,
   "id": "0e199c88-62d5-4efe-82be-482791d98c5a",
   "metadata": {},
   "outputs": [],
   "source": [
    "feats"
   ]
  },
  {
   "cell_type": "code",
   "execution_count": null,
   "id": "f3f9a2fd-3897-4b5d-8af5-d0d322ba5151",
   "metadata": {},
   "outputs": [],
   "source": [
    "# ------> OBTENER LOS VALORES DEL MODELO DE OPTIMIZACIÓN\n",
    "solution = pd.DataFrame(index=regions)\n",
    "\n",
    "solution[\"Price\"] = p.gppd.X\n",
    "solution[\"Allocated\"] = x.gppd.X\n",
    "solution[\"Sold\"] = s.gppd.X\n",
    "solution[\"Wasted\"] = w.gppd.X\n",
    "solution[\"Pred_demand\"] = d.gppd.X\n",
    "\n",
    "opt_revenue = m.ObjVal\n",
    "print(\"\\n The optimal net revenue: $%f million\" % opt_revenue)\n",
    "solution.round(4)"
   ]
  },
  {
   "cell_type": "code",
   "execution_count": null,
   "id": "b39752ac-8256-437b-a4ca-b40f56e9e082",
   "metadata": {},
   "outputs": [],
   "source": []
  },
  {
   "cell_type": "markdown",
   "id": "9c777bed-ed60-412f-bbcc-5cdfe40c4152",
   "metadata": {},
   "source": [
    "We can also check the error in the estimate of the Gurobi solution for the regression model."
   ]
  },
  {
   "cell_type": "code",
   "execution_count": null,
   "id": "2105fd23-31f2-4fc0-bc53-d41c2293b589",
   "metadata": {},
   "outputs": [],
   "source": [
    "pred_constr"
   ]
  },
  {
   "cell_type": "code",
   "execution_count": null,
   "id": "2ee75594-bd56-41aa-929a-827d3c815d33",
   "metadata": {},
   "outputs": [],
   "source": [
    "pred_constr.get_error()"
   ]
  },
  {
   "cell_type": "code",
   "execution_count": null,
   "id": "f8df155a-f667-4f30-b6b2-e6e2bd645900",
   "metadata": {},
   "outputs": [],
   "source": [
    "print(\n",
    "    \"Maximum error in approximating the regression {:.6}\".format(\n",
    "        np.max(pred_constr.get_error())\n",
    "    )\n",
    ")"
   ]
  },
  {
   "cell_type": "code",
   "execution_count": null,
   "id": "8bd8eea6-5d7d-47b1-9ec5-606c59840180",
   "metadata": {},
   "outputs": [],
   "source": []
  },
  {
   "cell_type": "markdown",
   "id": "1f77bd49-270b-450b-9753-69192db0d629",
   "metadata": {},
   "source": [
    "And the computed features of the regression model in a pandas dataframe."
   ]
  },
  {
   "cell_type": "code",
   "execution_count": null,
   "id": "90c8c671-e79e-4037-afa2-86a8e48e55a5",
   "metadata": {},
   "outputs": [],
   "source": [
    "pred_constr"
   ]
  },
  {
   "cell_type": "code",
   "execution_count": null,
   "id": "8c3e9122-e05c-48f3-9195-4f93f92b3e5b",
   "metadata": {},
   "outputs": [],
   "source": [
    "pred_constr.input_values.drop(\"region\", axis=1)"
   ]
  },
  {
   "cell_type": "code",
   "execution_count": null,
   "id": "5d570c5a-25a1-42e5-9854-3278e137ffaf",
   "metadata": {},
   "outputs": [],
   "source": []
  },
  {
   "cell_type": "markdown",
   "id": "d85996a6-d30f-4679-a45a-7aa41b579ff7",
   "metadata": {},
   "source": [
    "### Conocer los valores de todas las variables de decisión"
   ]
  },
  {
   "cell_type": "markdown",
   "id": "f03ca91f-2eaf-47fb-bb7a-f0e5b1ef5204",
   "metadata": {},
   "source": [
    "#### modelo de optimización"
   ]
  },
  {
   "cell_type": "code",
   "execution_count": null,
   "id": "233acf51-d103-4ed9-ad96-d1799be8bd60",
   "metadata": {},
   "outputs": [],
   "source": [
    "# modelo de optimización\n",
    "m"
   ]
  },
  {
   "cell_type": "code",
   "execution_count": null,
   "id": "a4100da5-deba-481f-880d-65bd4d91c2c0",
   "metadata": {},
   "outputs": [],
   "source": []
  },
  {
   "cell_type": "markdown",
   "id": "17804ae0-b52d-45fe-9548-1d3498e715c7",
   "metadata": {},
   "source": [
    "#### variables de decisión que forman parte del modelo de machine learning"
   ]
  },
  {
   "cell_type": "code",
   "execution_count": null,
   "id": "61d5c5f0-2676-4d28-9d6b-56277c201f95",
   "metadata": {},
   "outputs": [],
   "source": [
    "# valores del dataframe con las instancias que se pasan al modelo de machine learning para que prediga. Es la matriz X pasada como dataframe\n",
    "# El dataframe tiene al menos una variable de decisión que es la que se va iterando\n",
    "pred_constr.input_values"
   ]
  },
  {
   "cell_type": "code",
   "execution_count": null,
   "id": "9e76873c-ddc6-4a95-8149-c7376040692c",
   "metadata": {},
   "outputs": [],
   "source": [
    "# predicción del modelo de machine learning que se optiene como solución del modelo de optimización\n",
    "pred_constr.output_values"
   ]
  },
  {
   "cell_type": "markdown",
   "id": "0e9d290d-f395-4045-b61c-bca90708396b",
   "metadata": {},
   "source": [
    "#### valores del resto de variables de decisión que no forman parte del modelo de optimización - discovery"
   ]
  },
  {
   "cell_type": "code",
   "execution_count": null,
   "id": "3bd5e194-81ab-46b5-8cde-6ef866379dc1",
   "metadata": {},
   "outputs": [],
   "source": [
    "# mostar la variable\n",
    "p"
   ]
  },
  {
   "cell_type": "code",
   "execution_count": null,
   "id": "8bda5eaf-efa0-4900-acf6-ad426cb12798",
   "metadata": {},
   "outputs": [],
   "source": [
    "# la variable de decisión se puede filtrar por indice numérico\n",
    "p.iloc[0]"
   ]
  },
  {
   "cell_type": "code",
   "execution_count": null,
   "id": "58a78f31-de86-4c28-8d93-d670fae35940",
   "metadata": {},
   "outputs": [],
   "source": [
    "# la variable de decisión se puede filtrar por índice\n",
    "p.loc['Great_Lakes']"
   ]
  },
  {
   "cell_type": "code",
   "execution_count": null,
   "id": "05815768-e2dc-43ce-8041-eefe6baed8e9",
   "metadata": {},
   "outputs": [],
   "source": [
    "# para tener el valor de la variable de decisión se necesita \".x\". obtener valores individales\n",
    "p.loc['Great_Lakes'].x"
   ]
  },
  {
   "cell_type": "code",
   "execution_count": null,
   "id": "e950f889-63bd-4525-855d-f679f7ec2eb3",
   "metadata": {},
   "outputs": [],
   "source": [
    "# para obtener todos los valores de la variable de decisión\n",
    "m.getAttr('X', p)"
   ]
  },
  {
   "cell_type": "code",
   "execution_count": null,
   "id": "210af0f3-9e11-47f6-a1be-d1571ef6694c",
   "metadata": {},
   "outputs": [],
   "source": [
    "# # para obtener los valores de la variable de decisión como serie de pandas bien ----> AL FINAL ESTA ES LA MEJOR FORMA PARA OBTENER LOS VALORES\n",
    "# DE LAS VARIABLES DE DECISIÓN DEL MODELO DE OPTIMIZACIÓN\n",
    "p.gppd.X"
   ]
  },
  {
   "cell_type": "code",
   "execution_count": null,
   "id": "c823cd84-b106-4ecf-b526-60eae4b98783",
   "metadata": {},
   "outputs": [],
   "source": []
  },
  {
   "cell_type": "code",
   "execution_count": null,
   "id": "12345a31-ec82-483c-adef-0d283f5ac8f5",
   "metadata": {},
   "outputs": [],
   "source": []
  },
  {
   "cell_type": "code",
   "execution_count": null,
   "id": "7dd0faad-1ec6-493a-acf7-79b1c4914df7",
   "metadata": {},
   "outputs": [],
   "source": []
  },
  {
   "cell_type": "markdown",
   "id": "d3073ea9-c18b-410a-bb6e-21e2ad8e8b72",
   "metadata": {},
   "source": [
    "### plot results"
   ]
  },
  {
   "cell_type": "markdown",
   "id": "e5155c2e-c649-4105-942d-14952735fa18",
   "metadata": {},
   "source": [
    "Let us now visualize a scatter plot between the price and the number of avocados sold (in millions) for the eight regions."
   ]
  },
  {
   "cell_type": "code",
   "execution_count": null,
   "id": "013bd9fb-f39e-4c01-a2a6-777bcfdd27a7",
   "metadata": {},
   "outputs": [],
   "source": [
    "fig, ax = plt.subplots(1, 1)\n",
    "\n",
    "plot_sol = sns.scatterplot(\n",
    "    data=solution, x=\"Price\", y=\"Sold\", hue=solution.index, s=100\n",
    ")\n",
    "plot_waste = sns.scatterplot(\n",
    "    data=solution,\n",
    "    x=\"Price\",\n",
    "    y=\"Wasted\",\n",
    "    marker=\"x\",\n",
    "    hue=solution.index,\n",
    "    s=100,\n",
    "    legend=False,\n",
    ")\n",
    "\n",
    "plot_sol.legend(loc=\"center left\", bbox_to_anchor=(1.25, 0.5), ncol=1)\n",
    "plot_waste.legend(loc=\"center left\", bbox_to_anchor=(1.25, 0.5), ncol=1)\n",
    "plt.ylim(0, 5)\n",
    "plt.xlim(1, 2.2)\n",
    "ax.set_xlabel(\"Price per avocado ($)\")\n",
    "ax.set_ylabel(\"Number of avocados sold (millions)\")\n",
    "plt.show()\n",
    "print(\n",
    "    \"The circles represent sales quantity and the cross markers represent the wasted quantity.\"\n",
    ")"
   ]
  },
  {
   "cell_type": "code",
   "execution_count": null,
   "id": "cc5ddfe3-b510-4256-9e06-59beeb235cbd",
   "metadata": {},
   "outputs": [],
   "source": []
  }
 ],
 "metadata": {
  "kernelspec": {
   "display_name": "Python 3 (ipykernel)",
   "language": "python",
   "name": "python3"
  },
  "language_info": {
   "codemirror_mode": {
    "name": "ipython",
    "version": 3
   },
   "file_extension": ".py",
   "mimetype": "text/x-python",
   "name": "python",
   "nbconvert_exporter": "python",
   "pygments_lexer": "ipython3",
   "version": "3.10.14"
  }
 },
 "nbformat": 4,
 "nbformat_minor": 5
}
