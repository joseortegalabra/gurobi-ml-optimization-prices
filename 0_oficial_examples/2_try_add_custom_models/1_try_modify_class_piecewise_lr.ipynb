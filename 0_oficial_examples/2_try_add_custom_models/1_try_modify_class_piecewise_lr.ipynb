{
 "cells": [
  {
   "cell_type": "markdown",
   "id": "e293e0c3-d8b7-420f-863c-0983882bac18",
   "metadata": {},
   "source": [
    "# Try piecewise linear regression modify class\n",
    "**The idea is modify class linear regression of sklearn, adding some calculation that not affect the training and predicting process**\n",
    "\n",
    "-> DO THAT TO CHECK IF IT POSSIGLE USING CUSTOM CLASS IN GUROBI MACHINE LEARNING"
   ]
  },
  {
   "cell_type": "code",
   "execution_count": null,
   "id": "df3391d6-fdb9-41b2-a83d-cdfb7b39ca5c",
   "metadata": {},
   "outputs": [],
   "source": []
  },
  {
   "cell_type": "markdown",
   "id": "905f6f45-eb10-4374-98fe-a2da6de03dd8",
   "metadata": {},
   "source": [
    "### 1. ORIGINAL OPTIMIZATION WIH LINEAR REGRESSION"
   ]
  },
  {
   "cell_type": "code",
   "execution_count": null,
   "id": "f78ce093-7c81-4310-b93f-a4e6742f19dd",
   "metadata": {},
   "outputs": [],
   "source": [
    "import pandas as pd\n",
    "import warnings\n",
    "import numpy as np\n",
    "from sklearn.model_selection import train_test_split\n",
    "\n",
    "from sklearn.preprocessing import OneHotEncoder\n",
    "from sklearn.preprocessing import StandardScaler\n",
    "from sklearn.compose import make_column_transformer\n",
    "from sklearn.linear_model import LinearRegression\n",
    "from sklearn.pipeline import make_pipeline\n",
    "from sklearn.metrics import r2_score"
   ]
  },
  {
   "cell_type": "code",
   "execution_count": null,
   "id": "36ef15c9-0c10-4d61-84f3-0e090a91a3b8",
   "metadata": {},
   "outputs": [],
   "source": [
    "# !pip install gurobipy\n",
    "# !pip install gurobipy_pandas\n",
    "# !pip install gurobi-machinelearning\n",
    "import gurobipy_pandas as gppd\n",
    "from gurobi_ml import add_predictor_constr\n",
    "import gurobipy as gp"
   ]
  },
  {
   "cell_type": "markdown",
   "id": "3f7516be-7b27-4022-a20c-41fa70745945",
   "metadata": {},
   "source": [
    "### 1.1 data"
   ]
  },
  {
   "cell_type": "code",
   "execution_count": null,
   "id": "484579dd-214e-4e15-a057-6769c200934d",
   "metadata": {},
   "outputs": [],
   "source": [
    "data_url = \"https://raw.githubusercontent.com/Gurobi/modeling-examples/master/price_optimization/\"\n",
    "avocado = pd.read_csv(data_url+\"HAB_data_2015to2022.csv\")\n",
    "avocado[\"date\"] = pd.to_datetime(avocado[\"date\"])\n",
    "avocado = avocado.sort_values(by=\"date\")\n",
    "\n",
    "regions = [\n",
    "    \"Great_Lakes\",\n",
    "    \"Midsouth\",\n",
    "    \"Northeast\",\n",
    "    \"Northern_New_England\",\n",
    "    \"SouthCentral\",\n",
    "    \"Southeast\",\n",
    "    \"West\",\n",
    "    \"Plains\"\n",
    "]\n",
    "df = avocado[avocado.region.isin(regions)]\n",
    "\n",
    "\n",
    "X = df[[\"region\", \"price\", \"year\", \"peak\"]]\n",
    "y = df[\"units_sold\"]\n",
    "# Split the data for training and testing\n",
    "X_train, X_test, y_train, y_test = train_test_split(\n",
    "    X, y, train_size=0.8, random_state=1\n",
    ")\n",
    "\n",
    "\n",
    "\n",
    "feat_transform = make_column_transformer(\n",
    "    (OneHotEncoder(drop=\"first\"), [\"region\"]),\n",
    "    (StandardScaler(), [\"price\", \"year\"]),\n",
    "    (\"passthrough\", [\"peak\"]),\n",
    "    verbose_feature_names_out=False,\n",
    "    remainder='drop'\n",
    ")"
   ]
  },
  {
   "cell_type": "markdown",
   "id": "43f565ad-ce1b-421e-bd46-f06bbd0c7956",
   "metadata": {},
   "source": [
    "### 1.2 train model"
   ]
  },
  {
   "cell_type": "code",
   "execution_count": null,
   "id": "42fdf03a-447b-4d38-acb0-76e550cbfa89",
   "metadata": {},
   "outputs": [],
   "source": [
    "reg = make_pipeline(feat_transform, LinearRegression())\n",
    "reg.fit(X_train, y_train)\n",
    "\n",
    "# Get R^2 from test data\n",
    "y_pred = reg.predict(X_test)\n",
    "print(f\"The R^2 value in the test set is {np.round(r2_score(y_test, y_pred),5)}\")\n",
    "\n",
    "##### ---->\n",
    "reg.fit(X, y)\n",
    "\n",
    "y_pred_full = reg.predict(X)\n",
    "print(f\"The R^2 value in the full dataset is {np.round(r2_score(y, y_pred_full),5)}\")"
   ]
  },
  {
   "cell_type": "markdown",
   "id": "17e5ab6c-01a8-4282-b6ff-e82542c86325",
   "metadata": {},
   "source": [
    "### 1.3 optimization"
   ]
  },
  {
   "cell_type": "code",
   "execution_count": null,
   "id": "b2aeaf4e-3c62-4518-977a-4681200a43df",
   "metadata": {},
   "outputs": [],
   "source": [
    "# Sets and parameters\n",
    "B = 35  # total amount of avocado supply\n",
    "\n",
    "peak_or_not = 1  # 1 if it is the peak season; 0 if isn't\n",
    "year = 2022\n",
    "\n",
    "c_waste = 0.1  # the cost ($) of wasting an avocado\n",
    "\n",
    "# the cost of transporting an avocado\n",
    "c_transport = pd.Series(\n",
    "    {\n",
    "        \"Great_Lakes\": 0.3,\n",
    "        \"Midsouth\": 0.1,\n",
    "        \"Northeast\": 0.4,\n",
    "        \"Northern_New_England\": 0.5,\n",
    "        \"SouthCentral\": 0.3,\n",
    "        \"Southeast\": 0.2,\n",
    "        \"West\": 0.2,\n",
    "        \"Plains\": 0.2,\n",
    "    }, name='transport_cost'\n",
    ")\n",
    "c_transport = c_transport.loc[regions]\n",
    "\n",
    "a_min = 0  # minimum avocado price\n",
    "a_max = 3  # maximum avocado price\n",
    "\n",
    "# Get the lower and upper bounds from the dataset for the price and the number of products to be stocked\n",
    "data = pd.concat([c_transport,\n",
    "                  df.groupby(\"region\")[\"units_sold\"].min().rename('min_delivery'),\n",
    "                  df.groupby(\"region\")[\"units_sold\"].max().rename('max_delivery')], axis=1)\n",
    "\n",
    "\n",
    "feats = pd.DataFrame(\n",
    "    data={\n",
    "        \"year\": year,\n",
    "        \"peak\": peak_or_not,\n",
    "        \"region\": regions,\n",
    "    },\n",
    "    index=regions\n",
    ")\n",
    "\n",
    "\n",
    "m = gp.Model(\"Avocado_Price_Allocation\")\n",
    "\n",
    "p = gppd.add_vars(m, data, name=\"price\", lb=a_min, ub=a_max) # price of an avocado for each region\n",
    "x = gppd.add_vars(m, data, name=\"x\", lb='min_delivery', ub='max_delivery') # number of avocados supplied to each reagion\n",
    "s = gppd.add_vars(m, data, name=\"s\") # predicted amount of sales in each region for the given price\n",
    "w = gppd.add_vars(m, data, name=\"w\") # excess wasteage in each region\n",
    "d = gppd.add_vars(m, data, lb=-gp.GRB.INFINITY, name=\"demand\") # Add variables for the regression\n",
    "\n",
    "m.addConstr(x.sum() == B)\n",
    "gppd.add_constrs(m, s, gp.GRB.LESS_EQUAL, x)\n",
    "gppd.add_constrs(m, s, gp.GRB.LESS_EQUAL, d)\n",
    "gppd.add_constrs(m, w, gp.GRB.EQUAL, x - s)\n",
    "m.update()"
   ]
  },
  {
   "cell_type": "code",
   "execution_count": null,
   "id": "e36afe9f-fd18-408e-927b-ac359dc89c4d",
   "metadata": {},
   "outputs": [],
   "source": [
    "# ----> restricction model\n",
    "m_feats = pd.concat([feats, p], axis=1)[[\"region\", \"price\", \"year\", \"peak\"]]\n",
    "pred_constr = add_predictor_constr(m, reg, m_feats, d)\n",
    "pred_constr.print_stats()\n",
    "\n",
    "m.setObjective((p * s).sum() - c_waste * w.sum() - (c_transport * x).sum(),\n",
    "               gp.GRB.MAXIMIZE)\n",
    "\n",
    "m.Params.NonConvex = 2\n",
    "m.optimize()"
   ]
  },
  {
   "cell_type": "code",
   "execution_count": null,
   "id": "c73a4805-3e2f-4b47-a71f-30d7f519cfbe",
   "metadata": {},
   "outputs": [],
   "source": []
  },
  {
   "cell_type": "markdown",
   "id": "bc255ad9-f286-48cc-bdaf-e4ff05b811f4",
   "metadata": {},
   "source": [
    "### 1.4 show solution"
   ]
  },
  {
   "cell_type": "code",
   "execution_count": null,
   "id": "6880b6c2-22ac-4527-b621-19adcff516ba",
   "metadata": {},
   "outputs": [],
   "source": [
    "### print solution\n",
    "solution = pd.DataFrame(index=regions)\n",
    "\n",
    "solution[\"Price\"] = p.gppd.X\n",
    "solution[\"Allocated\"] = x.gppd.X\n",
    "solution[\"Sold\"] = s.gppd.X\n",
    "solution[\"Wasted\"] = w.gppd.X\n",
    "solution[\"Pred_demand\"] = d.gppd.X\n",
    "\n",
    "opt_revenue = m.ObjVal\n",
    "print(\"\\n The optimal net revenue: $%f million\" % opt_revenue)\n",
    "solution.round(4)"
   ]
  },
  {
   "cell_type": "code",
   "execution_count": null,
   "id": "c2e16390-5684-44cd-ac4a-bc17cb7a4d56",
   "metadata": {},
   "outputs": [],
   "source": []
  },
  {
   "cell_type": "markdown",
   "id": "fd918a68-d93c-43a9-bd18-2e8604146834",
   "metadata": {},
   "source": [
    "### 1.5 develop codes to change model"
   ]
  },
  {
   "cell_type": "code",
   "execution_count": null,
   "id": "a64b8d0d-315a-4e49-b0a4-89d1ea71a0e1",
   "metadata": {},
   "outputs": [],
   "source": [
    "pred_constr.remove()\n",
    "pred_constr = add_predictor_constr(m, reg, m_feats, d)  #### ADD NEW CONSTRAINT WITH UPDATED MODEL\n",
    "pred_constr.print_stats()\n",
    "m.update()\n",
    "m.optimize()"
   ]
  },
  {
   "cell_type": "code",
   "execution_count": null,
   "id": "b1e9f096-1eea-4b23-b6e1-18830797406f",
   "metadata": {},
   "outputs": [],
   "source": [
    "### print solution\n",
    "solution = pd.DataFrame(index=regions)\n",
    "\n",
    "solution[\"Price\"] = p.gppd.X\n",
    "solution[\"Allocated\"] = x.gppd.X\n",
    "solution[\"Sold\"] = s.gppd.X\n",
    "solution[\"Wasted\"] = w.gppd.X\n",
    "solution[\"Pred_demand\"] = d.gppd.X\n",
    "\n",
    "opt_revenue = m.ObjVal\n",
    "print(\"\\n The optimal net revenue: $%f million\" % opt_revenue)\n",
    "solution.round(4)"
   ]
  },
  {
   "cell_type": "code",
   "execution_count": null,
   "id": "c331856e-c92e-4130-99a2-cc641db50ebf",
   "metadata": {},
   "outputs": [],
   "source": []
  },
  {
   "cell_type": "markdown",
   "id": "d91f62ea-31c8-449a-b36a-357360de2375",
   "metadata": {},
   "source": [
    "### 2. Develop CUSTOM LINEAR REGRESSION USING CLASS REGRESION AS BASE\n",
    "In this base example, only a new model using the class LinearRegression was develop, without any change in the training code. The first step is test if guroby accept a \"model son\" created using class \"LinearRegression\"\n",
    "Train with the same data.\n",
    "So, if the codes works, it shoud generate the same results"
   ]
  },
  {
   "cell_type": "markdown",
   "id": "bc6d55f0-5cdd-4c50-94e8-a15ba0c55b1f",
   "metadata": {},
   "source": [
    "### 2.1 Train custom linear regression"
   ]
  },
  {
   "cell_type": "code",
   "execution_count": null,
   "id": "18e7b9c2-61ec-4526-b2ce-6c3f98e4142a",
   "metadata": {},
   "outputs": [],
   "source": [
    "# # OLD\n",
    "# class lr_custom_nochange(LinearRegression):\n",
    "#     \"\"\"\n",
    "#     Clase linear regression with any change. Only test if guroby accept this model\n",
    "#     \"\"\"\n",
    "#     def __init__(self):\n",
    "#         super().__init__()\n",
    "#         self.__class__ = LinearRegression  # change type of the object to conserve its original type: sklearn.linear_model._base.LinearRegression\n",
    "            \n",
    "#     def fit(self, X, y):\n",
    "#         \"\"\"\n",
    "#         Method custom train\n",
    "#         \"\"\"\n",
    "#         super().fit(X, y)\n",
    "#         return self\n",
    "    \n",
    "#     def predict(self, X):\n",
    "#         \"\"\"\n",
    "#         Method custom predict\n",
    "#         \"\"\"\n",
    "#         y_pred = super().predict(X)\n",
    "#         # one change in the code. No effect the prediction\n",
    "#         y_pred_change = y_pred + 1\n",
    "#         return y_pred\n",
    "\n",
    "\n",
    "class lr_custom_nochange(LinearRegression):\n",
    "    \"\"\"\n",
    "    Clase linear regression with any change. Only test if guroby accept this model\n",
    "    \"\"\"\n",
    "    def __init__(self):\n",
    "        super().__init__()\n",
    "        self.__class__ = LinearRegression  # change type of the object to conserve its original type: sklearn.linear_model._base.LinearRegression\n",
    "            \n",
    "    def fit(self, X, y):\n",
    "        \"\"\"\n",
    "        Method custom train\n",
    "        \"\"\"\n",
    "        print('debugging - training')\n",
    "        super().fit(X, y)\n",
    "        #return self\n",
    "    \n",
    "    def predict(self, X):\n",
    "        \"\"\"\n",
    "        Method custom predict\n",
    "        \"\"\"\n",
    "        y_pred = super().predict(X)\n",
    "        # one change in the code. No effect the prediction\n",
    "        y_pred_change = y_pred + 1\n",
    "        return y_pred"
   ]
  },
  {
   "cell_type": "code",
   "execution_count": null,
   "id": "f8305f40-b2b7-4012-a0ef-ed8692039025",
   "metadata": {},
   "outputs": [],
   "source": [
    "### verify that the types of boths models are the same\n",
    "model_a = lr_custom_nochange()\n",
    "print('type lr modified: ', type(model_a))\n",
    "\n",
    "model_b = LinearRegression()\n",
    "print('type lr original: ', type(model_b))"
   ]
  },
  {
   "cell_type": "code",
   "execution_count": null,
   "id": "c1caa874-3d91-45fe-bf90-e4d9453fae6f",
   "metadata": {},
   "outputs": [],
   "source": []
  },
  {
   "cell_type": "code",
   "execution_count": null,
   "id": "8f90ede0-5493-48eb-a508-696380c2b4d3",
   "metadata": {},
   "outputs": [],
   "source": [
    "# train custom lr model in the pipeline\n",
    "reg_custom_nochange = make_pipeline(feat_transform, \n",
    "                                    lr_custom_nochange()  # generate new pipeline with lr updated\n",
    "                                   ) \n",
    "reg_custom_nochange.fit(X, y)\n",
    "\n",
    "\n",
    "# see the metrics\n",
    "y_pred_custom_nochange = reg_custom_nochange.predict(X)\n",
    "print(f\"The R^2 value in the full dataset is {np.round(r2_score(y, y_pred_custom_nochange),5)}\")"
   ]
  },
  {
   "cell_type": "code",
   "execution_count": null,
   "id": "8e1de66e-2903-4260-b903-bf0b8d647fbb",
   "metadata": {},
   "outputs": [],
   "source": []
  },
  {
   "cell_type": "markdown",
   "id": "5ffa7f43-49d4-4b6c-8080-3b44e17ceff1",
   "metadata": {},
   "source": [
    "### 2.2 update gurobi model and CHECK IF WORKS A CUSTOM LR"
   ]
  },
  {
   "cell_type": "code",
   "execution_count": null,
   "id": "ae3eb938-f5e4-46a1-a970-3497908c2147",
   "metadata": {},
   "outputs": [],
   "source": [
    "pred_constr.remove()\n",
    "pred_constr = add_predictor_constr(m, reg_custom_nochange, m_feats, d)  #### ADD NEW CONSTRAINT WITH MODEL LR MODIFIED\n",
    "pred_constr.print_stats()\n",
    "m.update()\n",
    "m.optimize()"
   ]
  },
  {
   "cell_type": "code",
   "execution_count": null,
   "id": "c4afcc5f-d31d-4c14-b07c-c221e32e9c06",
   "metadata": {},
   "outputs": [],
   "source": [
    "### print solution\n",
    "solution = pd.DataFrame(index=regions)\n",
    "\n",
    "solution[\"Price\"] = p.gppd.X\n",
    "solution[\"Allocated\"] = x.gppd.X\n",
    "solution[\"Sold\"] = s.gppd.X\n",
    "solution[\"Wasted\"] = w.gppd.X\n",
    "solution[\"Pred_demand\"] = d.gppd.X\n",
    "\n",
    "opt_revenue = m.ObjVal\n",
    "print(\"\\n The optimal net revenue: $%f million\" % opt_revenue)\n",
    "solution.round(4)"
   ]
  },
  {
   "cell_type": "code",
   "execution_count": null,
   "id": "626da215-d25d-4667-bef4-25802d04bf00",
   "metadata": {},
   "outputs": [],
   "source": []
  },
  {
   "cell_type": "markdown",
   "id": "29dc5211-e65b-48de-b724-380a0097b6e3",
   "metadata": {},
   "source": [
    "# IMPORTANT THE CLASS MODIFIED ISNT SHOWING THE print('debugging - training')\n",
    "This happens because runing this line of code\n",
    "\n",
    "self.__class__ = LinearRegression\n",
    "\n",
    "the class transforms completly into LinearRegression and the methods fit and predict written in the class are forbidden"
   ]
  },
  {
   "cell_type": "code",
   "execution_count": null,
   "id": "51986cd2-e87a-4bcb-80cd-94ac3d87f22f",
   "metadata": {},
   "outputs": [],
   "source": [
    "class lr_custom_nochange_v2(LinearRegression):\n",
    "    \"\"\"\n",
    "    Clase linear regression with any change. Only test if guroby accept this model\n",
    "    \"\"\"\n",
    "    def __init__(self):\n",
    "        super().__init__()\n",
    "            \n",
    "    def fit(self, X, y):\n",
    "        \"\"\"\n",
    "        Method custom train\n",
    "        \"\"\"\n",
    "        print('debugging - training')\n",
    "        super().fit(X, y)\n",
    "        #return self\n",
    "    \n",
    "    def predict(self, X):\n",
    "        \"\"\"\n",
    "        Method custom predict\n",
    "        \"\"\"\n",
    "        y_pred = super().predict(X)\n",
    "        # one change in the code. No effect the prediction\n",
    "        y_pred_change = y_pred + 1\n",
    "        return y_pred"
   ]
  },
  {
   "cell_type": "code",
   "execution_count": null,
   "id": "948ddcd7-9cdb-46fe-92e3-238dc9fd7018",
   "metadata": {},
   "outputs": [],
   "source": [
    "model_z = lr_custom_nochange_v2()\n",
    "isinstance(model_z, LinearRegression)\n",
    "#isinstance(model_z, lr_custom_nochange)"
   ]
  },
  {
   "cell_type": "code",
   "execution_count": null,
   "id": "57c44060-0b50-4a36-988e-216875366bb1",
   "metadata": {},
   "outputs": [],
   "source": [
    "# train custom lr model in the pipeline\n",
    "reg_custom_nochange = make_pipeline(feat_transform, \n",
    "                                    lr_custom_nochange_v2()  # generate new pipeline with lr updated\n",
    "                                   ) \n",
    "reg_custom_nochange.fit(X, y)\n",
    "\n",
    "\n",
    "# see the metrics\n",
    "y_pred_custom_nochange = reg_custom_nochange.predict(X)\n",
    "print(f\"The R^2 value in the full dataset is {np.round(r2_score(y, y_pred_custom_nochange),5)}\")"
   ]
  },
  {
   "cell_type": "code",
   "execution_count": null,
   "id": "99c055dd-da30-4362-b602-f9a5e5e8dfd1",
   "metadata": {},
   "outputs": [],
   "source": [
    "# update gurobipy\n",
    "pred_constr.remove()\n",
    "pred_constr = add_predictor_constr(m, reg_custom_nochange, m_feats, d)  #### ADD NEW CONSTRAINT WITH MODEL LR MODIFIED\n",
    "pred_constr.print_stats()\n",
    "m.update()\n",
    "m.optimize()"
   ]
  },
  {
   "cell_type": "code",
   "execution_count": null,
   "id": "15ee9bdc-f80c-45e2-a21b-b0f0d98bf25c",
   "metadata": {},
   "outputs": [],
   "source": []
  },
  {
   "cell_type": "code",
   "execution_count": null,
   "id": "bbbebd0e-1ae4-4a9a-8f5f-19df38a44168",
   "metadata": {},
   "outputs": [],
   "source": []
  },
  {
   "cell_type": "code",
   "execution_count": null,
   "id": "df836670-4258-42b2-a8a2-2dd05d433dfa",
   "metadata": {},
   "outputs": [],
   "source": []
  }
 ],
 "metadata": {
  "kernelspec": {
   "display_name": "Python 3 (ipykernel)",
   "language": "python",
   "name": "python3"
  },
  "language_info": {
   "codemirror_mode": {
    "name": "ipython",
    "version": 3
   },
   "file_extension": ".py",
   "mimetype": "text/x-python",
   "name": "python",
   "nbconvert_exporter": "python",
   "pygments_lexer": "ipython3",
   "version": "3.10.14"
  }
 },
 "nbformat": 4,
 "nbformat_minor": 5
}
