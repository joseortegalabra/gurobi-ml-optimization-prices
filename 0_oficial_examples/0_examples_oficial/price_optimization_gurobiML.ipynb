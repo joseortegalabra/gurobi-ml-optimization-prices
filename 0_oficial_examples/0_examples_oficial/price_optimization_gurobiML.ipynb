{
 "cells": [
  {
   "cell_type": "markdown",
   "id": "e29e2b7a",
   "metadata": {
    "id": "e29e2b7a"
   },
   "source": [
    "# Do you have a Gurobi WLS?\n",
    "This notebook can be ran using the limited licese but at a smaller level of detail. If you have a Gurobi WLS, you can go to a version of this notebook equipped for that license by [clicking here](https://colab.research.google.com/github/Gurobi/modeling-examples/blob/master/price_optimization/price_optimization_gurobiML_wls.ipynb).\n",
    "\n",
    "If you don't, no worries! You can still work through this version using a free limited Gurobi license."
   ]
  },
  {
   "cell_type": "markdown",
   "id": "94a00ac5",
   "metadata": {
    "id": "94a00ac5"
   },
   "source": [
    "# Part Two: Avocado Pricing and Supply Using Mathematical Optimization\n",
    "\n",
    "This is a second part of an example on price optimization: [How Much Is Too Much? Avocado Pricing and Supply Using Mathematical Optimization](https://github.com/Gurobi/modeling-examples/tree/master/price_optimization)\n",
    "\n",
    "In the first part, an ordinary linear regression model (OLS) was used to establish the relationship between price and demand based on data from the.... Part Two replaces the OLS model with a trained `Scikit-learn` model and uses the [Gurobi Machine Learning](https://gurobi-machinelearning.readthedocs.io/en/stable/#) package to embed it in a Gurobi optimization model.\n",
    "\n",
    "In this example, we will also use `gurobipy-pandas`, which is another Gurobi open-source package and serves as a convenient (and optional) wrapper to connect pandas with gurobipy.\n",
    "\n",
    "If you are already familiar with the example from the other notebook, you can\n",
    "jump directly to [building the regression model](#Part-2:-Predict-the-Sales)\n",
    "and then to [formulating the optimization problem](#Part-3:-Optimize-for-Price-and-Supply-of-Avocados).\n",
    "\n",
    "**Goal**: Develop a data science and decision-making pipeline for pricing and distribution of avocados to maximize revenue.\n",
    "\n",
    "To accomplish this, the notebook will walk trough three stages:\n",
    "\n",
    "1. A quick review of the [Hass Avocado Board](https://hassavocadoboard.com/) (HAB) data\n",
    "2. Build a prediction model for avocado demand as a function of price, region, year and seasonality.\n",
    "3. Design an optimization model that sets the optimal price and supply quantity to maximize the net revenue while incorporating transportation and costs."
   ]
  },
  {
   "cell_type": "markdown",
   "id": "716ed7e0",
   "metadata": {
    "id": "716ed7e0"
   },
   "source": [
    "## Load the Packages and Prepare the Dataset\n",
    "\n",
    "Just as in the first example, we use real HAB sales data.\n"
   ]
  },
  {
   "cell_type": "code",
   "execution_count": null,
   "id": "b1ff1bfa",
   "metadata": {
    "id": "b1ff1bfa"
   },
   "outputs": [],
   "source": [
    "import pandas as pd\n",
    "import warnings\n",
    "import numpy as np"
   ]
  },
  {
   "cell_type": "markdown",
   "id": "408e66ab",
   "metadata": {
    "id": "408e66ab"
   },
   "source": [
    "The dataset from HAB contains sales data for the years 2019-2022. This data is augmented by a previous download from HAB available on\n",
    "[Kaggle](https://www.kaggle.com/datasets/timmate/avocado-prices-2020) with sales for the years 2015-2018.\n",
    "\n",
    "This notebook will skip a lot of the preprocessing from the first version of this example."
   ]
  },
  {
   "cell_type": "code",
   "execution_count": null,
   "id": "-bbhXnJqFlu2",
   "metadata": {
    "colab": {
     "base_uri": "https://localhost:8080/",
     "height": 424
    },
    "id": "-bbhXnJqFlu2",
    "outputId": "bffc7347-2634-4622-c807-ca31e1bad6ed"
   },
   "outputs": [],
   "source": [
    "data_url = \"https://raw.githubusercontent.com/Gurobi/modeling-examples/master/price_optimization/\"\n",
    "avocado = pd.read_csv(data_url+\"HAB_data_2015to2022.csv\")\n",
    "avocado[\"date\"] = pd.to_datetime(avocado[\"date\"])\n",
    "avocado = avocado.sort_values(by=\"date\")\n",
    "avocado"
   ]
  },
  {
   "cell_type": "markdown",
   "id": "3a91caa2",
   "metadata": {
    "id": "3a91caa2"
   },
   "source": [
    "One of the regions in the above data frame is `Total_US`, so we can create a list of regions, excluding the total, which can be used to subset the data now. It'll be used later in the example as well."
   ]
  },
  {
   "cell_type": "code",
   "execution_count": null,
   "id": "c2f6cc22",
   "metadata": {
    "id": "c2f6cc22"
   },
   "outputs": [],
   "source": [
    "regions = [\n",
    "    \"Great_Lakes\",\n",
    "    \"Midsouth\",\n",
    "    \"Northeast\",\n",
    "    \"Northern_New_England\",\n",
    "    \"SouthCentral\",\n",
    "    \"Southeast\",\n",
    "    \"West\",\n",
    "    \"Plains\"\n",
    "]\n",
    "df = avocado[avocado.region.isin(regions)]"
   ]
  },
  {
   "cell_type": "markdown",
   "id": "5186fd3e",
   "metadata": {
    "id": "5186fd3e"
   },
   "source": [
    "## Predict the Sales\n",
    "\n",
    "In the first instance of this example, further analysis was done on the input data along with a few visualizations. Here, we will go directly to the predicive model training, starting with a random split of the dataset into $80\\%$ training and $20\\%$ testing data."
   ]
  },
  {
   "cell_type": "code",
   "execution_count": null,
   "id": "866c540b",
   "metadata": {
    "id": "866c540b"
   },
   "outputs": [],
   "source": [
    "from sklearn.model_selection import train_test_split\n",
    "\n",
    "X = df[[\"region\", \"price\", \"year\", \"peak\"]]\n",
    "y = df[\"units_sold\"]\n",
    "# Split the data for training and testing\n",
    "X_train, X_test, y_train, y_test = train_test_split(\n",
    "    X, y, train_size=0.8, random_state=1\n",
    ")"
   ]
  },
  {
   "cell_type": "markdown",
   "id": "071154e3",
   "metadata": {
    "id": "071154e3"
   },
   "source": [
    "Note that the region is a categorical variable and we will transform that variable using Scikit Learn's `OneHotEncoder`. We also use a standard scaler for prices and year index, combining all of the ese with `Column Transformer` built using `make_column_transformer`."
   ]
  },
  {
   "cell_type": "code",
   "execution_count": null,
   "id": "71c7c565",
   "metadata": {
    "id": "71c7c565"
   },
   "outputs": [],
   "source": [
    "from sklearn.preprocessing import OneHotEncoder\n",
    "from sklearn.preprocessing import StandardScaler\n",
    "from sklearn.compose import make_column_transformer\n",
    "from sklearn.linear_model import LinearRegression\n",
    "from sklearn.pipeline import make_pipeline\n",
    "from sklearn.metrics import r2_score\n",
    "\n",
    "feat_transform = make_column_transformer(\n",
    "    (OneHotEncoder(drop=\"first\"), [\"region\"]),\n",
    "    (StandardScaler(), [\"price\", \"year\"]),\n",
    "    (\"passthrough\", [\"peak\"]),\n",
    "    verbose_feature_names_out=False,\n",
    "    remainder='drop'\n",
    ")"
   ]
  },
  {
   "cell_type": "markdown",
   "id": "65b6bcaa",
   "metadata": {
    "id": "65b6bcaa"
   },
   "source": [
    "The regression model is a pipeline consisting of the `Column Transformer` and the type of model we want to use for the regression. For comparison, we'll stick with a linear regression."
   ]
  },
  {
   "cell_type": "code",
   "execution_count": null,
   "id": "29AoNyWVdfH0",
   "metadata": {
    "colab": {
     "base_uri": "https://localhost:8080/"
    },
    "id": "29AoNyWVdfH0",
    "outputId": "c602f200-f721-4d66-c70c-2670a223c9d8"
   },
   "outputs": [],
   "source": [
    "reg = make_pipeline(feat_transform, LinearRegression())\n",
    "reg.fit(X_train, y_train)\n",
    "\n",
    "# Get R^2 from test data\n",
    "y_pred = reg.predict(X_test)\n",
    "print(f\"The R^2 value in the test set is {np.round(r2_score(y_test, y_pred),5)}\")"
   ]
  },
  {
   "cell_type": "markdown",
   "id": "3291d28d",
   "metadata": {
    "id": "3291d28d"
   },
   "source": [
    "We can observe a good $R^2$ value in the test set. We will now train the fit to the full dataset."
   ]
  },
  {
   "cell_type": "code",
   "execution_count": null,
   "id": "1b956503",
   "metadata": {
    "colab": {
     "base_uri": "https://localhost:8080/"
    },
    "id": "1b956503",
    "outputId": "93177781-34fd-4a72-d16a-9e074bf2e368"
   },
   "outputs": [],
   "source": [
    "reg.fit(X, y)\n",
    "\n",
    "y_pred_full = reg.predict(X)\n",
    "print(f\"The R^2 value in the full dataset is {np.round(r2_score(y, y_pred_full),5)}\")"
   ]
  },
  {
   "cell_type": "markdown",
   "id": "93868dba",
   "metadata": {
    "id": "93868dba"
   },
   "source": [
    "## Optimize for Price and Supply of Avocados\n",
    "\n",
    "Here is a quick review of notation for the formulation of the mathematical optimization model. The subscript $r$ will be used to denote each region.\n",
    "### Input parameters\n",
    "- $d(p,r)$: predicted demand in region $r$ when the avocado price is $p$\n",
    "- $B$: available avocados to be distributed across the regions\n",
    "- $c_{waste}$: cost ($\\$$) per wasted avocado\n",
    "- $c^r_{transport}$: cost ($\\$$) of transporting a avocado to region $r$\n",
    "- $a_{min},a_{max}$: minimum and maximum price ($\\$$) per avocado\n",
    "  $r$\n",
    "- $b^r_{min},b^r_{max}$: minimum and maximum number of avocados allocated to region $r$\n",
    "\n",
    "The following code sets values for these parameters. Feel free to adjust these to see how the aolution to the optimization model will change.\n"
   ]
  },
  {
   "cell_type": "code",
   "execution_count": null,
   "id": "1f293b80",
   "metadata": {
    "colab": {
     "base_uri": "https://localhost:8080/",
     "height": 300
    },
    "id": "1f293b80",
    "outputId": "5d74e7a3-f705-4bcf-aec5-b678b15f8656"
   },
   "outputs": [],
   "source": [
    "# Sets and parameters\n",
    "B = 35  # total amount of avocado supply\n",
    "\n",
    "peak_or_not = 1  # 1 if it is the peak season; 0 if isn't\n",
    "year = 2022\n",
    "\n",
    "c_waste = 0.1  # the cost ($) of wasting an avocado\n",
    "\n",
    "# the cost of transporting an avocado\n",
    "c_transport = pd.Series(\n",
    "    {\n",
    "        \"Great_Lakes\": 0.3,\n",
    "        \"Midsouth\": 0.1,\n",
    "        \"Northeast\": 0.4,\n",
    "        \"Northern_New_England\": 0.5,\n",
    "        \"SouthCentral\": 0.3,\n",
    "        \"Southeast\": 0.2,\n",
    "        \"West\": 0.2,\n",
    "        \"Plains\": 0.2,\n",
    "    }, name='transport_cost'\n",
    ")\n",
    "c_transport = c_transport.loc[regions]\n",
    "\n",
    "a_min = 0  # minimum avocado price\n",
    "a_max = 3  # maximum avocado price\n",
    "\n",
    "# Get the lower and upper bounds from the dataset for the price and the number of products to be stocked\n",
    "data = pd.concat([c_transport,\n",
    "                  df.groupby(\"region\")[\"units_sold\"].min().rename('min_delivery'),\n",
    "                  df.groupby(\"region\")[\"units_sold\"].max().rename('max_delivery')], axis=1)\n",
    "\n",
    "data"
   ]
  },
  {
   "cell_type": "markdown",
   "id": "c6WbGctoAYUw",
   "metadata": {
    "id": "c6WbGctoAYUw"
   },
   "source": [
    "#### Install and import Gurobi packages"
   ]
  },
  {
   "cell_type": "code",
   "execution_count": null,
   "id": "Z7eyw2klAAcG",
   "metadata": {
    "id": "Z7eyw2klAAcG"
   },
   "outputs": [],
   "source": [
    "%pip install gurobipy_pandas\n",
    "%pip install gurobi-machinelearning\n",
    "import gurobipy_pandas as gppd\n",
    "from gurobi_ml import add_predictor_constr"
   ]
  },
  {
   "cell_type": "markdown",
   "id": "5eaf9769",
   "metadata": {
    "id": "5eaf9769"
   },
   "source": [
    "### Create dataframe for the fixed features of the regression\n",
    "\n",
    "We now start creating the input of the regression in the optimization models with the features that are fixed.\n",
    "\n",
    "We use gurobipy-pandas that help to more easily create gurobipy models using pandas data."
   ]
  },
  {
   "cell_type": "markdown",
   "id": "ebb83dc2",
   "metadata": {
    "id": "ebb83dc2"
   },
   "source": [
    "First, create a dataframe with the features that are fixed in our optimization problem.\n",
    "It is indexed by the regions (we want to use one regression to predict demand for each region) and has the 3\n",
    "columns corresponding to the fixed features:\n",
    "\n",
    "* `year`\n",
    "* `peak` with the value of `peak_or_not`\n",
    "* `region` that repeat the names of the regions.\n",
    "\n",
    "Let's display the dataframe to make sure it is correct."
   ]
  },
  {
   "cell_type": "code",
   "execution_count": null,
   "id": "e879833f",
   "metadata": {
    "colab": {
     "base_uri": "https://localhost:8080/",
     "height": 300
    },
    "id": "e879833f",
    "outputId": "88107112-9fa8-4d30-da95-e445328b3669"
   },
   "outputs": [],
   "source": [
    "feats = pd.DataFrame(\n",
    "    data={\n",
    "        \"year\": year,\n",
    "        \"peak\": peak_or_not,\n",
    "        \"region\": regions,\n",
    "    },\n",
    "    index=regions\n",
    ")\n",
    "feats"
   ]
  },
  {
   "cell_type": "markdown",
   "id": "5103dcd2",
   "metadata": {
    "id": "5103dcd2"
   },
   "source": [
    "### Decision Variables\n",
    "\n",
    "Let us now define the decision variables. In our model, we want to store the\n",
    "price and number of avocados allocated to each region. We also want variables\n",
    "that track how many avocados are predicted to be sold and how many are predicted\n",
    "to be wasted. The following notation is used to model these decision variables.\n",
    "\n",
    "- $p$ the price of an avocado ($\\$$) in each region\n",
    "- $x$ the number of avocados supplied to each region\n",
    "- $s$ the predicted number of avocados sold in each region\n",
    "- $w$ the predicted number of avocados wasted in each region\n",
    "- $d$ the predicted demand in each region\n",
    "\n",
    "All those variables are created using gurobipy-pandas, with the function `gppd.add_vars` they are given the same index as the `data` dataframe."
   ]
  },
  {
   "cell_type": "code",
   "execution_count": null,
   "id": "5da3e84b",
   "metadata": {
    "colab": {
     "base_uri": "https://localhost:8080/"
    },
    "id": "5da3e84b",
    "outputId": "dd655d28-dfbe-49e5-fd3e-015a3674fee6"
   },
   "outputs": [],
   "source": [
    "import gurobipy as gp\n",
    "\n",
    "m = gp.Model(\"Avocado_Price_Allocation\")\n",
    "\n",
    "p = gppd.add_vars(m, data, name=\"price\", lb=a_min, ub=a_max) # price of an avocado for each region\n",
    "x = gppd.add_vars(m, data, name=\"x\", lb='min_delivery', ub='max_delivery') # number of avocados supplied to each reagion\n",
    "s = gppd.add_vars(m, data, name=\"s\") # predicted amount of sales in each region for the given price\n",
    "w = gppd.add_vars(m, data, name=\"w\") # excess wasteage in each region\n",
    "d = gppd.add_vars(m, data, lb=-gp.GRB.INFINITY, name=\"demand\") # Add variables for the regression\n",
    "\n",
    "m.update()\n",
    "\n",
    "# Display one of the variables\n",
    "p"
   ]
  },
  {
   "cell_type": "markdown",
   "id": "5a3bf602",
   "metadata": {
    "id": "5a3bf602"
   },
   "source": [
    "### Add the Supply Constraint\n",
    "\n",
    "We now introduce the constraints. The first constraint is to make sure that the\n",
    "total number of avocados supplied is equal to $B$, which can be mathematically\n",
    "expressed as follows.\n",
    "\n",
    "\\begin{align*} \\sum_{r} x_r &= B \\end{align*}\n"
   ]
  },
  {
   "cell_type": "code",
   "execution_count": null,
   "id": "071c45f9",
   "metadata": {
    "id": "071c45f9"
   },
   "outputs": [],
   "source": [
    "m.addConstr(x.sum() == B)\n",
    "m.update()"
   ]
  },
  {
   "cell_type": "markdown",
   "id": "59009e4d",
   "metadata": {
    "id": "59009e4d"
   },
   "source": [
    "### Add Constraints That Define Sales Quantity\n",
    "\n",
    "As a quick reminder, the sales quantity is the minimum of the allocated quantity and the predicted demand, i.e., $s_r = \\min \\{x_r,d_r(p_r)\\}$ This relationship can be modeled by the following two constraints for each region $r$.\n",
    "\n",
    "\\begin{align*} s_r &\\leq x_r  \\\\\n",
    "s_r &\\leq d(p_r,r) \\end{align*}\n",
    "\n",
    "In this case, we use gurobipy-pandas `add_constrs` function, which is intuitive to use given the inequalities above."
   ]
  },
  {
   "cell_type": "code",
   "execution_count": null,
   "id": "c5323898",
   "metadata": {
    "id": "c5323898"
   },
   "outputs": [],
   "source": [
    "gppd.add_constrs(m, s, gp.GRB.LESS_EQUAL, x)\n",
    "gppd.add_constrs(m, s, gp.GRB.LESS_EQUAL, d)\n",
    "m.update()"
   ]
  },
  {
   "cell_type": "markdown",
   "id": "bf71c2f4",
   "metadata": {
    "id": "bf71c2f4"
   },
   "source": [
    "### Add the Wastage Constraints\n",
    "\n",
    "Finally, we should define the predicted wastage in each region, given by the\n",
    "supplied quantity that is not predicted to be sold. We can express this\n",
    "mathematically for each region $r$.\n",
    "\n",
    "\\begin{align*} w_r &= x_r - s_r \\end{align*}"
   ]
  },
  {
   "cell_type": "code",
   "execution_count": null,
   "id": "e3a28ede",
   "metadata": {
    "id": "e3a28ede"
   },
   "outputs": [],
   "source": [
    "gppd.add_constrs(m, w, gp.GRB.EQUAL, x - s)\n",
    "m.update()"
   ]
  },
  {
   "cell_type": "markdown",
   "id": "0614c0c1",
   "metadata": {
    "id": "0614c0c1"
   },
   "source": [
    "### Add the constraints to predict demand\n",
    "First, we create our full input for the predictor constraint. We concatenate the `p` variables and the fixed features. Remember that the predicted price is a function of region, year, and peak/off-peak season."
   ]
  },
  {
   "cell_type": "code",
   "execution_count": null,
   "id": "efaf9cea",
   "metadata": {
    "colab": {
     "base_uri": "https://localhost:8080/",
     "height": 300
    },
    "id": "efaf9cea",
    "outputId": "873bc699-affb-4c07-ba2f-3696288dff56"
   },
   "outputs": [],
   "source": [
    "m_feats = pd.concat([feats, p], axis=1)[[\"region\", \"price\", \"year\", \"peak\"]]\n",
    "m_feats"
   ]
  },
  {
   "cell_type": "markdown",
   "id": "8f2dc88f",
   "metadata": {
    "id": "8f2dc88f"
   },
   "source": [
    "Now, we just call\n",
    "[add_predictor_constr](https://gurobi-machinelearning.readthedocs.io/en/stable/api/AbstractPredictorConstr.html#gurobi_ml.add_predictor_constr)\n",
    "to insert the constraints linking the features and the demand into the model `m`.\n",
    "\n",
    "It is important that you keep the columns in the order above, otherwise you will see an error. The columns must be in the same order as the training data."
   ]
  },
  {
   "cell_type": "code",
   "execution_count": null,
   "id": "200c4cb9",
   "metadata": {
    "colab": {
     "base_uri": "https://localhost:8080/"
    },
    "id": "200c4cb9",
    "outputId": "7b6fc0b8-b103-4179-a35d-f3b10c34471e"
   },
   "outputs": [],
   "source": [
    "pred_constr = add_predictor_constr(m, reg, m_feats, d)\n",
    "pred_constr.print_stats()"
   ]
  },
  {
   "cell_type": "code",
   "execution_count": null,
   "id": "frjbAbjDNwr1",
   "metadata": {
    "colab": {
     "base_uri": "https://localhost:8080/"
    },
    "id": "frjbAbjDNwr1",
    "outputId": "14918634-849b-4c09-dc6f-c8783c8c12cf"
   },
   "outputs": [],
   "source": [
    "m"
   ]
  },
  {
   "cell_type": "markdown",
   "id": "5e15e4ae",
   "metadata": {
    "id": "5e15e4ae"
   },
   "source": [
    "### Set the Objective\n",
    "\n",
    "The goal is to maximize the **net revenue**, which is the product of price and quantity, minus costs over all regions. This model assumes the purchase costs are fixed (since the amount $B$ is fixed) and are therefore not incorporated.\n",
    "\n",
    "Using the defined decision variables, the objective can be written as follows.\n",
    "\n",
    "\\begin{align} \\textrm{maximize} &  \\sum_{r}  (p_r * s_r - c_{waste} * w_r -\n",
    "c^r_{transport} * x_r)& \\end{align}"
   ]
  },
  {
   "cell_type": "code",
   "execution_count": null,
   "id": "703ff1b2",
   "metadata": {
    "id": "703ff1b2"
   },
   "outputs": [],
   "source": [
    "m.setObjective((p * s).sum() - c_waste * w.sum() - (c_transport * x).sum(),\n",
    "               gp.GRB.MAXIMIZE)"
   ]
  },
  {
   "cell_type": "markdown",
   "id": "cadd1721",
   "metadata": {
    "id": "cadd1721"
   },
   "source": [
    "### Fire Up the Solver\n",
    "\n",
    "In our model, the objective is **quadratic** since we take the product of price\n",
    "and the predicted sales, both of which are variables. Maximizing a quadratic\n",
    "term is said to be **non-convex**, and we specify this by setting the value of\n",
    "the [Gurobi NonConvex\n",
    "parameter](https://www.gurobi.com/documentation/10.0/refman/nonconvex.html) to be\n",
    "$2$."
   ]
  },
  {
   "cell_type": "code",
   "execution_count": null,
   "id": "06a42223",
   "metadata": {
    "colab": {
     "base_uri": "https://localhost:8080/"
    },
    "id": "06a42223",
    "outputId": "761a0098-43eb-41a3-c17b-a119474e3599"
   },
   "outputs": [],
   "source": [
    "m.Params.NonConvex = 2\n",
    "m.optimize()"
   ]
  },
  {
   "cell_type": "markdown",
   "id": "b3474030",
   "metadata": {
    "id": "b3474030"
   },
   "source": [
    "The solver solved the optimization problem in less than a second. Let us now\n",
    "analyze the optimal solution by storing it in a Pandas dataframe."
   ]
  },
  {
   "cell_type": "code",
   "execution_count": null,
   "id": "ec0d106b",
   "metadata": {
    "colab": {
     "base_uri": "https://localhost:8080/",
     "height": 335
    },
    "id": "ec0d106b",
    "outputId": "8e11f057-dbc6-4e3e-d0d7-746a0872da55"
   },
   "outputs": [],
   "source": [
    "solution = pd.DataFrame(index=regions)\n",
    "\n",
    "solution[\"Price\"] = p.gppd.X\n",
    "solution[\"Allocated\"] = x.gppd.X\n",
    "solution[\"Sold\"] = s.gppd.X\n",
    "solution[\"Wasted\"] = w.gppd.X\n",
    "solution[\"Pred_demand\"] = d.gppd.X\n",
    "\n",
    "opt_revenue = m.ObjVal\n",
    "print(\"\\n The optimal net revenue: $%f million\" % opt_revenue)\n",
    "solution.round(4)"
   ]
  },
  {
   "cell_type": "markdown",
   "id": "34279917",
   "metadata": {
    "id": "34279917"
   },
   "source": [
    "We can also check the error in the estimate of the Gurobi solution for the regression model."
   ]
  },
  {
   "cell_type": "code",
   "execution_count": null,
   "id": "353149d2",
   "metadata": {
    "colab": {
     "base_uri": "https://localhost:8080/"
    },
    "id": "353149d2",
    "outputId": "9e353c91-ccdd-4db1-da24-18814aad3f87"
   },
   "outputs": [],
   "source": [
    "print(\n",
    "    \"Maximum error in approximating the regression {:.6}\".format(\n",
    "        np.max(pred_constr.get_error())\n",
    "    )\n",
    ")"
   ]
  },
  {
   "cell_type": "markdown",
   "id": "c3b4a665",
   "metadata": {
    "id": "c3b4a665"
   },
   "source": [
    "This was in introductory look at using the Gurobi Machine Learning package. For more on this example, see the [Price Optimization example of Github](https://github.com/Gurobi/modeling-examples/tree/master/price_optimization)\n",
    "as well as how to work with the model interactively."
   ]
  },
  {
   "cell_type": "markdown",
   "id": "bc9fbba6",
   "metadata": {
    "id": "bc9fbba6",
    "nbsphinx": "hidden"
   },
   "source": [
    "Copyright © 2023 Gurobi Optimization, LLC"
   ]
  }
 ],
 "metadata": {
  "colab": {
   "provenance": []
  },
  "jupytext": {
   "formats": "ipynb///ipynb,myst///md:myst"
  },
  "kernelspec": {
   "display_name": "Python 3 (ipykernel)",
   "language": "python",
   "name": "python3"
  },
  "language_info": {
   "codemirror_mode": {
    "name": "ipython",
    "version": 3
   },
   "file_extension": ".py",
   "mimetype": "text/x-python",
   "name": "python",
   "nbconvert_exporter": "python",
   "pygments_lexer": "ipython3",
   "version": "3.10.14"
  },
  "license": {
   "full_text": "# Copyright © 2022 Gurobi Optimization, LLC\n#\n# Licensed under the Apache License, Version 2.0 (the \"License\");\n# you may not use this file except in compliance with the License.\n# You may obtain a copy of the License at\n#\n#     http://www.apache.org/licenses/LICENSE-2.0\n#\n# Unless required by applicable law or agreed to in writing, software\n# distributed under the License is distributed on an \"AS IS\" BASIS,\n# WITHOUT WARRANTIES OR CONDITIONS OF ANY KIND, either express or implied.\n# See the License for the specific language governing permissions and\n# limitations under the License.\n# =============================================================================="
  }
 },
 "nbformat": 4,
 "nbformat_minor": 5
}
