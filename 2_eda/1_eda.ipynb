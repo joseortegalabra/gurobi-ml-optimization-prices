{
 "cells": [
  {
   "cell_type": "markdown",
   "id": "e5c15370-832e-4b62-b8f4-351032a926dc",
   "metadata": {},
   "source": [
    "## EDA\n",
    "Basic EDA to understand the data"
   ]
  },
  {
   "cell_type": "code",
   "execution_count": null,
   "id": "e87ecf7f-9ae7-47c8-9002-a4634c60e991",
   "metadata": {},
   "outputs": [],
   "source": [
    "import pandas as pd\n",
    "import numpy as np\n",
    "import matplotlib.pyplot as plt\n",
    "import seaborn as sns\n",
    "\n",
    "# plotly\n",
    "from plotly.subplots import make_subplots\n",
    "import plotly.graph_objects as go\n",
    "import plotly.express as px"
   ]
  },
  {
   "cell_type": "code",
   "execution_count": null,
   "id": "839db620-e19f-4ef5-be1b-45cbbd64a193",
   "metadata": {},
   "outputs": [],
   "source": []
  },
  {
   "cell_type": "markdown",
   "id": "81aa7433-4705-46e5-b72d-2f53dca14ad0",
   "metadata": {},
   "source": [
    "### 0. Root repo"
   ]
  },
  {
   "cell_type": "code",
   "execution_count": null,
   "id": "c3fe6e28-c1a2-4e69-b23f-9fab31ff895a",
   "metadata": {},
   "outputs": [],
   "source": [
    "import os\n",
    "# fix root path to save outputs\n",
    "actual_path = os.path.abspath(os.getcwd())\n",
    "list_root_path = actual_path.split('\\\\')[:-1]\n",
    "root_path = '\\\\'.join(list_root_path)\n",
    "os.chdir(root_path)\n",
    "print('root path: ', root_path)"
   ]
  },
  {
   "cell_type": "code",
   "execution_count": null,
   "id": "41b90605-54d4-460d-88dd-b152bfa36700",
   "metadata": {},
   "outputs": [],
   "source": []
  },
  {
   "cell_type": "markdown",
   "id": "4a1f31ec-b0f1-4345-b3a2-0be8694e40e6",
   "metadata": {},
   "source": [
    "### 1. Load data"
   ]
  },
  {
   "cell_type": "code",
   "execution_count": null,
   "id": "746e5ba6-097a-4dfe-a2fe-1bb7fae53694",
   "metadata": {},
   "outputs": [],
   "source": [
    "path_data = 'artifacts/data/data_raw.pkl'\n",
    "data = pd.read_pickle(path_data)\n",
    "data.head()"
   ]
  },
  {
   "cell_type": "code",
   "execution_count": null,
   "id": "e527141b-d53a-4ef6-aedb-a3817c92e466",
   "metadata": {},
   "outputs": [],
   "source": []
  },
  {
   "cell_type": "markdown",
   "id": "47b7bf41-418c-4740-9420-57dfb81bb070",
   "metadata": {},
   "source": [
    "### 2. EDA Basic 1"
   ]
  },
  {
   "cell_type": "markdown",
   "id": "0e06a57a-893d-4139-8dd2-ec86bb51ff35",
   "metadata": {},
   "source": [
    "#### 2.1 null values"
   ]
  },
  {
   "cell_type": "code",
   "execution_count": null,
   "id": "62230d2a-50d4-48cc-9445-bd900235ade5",
   "metadata": {},
   "outputs": [],
   "source": [
    "data.isnull().sum()"
   ]
  },
  {
   "cell_type": "code",
   "execution_count": null,
   "id": "41b32011-f804-49a4-8ebb-90d36645d952",
   "metadata": {},
   "outputs": [],
   "source": []
  },
  {
   "cell_type": "markdown",
   "id": "a85b12de-a190-4000-81fa-f7efa7db23c9",
   "metadata": {},
   "source": [
    "#### 2.2 descriptive statistics"
   ]
  },
  {
   "cell_type": "code",
   "execution_count": null,
   "id": "0c62c95f-9fee-4050-9669-d5d3a6f90ca4",
   "metadata": {},
   "outputs": [],
   "source": [
    "data.describe()"
   ]
  },
  {
   "cell_type": "code",
   "execution_count": null,
   "id": "495e4dff-f9ab-4b03-bbf0-c956dc661f8d",
   "metadata": {},
   "outputs": [],
   "source": []
  },
  {
   "cell_type": "markdown",
   "id": "4a322f5c-0b4f-41fa-adae-4511e48416dc",
   "metadata": {},
   "source": [
    "### 2.3 Unique Values"
   ]
  },
  {
   "cell_type": "code",
   "execution_count": null,
   "id": "3897dc97-54eb-42b2-b5f6-df4112de5140",
   "metadata": {},
   "outputs": [],
   "source": [
    "list_features_cat = ['region', 'year', 'month', 'peak']\n",
    "for feature_cat in list_features_cat:\n",
    "    print('FEATURE: ', feature_cat)\n",
    "    print('number of unique regions: ', data[feature_cat].nunique())\n",
    "    print('unique regions: ', data[feature_cat].unique())\n",
    "    print('\\n')"
   ]
  },
  {
   "cell_type": "code",
   "execution_count": null,
   "id": "a956ea14-349f-4df8-a17b-6a59d861092d",
   "metadata": {},
   "outputs": [],
   "source": []
  },
  {
   "cell_type": "markdown",
   "id": "95b6bed1-75d5-4281-88d3-401fe5cf4be7",
   "metadata": {},
   "source": [
    "#### 2.4 Histograms"
   ]
  },
  {
   "cell_type": "code",
   "execution_count": null,
   "id": "480748ff-ce3e-44c7-bcdc-58779570c124",
   "metadata": {},
   "outputs": [],
   "source": [
    "def plot_hist(df, features_to_plot):\n",
    "    \"\"\"\n",
    "    Dado un histograma y un listado de features, plotear histograma de cada una de las features\n",
    "    Args:\n",
    "        df: dataframe\n",
    "        features_to_plot: list - features to plot\n",
    "    \"\"\"\n",
    "\n",
    "    # shape sub plots\n",
    "    number_columns = 1 #fixed\n",
    "    number_rows = len(features_to_plot)\n",
    "    \n",
    "    # create plot\n",
    "    fig = make_subplots(rows = number_rows, cols = number_columns)\n",
    "    \n",
    "    \n",
    "    # append subplots\n",
    "    for index_feature in range(number_rows):\n",
    "        \n",
    "        # plot\n",
    "        fig.append_trace(\n",
    "            #px.histogram(df, x = features_to_plot[index_feature]),\n",
    "            go.Histogram(x=df[features_to_plot[index_feature]]),\n",
    "            row=index_feature + 1, \n",
    "            col = 1\n",
    "        )\n",
    "        \n",
    "        #Update x-axis title for each subplot\n",
    "        fig.update_xaxes(title_text=features_to_plot[index_feature], row=index_feature + 1, col=1)\n",
    "    \n",
    "    \n",
    "    fig.update_layout(height=1600, width=600, title_text=\"Histograms\")\n",
    "    fig.show()"
   ]
  },
  {
   "cell_type": "code",
   "execution_count": null,
   "id": "58c521de-5cbe-4ed1-9a39-0954bc16ff61",
   "metadata": {},
   "outputs": [],
   "source": [
    "plot_hist(df = data,\n",
    "          features_to_plot = data.columns.tolist()[1:]\n",
    "         )"
   ]
  },
  {
   "cell_type": "code",
   "execution_count": null,
   "id": "c155ccb8-a068-42b2-982f-3ccb9ebf9fc5",
   "metadata": {},
   "outputs": [],
   "source": []
  },
  {
   "cell_type": "code",
   "execution_count": null,
   "id": "6ae575f6-1b29-4544-b663-d4b9b032e316",
   "metadata": {},
   "outputs": [],
   "source": []
  },
  {
   "cell_type": "markdown",
   "id": "0f37ca25-cb08-44f7-a2eb-06de2954eaf6",
   "metadata": {},
   "source": [
    "### 3. Observe trend in data - group data for all US data. No considering the differents regions"
   ]
  },
  {
   "cell_type": "markdown",
   "id": "2bd07b8d-782d-465b-b07f-65a43bc4cdad",
   "metadata": {},
   "source": [
    "#### 3.1 Group data"
   ]
  },
  {
   "cell_type": "code",
   "execution_count": null,
   "id": "7d280b98-87bb-4176-8d27-61f199a8105d",
   "metadata": {},
   "outputs": [],
   "source": [
    "df_Total_US = data[data[\"region\"] == \"Total_US\"]\n",
    "df_Total_US.head()"
   ]
  },
  {
   "cell_type": "code",
   "execution_count": null,
   "id": "54f126f7-061a-482c-a6d1-faa037026238",
   "metadata": {},
   "outputs": [],
   "source": []
  },
  {
   "cell_type": "markdown",
   "id": "c1c4e40e-ec5a-4c5e-b9a4-96533fe2a51c",
   "metadata": {},
   "source": [
    "#### 3.2 Sales over the years"
   ]
  },
  {
   "cell_type": "code",
   "execution_count": null,
   "id": "c9c85170-b36b-4186-bbbf-a48f4ace8c9d",
   "metadata": {},
   "outputs": [],
   "source": [
    "### sales over the years\n",
    "\n",
    "fig, axes = plt.subplots(nrows=1, ncols=1, figsize=(10, 5))\n",
    "mean = df_Total_US.groupby(\"year\")[\"units_sold\"].mean()\n",
    "std = df_Total_US.groupby(\"year\")[\"units_sold\"].std()\n",
    "axes.errorbar(mean.index, mean, xerr=0.5, yerr=2 * std, linestyle=\"\")\n",
    "axes.set_ylabel(\"Units Sold (millions)\")\n",
    "axes.set_xlabel(\"Year\")\n",
    "\n",
    "fig.tight_layout()"
   ]
  },
  {
   "cell_type": "markdown",
   "id": "d8673f24-fe58-4739-a5df-f4623252fa6e",
   "metadata": {},
   "source": [
    "#### 3.3 Trend Sales Over year"
   ]
  },
  {
   "cell_type": "code",
   "execution_count": null,
   "id": "4024ebde-64fe-4f9e-89df-398ce3cbb915",
   "metadata": {},
   "outputs": [],
   "source": [
    "### time series sales over the years\n",
    "\n",
    "# sort data\n",
    "df_timeseries = df_Total_US.sort_values(by = ['date'], ascending = True)\n",
    "\n",
    "# plot timeseries\n",
    "fig = px.line(df_timeseries, x='date', y=\"units_sold\")\n",
    "fig.show()"
   ]
  },
  {
   "cell_type": "code",
   "execution_count": null,
   "id": "01d3d48c-542d-4737-95d0-c0ac2525366e",
   "metadata": {},
   "outputs": [],
   "source": []
  },
  {
   "cell_type": "markdown",
   "id": "45e7794c-dd55-4337-bd2e-0199b4f02d4c",
   "metadata": {},
   "source": [
    "#### 3.4 Seasonality"
   ]
  },
  {
   "cell_type": "code",
   "execution_count": null,
   "id": "c7417a47-82e5-48c7-91b1-388c641f88e0",
   "metadata": {},
   "outputs": [],
   "source": [
    "fig, axes = plt.subplots(nrows=1, ncols=1, figsize=(10, 5))\n",
    "\n",
    "mean = df_Total_US.groupby(\"month\")[\"units_sold\"].mean()\n",
    "std = df_Total_US.groupby(\"month\")[\"units_sold\"].std()\n",
    "\n",
    "axes.errorbar(mean.index, mean, xerr=0.5, yerr=2 * std, linestyle=\"\")\n",
    "axes.set_ylabel(\"Units Sold (millions)\")\n",
    "axes.set_xlabel(\"Month\")\n",
    "\n",
    "fig.tight_layout()\n",
    "\n",
    "plt.xlabel(\"Month\")\n",
    "axes.set_xticks(range(1, 13))\n",
    "plt.ylabel(\"Units sold (millions)\")\n",
    "plt.show()"
   ]
  },
  {
   "cell_type": "code",
   "execution_count": null,
   "id": "31eddefd-d234-4d53-95ea-069535ce3287",
   "metadata": {},
   "outputs": [],
   "source": []
  },
  {
   "cell_type": "markdown",
   "id": "6a168131-0d78-4b5e-a299-e96dc40a58e2",
   "metadata": {},
   "source": [
    "#### 3.5 Correlations"
   ]
  },
  {
   "cell_type": "code",
   "execution_count": null,
   "id": "37441ac4-8282-441f-8a85-c36d81e291ae",
   "metadata": {},
   "outputs": [],
   "source": [
    "# calculate correlations\n",
    "columns_to_corr = [\"units_sold\", \"price\", \"year\", \"peak\"]\n",
    "corr_df = df_Total_US[columns_to_corr].corr()\n",
    "corr_df = corr_df.round(2)\n",
    "\n",
    "# plot correlations\n",
    "fig = px.imshow(corr_df, width=1000, height=500, text_auto=True, labels = dict(x='Correlations of all features'))\n",
    "fig.update_xaxes(side=\"top\")\n",
    "fig.show()"
   ]
  },
  {
   "cell_type": "code",
   "execution_count": null,
   "id": "531ee85c-0668-4f98-bf73-ce0d63190f79",
   "metadata": {},
   "outputs": [],
   "source": []
  },
  {
   "cell_type": "markdown",
   "id": "e2f76ffb-2212-4082-8108-e8a3cb508cda",
   "metadata": {},
   "source": [
    "### 4. Analysis by regions"
   ]
  },
  {
   "cell_type": "markdown",
   "id": "f9d5affc-1baf-4da9-b610-8a41f6c73303",
   "metadata": {},
   "source": [
    "#### 4.1 Delete the region Total US"
   ]
  },
  {
   "cell_type": "code",
   "execution_count": null,
   "id": "f725d46e-c038-45f1-852e-94f4a012ad6a",
   "metadata": {},
   "outputs": [],
   "source": [
    "# create a dataframe with all regions, deleting the total_US\n",
    "regions = [\n",
    "    \"Great_Lakes\",\n",
    "    \"Midsouth\",\n",
    "    \"Northeast\",\n",
    "    \"Northern_New_England\",\n",
    "    \"SouthCentral\",\n",
    "    \"Southeast\",\n",
    "    \"West\",\n",
    "    \"Plains\",\n",
    "]\n",
    "data = data[data.region.isin(regions)]"
   ]
  },
  {
   "cell_type": "code",
   "execution_count": null,
   "id": "a8180c75-05a2-4821-82f4-6621eb5da664",
   "metadata": {},
   "outputs": [],
   "source": [
    "data.head()"
   ]
  },
  {
   "cell_type": "code",
   "execution_count": null,
   "id": "e9910822-41b0-46dc-ad90-713620e9fa38",
   "metadata": {},
   "outputs": [],
   "source": [
    "data.shape"
   ]
  },
  {
   "cell_type": "code",
   "execution_count": null,
   "id": "3c969eab-bf89-4472-8c76-bb6b4530c726",
   "metadata": {},
   "outputs": [],
   "source": []
  },
  {
   "cell_type": "markdown",
   "id": "b70ab1d8-ea45-4c3a-80e3-7da152e1152c",
   "metadata": {},
   "source": [
    "#### 4.2 Solds each region"
   ]
  },
  {
   "cell_type": "code",
   "execution_count": null,
   "id": "5ec8563a-1fb0-4002-8441-8fbdf8aaf726",
   "metadata": {},
   "outputs": [],
   "source": [
    "# plot units sold of each region\n",
    "\n",
    "\n",
    "fig, axes = plt.subplots(nrows=1, ncols=1, figsize=(10, 5))\n",
    "\n",
    "mean = data.groupby(\"region\")[\"units_sold\"].mean()\n",
    "std = data.groupby(\"region\")[\"units_sold\"].std()\n",
    "\n",
    "axes.errorbar(range(len(mean)), mean, xerr=0.5, yerr=2 * std, linestyle=\"\")\n",
    "\n",
    "fig.tight_layout()\n",
    "\n",
    "plt.xlabel(\"Region\")\n",
    "plt.xticks(range(len(mean)), pd.DataFrame(mean)[\"units_sold\"].index, rotation=20)\n",
    "plt.ylabel(\"Units sold (millions)\")\n",
    "plt.show()"
   ]
  },
  {
   "cell_type": "markdown",
   "id": "6b4b5fe1-47af-4523-adfb-e82d71f55ad1",
   "metadata": {},
   "source": [
    "### 4.3 Scatter plot - prices vs solds - colored by region - graph p vs q"
   ]
  },
  {
   "cell_type": "code",
   "execution_count": null,
   "id": "fc3c2701-0537-4003-8054-a9bc206d17fb",
   "metadata": {},
   "outputs": [],
   "source": [
    "plt.figure(figsize=(10, 6))\n",
    "r_plt = sns.scatterplot(data = data,\n",
    "                        y = 'price',\n",
    "                        x = 'units_sold', \n",
    "                        hue = 'region'\n",
    "                       )\n",
    "r_plt.legend(fontsize=8)\n",
    "plt.show()"
   ]
  },
  {
   "cell_type": "code",
   "execution_count": null,
   "id": "667ddbe3-318d-4204-bc93-6d841fcf3f36",
   "metadata": {},
   "outputs": [],
   "source": []
  },
  {
   "cell_type": "code",
   "execution_count": null,
   "id": "8e87434c-b7d1-4086-b5a9-328940dbfc50",
   "metadata": {},
   "outputs": [],
   "source": []
  },
  {
   "cell_type": "code",
   "execution_count": null,
   "id": "b70ff0c4-6894-404f-bac8-10adc34f82bb",
   "metadata": {},
   "outputs": [],
   "source": []
  },
  {
   "cell_type": "markdown",
   "id": "cd70c270-eac7-4cc1-975d-5377ae2f8afb",
   "metadata": {},
   "source": [
    "### 5. Comparison between regions. Relation of prices and solds considering the efect of other regions"
   ]
  },
  {
   "cell_type": "markdown",
   "id": "1567dbec-460f-4837-9a4a-881401a40b57",
   "metadata": {},
   "source": [
    "#### 5.1 generate data"
   ]
  },
  {
   "cell_type": "code",
   "execution_count": null,
   "id": "5b21cb24-9fa8-4fdd-8c29-10b59f6ddd9a",
   "metadata": {},
   "outputs": [],
   "source": [
    "# filter usefull columns\n",
    "list_columns_to_comparation = ['date', 'units_sold', 'price', 'region', 'peak']\n",
    "df_filtered_columns = data[list_columns_to_comparation]\n",
    "df_filtered_columns"
   ]
  },
  {
   "cell_type": "code",
   "execution_count": null,
   "id": "9cb6450e-4a6d-4038-9852-ce1e28f0510c",
   "metadata": {},
   "outputs": [],
   "source": [
    "#### Pivot data to generate a pivot table with the prices for each region in one row\n",
    "df_pivot_prices = df_filtered_columns.pivot(index='date', columns='region', values='price').reset_index()\n",
    "df_pivot_prices.columns = ['date'] + ['price_' + col.lower().replace(' ', '_') for col in df_pivot_prices.columns[1:]]\n",
    "df_pivot_prices"
   ]
  },
  {
   "cell_type": "code",
   "execution_count": null,
   "id": "14bcc6c6-8da8-4913-b10d-ef11d8d32c09",
   "metadata": {},
   "outputs": [],
   "source": [
    "# delete original column price, with the price in this region\n",
    "df_filtered_columns = df_filtered_columns.drop(columns = ['price']) \n",
    "df_filtered_columns.head()"
   ]
  },
  {
   "cell_type": "code",
   "execution_count": null,
   "id": "35d69abf-40bb-4543-8016-c7bf86ee8700",
   "metadata": {},
   "outputs": [],
   "source": [
    "#### merge the original data with units solds and region with the data that have the price for each region\n",
    "df_prices_regions = pd.merge(df_filtered_columns, df_pivot_prices, on='date', how='left')\n",
    "df_prices_regions.head(9)"
   ]
  },
  {
   "cell_type": "code",
   "execution_count": null,
   "id": "61909e85-4bb4-4727-a24d-afb2d9c33901",
   "metadata": {},
   "outputs": [],
   "source": [
    "##### COMPARAR DATAFRAMES ESTEN BIEN\n",
    "data.head(8)"
   ]
  },
  {
   "cell_type": "code",
   "execution_count": null,
   "id": "a284b1ec-fcfa-4bba-b17a-cb352a9f8a86",
   "metadata": {},
   "outputs": [],
   "source": []
  },
  {
   "cell_type": "markdown",
   "id": "500e5246-2e0c-48c1-a71a-2503bad36330",
   "metadata": {},
   "source": [
    "#### 5.2 Correlation between prices"
   ]
  },
  {
   "cell_type": "code",
   "execution_count": null,
   "id": "89557057-f0f8-446e-9b12-e72ace85a8f2",
   "metadata": {},
   "outputs": [],
   "source": [
    "df_aux_corr_prices = df_prices_regions.drop(columns = ['date', 'units_sold', 'region', 'peak'])\n",
    "corr_prices = df_aux_corr_prices.corr()\n",
    "corr_prices = corr_prices.round(3)\n",
    "\n",
    "# plot\n",
    "fig = px.imshow(corr_prices, width=1300, height=800, text_auto=True, labels = dict(x=f'Correlations prices each region'))\n",
    "fig.update_xaxes(side=\"top\")\n",
    "fig.show()"
   ]
  },
  {
   "cell_type": "code",
   "execution_count": null,
   "id": "d32b207c-2622-4ace-b701-6f70e70ca38e",
   "metadata": {},
   "outputs": [],
   "source": []
  },
  {
   "cell_type": "markdown",
   "id": "1ee3be9d-e11f-402a-a46d-1ed50c3a7bf2",
   "metadata": {},
   "source": [
    "#### 5.3 Correlation Units sols in region X considering the price of all region"
   ]
  },
  {
   "cell_type": "code",
   "execution_count": null,
   "id": "5977326f-e743-4888-9143-7ad06b9331eb",
   "metadata": {},
   "outputs": [],
   "source": [
    "#### MAKE CORRELATION OF THE UNITS SOLD IN EACH REGION WITH THE PRICES OF EACH REGION\n",
    "for region_name in df_prices_regions['region'].unique().tolist():\n",
    "    print(region_name)\n",
    "\n",
    "    # filter by region\n",
    "    df_aux_corr = df_prices_regions[df_prices_regions['region'] == region_name]\n",
    "    df_aux_corr = df_aux_corr.drop(columns = ['date', 'region', 'peak']) # delete column to not show in correlation heatmap\n",
    "    \n",
    "    # correlation target\n",
    "    corr = df_aux_corr.corr()\n",
    "    corr_units_sold = corr[['units_sold']]\n",
    "    corr_units_sold =  corr_units_sold.T\n",
    "    corr_units_sold = corr_units_sold.round(3)\n",
    "    \n",
    "    # plot\n",
    "    fig = px.imshow(corr_units_sold, width=1000, height=400, text_auto=True, labels = dict(x=f'Correlations units solds of region: {region_name}'))\n",
    "    fig.update_xaxes(side=\"top\")\n",
    "    fig.show()"
   ]
  },
  {
   "cell_type": "code",
   "execution_count": null,
   "id": "b0052a75-d5f2-4647-baec-100f4fb4e8d3",
   "metadata": {},
   "outputs": [],
   "source": []
  },
  {
   "cell_type": "code",
   "execution_count": null,
   "id": "8d0ebaf7-9e6c-4af8-965d-91eebf788966",
   "metadata": {},
   "outputs": [],
   "source": []
  },
  {
   "cell_type": "code",
   "execution_count": null,
   "id": "0a6dc871-41c2-4d53-ae73-bdd02d3d70d6",
   "metadata": {},
   "outputs": [],
   "source": []
  },
  {
   "cell_type": "code",
   "execution_count": null,
   "id": "a37e6d2f-5874-431d-b33c-96964f713089",
   "metadata": {},
   "outputs": [],
   "source": []
  },
  {
   "cell_type": "markdown",
   "id": "ca1f76f7-f083-480d-a4f9-876810788410",
   "metadata": {},
   "source": [
    "### Insights:\n",
    "- Es la misma cantidad de datos por cada región. Hay un total de 6 regiones (6 regiones de US)\n",
    "- Existe una cierta variación en la cantidad de ventas de cada año, pero sin una tendencia clara a la alza o baja (ventas a nivel total US)\n",
    "- A nivel de agregación mensual, se observa meses con mayores ventas que otros, seasonnality, que también se puede ver en el gráfico de las tendencias\n",
    "- Todas las regiones tienen precios altamente correlacionados, algunas más que otras pero todas con correlaciones de precios sobre 0.6 y los más altos con correlaciones de 0.8\n",
    "- **Se ven que en algunos sectores/regiones el precio es más elástico al precio que otros**"
   ]
  },
  {
   "cell_type": "code",
   "execution_count": null,
   "id": "16c624b0-0a0b-4945-a4f1-e50d76cc96d7",
   "metadata": {},
   "outputs": [],
   "source": []
  }
 ],
 "metadata": {
  "kernelspec": {
   "display_name": "Python 3 (ipykernel)",
   "language": "python",
   "name": "python3"
  },
  "language_info": {
   "codemirror_mode": {
    "name": "ipython",
    "version": 3
   },
   "file_extension": ".py",
   "mimetype": "text/x-python",
   "name": "python",
   "nbconvert_exporter": "python",
   "pygments_lexer": "ipython3",
   "version": "3.10.14"
  }
 },
 "nbformat": 4,
 "nbformat_minor": 5
}
