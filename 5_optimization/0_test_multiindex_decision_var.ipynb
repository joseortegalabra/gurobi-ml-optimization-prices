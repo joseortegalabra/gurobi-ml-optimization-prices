{
 "cells": [
  {
   "cell_type": "markdown",
   "id": "ec518247-2417-4eb6-bbde-41b6d6d3bc2a",
   "metadata": {},
   "source": [
    "# Gurobi optimization using multiple machine learning models\n",
    "## Optimize for Price and Supply of Avocados - time horizon\n",
    "\n",
    "THIS IS THE SAME OPTIMIZATION PROBLEM OF NOTEBOOK 2 BUT WITH THE DIFFERENCE TO CONSIDERING A TIME HORIZON PLANNING. SO OPTIMIZATION PROBLEM IS RE DEFINED TO ADD TIME BUT THE MACHINE LEARNINGS MODELS OF NOTEBOOKS 2 ARE THE SAME.\n",
    "**SO, The ml models predict to one time horizon (and it is the same of notebook 2), but the optimization model consider the time horizon**"
   ]
  },
  {
   "cell_type": "markdown",
   "id": "21836f43-aec3-40bd-aab3-0ee783e92ce1",
   "metadata": {},
   "source": [
    "**DOCUMENTATION**\n",
    "- In this example there multiple linear regressions, but gurobi machine learning acept multiple models. Documentation **\"gurobi-machinelearning\"**\n",
    "\n",
    "https://gurobi-machinelearning.readthedocs.io/en/stable/api.html\n",
    "\n",
    "\n",
    "- In addition, to define the decision variables, parameters, restriction, etc of the optimization model are used **\"gurobipy-pandas\"**. Using this package is possible define the optimization model using pandas DataFrames\n",
    "\n",
    "https://gurobipy-pandas.readthedocs.io/en/stable/"
   ]
  },
  {
   "cell_type": "code",
   "execution_count": null,
   "id": "f13dc83a-84fa-43c6-a95f-9950d3f5f061",
   "metadata": {},
   "outputs": [],
   "source": [
    "import pickle\n",
    "import pandas as pd\n",
    "import numpy as np\n",
    "\n",
    "#gurobi\n",
    "import gurobipy_pandas as gppd\n",
    "from gurobi_ml import add_predictor_constr\n",
    "import gurobipy as gp"
   ]
  },
  {
   "cell_type": "code",
   "execution_count": null,
   "id": "fe000d94-8818-46fa-aad1-8f4ec76e9877",
   "metadata": {},
   "outputs": [],
   "source": []
  },
  {
   "cell_type": "markdown",
   "id": "d81b8287-8b66-4e5d-b1c1-a8bbc8c3a3f4",
   "metadata": {},
   "source": [
    "### 0. Root repo"
   ]
  },
  {
   "cell_type": "code",
   "execution_count": null,
   "id": "00faa458-a860-4445-84c0-2d7eb32102b9",
   "metadata": {},
   "outputs": [],
   "source": [
    "import os\n",
    "# fix root path to save outputs\n",
    "actual_path = os.path.abspath(os.getcwd())\n",
    "list_root_path = actual_path.split('\\\\')[:-1]\n",
    "root_path = '\\\\'.join(list_root_path)\n",
    "os.chdir(root_path)\n",
    "print('root path: ', root_path)"
   ]
  },
  {
   "cell_type": "code",
   "execution_count": null,
   "id": "699469b7-d017-4df8-9339-ddd7c6c9f508",
   "metadata": {},
   "outputs": [],
   "source": []
  },
  {
   "cell_type": "markdown",
   "id": "dec2d181-1424-455f-b7a1-2b35ad47fbfa",
   "metadata": {},
   "source": [
    "## RUN OPTIMIZATION"
   ]
  },
  {
   "cell_type": "markdown",
   "id": "9f7fa285-434b-4375-945c-b30b327780d9",
   "metadata": {},
   "source": [
    "## 0. Model Gurobi"
   ]
  },
  {
   "cell_type": "code",
   "execution_count": null,
   "id": "209bfa51-909a-4915-947e-4ebf9b57a4f8",
   "metadata": {},
   "outputs": [],
   "source": [
    "# env = gp.Env(params=params)\n",
    "\n",
    "#Create the model within the Gurobi environment\n",
    "model_opt = gp.Model(name = \"test model\")"
   ]
  },
  {
   "cell_type": "code",
   "execution_count": null,
   "id": "46988409-a049-4003-b432-877811b44fe8",
   "metadata": {},
   "outputs": [],
   "source": []
  },
  {
   "cell_type": "markdown",
   "id": "f20ebedc-8265-45d6-8557-f68ace6196c6",
   "metadata": {},
   "source": [
    "## 1. Define set"
   ]
  },
  {
   "cell_type": "code",
   "execution_count": null,
   "id": "ffa9b403-6e71-4863-a887-9b8ff4a2fdb1",
   "metadata": {},
   "outputs": [],
   "source": [
    "############## set regions - index pandas ##############\n",
    "\n",
    "# generate a pandas index with the values of the regions. This works as sets of optimization model\n",
    "list_regions = ['Great_Lakes',\n",
    "                'Midsouth',\n",
    "                'Northeast',\n",
    "                'Northern_New_England',\n",
    "                'Plains',\n",
    "                'SouthCentral',\n",
    "                'Southeast',\n",
    "                'West']\n",
    "regions = list_regions\n",
    "\n",
    "# index pandas\n",
    "index_regions = pd.Index(regions)\n",
    "index_regions"
   ]
  },
  {
   "cell_type": "code",
   "execution_count": null,
   "id": "c3f7bd84-3fd6-4fa3-a062-6f1954b52e15",
   "metadata": {},
   "outputs": [],
   "source": [
    "############## set time - index pandas ##############\n",
    "\n",
    "# generate a pandas index with time horizon planning\n",
    "time_horizon_planning = ['t1', 't2', 't3', 't4', 't5']\n",
    "\n",
    "# index pandas\n",
    "index_time = pd.Index(time_horizon_planning)\n",
    "index_time"
   ]
  },
  {
   "cell_type": "code",
   "execution_count": null,
   "id": "37e3f1db-59be-40f5-9852-21dd1296665b",
   "metadata": {},
   "outputs": [],
   "source": [
    "############## multi set region&time - index pandas ##############\n",
    "\n",
    "#index pandas\n",
    "index_region_time = pd.MultiIndex.from_product((regions, time_horizon_planning), \n",
    "                                               names = ('region', 'time')\n",
    "                                              )\n",
    "index_region_time"
   ]
  },
  {
   "cell_type": "code",
   "execution_count": null,
   "id": "667ac9e7-6208-4c14-975e-0bd92f74b206",
   "metadata": {},
   "outputs": [],
   "source": []
  },
  {
   "cell_type": "markdown",
   "id": "eb0e7ea7-b0d3-4c06-89da-2244c02fc4b6",
   "metadata": {},
   "source": [
    "## 2. Create decision variables - one set - multisets"
   ]
  },
  {
   "cell_type": "markdown",
   "id": "0ea3a5a6-c517-4f7c-bb0e-4ea55556cbeb",
   "metadata": {},
   "source": [
    "### 2.1 Create decision variable set region (one set)"
   ]
  },
  {
   "cell_type": "code",
   "execution_count": null,
   "id": "48316ab7-a369-43bd-8ee2-0e262ba66704",
   "metadata": {},
   "outputs": [],
   "source": [
    "# test create decision variable set region\n",
    "var_test_region = gppd.add_vars(model_opt, index_regions, name = \"var test\")\n",
    "var_test_region"
   ]
  },
  {
   "cell_type": "code",
   "execution_count": null,
   "id": "9b31a12f-a1fc-469d-a973-2f27361ecfc2",
   "metadata": {},
   "outputs": [],
   "source": [
    "# filter decision variable element of set region\n",
    "var_test_region['Southeast']"
   ]
  },
  {
   "cell_type": "markdown",
   "id": "df2f020e-59b6-46b5-833f-339f3aba2860",
   "metadata": {},
   "source": [
    "### 2.2 Create decision variable set time (one set)"
   ]
  },
  {
   "cell_type": "code",
   "execution_count": null,
   "id": "8fc867d9-d782-4b40-98ff-150cfa192d1b",
   "metadata": {},
   "outputs": [],
   "source": [
    "# prueba crear variable set time\n",
    "var_test_time = gppd.add_vars(model_opt, index_time, name = \"var test\")\n",
    "var_test_time"
   ]
  },
  {
   "cell_type": "code",
   "execution_count": null,
   "id": "5da43e65-555b-4be0-ae3d-5f1901206c9a",
   "metadata": {},
   "outputs": [],
   "source": [
    "# filter decision variable element of set time\n",
    "var_test_time['t3']"
   ]
  },
  {
   "cell_type": "markdown",
   "id": "d3f50ec1-7816-411e-8c39-da7abcb5f020",
   "metadata": {},
   "source": [
    "### 2.3 Create decision variable multi sets (region, time) (pandas multiindex)\n",
    "IMPORTANT - TO FILTER INDEX IT IS NECESARY USE .LOC"
   ]
  },
  {
   "cell_type": "code",
   "execution_count": null,
   "id": "5579855b-e7ba-4f21-96c5-0a51ddbdec8d",
   "metadata": {},
   "outputs": [],
   "source": [
    "# prueba crear variable decision multi conjuntos\n",
    "var_test_region_time = gppd.add_vars(model_opt, index_region_time, name = \"var test\")\n",
    "var_test_region_time"
   ]
  },
  {
   "cell_type": "code",
   "execution_count": null,
   "id": "2019e9ce-d174-494b-95bd-43bc9de5c545",
   "metadata": {},
   "outputs": [],
   "source": [
    "# filter one element set region and time\n",
    "\n",
    "#var_test_region_time['Southeast']['t1'] # ex1\n",
    "#var_test_region_time['Southeast']['t2'] # ex2\n",
    "#var_test_region_time['Plains']['t4'] #ex3\n",
    "\n",
    "var_test_region_time.loc['Plains', 't4']  # correct example using loc[set, set]"
   ]
  },
  {
   "cell_type": "code",
   "execution_count": null,
   "id": "f04b2a49-a729-4123-aa93-d5697b9e73e2",
   "metadata": {},
   "outputs": [],
   "source": [
    "#### filter one element set one /// all elements set two\n",
    "\n",
    "# var_test_region_time['Southeast'][:] # incorrect example\n",
    "\n",
    "var_test_region_time.loc['Plains', :] # correct example using loc[set, set]"
   ]
  },
  {
   "cell_type": "code",
   "execution_count": null,
   "id": "46ab456c-d2f0-4b43-8b3c-21f898f49c4b",
   "metadata": {},
   "outputs": [],
   "source": [
    "# filter all elements set one // one element set two\n",
    "var_test_region_time.loc[:, 't4']"
   ]
  },
  {
   "cell_type": "code",
   "execution_count": null,
   "id": "d1b2ea6c-40fc-49ff-86e0-ac744d6b369a",
   "metadata": {},
   "outputs": [],
   "source": []
  },
  {
   "cell_type": "markdown",
   "id": "27ce0dd9-581c-4cbd-866c-b35067c2ad7f",
   "metadata": {},
   "source": [
    "## 3. Sum elements across sets in decision variables"
   ]
  },
  {
   "cell_type": "code",
   "execution_count": null,
   "id": "383ad98d-da5c-4575-9d45-33707e46fb4c",
   "metadata": {},
   "outputs": [],
   "source": [
    "# Define decision variable in this sets\n",
    "var_test_sum = gppd.add_vars(model_opt, index_region_time, name = \"var_test\")\n",
    "model_opt.update()"
   ]
  },
  {
   "cell_type": "code",
   "execution_count": null,
   "id": "cc3cec2b-95ad-4d39-b428-711cef104c34",
   "metadata": {},
   "outputs": [],
   "source": [
    "var_test_sum"
   ]
  },
  {
   "cell_type": "markdown",
   "id": "aba258ca-d9be-4846-82c2-545fa25df9d3",
   "metadata": {},
   "source": [
    "### 3.1. Sum all elements in decision variable (sum across all sets) (USING .sum and quicksum)"
   ]
  },
  {
   "cell_type": "code",
   "execution_count": null,
   "id": "e8f1fd9f-222e-453c-b8f6-029b8e622696",
   "metadata": {},
   "outputs": [],
   "source": [
    "# .sum()\n",
    "sum_sum = var_test_sum.sum()\n",
    "sum_sum"
   ]
  },
  {
   "cell_type": "code",
   "execution_count": null,
   "id": "78f36392-7500-4f87-80e7-6439b4cb1833",
   "metadata": {},
   "outputs": [],
   "source": [
    "# quicksum\n",
    "\n",
    "from gurobipy import quicksum\n",
    "sum_in_r_t_quicksum = quicksum(var_test_sum[r, t] for r in index_regions for t in index_time)\n",
    "sum_in_r_t_quicksum"
   ]
  },
  {
   "cell_type": "code",
   "execution_count": null,
   "id": "0f2912e8-aa7f-4c2d-96c6-aaf4bf8a3957",
   "metadata": {},
   "outputs": [],
   "source": []
  },
  {
   "cell_type": "markdown",
   "id": "81636a04-d4e7-45a0-b437-a363a6774f88",
   "metadata": {},
   "source": [
    "### 3.2 Sum elements only across ONE set. Sum across set regions (USING quicksum)"
   ]
  },
  {
   "cell_type": "code",
   "execution_count": null,
   "id": "25b36830-05a9-4f62-afa5-33ec889faeb1",
   "metadata": {},
   "outputs": [],
   "source": [
    "# sum region for each time\n",
    "sum_in_r_quicksum = quicksum(var_test_sum[r] for r in index_regions)\n",
    "sum_in_r_quicksum"
   ]
  },
  {
   "cell_type": "code",
   "execution_count": null,
   "id": "73bd897a-5f34-4838-aae9-bb6961dfbb68",
   "metadata": {},
   "outputs": [],
   "source": [
    "# show value in one region\n",
    "sum_in_r_quicksum['t1']"
   ]
  },
  {
   "cell_type": "code",
   "execution_count": null,
   "id": "76414f72-19fc-4fc8-a1e2-c122dafa1882",
   "metadata": {},
   "outputs": [],
   "source": []
  },
  {
   "cell_type": "markdown",
   "id": "8fa438e5-3267-4d94-ab0e-797704096026",
   "metadata": {},
   "source": [
    "### 3.3 Sum elements only across ONE set. Sum across set regions (USING groupby and sum)\n",
    "Docu: https://gurobipy-pandas.readthedocs.io/en/latest/usage.html"
   ]
  },
  {
   "cell_type": "code",
   "execution_count": null,
   "id": "adcdf619-9a03-42d2-91f3-e02b078db4ad",
   "metadata": {},
   "outputs": [],
   "source": [
    "# \"grouby by\" by the set that I don't want to sum\n",
    "sum_in_r_groupsum = var_test_sum.groupby('time').sum()\n",
    "sum_in_r_groupsum"
   ]
  },
  {
   "cell_type": "code",
   "execution_count": null,
   "id": "97bd7b15-feb3-4242-ba0a-54c04d1354e3",
   "metadata": {},
   "outputs": [],
   "source": [
    "sum_in_r_groupsum['t2']"
   ]
  },
  {
   "cell_type": "code",
   "execution_count": null,
   "id": "0cbb6adf-05c0-45e7-824d-9ac9aca74271",
   "metadata": {},
   "outputs": [],
   "source": []
  },
  {
   "cell_type": "code",
   "execution_count": null,
   "id": "62f3302d-bbac-4b7c-9220-b4ac9a7e9659",
   "metadata": {},
   "outputs": [],
   "source": []
  },
  {
   "cell_type": "markdown",
   "id": "b8ca61cd-b7e1-4116-9b4f-b81e69021d9d",
   "metadata": {},
   "source": [
    "## 4. Define a constraint for all t in Time"
   ]
  },
  {
   "cell_type": "code",
   "execution_count": null,
   "id": "9aa11321-cc6b-4ce6-b0c4-87da6d1697be",
   "metadata": {},
   "outputs": [],
   "source": [
    "# define right side values of the restriction\n",
    "np.random.seed(42)\n",
    "rs = np.random.random(len(time_horizon_planning))\n",
    "rs"
   ]
  },
  {
   "cell_type": "code",
   "execution_count": null,
   "id": "03287620-5538-4346-9e4e-499672db1be1",
   "metadata": {},
   "outputs": [],
   "source": [
    "# define a constraint\n",
    "constraint_for_all_time = gppd.add_constrs(model_opt, sum_in_r_groupsum, gp.GRB.EQUAL, rs)\n",
    "model_opt.update()"
   ]
  },
  {
   "cell_type": "code",
   "execution_count": null,
   "id": "194a5698-3a28-4b48-9c21-67221f61ad22",
   "metadata": {},
   "outputs": [],
   "source": [
    "# show constraint but it is useless\n",
    "constraint_for_all_time"
   ]
  },
  {
   "cell_type": "code",
   "execution_count": null,
   "id": "674b2dab-3ae3-477d-a0c8-47d722632ed7",
   "metadata": {},
   "outputs": [],
   "source": []
  },
  {
   "cell_type": "markdown",
   "id": "62731adf-73b5-414d-9d14-3e148b2a1ef1",
   "metadata": {},
   "source": [
    "### 5. Define a constraint of previous time\n",
    "SOLDS <= SUPPLY + INVENTARY (t previous)\n",
    "\n",
    "\\begin{align*} \n",
    "s_r(t) &\\leq x_r(t) + I_r(t-1)               \\:\\:\\:\\:\\forall r \\forall t\\\\\n",
    "\\end{align*}"
   ]
  },
  {
   "cell_type": "code",
   "execution_count": null,
   "id": "94c7cbe3-8ede-4c2f-8db1-f03fb97751cc",
   "metadata": {},
   "outputs": [],
   "source": [
    "x = gppd.add_vars(model_opt, index_region_time, name = 'supply')\n",
    "x"
   ]
  },
  {
   "cell_type": "code",
   "execution_count": null,
   "id": "9b1aecad-42de-498e-996d-8a72fdd68c26",
   "metadata": {},
   "outputs": [],
   "source": [
    "# manually it is necesary to define. Next use a for to run across all the set\n",
    "x.loc['Great_Lakes', 't2'] - x.loc['Great_Lakes', 't1']"
   ]
  },
  {
   "cell_type": "code",
   "execution_count": null,
   "id": "f0e3affb-e563-4fe9-a36c-6be152c8bfed",
   "metadata": {},
   "outputs": [],
   "source": []
  }
 ],
 "metadata": {
  "kernelspec": {
   "display_name": "Python 3 (ipykernel)",
   "language": "python",
   "name": "python3"
  },
  "language_info": {
   "codemirror_mode": {
    "name": "ipython",
    "version": 3
   },
   "file_extension": ".py",
   "mimetype": "text/x-python",
   "name": "python",
   "nbconvert_exporter": "python",
   "pygments_lexer": "ipython3",
   "version": "3.10.14"
  }
 },
 "nbformat": 4,
 "nbformat_minor": 5
}
