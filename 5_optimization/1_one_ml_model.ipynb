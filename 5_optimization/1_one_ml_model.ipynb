{
 "cells": [
  {
   "cell_type": "markdown",
   "id": "ec518247-2417-4eb6-bbde-41b6d6d3bc2a",
   "metadata": {},
   "source": [
    "# Gurobi optimization using one machine learning model\n",
    "## Optimize for Price and Supply of Avocados\n",
    "\n",
    "- In this example is only linear regressions, but gurobi machine learning acept multiple models. Documentation **\"gurobi-machinelearning\"**\n",
    "\n",
    "https://gurobi-machinelearning.readthedocs.io/en/stable/api.html\n",
    "\n",
    "\n",
    "- In addition, to define the decision variables, parameters, restriction, etc of the optimization model are used **\"gurobipy-pandas\"**. Using this package is possible define the optimization model using pandas DataFrames\n",
    "\n",
    "https://gurobipy-pandas.readthedocs.io/en/stable/"
   ]
  },
  {
   "cell_type": "code",
   "execution_count": null,
   "id": "f13dc83a-84fa-43c6-a95f-9950d3f5f061",
   "metadata": {},
   "outputs": [],
   "source": [
    "import pickle\n",
    "import pandas as pd\n",
    "import numpy as np\n",
    "\n",
    "#gurobi\n",
    "import gurobipy_pandas as gppd\n",
    "from gurobi_ml import add_predictor_constr\n",
    "import gurobipy as gp"
   ]
  },
  {
   "cell_type": "code",
   "execution_count": null,
   "id": "fe000d94-8818-46fa-aad1-8f4ec76e9877",
   "metadata": {},
   "outputs": [],
   "source": []
  },
  {
   "cell_type": "markdown",
   "id": "d81b8287-8b66-4e5d-b1c1-a8bbc8c3a3f4",
   "metadata": {},
   "source": [
    "### 0. Root repo"
   ]
  },
  {
   "cell_type": "code",
   "execution_count": null,
   "id": "00faa458-a860-4445-84c0-2d7eb32102b9",
   "metadata": {},
   "outputs": [],
   "source": [
    "import os\n",
    "# fix root path to save outputs\n",
    "actual_path = os.path.abspath(os.getcwd())\n",
    "list_root_path = actual_path.split('\\\\')[:-1]\n",
    "root_path = '\\\\'.join(list_root_path)\n",
    "os.chdir(root_path)\n",
    "print('root path: ', root_path)"
   ]
  },
  {
   "cell_type": "code",
   "execution_count": null,
   "id": "699469b7-d017-4df8-9339-ddd7c6c9f508",
   "metadata": {},
   "outputs": [],
   "source": []
  },
  {
   "cell_type": "markdown",
   "id": "a88d5cfa-efee-436f-9f30-696a23517824",
   "metadata": {},
   "source": [
    "## PREPARATION"
   ]
  },
  {
   "cell_type": "markdown",
   "id": "9279de0e-974a-4aff-9967-3e3e3554791e",
   "metadata": {},
   "source": [
    "### 1. Load data needs to use\n",
    "In this example data is loaded because it is necesary to generate parameters of optimization model"
   ]
  },
  {
   "cell_type": "code",
   "execution_count": null,
   "id": "4878f497-6db5-4101-b237-d15d80614ea2",
   "metadata": {},
   "outputs": [],
   "source": [
    "# read data that have all the units sold for each region\n",
    "path_data_basic_features = 'artifacts/data/data_basic_features.pkl'\n",
    "data_units_sold = pd.read_pickle(path_data_basic_features)"
   ]
  },
  {
   "cell_type": "code",
   "execution_count": null,
   "id": "64d13119-ce3c-45f0-92ef-b224afa0448d",
   "metadata": {},
   "outputs": [],
   "source": [
    "##### use data to generate parameters for optimization model\n",
    "\n",
    "# min, max deliry each region\n",
    "data_min_delivery = data_units_sold.groupby(\"region\")[\"units_sold\"].min().rename('min_delivery')\n",
    "data_max_delivery = data_units_sold.groupby(\"region\")[\"units_sold\"].max().rename('max_delivery')\n",
    "\n",
    "# historical distribution of price each region\n",
    "data_historical_max_price = data_units_sold.groupby(\"region\")[\"price\"].max().rename('max_price')"
   ]
  },
  {
   "cell_type": "code",
   "execution_count": null,
   "id": "2b34d060-e03e-41e5-bb14-b914d886d121",
   "metadata": {},
   "outputs": [],
   "source": []
  },
  {
   "cell_type": "markdown",
   "id": "dad1fc4c-2849-4383-a5c5-13ab26ceb5e5",
   "metadata": {},
   "source": [
    "### 2. Load model machine learning\n",
    "Load model that given an input (price and other features) predict the price.\n",
    "\n",
    "The model was trained in the notebook \"models/1_basic_features_one_lr\""
   ]
  },
  {
   "cell_type": "code",
   "execution_count": null,
   "id": "561f5640-ebbe-46ef-8255-0afab5472be2",
   "metadata": {},
   "outputs": [],
   "source": [
    "# folder\n",
    "path_folder_artifacts = 'artifacts/models/1_basic_features_one_lr/'\n",
    "\n",
    "# path to save\n",
    "name_artifact_model = 'model.pkl'\n",
    "path_artifact_model = path_folder_artifacts + name_artifact_model\n",
    "\n",
    "# load model\n",
    "with open(path_artifact_model, 'rb') as artifact:\n",
    "    model = pickle.load(artifact)\n",
    "\n",
    "model"
   ]
  },
  {
   "cell_type": "code",
   "execution_count": null,
   "id": "f2bebd2b-7e07-4f81-8ad1-bebf5fed04a3",
   "metadata": {},
   "outputs": [],
   "source": []
  },
  {
   "cell_type": "code",
   "execution_count": null,
   "id": "d1484ac9-0400-4c84-a089-f1649036add1",
   "metadata": {},
   "outputs": [],
   "source": []
  },
  {
   "cell_type": "code",
   "execution_count": null,
   "id": "cbeba7b5-9d88-4b1f-a8f3-8b49a03212d2",
   "metadata": {},
   "outputs": [],
   "source": []
  },
  {
   "cell_type": "markdown",
   "id": "dec2d181-1424-455f-b7a1-2b35ad47fbfa",
   "metadata": {},
   "source": [
    "## RUN OPTIMIZATION"
   ]
  },
  {
   "cell_type": "markdown",
   "id": "03bcf94f-2240-4a7a-a6d4-76d869e86a19",
   "metadata": {},
   "source": [
    "### 0. Load transversal params - sets of optimization model\n",
    "Transversal all codes, not only this code. For example order in features in the data.\n",
    "\n",
    "Save the sets of optimization model as pandas index"
   ]
  },
  {
   "cell_type": "code",
   "execution_count": null,
   "id": "92e27017-176c-4017-ab0e-d974eefe8d2d",
   "metadata": {},
   "outputs": [],
   "source": [
    "list_regions = ['Great_Lakes',\n",
    "                'Midsouth',\n",
    "                'Northeast',\n",
    "                'Northern_New_England',\n",
    "                'Plains',\n",
    "                'SouthCentral',\n",
    "                'Southeast',\n",
    "                'West']\n",
    "regions = list_regions\n",
    "\n",
    "regions"
   ]
  },
  {
   "cell_type": "code",
   "execution_count": null,
   "id": "c3f7bd84-3fd6-4fa3-a062-6f1954b52e15",
   "metadata": {},
   "outputs": [],
   "source": [
    "# generate a pandas index with the values of the regions. This works as sets of optimization model\n",
    "index_regions = pd.Index(regions)"
   ]
  },
  {
   "cell_type": "code",
   "execution_count": null,
   "id": "39afd60b-4b57-4787-b53e-ac03d869af21",
   "metadata": {},
   "outputs": [],
   "source": []
  },
  {
   "cell_type": "markdown",
   "id": "3857e7c6-5f08-4220-a4a3-571f29ee9ab1",
   "metadata": {},
   "source": [
    "### 1. Create guroby optimization model"
   ]
  },
  {
   "cell_type": "code",
   "execution_count": null,
   "id": "d0be0947-0bd6-4f6b-8f12-a9bd8c2ca3ef",
   "metadata": {},
   "outputs": [],
   "source": [
    "# env = gp.Env(params=params)\n",
    "\n",
    "#Create the model within the Gurobi environment\n",
    "m = gp.Model(name = \"Avocado_Price_Allocation\")"
   ]
  },
  {
   "cell_type": "code",
   "execution_count": null,
   "id": "bdd2ced3-f0fc-45cb-9937-e13280af8a48",
   "metadata": {},
   "outputs": [],
   "source": []
  },
  {
   "cell_type": "markdown",
   "id": "97dec9f4-559b-40dd-98a7-4e4e9fa29cf0",
   "metadata": {},
   "source": [
    "### 2. Upper bounds and lower bounds of decision variables\n",
    "Values that are boundss in decision variables. In gurobi the upper and lower boundss could be defined in the same moment that variables are created and not are defined as restrictions explicitly \n",
    "\n",
    "- $a_{min},a_{max}$: minimum and maximum price ($\\$$) per avocado (price is a input of machine learning model)\n",
    "- $b^r_{min},b^r_{max}$: minimum and maximum number of avocados allocated to region $r$"
   ]
  },
  {
   "cell_type": "code",
   "execution_count": null,
   "id": "29d7894e-3713-4894-ad04-9a9d34935291",
   "metadata": {},
   "outputs": [],
   "source": [
    "# a_min, a_max: min and max price of product A\n",
    "a_min = 0\n",
    "a_max = 2\n",
    "\n",
    "\n",
    "# b_min(r), b_max(r): min and max historical products send to each region (value get from historical data)\n",
    "b_min = data_min_delivery\n",
    "b_max = data_max_delivery"
   ]
  },
  {
   "cell_type": "code",
   "execution_count": null,
   "id": "8d1e1404-438a-4ec2-9d53-ad90e0015d79",
   "metadata": {},
   "outputs": [],
   "source": []
  },
  {
   "cell_type": "markdown",
   "id": "71476d65-cbb9-4c58-8fbf-48c6bc0a6bae",
   "metadata": {},
   "source": [
    "### 3. Input parameters of optimization model\n",
    "##### That are not decision variables either parameters of machine learning model)\n",
    "\n",
    "**Set**\n",
    "- $r$ : will be used to denote each region\n",
    "\n",
    "\n",
    "**Parameters Optimization Model**\n",
    "- $B$: available avocados to be distributed across the regions.Total amount of avocado supply\n",
    "\n",
    "- $c_{waste}$: cost ($\\$$) per wasted avocado\n",
    "\n",
    "- $c^r_{transport}$: cost ($\\$$) of transporting a avocado to region $r$"
   ]
  },
  {
   "cell_type": "code",
   "execution_count": null,
   "id": "99fa181c-08e1-4a07-a0a6-85ecffcbf27b",
   "metadata": {},
   "outputs": [],
   "source": [
    "# B: supply product\n",
    "B = 30 \n",
    "\n",
    "\n",
    "# c_waste: cost of waste product\n",
    "c_waste = 0.1\n",
    "\n",
    "\n",
    "# c_transport(r): cost transport for each region\n",
    "c_transport = pd.Series(\n",
    "    {\n",
    "        \"Great_Lakes\": 0.3,\n",
    "        \"Midsouth\": 0.1,\n",
    "        \"Northeast\": 0.4,\n",
    "        \"Northern_New_England\": 0.5,\n",
    "        \"SouthCentral\": 0.3,\n",
    "        \"Southeast\": 0.2,\n",
    "        \"West\": 0.2,\n",
    "        \"Plains\": 0.2,\n",
    "    }, name='transport_cost')\n",
    "c_transport = c_transport.loc[regions]"
   ]
  },
  {
   "cell_type": "code",
   "execution_count": null,
   "id": "fbc26f12-9f19-422a-9986-d0e2eeee1171",
   "metadata": {},
   "outputs": [],
   "source": []
  },
  {
   "cell_type": "markdown",
   "id": "c11376a0-0796-4e1c-9c56-5f89e6cbc283",
   "metadata": {},
   "source": [
    "### 4. Features input machine learning model fixed (that are not decision variables or parameters in optimization model)\n",
    "Define the features that are inputs of machine learning model that are not decision variables of optimization model (so this values doesn't change). And also, this features that are not parameters of optimization model, so this values are not used in the restrictions"
   ]
  },
  {
   "cell_type": "code",
   "execution_count": null,
   "id": "82268367-4e18-4ae7-9eb7-ea827037e9fe",
   "metadata": {},
   "outputs": [],
   "source": [
    "# seasonality: 1 if it is the peak season; 0 if isn't\n",
    "peak_or_not = 0\n",
    "peak_or_not"
   ]
  },
  {
   "cell_type": "code",
   "execution_count": null,
   "id": "1726e100-16d3-4f82-9372-5dcebeded641",
   "metadata": {},
   "outputs": [],
   "source": [
    "# list of regions\n",
    "regions # in this example the regions is also a feature of machine learning model - and we want to know the price for each region(r)"
   ]
  },
  {
   "cell_type": "code",
   "execution_count": null,
   "id": "615bf8fd-3999-403b-85da-4b84ba3d9de2",
   "metadata": {},
   "outputs": [],
   "source": [
    "# generate a dataframe with the \"fixed\" features of optimization model. \n",
    "# This is an instance of machine learning model. In this part only have the features that have fixed values for this optimization\n",
    "instance_ml_model = pd.DataFrame(\n",
    "    data={\n",
    "        \"peak\": peak_or_not,\n",
    "        \"region\": regions,\n",
    "    },\n",
    "    index=regions\n",
    ")\n",
    "instance_ml_model"
   ]
  },
  {
   "cell_type": "code",
   "execution_count": null,
   "id": "f27f2ed8-d4fe-4122-ae6c-02c6a518ccb2",
   "metadata": {},
   "outputs": [],
   "source": []
  },
  {
   "cell_type": "markdown",
   "id": "e03f732d-f128-461c-b30d-2f6908fbcbad",
   "metadata": {},
   "source": [
    "### 5. Decision variables of optimization model\n",
    "\n",
    "Let us now define the decision variables. In our model, we want to store the price and number of avocados allocated to each region. We also want variables that track how many avocados are predicted to be sold and how many are predicted to be wasted. \n",
    "\n",
    "- $p(r)$ the price of an avocado ($\\$$) in each region. The maxium price. It is a feature of machine learning model\n",
    "- $x(r)$ the number of avocados supplied to each region\n",
    "- $s(r)$ the predicted number of avocados sold in each region\n",
    "- $u(r)$ the predicted number of avocados unsold (wasted) in each region\n",
    "- $d(r)$ the predicted demand in each region. It is the target of machine learning model (because this value change according the input, it is a decision variable)\n",
    "\n",
    "All those variables are created using gurobipy-pandas, with the function `gppd.add_vars`. To use this function it is necessary to define:\n",
    "- model: optimization model of gurobi\n",
    "- index: pandas index. With this index it can defined the sets of the decision variables\n",
    "- name: name of the decision variable\n",
    "- Example: x = gppd.add_vars(model, index, name=\"x\")"
   ]
  },
  {
   "cell_type": "code",
   "execution_count": null,
   "id": "8145e863-8cc2-4492-b00d-2d0a48e97a4a",
   "metadata": {},
   "outputs": [],
   "source": [
    "# p(r): price. feature of machine learning model\n",
    "p = gppd.add_vars(m, index_regions, name = \"price\", lb = a_min, ub = a_max) # bounds prices\n",
    "\n",
    "\n",
    "# x(r): supply\n",
    "x = gppd.add_vars(m, index_regions, name = \"x\", lb = b_min, ub= b_max) # bounds supply - using historical data\n",
    "\n",
    "\n",
    "# s(r): solds given a certain price\n",
    "s = gppd.add_vars(m, index_regions, name = \"s\")\n",
    "\n",
    "\n",
    "# u(r): inventary. units not sold. waste.\n",
    "u = gppd.add_vars(m, index_regions, name = \"w\") \n",
    "\n",
    "\n",
    "# d(r): demand. output of machine learning model\n",
    "d = gppd.add_vars(m, index_regions, lb = -gp.GRB.INFINITY, name = \"demand\") # BY DEFULT LOWER BOUND IS ZERO\n",
    "\n"
   ]
  },
  {
   "cell_type": "code",
   "execution_count": null,
   "id": "482862f5-f10d-4f25-89e3-35f40da40bf7",
   "metadata": {},
   "outputs": [],
   "source": []
  },
  {
   "cell_type": "markdown",
   "id": "6455507f-2965-48c4-adb4-338b1b80e6f3",
   "metadata": {},
   "source": [
    "### 6. Constraints (constraints that are not generated by a ml model)"
   ]
  },
  {
   "cell_type": "markdown",
   "id": "18b2d0d5-e11b-488e-ae0a-308d5cf2fa24",
   "metadata": {},
   "source": [
    "#### 6.1 Add the Supply Constraint\n",
    "Make sure that the total number of avocados supplied is equal to $B$\n",
    "\\begin{align*} \\sum_{r} x_r &= B \\end{align*}"
   ]
  },
  {
   "cell_type": "code",
   "execution_count": null,
   "id": "8a4a1bc4-69a7-46eb-a3d7-c704aa92f8ce",
   "metadata": {},
   "outputs": [],
   "source": [
    "# SAVE THE CONSTRAINT IN A PYTHON VARIABLE\n",
    "supply_constraint = m.addConstr(x.sum() == B)"
   ]
  },
  {
   "cell_type": "code",
   "execution_count": null,
   "id": "ba76c908-cc90-49ac-ab6a-0faca4d33db3",
   "metadata": {},
   "outputs": [],
   "source": [
    "supply_constraint # OBS IN THIS EXAMPLE THE CONSTRAINT IS SAVED IN PYTHON VARIABLE - it is not neccesary - only for debugging it is a little useful"
   ]
  },
  {
   "cell_type": "code",
   "execution_count": null,
   "id": "ff0332cd-6b5c-40e3-b199-769b51e10eb9",
   "metadata": {},
   "outputs": [],
   "source": [
    "# see constraint\n",
    "m.update()\n",
    "m.getRow(supply_constraint)"
   ]
  },
  {
   "cell_type": "code",
   "execution_count": null,
   "id": "efd7cd40-1069-47e3-9ec8-28fcfc2df5e7",
   "metadata": {},
   "outputs": [],
   "source": []
  },
  {
   "cell_type": "markdown",
   "id": "4c27c9c0-0102-43ae-ab72-9078efa810b2",
   "metadata": {},
   "source": [
    "#### 6.2 Add Constraints That Define Sales Quantity\n",
    "The sales quantity is the minimum of the allocated quantity and the predicted demand, i.e., $s_r = \\min \\{x_r,d_r(p_r)\\}$ This relationship can be modeled by the following two constraints for each region $r$.\n",
    "\n",
    "\\begin{align*} s_r &\\leq x_r                \\:\\:\\:\\:\\forall r\\\\\n",
    "s_r &\\leq d(p_r,r)                   \\:\\:\\:\\:\\forall r\\end{align*}"
   ]
  },
  {
   "cell_type": "code",
   "execution_count": null,
   "id": "956b018f-7d6a-431b-ac79-8d5dcde4a026",
   "metadata": {},
   "outputs": [],
   "source": [
    "gppd.add_constrs(m, s, gp.GRB.LESS_EQUAL, x) # for each region (8 constraints)\n",
    "gppd.add_constrs(m, s, gp.GRB.LESS_EQUAL, d)\n",
    "# add_constrs: write the constraint with left side, \"operator\", right side"
   ]
  },
  {
   "cell_type": "code",
   "execution_count": null,
   "id": "e5fb265b-b42c-4585-9ada-aeb027585264",
   "metadata": {},
   "outputs": [],
   "source": []
  },
  {
   "cell_type": "markdown",
   "id": "d2b3f1c9-7df1-434c-af68-f2674687879a",
   "metadata": {},
   "source": [
    "#### 6.3 Add the Wastage Constraints\n",
    "Define the predicted unsold number of avocados in each region, given by the supplied quantity that is not sold. For each region $r$.\n",
    "\n",
    "\\begin{align*} u_r &= x_r - s_r                 \\:\\:\\:\\:\\forall r\\end{align*}"
   ]
  },
  {
   "cell_type": "code",
   "execution_count": null,
   "id": "37157007-53d2-4a67-a49c-6650581bda74",
   "metadata": {},
   "outputs": [],
   "source": [
    "gppd.add_constrs(m, u, gp.GRB.EQUAL, x - s, name = 'waste_constraint') # OBS IN THIS EXAMPLE THE CONSTRAINT IS DEFINED WITH A NAME - it is useful"
   ]
  },
  {
   "cell_type": "code",
   "execution_count": null,
   "id": "61b7e0a6-df14-4be4-bb8c-1c1bf538841c",
   "metadata": {},
   "outputs": [],
   "source": []
  },
  {
   "cell_type": "markdown",
   "id": "5a352dea-e529-46aa-b73f-fa32674fc44c",
   "metadata": {},
   "source": [
    "#### 6.4 Model update - add the constraint to gurobi model"
   ]
  },
  {
   "cell_type": "code",
   "execution_count": null,
   "id": "8319cc65-385b-4ab3-b0b8-ddfc01eb9e9c",
   "metadata": {},
   "outputs": [],
   "source": [
    "m.update()"
   ]
  },
  {
   "cell_type": "code",
   "execution_count": null,
   "id": "f4ac9d38-9a84-4942-9f46-833c404b41bd",
   "metadata": {},
   "outputs": [],
   "source": [
    "### show all decision variables - debugging problems - validate after compile decision varaibles\n",
    "#p.gppd.VarName  # see name\n",
    "p.gppd.ub # upper bound\n",
    "#p.gppd.lb # lowe bound\n",
    "\n",
    "#p.gbpd.X # see value of decision variable - only works after optimization"
   ]
  },
  {
   "cell_type": "code",
   "execution_count": null,
   "id": "39600f1d-e68c-4e88-ae76-30950b3826e6",
   "metadata": {},
   "outputs": [],
   "source": [
    "m"
   ]
  },
  {
   "cell_type": "code",
   "execution_count": null,
   "id": "f772ccd9-1cf9-4c32-b2cb-1030352347ac",
   "metadata": {},
   "outputs": [],
   "source": []
  },
  {
   "cell_type": "markdown",
   "id": "d00c9c20-5457-4875-bb44-558c4e010ea4",
   "metadata": {},
   "source": [
    "### 7. Add constraints that are machine learning models"
   ]
  },
  {
   "cell_type": "markdown",
   "id": "8d4b9417-f114-487b-92d7-da0dd8f8a1fe",
   "metadata": {},
   "source": [
    "#### 7.1 predict demand - generate instance dataframe\n",
    "\n",
    "First, we create our full input for the predictor constraint. We concatenate the `p` variables and the fixed features"
   ]
  },
  {
   "cell_type": "code",
   "execution_count": null,
   "id": "0fb5042e-ff52-49a0-b800-1e9ea32a9671",
   "metadata": {},
   "outputs": [],
   "source": [
    "## generate a pandas instance for machine learning model\n",
    "\n",
    "m_instance_ml_model = pd.concat([instance_ml_model, p], axis=1) # generate instance for optimization model\n",
    "list_features = ['region', 'peak', 'price'] # list of the order of the features used to train the ml model\n",
    "m_instance_ml_model = m_instance_ml_model[list_features] # sort instance with the correct order\n",
    "m_instance_ml_model"
   ]
  },
  {
   "cell_type": "code",
   "execution_count": null,
   "id": "05f1ec81-a8c3-497b-b6c2-6a18429c3b54",
   "metadata": {},
   "outputs": [],
   "source": []
  },
  {
   "cell_type": "markdown",
   "id": "c9929ac1-18fb-4ebe-9a48-79bf85bcfd1c",
   "metadata": {},
   "source": [
    "#### 7.2 predict demand - generate machine learning constraint\n",
    "Call\n",
    "[add_predictor_constr](https://gurobi-machinelearning.readthedocs.io/en/stable/auto_generated/gurobi_ml.add_predictor_constr.html)\n",
    "to insert the constraints linking the features and the demand into the model `m`.\n",
    "\n",
    "It is important that you keep the columns in the order above, otherwise you will see an error. The columns must be in the same order as the training data.\n",
    "\n",
    "Obs: to add this constraints the way is little different and it is not neccesary call model.update()\n",
    "\n",
    "**Documentation - parameters**\n",
    "\n",
    "- gp_model (gurobipy model) – The gurobipy model where the predictor should be inserted.\n",
    "\n",
    "- predictor – The predictor to insert.\n",
    "\n",
    "- input_vars (mvar_array_like) – Decision variables used as input for predictor in gp_model.\n",
    "\n",
    "- output_vars (mvar_array_like, optional) – Decision variables used as output for predictor in gp_model."
   ]
  },
  {
   "cell_type": "code",
   "execution_count": null,
   "id": "b0ba2154-5a39-49d8-bd38-6e7ec05a54c2",
   "metadata": {},
   "outputs": [],
   "source": [
    "## add model to predict the demand for each region with the SAME MODEL\n",
    "pred_constr = add_predictor_constr(gp_model = m, \n",
    "                                   predictor = model, \n",
    "                                   input_vars = m_instance_ml_model, \n",
    "                                   output_vars = d\n",
    "                                  )"
   ]
  },
  {
   "cell_type": "code",
   "execution_count": null,
   "id": "e0f9a9dc-1a34-43d3-9593-379b35744513",
   "metadata": {},
   "outputs": [],
   "source": [
    "pred_constr.print_stats()"
   ]
  },
  {
   "cell_type": "code",
   "execution_count": null,
   "id": "9ced6840-7557-4a6a-a324-21a1c29bb5c3",
   "metadata": {},
   "outputs": [],
   "source": [
    "m"
   ]
  },
  {
   "cell_type": "code",
   "execution_count": null,
   "id": "41aad436-b673-4c07-a934-af91312691c2",
   "metadata": {},
   "outputs": [],
   "source": []
  },
  {
   "cell_type": "markdown",
   "id": "eae2618c-b69f-4c54-b63b-91ea6a0f6c56",
   "metadata": {},
   "source": [
    "### 8. Define Objetive Function\n",
    "The goal is to maximize the **net revenue**, which is the product of price and quantity, minus costs over all regions. This model assumes the purchase costs are fixed (since the amount $B$ is fixed) and are therefore not incorporated.\n",
    "\n",
    "\\begin{align} \\textrm{maximize} &  \\sum_{r}  (p_r * s_r - c_{waste} * u_r -\n",
    "c^r_{transport} * x_r)& \\end{align}"
   ]
  },
  {
   "cell_type": "code",
   "execution_count": null,
   "id": "062427d8-df20-45bb-be94-869cde638c9f",
   "metadata": {},
   "outputs": [],
   "source": [
    "m.setObjective((p * s).sum() - c_waste * u.sum() - (c_transport * x).sum(),\n",
    "               gp.GRB.MAXIMIZE)"
   ]
  },
  {
   "cell_type": "code",
   "execution_count": null,
   "id": "6b02898c-4b8a-4db7-a689-57a3af81904f",
   "metadata": {},
   "outputs": [],
   "source": []
  },
  {
   "cell_type": "markdown",
   "id": "14bfbd7e-ff7a-48b6-8dab-5d5c8e832f8c",
   "metadata": {},
   "source": [
    "### 9. Solve optimization problem\n",
    "The objective is **quadratic** since we take the product of price and the predicted sales, both of which are variables. Maximizing a quadratic\n",
    "term is said to be **non-convex**, and we specify this by setting the value of the [Gurobi NonConvex\n",
    "parameter](https://www.gurobi.com/documentation/10.0/refman/nonconvex.html) to be $2$."
   ]
  },
  {
   "cell_type": "markdown",
   "id": "d35e6d5e-ee76-413e-a02b-6f45d14c382b",
   "metadata": {},
   "source": [
    "#### 9.1 Solve optimization problem"
   ]
  },
  {
   "cell_type": "code",
   "execution_count": null,
   "id": "b645dcf1-b3bc-4a78-947d-294263bc5acd",
   "metadata": {},
   "outputs": [],
   "source": [
    "# solve cuadratic problems\n",
    "m.Params.NonConvex = 2"
   ]
  },
  {
   "cell_type": "code",
   "execution_count": null,
   "id": "d524177d-48cd-4252-b31c-c19c4a03bb36",
   "metadata": {},
   "outputs": [],
   "source": [
    "# solve\n",
    "m.optimize()"
   ]
  },
  {
   "cell_type": "code",
   "execution_count": null,
   "id": "ff71e1ec-465c-4cb0-8517-16aae8675d0a",
   "metadata": {},
   "outputs": [],
   "source": [
    "#### know the status of the model - 2 a optimal solution was founded\n",
    "# docu: https://www.gurobi.com/documentation/current/refman/optimization_status_codes.html#sec:StatusCodes\n",
    "m.Status"
   ]
  },
  {
   "cell_type": "code",
   "execution_count": null,
   "id": "b54e4944-8471-4659-9747-49ecf5b782ec",
   "metadata": {},
   "outputs": [],
   "source": []
  },
  {
   "cell_type": "markdown",
   "id": "35408af3-867e-42b7-8191-8b58e237205b",
   "metadata": {},
   "source": [
    "#### 9.2 Save optimal values in a dataframe\n",
    "To get the optimal values of decision variables it is neccesary call \"var.gppd.X\""
   ]
  },
  {
   "cell_type": "code",
   "execution_count": null,
   "id": "92c62a68-2364-456c-af2f-792908179173",
   "metadata": {},
   "outputs": [],
   "source": [
    "# create dataframe with index\n",
    "solution = pd.DataFrame(index=index_regions)\n",
    "\n",
    "# save optimal values\n",
    "solution[\"Price\"] = p.gppd.X\n",
    "solution[\"Historical_Max_Price\"] = data_historical_max_price  # this is informative value get from historical data\n",
    "solution[\"Allocated\"] = x.gppd.X\n",
    "solution[\"Sold\"] = s.gppd.X\n",
    "solution[\"Wasted\"] = u.gppd.X\n",
    "solution[\"Pred_demand\"] = d.gppd.X\n",
    "\n",
    "# round values\n",
    "solution = solution.round(3)\n",
    "\n",
    "\n",
    "# get value objetive function\n",
    "opt_revenue = m.ObjVal"
   ]
  },
  {
   "cell_type": "code",
   "execution_count": null,
   "id": "c542883a-f36d-4efb-a187-601c93760cf9",
   "metadata": {},
   "outputs": [],
   "source": [
    "# show value objetive function\n",
    "print(\"\\n The optimal net revenue: $%f million\" % opt_revenue)"
   ]
  },
  {
   "cell_type": "code",
   "execution_count": null,
   "id": "2f72543c-2194-4d7c-acf4-567924fa962c",
   "metadata": {},
   "outputs": [],
   "source": [
    "# show value decision variables\n",
    "solution"
   ]
  },
  {
   "cell_type": "markdown",
   "id": "11f207fe-ee4c-4a17-81c7-fd817fe5e6f6",
   "metadata": {},
   "source": [
    "We can also check the error in the estimate of the Gurobi solution for the regression model."
   ]
  },
  {
   "cell_type": "code",
   "execution_count": null,
   "id": "02c1c2a3-5acd-4f78-bc23-ce45f71d909c",
   "metadata": {},
   "outputs": [],
   "source": [
    "print(\n",
    "    \"Maximum error in approximating the regression {:.6}\".format(\n",
    "        np.max(pred_constr.get_error())\n",
    "    )\n",
    ")"
   ]
  },
  {
   "cell_type": "code",
   "execution_count": null,
   "id": "81704fed-ae72-49f8-880c-99ccd1adf5c7",
   "metadata": {},
   "outputs": [],
   "source": []
  },
  {
   "cell_type": "code",
   "execution_count": null,
   "id": "5dfcc5cc-97c3-4544-95aa-21017aa264d4",
   "metadata": {},
   "outputs": [],
   "source": []
  },
  {
   "cell_type": "markdown",
   "id": "cf7307dd-e7f5-40ba-b7a9-bd8979885b7c",
   "metadata": {},
   "source": [
    "### 9.3 Show values of constraints\n",
    "\n",
    "DOCUMENTAITON: ATRIBUTES EACH CLASS GUROBI: https://www.gurobi.com/documentation/current/refman/attributes.html#sec:Attributes"
   ]
  },
  {
   "cell_type": "markdown",
   "id": "e4926901-7c1a-4f17-8b6f-38cfc7f0b147",
   "metadata": {},
   "source": [
    "#### 9.3.1 show constraint defined as python variable\n",
    "When a constraint is defined and added to optimization model, if the constraint is saved in a python variable, it is possible to see the value of an specif constraint"
   ]
  },
  {
   "cell_type": "code",
   "execution_count": null,
   "id": "fe8d4f3c-2ece-409a-8a7e-79cd48f6f405",
   "metadata": {},
   "outputs": [],
   "source": [
    "# show constraint after optimization\n",
    "supply_constraint"
   ]
  },
  {
   "cell_type": "code",
   "execution_count": null,
   "id": "68c3670f-76c9-4ec2-a9d8-c73a012cdda8",
   "metadata": {},
   "outputs": [],
   "source": [
    "supply_constraint.ConstrName"
   ]
  },
  {
   "cell_type": "code",
   "execution_count": null,
   "id": "6189b38d-0c31-481b-9e3f-6e04492e3501",
   "metadata": {},
   "outputs": [],
   "source": [
    "#### KNOW LEFT SIDE CONSTRAINT: https://support.gurobi.com/hc/en-us/articles/9424726080529-How-do-I-access-the-left-hand-side-of-a-constraint\n",
    "m.getRow(supply_constraint)"
   ]
  },
  {
   "cell_type": "code",
   "execution_count": null,
   "id": "894fb367-527f-42dd-84e0-a5897e5238a3",
   "metadata": {},
   "outputs": [],
   "source": [
    "# right side constraint\n",
    "supply_constraint.RHS"
   ]
  },
  {
   "cell_type": "code",
   "execution_count": null,
   "id": "b0fe3f8a-e85e-4d3f-8582-6a86cb1266fe",
   "metadata": {},
   "outputs": [],
   "source": [
    "# inequation constraint\n",
    "supply_constraint.Sense"
   ]
  },
  {
   "cell_type": "code",
   "execution_count": null,
   "id": "d5626bb3-3a1b-43d0-a940-8d6486bbb214",
   "metadata": {},
   "outputs": [],
   "source": []
  },
  {
   "cell_type": "markdown",
   "id": "6da9754e-2432-4488-bcfa-d71df4f7453a",
   "metadata": {},
   "source": [
    "#### 9.3.2 Show all constraints"
   ]
  },
  {
   "cell_type": "code",
   "execution_count": null,
   "id": "b87c3d6e-4ee0-4f3d-b1c7-28a80722f248",
   "metadata": {},
   "outputs": [],
   "source": [
    "m.getConstrs()"
   ]
  },
  {
   "cell_type": "code",
   "execution_count": null,
   "id": "5b5d4b7d-3176-4631-b62c-710b54952773",
   "metadata": {},
   "outputs": [],
   "source": [
    "m.getConstrs()[0]"
   ]
  },
  {
   "cell_type": "code",
   "execution_count": null,
   "id": "fa1dae9a-5d37-45d0-9f74-8bb5db3ba995",
   "metadata": {},
   "outputs": [],
   "source": []
  },
  {
   "cell_type": "code",
   "execution_count": null,
   "id": "d81613cd-814f-4a3f-9b72-7e5dce4dc7de",
   "metadata": {},
   "outputs": [],
   "source": []
  },
  {
   "cell_type": "markdown",
   "id": "b950f039-f30a-408a-81cc-f4e1f8234da8",
   "metadata": {},
   "source": [
    "#### 9.3.3 show constraint by name\n",
    "Get atributes of constraint by the name of the constraint"
   ]
  },
  {
   "cell_type": "code",
   "execution_count": null,
   "id": "682c1833-c29c-46a4-a642-e6bbfd16464f",
   "metadata": {},
   "outputs": [],
   "source": [
    "# define a name of constraint to get its values\n",
    "constraint_example_name = 'waste_constraint[Midsouth]' # the name of constraint and the region"
   ]
  },
  {
   "cell_type": "code",
   "execution_count": null,
   "id": "a1d227f5-1618-4743-8548-bedca8cd6b17",
   "metadata": {},
   "outputs": [],
   "source": [
    "# get an object gurobi.constr searching by name\n",
    "constraint_example = m.getConstrByName(constraint_example_name)"
   ]
  },
  {
   "cell_type": "code",
   "execution_count": null,
   "id": "50a7a949-559d-408d-a3b8-d4cd606e0a72",
   "metadata": {},
   "outputs": [],
   "source": [
    "# left side\n",
    "m.getRow(constraint_example)"
   ]
  },
  {
   "cell_type": "code",
   "execution_count": null,
   "id": "57a49249-4e02-40a0-aa6b-f3f9f6d95047",
   "metadata": {},
   "outputs": [],
   "source": [
    "# right side\n",
    "constraint_example.RHS"
   ]
  },
  {
   "cell_type": "code",
   "execution_count": null,
   "id": "46709147-152d-4a21-9482-e117ef3ff42d",
   "metadata": {},
   "outputs": [],
   "source": [
    "# inequation\n",
    "m.getConstrByName('waste_constraint[Midsouth]').Sense"
   ]
  },
  {
   "cell_type": "code",
   "execution_count": null,
   "id": "49843c21-e9e3-4463-9a58-50e8de5c6cf5",
   "metadata": {},
   "outputs": [],
   "source": []
  },
  {
   "cell_type": "code",
   "execution_count": null,
   "id": "bbb4f0a4-dc89-4b9e-9001-e203ccac048f",
   "metadata": {},
   "outputs": [],
   "source": [
    "### example model constraint"
   ]
  },
  {
   "cell_type": "code",
   "execution_count": null,
   "id": "59c9eecb-0df9-4ef3-834d-819da2b74410",
   "metadata": {},
   "outputs": [],
   "source": [
    "m.getRow(m.getConstrByName('pipe.lin_reg.linreg[0,0]'))"
   ]
  },
  {
   "cell_type": "code",
   "execution_count": null,
   "id": "368a7ee0-1648-4f92-a692-23eacf1efc3d",
   "metadata": {},
   "outputs": [],
   "source": [
    "m.getConstrByName('pipe.lin_reg.linreg[0,0]').Sense"
   ]
  },
  {
   "cell_type": "code",
   "execution_count": null,
   "id": "98a1ed24-c70d-41d3-ad23-6268443f9865",
   "metadata": {},
   "outputs": [],
   "source": [
    "m.getConstrByName('pipe.lin_reg.linreg[0,0]').RHS"
   ]
  },
  {
   "cell_type": "code",
   "execution_count": null,
   "id": "c128736c-be99-45f8-8705-e01f4a6d2c26",
   "metadata": {},
   "outputs": [],
   "source": [
    "m.getConstrByName('pipe.lin_reg.linreg[0,0]').Slack"
   ]
  },
  {
   "cell_type": "code",
   "execution_count": null,
   "id": "be549133-7616-4a70-a83c-6c91fa1d2758",
   "metadata": {},
   "outputs": [],
   "source": []
  },
  {
   "cell_type": "markdown",
   "id": "b9acd4b2-d3cf-446a-85f3-5d413c2c9d0a",
   "metadata": {},
   "source": [
    "## Important question\n",
    "If it is a real use case, and I want to train different models more complex that the previous models, how I can to know the impact to have a better model (better metrics, upper r2 or lower rmse) in the output of optimization and get better values of optimal net revenue"
   ]
  },
  {
   "cell_type": "code",
   "execution_count": null,
   "id": "067c520e-d80a-4dbd-9e4c-951d66aa1fda",
   "metadata": {},
   "outputs": [],
   "source": []
  },
  {
   "cell_type": "code",
   "execution_count": null,
   "id": "a5824e9c-0c28-4480-b728-7567792cc502",
   "metadata": {},
   "outputs": [],
   "source": []
  },
  {
   "cell_type": "code",
   "execution_count": null,
   "id": "d9cc86cf-28be-4a6a-9b7b-73123e1f9ebf",
   "metadata": {},
   "outputs": [],
   "source": []
  }
 ],
 "metadata": {
  "kernelspec": {
   "display_name": "Python 3 (ipykernel)",
   "language": "python",
   "name": "python3"
  },
  "language_info": {
   "codemirror_mode": {
    "name": "ipython",
    "version": 3
   },
   "file_extension": ".py",
   "mimetype": "text/x-python",
   "name": "python",
   "nbconvert_exporter": "python",
   "pygments_lexer": "ipython3",
   "version": "3.10.14"
  }
 },
 "nbformat": 4,
 "nbformat_minor": 5
}
