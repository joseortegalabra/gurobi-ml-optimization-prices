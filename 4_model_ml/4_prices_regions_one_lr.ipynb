{
 "cells": [
  {
   "cell_type": "markdown",
   "id": "5c69babd-e9c7-4bf4-b240-88747bc0bcd6",
   "metadata": {},
   "source": [
    "## data basic features - train one linear regression model\n",
    "\n",
    "Content:\n",
    "- data: containt the data basic features (units_solds, peak) but in addition the feature prices is added with the prices of all regions. Also the data is splitted to train different models for each region\n",
    "\n",
    "- Model: artifact that contain the model and the feature engineering (previosly a feature engineering was done, but for example objetive, in this part a do more feature engineering and \"compile\" it with the model)\n",
    "\n",
    "- TRAIN ONLY ONE MODEL LR TO FIT ALL THE DATA FOR ALL REGIONS (no split the model)"
   ]
  },
  {
   "cell_type": "code",
   "execution_count": null,
   "id": "af6ac415-731b-44b7-8418-a03516908c3e",
   "metadata": {},
   "outputs": [],
   "source": [
    "import pandas as pd\n",
    "import numpy as np\n",
    "import matplotlib.pyplot as plt\n",
    "\n",
    "\n",
    "from sklearn.model_selection import train_test_split\n",
    "\n",
    "from sklearn.preprocessing import OneHotEncoder\n",
    "from sklearn.preprocessing import StandardScaler\n",
    "from sklearn.compose import make_column_transformer\n",
    "\n",
    "from sklearn.linear_model import LinearRegression\n",
    "from sklearn.model_selection import cross_val_score\n",
    "from sklearn.pipeline import make_pipeline\n",
    "\n",
    "from sklearn.metrics import r2_score\n",
    "from sklearn.metrics import mean_absolute_error\n",
    "from sklearn.metrics import mean_squared_error"
   ]
  },
  {
   "cell_type": "code",
   "execution_count": null,
   "id": "f0e0e64d-d0a2-489e-835c-c3f5a60fcde8",
   "metadata": {},
   "outputs": [],
   "source": []
  },
  {
   "cell_type": "markdown",
   "id": "265f1d63-d402-45b9-9be2-33234e21ff46",
   "metadata": {},
   "source": [
    "### 0. Root repo"
   ]
  },
  {
   "cell_type": "code",
   "execution_count": null,
   "id": "522e5074-c474-4a78-a9e1-d53c7ee7b031",
   "metadata": {},
   "outputs": [],
   "source": [
    "import os\n",
    "# fix root path to save outputs\n",
    "actual_path = os.path.abspath(os.getcwd())\n",
    "list_root_path = actual_path.split('\\\\')[:-1]\n",
    "root_path = '\\\\'.join(list_root_path)\n",
    "os.chdir(root_path)\n",
    "print('root path: ', root_path)"
   ]
  },
  {
   "cell_type": "code",
   "execution_count": null,
   "id": "ca62c0c0-8f47-4fd4-bb92-6bca8cf1845f",
   "metadata": {},
   "outputs": [],
   "source": []
  },
  {
   "cell_type": "markdown",
   "id": "a260d544-ebc9-42ec-924b-3c40478925e3",
   "metadata": {},
   "source": [
    "### 1. Read data"
   ]
  },
  {
   "cell_type": "code",
   "execution_count": null,
   "id": "f19dc4af-5538-49cc-9f22-49c40f6f6ae7",
   "metadata": {},
   "outputs": [],
   "source": [
    "path_data_prices_regions = 'artifacts/data/data_prices_regions.pkl'\n",
    "\n",
    "data = pd.read_pickle(path_data_prices_regions)\n",
    "\n",
    "data.head()"
   ]
  },
  {
   "cell_type": "code",
   "execution_count": null,
   "id": "fd2664a1-3466-4a7a-b7cd-4a536705db7e",
   "metadata": {},
   "outputs": [],
   "source": []
  },
  {
   "cell_type": "markdown",
   "id": "e1ea303b-b313-4695-a75b-b3b956825631",
   "metadata": {},
   "source": [
    "### 2. Generate X, y, list features, list segmentation data"
   ]
  },
  {
   "cell_type": "code",
   "execution_count": null,
   "id": "1206adb5-220b-4437-9ef7-7268ffe92cd4",
   "metadata": {},
   "outputs": [],
   "source": [
    "\"\"\" Create list regions \"\"\"\n",
    "list_regions = data['region'].unique().tolist()\n",
    "list_regions.sort()\n",
    "list_regions"
   ]
  },
  {
   "cell_type": "code",
   "execution_count": null,
   "id": "2ba0d06f-e919-497f-97bb-a2ca7e403e95",
   "metadata": {},
   "outputs": [],
   "source": [
    "\"\"\" Define features and target \"\"\"\n",
    "# target\n",
    "target = 'units_sold'\n",
    "list_target = [target]\n",
    "\n",
    "# list features - all variables in dataframe that are not target\n",
    "list_features = list(set(data.columns.tolist()) - set([target]))\n",
    "\n",
    "\n",
    "######  set manually list features\n",
    "list_columns_prices_regions = ['price_' + name_region for name_region in list_regions] # generate a list of all the columns of prices (prices for each region)\n",
    "list_columns_prices_regions = [column.lower() for column in list_columns_prices_regions]\n",
    "list_features = ['region'] + ['peak'] + list_columns_prices_regions # list features hardcoded\n",
    "\n",
    "\n",
    "print('list_features: ', list_features)\n",
    "print('list_target: ', list_target)"
   ]
  },
  {
   "cell_type": "code",
   "execution_count": null,
   "id": "ad9890c8-5af3-413b-9167-a0238b7a2fd5",
   "metadata": {},
   "outputs": [],
   "source": [
    "\"\"\" create data X - features // y - target \"\"\"\n",
    "data_X = data[list_features]\n",
    "data_y = data[list_target]"
   ]
  },
  {
   "cell_type": "code",
   "execution_count": null,
   "id": "7301e07e-1c05-4a40-a79e-9b3044dae64c",
   "metadata": {},
   "outputs": [],
   "source": [
    "data_X.head()"
   ]
  },
  {
   "cell_type": "code",
   "execution_count": null,
   "id": "697b4a03-650e-4d8c-9510-2adde34d3674",
   "metadata": {},
   "outputs": [],
   "source": [
    "data_y.head()"
   ]
  },
  {
   "cell_type": "code",
   "execution_count": null,
   "id": "83b61a1f-356d-4e5c-b0c5-3dc5f1ef8b1f",
   "metadata": {},
   "outputs": [],
   "source": []
  },
  {
   "cell_type": "code",
   "execution_count": null,
   "id": "e33033dd-fd8b-4941-b323-83ddc75bf9d7",
   "metadata": {},
   "outputs": [],
   "source": []
  },
  {
   "cell_type": "markdown",
   "id": "8520cf5a-a794-427d-be40-fb8773fed3ce",
   "metadata": {},
   "source": [
    "### 3. Split - train - test"
   ]
  },
  {
   "cell_type": "code",
   "execution_count": null,
   "id": "83be2179-2230-4af8-8061-fb71effd8649",
   "metadata": {},
   "outputs": [],
   "source": [
    "X_train, X_test, y_train, y_test = train_test_split(data_X, \n",
    "                                                    data_y, \n",
    "                                                    train_size = 0.7, \n",
    "                                                    random_state = 42\n",
    "                                                   )"
   ]
  },
  {
   "cell_type": "code",
   "execution_count": null,
   "id": "4502d599-135d-40df-8a54-3ee1bfd21076",
   "metadata": {},
   "outputs": [],
   "source": [
    "print('shapes')\n",
    "print('X_train: ', X_train.shape)\n",
    "print('y_train: ', y_train.shape)\n",
    "print('X_test: ', X_test.shape)\n",
    "print('y_test: ', y_test.shape)"
   ]
  },
  {
   "cell_type": "code",
   "execution_count": null,
   "id": "f241dcae-b49b-4d3e-b123-5c2eef9dca13",
   "metadata": {},
   "outputs": [],
   "source": [
    "X_train.head(2)"
   ]
  },
  {
   "cell_type": "code",
   "execution_count": null,
   "id": "fac5469c-e330-44fa-a016-2d7e7f586ba0",
   "metadata": {},
   "outputs": [],
   "source": [
    "y_train.head(2)"
   ]
  },
  {
   "cell_type": "code",
   "execution_count": null,
   "id": "99e3e895-5a44-4085-aa44-b0a5f07aa9f6",
   "metadata": {},
   "outputs": [],
   "source": [
    "X_test.head(2)"
   ]
  },
  {
   "cell_type": "code",
   "execution_count": null,
   "id": "b1f6a1c4-736b-43d7-9177-27d41496825d",
   "metadata": {},
   "outputs": [],
   "source": [
    "y_test.head(2)"
   ]
  },
  {
   "cell_type": "code",
   "execution_count": null,
   "id": "d52c02b4-864b-48d9-b6f5-cd0cee690b5c",
   "metadata": {},
   "outputs": [],
   "source": []
  },
  {
   "cell_type": "markdown",
   "id": "2538845d-1756-43df-9381-5612f6701004",
   "metadata": {},
   "source": [
    "### 4. Pipeline processing data\n",
    "- Region string, transform into categorical features\n",
    "- Peak ok\n",
    "- price normalize continuous variable"
   ]
  },
  {
   "cell_type": "code",
   "execution_count": null,
   "id": "7e9ea9d2-6386-46af-aef1-cab5207b8574",
   "metadata": {},
   "outputs": [],
   "source": [
    "# transformer data sklearn\n",
    "feat_transform = make_column_transformer(\n",
    "    (OneHotEncoder(drop=\"first\"), [\"region\"]),\n",
    "    (StandardScaler(), list_columns_prices_regions),\n",
    "    (\"passthrough\", [\"peak\"]),\n",
    "    verbose_feature_names_out=False, # conserve original column names\n",
    "    remainder='drop'\n",
    ")"
   ]
  },
  {
   "cell_type": "code",
   "execution_count": null,
   "id": "30dd7092-1ec3-442d-aacd-5782cddc2678",
   "metadata": {},
   "outputs": [],
   "source": [
    "X_train"
   ]
  },
  {
   "cell_type": "code",
   "execution_count": null,
   "id": "d2aaf9bb-f673-4a9f-8636-91b08951c4f0",
   "metadata": {},
   "outputs": [],
   "source": [
    "# shape output\n",
    "feat_transform.fit_transform(X_train).shape"
   ]
  },
  {
   "cell_type": "code",
   "execution_count": null,
   "id": "d286b317-fd70-4c6b-911c-5f60d80794e4",
   "metadata": {},
   "outputs": [],
   "source": [
    "# example output\n",
    "feat_transform.fit_transform(X_train)[0, :]"
   ]
  },
  {
   "cell_type": "code",
   "execution_count": null,
   "id": "c3f35530-8884-4992-9358-7b6da7367d8e",
   "metadata": {},
   "outputs": [],
   "source": [
    "# original example output\n",
    "X_train.iloc[0, :]"
   ]
  },
  {
   "cell_type": "markdown",
   "id": "f54c1162-7af8-4006-93f5-db2752d46e33",
   "metadata": {},
   "source": [
    "### 5. Pipeline processing data + train model"
   ]
  },
  {
   "cell_type": "code",
   "execution_count": null,
   "id": "d6ce79f4-c4a4-4036-8af1-b980c4ef4775",
   "metadata": {},
   "outputs": [],
   "source": [
    "model_pipeline = make_pipeline(feat_transform, LinearRegression())"
   ]
  },
  {
   "cell_type": "code",
   "execution_count": null,
   "id": "33c34614-3528-49a0-b1a5-ae8ea93d241f",
   "metadata": {},
   "outputs": [],
   "source": []
  },
  {
   "cell_type": "markdown",
   "id": "75d19a8c-5192-4ad7-8537-e7a3d228881c",
   "metadata": {},
   "source": [
    "### 6. Train with cross validation"
   ]
  },
  {
   "cell_type": "code",
   "execution_count": null,
   "id": "6ebb1b38-60c0-4c48-af3f-b641633bafd3",
   "metadata": {},
   "outputs": [],
   "source": [
    "# get scores of cross validation - R2\n",
    "scores = cross_val_score(model_pipeline, X_train, y_train, cv=5)\n",
    "scores"
   ]
  },
  {
   "cell_type": "code",
   "execution_count": null,
   "id": "a9c591eb-1afe-48f4-aaf4-6077c48444e4",
   "metadata": {},
   "outputs": [],
   "source": [
    "pd.DataFrame(scores).describe()"
   ]
  },
  {
   "cell_type": "code",
   "execution_count": null,
   "id": "b9904fed-5b5a-4c8b-9171-c3f2945ace9c",
   "metadata": {},
   "outputs": [],
   "source": []
  },
  {
   "cell_type": "markdown",
   "id": "5eb574e1-4a10-478e-8291-3e8d84c03452",
   "metadata": {},
   "source": [
    "### 7. Train model with all train dataset"
   ]
  },
  {
   "cell_type": "code",
   "execution_count": null,
   "id": "fdf1eafd-d8ce-40ed-bcd0-b668ea8d183b",
   "metadata": {},
   "outputs": [],
   "source": [
    "model_pipeline.fit(X_train, y_train)"
   ]
  },
  {
   "cell_type": "markdown",
   "id": "3db758d4-bc7c-41b1-8350-402838d6a24c",
   "metadata": {},
   "source": [
    "## 8. Evaluate Performance Model"
   ]
  },
  {
   "cell_type": "markdown",
   "id": "9dc2bae5-e21c-4954-94bc-33774be6b81f",
   "metadata": {},
   "source": [
    "## -> Performance all data\n",
    "Evaluate performance of the model with all the train and test data"
   ]
  },
  {
   "cell_type": "markdown",
   "id": "b4a7f5ba-90c9-403f-ba71-8361f8ab1fd3",
   "metadata": {},
   "source": [
    "#### 8.0 Get y_train_pred , y_test_pred"
   ]
  },
  {
   "cell_type": "code",
   "execution_count": null,
   "id": "4364319d-0701-410a-8062-8bb1e7b0531c",
   "metadata": {},
   "outputs": [],
   "source": [
    "# y train pred\n",
    "y_train_pred = model_pipeline.predict(X_train)\n",
    "y_train_pred = pd.DataFrame(y_train_pred)\n",
    "\n",
    "# y test pred\n",
    "y_test_pred = model_pipeline.predict(X_test)\n",
    "y_test_pred = pd.DataFrame(y_test_pred)"
   ]
  },
  {
   "cell_type": "markdown",
   "id": "fa7b9ab9-5a8a-4ae7-8995-dc56060c9fc4",
   "metadata": {},
   "source": [
    "#### 8.1. Evaluate performance model - metrics"
   ]
  },
  {
   "cell_type": "code",
   "execution_count": null,
   "id": "2406a15d-bd53-4681-b91c-2e9bbe43424b",
   "metadata": {},
   "outputs": [],
   "source": [
    "def print_metrics_evaluation(y_train,  y_train_pred, y_test, y_test_pred):\n",
    "    \"\"\"\n",
    "    Print metrics of supervised models. Train and Test metrics\n",
    "\n",
    "    Args:\n",
    "        y_train\n",
    "        y_train_pred\n",
    "        y_test\n",
    "        y_test_pred\n",
    "    \"\"\"\n",
    "    # evaluate model\n",
    "    \n",
    "    # r2\n",
    "    r2_train = r2_score(y_train, y_train_pred).round(3)\n",
    "    r2_test = r2_score(y_test, y_test_pred).round(3)\n",
    "    \n",
    "    print('\\nR2')\n",
    "    print('r2_train: ', r2_train)\n",
    "    print('r2_test: ', r2_test)\n",
    "    \n",
    "    \n",
    "    # mae\n",
    "    mae_train = mean_absolute_error(y_train, y_train_pred).round(3)\n",
    "    mae_test = mean_absolute_error(y_test, y_test_pred).round(3)\n",
    "    \n",
    "    print('\\nMAE')\n",
    "    print('mae_train: ', mae_train)\n",
    "    print('mae_test: ', mae_test)\n",
    "    \n",
    "    # mse\n",
    "    mse_train = mean_squared_error(y_train, y_train_pred, squared = True).round(3)\n",
    "    mse_test= mean_squared_error(y_test, y_test_pred, squared = True).round(3)\n",
    "    \n",
    "    print('\\nMSE')\n",
    "    print('mse_train: ', mse_train)\n",
    "    print('mse_test: ', mse_test)\n",
    "    \n",
    "    \n",
    "    # rmse\n",
    "    rmse_train = mean_squared_error(y_train, y_train_pred, squared = False).round(3)\n",
    "    rmse_test= mean_squared_error(y_test, y_test_pred, squared = False).round(3)\n",
    "    \n",
    "    print('\\nRMSE')\n",
    "    print('rmse_train: ', rmse_train)\n",
    "    print('rmse_test: ', rmse_test)"
   ]
  },
  {
   "cell_type": "code",
   "execution_count": null,
   "id": "9f00cb1c-3714-433e-92a2-c44650d141de",
   "metadata": {},
   "outputs": [],
   "source": [
    "print_metrics_evaluation(y_train,  y_train_pred, y_test, y_test_pred)"
   ]
  },
  {
   "cell_type": "code",
   "execution_count": null,
   "id": "fd4731a6-f6ac-45e5-8f87-b2f408dca275",
   "metadata": {},
   "outputs": [],
   "source": []
  },
  {
   "cell_type": "code",
   "execution_count": null,
   "id": "cb11a3d4-7e58-4e65-a420-459e7f24202d",
   "metadata": {},
   "outputs": [],
   "source": [
    "# # r2 - score - OLD\n",
    "# r2_train = model_pipeline.score(X_train, y_train).round(3)\n",
    "# r2_test = model_pipeline.score(X_test, y_test).round(3)\n",
    "\n",
    "# print('r2_train: ', r2_train)\n",
    "# print('r2_test: ', r2_test)"
   ]
  },
  {
   "cell_type": "code",
   "execution_count": null,
   "id": "8364beab-6028-4432-beee-3f9977a38369",
   "metadata": {},
   "outputs": [],
   "source": []
  },
  {
   "cell_type": "markdown",
   "id": "aa45c574-e2ff-4d51-ace2-0b0058600ace",
   "metadata": {},
   "source": [
    "#### 8.2 Evaluate performance model - y true vs y_predicted"
   ]
  },
  {
   "cell_type": "code",
   "execution_count": null,
   "id": "647be7cf-1958-48ba-8db7-7b8e29909419",
   "metadata": {},
   "outputs": [],
   "source": [
    "#### OLD\n",
    "# def plot_y_true_vs_y_pred(df_y_true, df_y_pred):\n",
    "#     \"\"\"\n",
    "#     Plot y_true vs y_pred. Both in format dataframe\n",
    "#     \"\"\"\n",
    "#     ### plot scatter plot\n",
    "#     fig_plot = plt.scatter(df_y_true, \n",
    "#                            df_y_pred,\n",
    "#                           alpha = 0.3,\n",
    "#                           marker = 'x',\n",
    "#                           label = 'y_true vs y_pred')\n",
    "\n",
    "    \n",
    "#     ### add bisectriz \n",
    "#     x = np.linspace(df_y_true.min()[0], df_y_true.max()[0], df_y_true.shape[0])\n",
    "#     y = x  # Bisectriz: y = x\n",
    "#     plt.plot(x, y, label='Bisectriz', color='red', alpha = 0.3)\n",
    "    \n",
    "#     ### add names to axis\n",
    "#     plt.xlabel('Y true')\n",
    "#     plt.ylabel('Y pred')\n",
    "#     plt.legend()\n",
    "\n",
    "\n",
    "#     fig.show()\n",
    "#     #return fig_plot\n",
    "\n",
    "def plot_y_true_vs_y_pred(df_y_true, df_y_pred, title_plot):\n",
    "    \"\"\"\n",
    "    Plot y_true vs y_pred. Both in format dataframe\n",
    "    \"\"\"\n",
    "    fig, ax = plt.subplots()\n",
    "    scatter_plot = ax.scatter(df_y_true, df_y_pred, alpha=0.3, marker='x', label='y_true vs y_pred')\n",
    "\n",
    "    # Add bisectriz\n",
    "    x = np.linspace(df_y_true.min()[0], df_y_true.max()[0], df_y_true.shape[0])\n",
    "    y = x  # Bisectriz: y = x\n",
    "    ax.plot(x, y, label='Bisectriz', color='red', alpha=0.3)\n",
    "\n",
    "    # Add names to axis\n",
    "    ax.set_xlabel('Y true')\n",
    "    ax.set_ylabel('Y pred')\n",
    "    \n",
    "    ax.set_title(title_plot)\n",
    "    ax.legend()\n",
    "\n",
    "    return fig"
   ]
  },
  {
   "cell_type": "code",
   "execution_count": null,
   "id": "11c9d093-6993-4a52-9391-bc771ddf1265",
   "metadata": {
    "scrolled": true
   },
   "outputs": [],
   "source": [
    "# plot TRAIN\n",
    "plot_true_pred_train = plot_y_true_vs_y_pred(df_y_true = y_train,\n",
    "                                               df_y_pred = y_train_pred,\n",
    "                                             title_plot = 'TRAIN DATA'\n",
    "                                              )"
   ]
  },
  {
   "cell_type": "code",
   "execution_count": null,
   "id": "dcde736e-3615-4b00-8935-c605436458eb",
   "metadata": {},
   "outputs": [],
   "source": [
    "# plot TEST\n",
    "plot_true_pred_test = plot_y_true_vs_y_pred(df_y_true = y_test,\n",
    "                     df_y_pred = y_test_pred,\n",
    "                                            title_plot = 'TEST DATA'\n",
    "                     )"
   ]
  },
  {
   "cell_type": "code",
   "execution_count": null,
   "id": "33451dd9-c5ec-49aa-ae8d-e9af304f4c06",
   "metadata": {},
   "outputs": [],
   "source": []
  },
  {
   "cell_type": "markdown",
   "id": "461397a7-b044-4482-b54f-98c6d4ff51a1",
   "metadata": {},
   "source": [
    "## -> Performance by region\n",
    "Evaluate performance of the model with the data segmented. In this example, divide by region"
   ]
  },
  {
   "cell_type": "code",
   "execution_count": null,
   "id": "6425d28f-b964-4b5b-bc23-f4ff354ff1aa",
   "metadata": {},
   "outputs": [],
   "source": []
  },
  {
   "cell_type": "markdown",
   "id": "9d9dad1b-7433-45ac-a08c-23592499126a",
   "metadata": {},
   "source": [
    "#### 8.3 Evaluate performance model by region - metrics by region"
   ]
  },
  {
   "cell_type": "code",
   "execution_count": null,
   "id": "8f93929c-ae29-4b95-989f-6538153ca16c",
   "metadata": {},
   "outputs": [],
   "source": [
    "def get_metric_each_region(X, y, model, list_regions):\n",
    "    \"\"\"\n",
    "    Split data by each region and calculate the metric of a segmented data\n",
    "    \"\"\"\n",
    "\n",
    "    ## list to save metrics to calculate\n",
    "    list_r2_each_region = []\n",
    "    list_mae_each_region = []\n",
    "    list_mse_each_region = []\n",
    "    list_rmse_reach_region = []\n",
    "\n",
    "    # add column region in data \"y\" to filter data by region\n",
    "    y['region'] = X[['region']]\n",
    "\n",
    "    for region_name in list_regions:\n",
    "        #print(region_name)\n",
    "    \n",
    "        # generate X filtered by region\n",
    "        X_filter_region = X[X['region'] == region_name]\n",
    "        \n",
    "        # generate y filtered by region\n",
    "        y_filter_region = y[y['region'] == region_name]\n",
    "        y_filter_region = y_filter_region.drop(columns = 'region')\n",
    "        \n",
    "        # predict\n",
    "        y_filter_region_pred = model.predict(X_filter_region)\n",
    "        y_filter_region_pred = pd.DataFrame(y_filter_region_pred)\n",
    "        \n",
    "        # evaluate metric\n",
    "        r2_aux = r2_score(y_filter_region, y_filter_region_pred).round(3) # r2\n",
    "        mae_aux = mean_absolute_error(y_filter_region, y_filter_region_pred).round(3)\n",
    "        mse_aux = mean_squared_error(y_filter_region, y_filter_region_pred, squared = True).round(3)\n",
    "        rmse_aux = mean_squared_error(y_filter_region, y_filter_region_pred, squared = False).round(3)\n",
    "\n",
    "        # save in a list\n",
    "        list_r2_each_region.append(r2_aux)\n",
    "        list_mae_each_region.append(mae_aux)\n",
    "        list_mse_each_region.append(mse_aux)\n",
    "        list_rmse_reach_region.append(rmse_aux)\n",
    "\n",
    "\n",
    "    #save as df\n",
    "    df_metrics_each_region = pd.DataFrame()\n",
    "    df_metrics_each_region['region'] = list_regions\n",
    "    df_metrics_each_region['r2'] = list_r2_each_region\n",
    "    df_metrics_each_region['mae'] = list_mae_each_region\n",
    "    df_metrics_each_region['mse'] = list_mse_each_region\n",
    "    df_metrics_each_region['rmse'] = list_rmse_reach_region\n",
    "\n",
    "    return df_metrics_each_region"
   ]
  },
  {
   "cell_type": "code",
   "execution_count": null,
   "id": "d8bb928a-fa43-40bf-a98d-f2f0311d7955",
   "metadata": {},
   "outputs": [],
   "source": [
    "# r2 each region - TRAIN\n",
    "get_metric_each_region(X = X_train.copy(),\n",
    "                      y = y_train.copy(),\n",
    "                      model = model_pipeline,\n",
    "                      list_regions = list_regions\n",
    "                      )"
   ]
  },
  {
   "cell_type": "code",
   "execution_count": null,
   "id": "d091f9a7-25b6-4d6c-8364-c5c8c9018abb",
   "metadata": {},
   "outputs": [],
   "source": [
    "# r2 each region - TEST\n",
    "get_metric_each_region(X = X_test.copy(),\n",
    "                      y = y_test.copy(),\n",
    "                      model = model_pipeline,\n",
    "                       list_regions = list_regions\n",
    "                      )"
   ]
  },
  {
   "cell_type": "code",
   "execution_count": null,
   "id": "bf404ebb-267e-4faa-b10e-f33b38ad69a9",
   "metadata": {},
   "outputs": [],
   "source": []
  },
  {
   "cell_type": "markdown",
   "id": "8b9b528b-1adc-4119-b547-72f1016cbef9",
   "metadata": {},
   "source": [
    "#### 8.4 Evaluate y_true vs y_pred by region (individual plot)"
   ]
  },
  {
   "cell_type": "code",
   "execution_count": null,
   "id": "6994abc2-61ea-4792-8851-5c38f630ba8b",
   "metadata": {},
   "outputs": [],
   "source": [
    "def plot_y_true_vs_y_pred_each_regions(X, y, model, list_regions):\n",
    "    \"\"\"\n",
    "    Plot y_true vs y_predict for each region.\n",
    "    Use the individual function to plot y_true vs y_pred\n",
    "    \"\"\"\n",
    "    \n",
    "    # add column region in data \"y\" to filter data by region\n",
    "    y['region'] = X[['region']]\n",
    "\n",
    "    for region_name in list_regions:\n",
    "        #print(region_name)\n",
    "    \n",
    "        # generate X filtered by region\n",
    "        X_filter_region = X[X['region'] == region_name]\n",
    "        \n",
    "        # generate y filtered by region\n",
    "        y_filter_region = y[y['region'] == region_name]\n",
    "        y_filter_region = y_filter_region.drop(columns = 'region')\n",
    "        \n",
    "        # predict\n",
    "        y_filter_region_pred = model.predict(X_filter_region)\n",
    "        y_filter_region_pred = pd.DataFrame(y_filter_region_pred)\n",
    "    \n",
    "    \n",
    "        # plot\n",
    "        plot_y_true_vs_y_pred(df_y_true = y_filter_region,\n",
    "                             df_y_pred = y_filter_region_pred,\n",
    "                              title_plot = f'y_true vs y_pred for region: {region_name}'\n",
    "                             )"
   ]
  },
  {
   "cell_type": "code",
   "execution_count": null,
   "id": "3b074d97-5e11-4bdc-a80a-ac14a7e85ee3",
   "metadata": {},
   "outputs": [],
   "source": [
    "# DATA TRAIN\n",
    "plot_y_true_vs_y_pred_each_regions(X = X_train.copy(),\n",
    "                                   y = y_train.copy(),\n",
    "                                   model = model_pipeline,\n",
    "                                   list_regions =  list_regions\n",
    "                                  )"
   ]
  },
  {
   "cell_type": "code",
   "execution_count": null,
   "id": "4c1a5592-21b1-477e-afd9-3bbd30da52d0",
   "metadata": {},
   "outputs": [],
   "source": [
    "# DATA TEST\n",
    "plot_y_true_vs_y_pred_each_regions(X = X_test.copy(),\n",
    "                                   y = y_test.copy(),\n",
    "                                   model = model_pipeline,\n",
    "                                   list_regions = list_regions\n",
    "                                  )"
   ]
  },
  {
   "cell_type": "code",
   "execution_count": null,
   "id": "b12a4bad-307c-4f85-81fe-92c35ae5aaab",
   "metadata": {},
   "outputs": [],
   "source": []
  },
  {
   "cell_type": "code",
   "execution_count": null,
   "id": "71d91bb8-9bd0-43b5-98d7-252663c391d7",
   "metadata": {},
   "outputs": [],
   "source": []
  },
  {
   "cell_type": "code",
   "execution_count": null,
   "id": "87cca8f9-6f6a-42cb-8df0-769aeca3b2b8",
   "metadata": {},
   "outputs": [],
   "source": []
  },
  {
   "cell_type": "markdown",
   "id": "122e01db-5698-4d59-9af4-a56a303fa07a",
   "metadata": {},
   "source": [
    "#### 8.5 Evaluate y_true vs y_pred by region (one plot true vs pred - colored by region)"
   ]
  },
  {
   "cell_type": "code",
   "execution_count": null,
   "id": "f3e4ac41-b01c-431b-b6e9-8ce07b0af057",
   "metadata": {},
   "outputs": [],
   "source": [
    "X = X_train.copy()\n",
    "y = y_train.copy()\n",
    "model = model_pipeline"
   ]
  },
  {
   "cell_type": "code",
   "execution_count": null,
   "id": "d47216a9-622e-41ae-a700-2056412f9545",
   "metadata": {},
   "outputs": [],
   "source": []
  },
  {
   "cell_type": "code",
   "execution_count": null,
   "id": "82b1cd3b-3c2f-4bd5-8678-451da9e8696f",
   "metadata": {},
   "outputs": [],
   "source": [
    "def plot_y_true_vs_y_pred_color_regions(X, y, model, list_regions):\n",
    "    \"\"\"\n",
    "    y_true vs y_pred for all data, colored by region\n",
    "    \"\"\"\n",
    "\n",
    "    # add column region in data \"y\" to filter data by region\n",
    "    y['region'] = X[['region']]\n",
    "    \n",
    "    for region_name in list_regions:\n",
    "        #print(region_name)\n",
    "    \n",
    "        # generate X filtered by region\n",
    "        X_filter_region = X[X['region'] == region_name]\n",
    "        #print('debugging order columns: ', X_filter_region.columns.tolist())\n",
    "        \n",
    "        # generate y filtered by region\n",
    "        y_filter_region = y[y['region'] == region_name]\n",
    "        y_filter_region = y_filter_region.drop(columns = 'region')\n",
    "        \n",
    "        # predict\n",
    "        y_filter_region_pred = model.predict(X_filter_region)\n",
    "        y_filter_region_pred = pd.DataFrame(y_filter_region_pred)\n",
    "    \n",
    "    \n",
    "        # plot scatter plot for each region\n",
    "        ### plot scatter plot\n",
    "        fig_plot = plt.scatter(y_filter_region, \n",
    "                               y_filter_region_pred,\n",
    "                              alpha = 0.3,\n",
    "                              marker = 'x',\n",
    "                              label = f'region: {region_name}')\n",
    "        \n",
    "        ### add names to axis\n",
    "        plt.xlabel('Y true')\n",
    "        plt.ylabel('Y pred')\n",
    "    \n",
    "    \n",
    "    ### add bisectriz \n",
    "    x_bisectriz = np.linspace(y.min()[0], y.max()[0], y.shape[0])\n",
    "    y_bisectriz = x_bisectriz  # Bisectriz: y = x\n",
    "    plt.plot(x_bisectriz, y_bisectriz, label='Bisectriz', color='red')\n",
    "    \n",
    "    # title\n",
    "    plt.title('y_true vs y_pred')\n",
    "    plt.legend()"
   ]
  },
  {
   "cell_type": "code",
   "execution_count": null,
   "id": "851ff1db-3733-4cbd-b4cb-e208663020eb",
   "metadata": {},
   "outputs": [],
   "source": [
    "### DATA TRAIN\n",
    "plot_y_true_vs_y_pred_color_regions(X = X_train.copy(),\n",
    "                                    y = y_train.copy(),\n",
    "                                    model = model_pipeline,\n",
    "                                    list_regions = list_regions\n",
    "                                   )"
   ]
  },
  {
   "cell_type": "code",
   "execution_count": null,
   "id": "ce2f03ae-0c91-4a64-9770-bfd979f36ecb",
   "metadata": {},
   "outputs": [],
   "source": [
    "### DATA TEST\n",
    "plot_y_true_vs_y_pred_color_regions(X = X_test.copy(),\n",
    "                                    y = y_test.copy(),\n",
    "                                    model = model_pipeline,\n",
    "                                    list_regions = list_regions\n",
    "                                   )"
   ]
  },
  {
   "cell_type": "code",
   "execution_count": null,
   "id": "174a0bc6-8e79-4391-a6b8-8107e014e090",
   "metadata": {},
   "outputs": [],
   "source": []
  },
  {
   "cell_type": "code",
   "execution_count": null,
   "id": "5fe6955c-7850-4678-a869-985651696789",
   "metadata": {},
   "outputs": [],
   "source": []
  },
  {
   "cell_type": "code",
   "execution_count": null,
   "id": "1dba8975-c864-43ff-9f29-b8a67d69b421",
   "metadata": {},
   "outputs": [],
   "source": []
  },
  {
   "cell_type": "code",
   "execution_count": null,
   "id": "02796b4d-e7f3-4a55-b25a-b02a18ef46fb",
   "metadata": {},
   "outputs": [],
   "source": []
  },
  {
   "cell_type": "code",
   "execution_count": null,
   "id": "b92c5df7-8d46-4e15-ad82-b5aab3fc64ce",
   "metadata": {},
   "outputs": [],
   "source": []
  },
  {
   "cell_type": "code",
   "execution_count": null,
   "id": "bf5f3c88-2287-4452-86d6-91237833ebe2",
   "metadata": {},
   "outputs": [],
   "source": []
  },
  {
   "cell_type": "markdown",
   "id": "6adc764e-c2c2-44e9-b6f5-a19af6a9eb8f",
   "metadata": {},
   "source": [
    "#### 8.X Evaluate model - business logic\n",
    "Evaluate performance model according to a business logic"
   ]
  },
  {
   "cell_type": "code",
   "execution_count": null,
   "id": "f99491de-a633-4147-9c93-6f00d3acbb64",
   "metadata": {},
   "outputs": [],
   "source": []
  }
 ],
 "metadata": {
  "kernelspec": {
   "display_name": "Python 3 (ipykernel)",
   "language": "python",
   "name": "python3"
  },
  "language_info": {
   "codemirror_mode": {
    "name": "ipython",
    "version": 3
   },
   "file_extension": ".py",
   "mimetype": "text/x-python",
   "name": "python",
   "nbconvert_exporter": "python",
   "pygments_lexer": "ipython3",
   "version": "3.10.14"
  }
 },
 "nbformat": 4,
 "nbformat_minor": 5
}
