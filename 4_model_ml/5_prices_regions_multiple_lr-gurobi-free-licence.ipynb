{
 "cells": [
  {
   "cell_type": "markdown",
   "id": "5f21a6e8-06ea-4577-a782-290b1121b70f",
   "metadata": {},
   "source": [
    "# SIMPLIFY THE MODELS TO CONECT TO A FREE VERSION OF GUROBI\n",
    "TRAIN ONLY 3 MODELS WITH 3 REGIONS"
   ]
  },
  {
   "cell_type": "markdown",
   "id": "bda44b60-ac3b-486e-997e-24338034a18b",
   "metadata": {},
   "source": [
    "## data prices regions - train multiple linear regression model. One for each region\n",
    "\n",
    "Content:\n",
    "- data: containt the data basic features (units_solds, peak) but in addition the feature prices is added with the prices of all regions. Also the data is splitted to train different models for each region\n",
    "  \n",
    "- Model: artifact that contain the model and the feature engineering (previosly a feature engineering was done, but for example objetive, in this part a do more feature engineering and \"compile\" it with the model). It is mandatory"
   ]
  },
  {
   "cell_type": "code",
   "execution_count": null,
   "id": "f5ba2e41-a40a-4176-82a2-b3fca31e0205",
   "metadata": {},
   "outputs": [],
   "source": [
    "import pandas as pd\n",
    "import matplotlib.pyplot as plt\n",
    "import numpy as np\n",
    "\n",
    "from sklearn.model_selection import train_test_split\n",
    "\n",
    "from sklearn.preprocessing import OneHotEncoder\n",
    "from sklearn.preprocessing import StandardScaler\n",
    "from sklearn.compose import make_column_transformer\n",
    "\n",
    "from sklearn.linear_model import LinearRegression\n",
    "from sklearn.model_selection import cross_val_score\n",
    "from sklearn.pipeline import make_pipeline\n",
    "\n",
    "from sklearn.metrics import r2_score\n",
    "from sklearn.metrics import mean_absolute_error\n",
    "from sklearn.metrics import mean_squared_error"
   ]
  },
  {
   "cell_type": "code",
   "execution_count": null,
   "id": "db77c580-760c-4d24-ad2d-5c30a2b9d5c3",
   "metadata": {},
   "outputs": [],
   "source": []
  },
  {
   "cell_type": "markdown",
   "id": "4e304c70-f4ee-40ab-9d1a-059b9bc2d39b",
   "metadata": {},
   "source": [
    "### 0. Root repo"
   ]
  },
  {
   "cell_type": "code",
   "execution_count": null,
   "id": "17abc227-92fa-4cdf-b597-5df303d4202e",
   "metadata": {},
   "outputs": [],
   "source": [
    "import os\n",
    "# fix root path to save outputs\n",
    "actual_path = os.path.abspath(os.getcwd())\n",
    "list_root_path = actual_path.split('\\\\')[:-1]\n",
    "root_path = '\\\\'.join(list_root_path)\n",
    "os.chdir(root_path)\n",
    "print('root path: ', root_path)"
   ]
  },
  {
   "cell_type": "code",
   "execution_count": null,
   "id": "05eabf0a-3293-4503-9b2f-b3f87f47ea41",
   "metadata": {},
   "outputs": [],
   "source": []
  },
  {
   "cell_type": "markdown",
   "id": "cbd6e662-6867-4536-9583-22dc68e2f01e",
   "metadata": {},
   "source": [
    "### 1. Read data"
   ]
  },
  {
   "cell_type": "code",
   "execution_count": null,
   "id": "8cf53f5f-e185-495b-8c5d-f55d7283e66e",
   "metadata": {},
   "outputs": [],
   "source": [
    "path_data_prices_regions = 'artifacts/data/data_prices_regions.pkl'\n",
    "\n",
    "data = pd.read_pickle(path_data_prices_regions)\n",
    "\n",
    "data.head()"
   ]
  },
  {
   "cell_type": "code",
   "execution_count": null,
   "id": "dbf06993-136f-4d3c-ae52-222f05558ea5",
   "metadata": {},
   "outputs": [],
   "source": []
  },
  {
   "cell_type": "markdown",
   "id": "d2da97de-9137-421f-acdc-c041106fb241",
   "metadata": {},
   "source": [
    "### FREE LICENCE GUROBI - TRAIN ONLY 3 MODELS - SIMLIFY DATA SET TO 3 REGIONS"
   ]
  },
  {
   "cell_type": "code",
   "execution_count": null,
   "id": "8fa02c2d-5e23-49b0-82dc-a765d9c3c3e0",
   "metadata": {},
   "outputs": [],
   "source": [
    "# filter columns - prices only 3 regions\n",
    "list_columns_free_gurobi = ['units_sold', 'region', 'peak', 'price_great_lakes', 'price_midsouth', 'price_northeast']\n",
    "data = data[list_columns_free_gurobi]\n",
    "\n",
    "# filter data regions - info only 3 regions\n",
    "data = data[(data['region'] == 'Great_Lakes') | (data['region'] == 'Midsouth') | (data['region'] == 'Northeast')]\n",
    "data"
   ]
  },
  {
   "cell_type": "code",
   "execution_count": null,
   "id": "6eea7846-3ff5-4ebd-b725-f1a2de8a6d15",
   "metadata": {},
   "outputs": [],
   "source": []
  },
  {
   "cell_type": "markdown",
   "id": "686d680a-9f41-4fcf-b0b0-927c1e1a5734",
   "metadata": {},
   "source": [
    "### 2. Generate X, y, list features, list segmentation data"
   ]
  },
  {
   "cell_type": "code",
   "execution_count": null,
   "id": "7c805b59-a7b3-4a93-866f-839330408388",
   "metadata": {},
   "outputs": [],
   "source": [
    "\"\"\" Create list regions \"\"\"\n",
    "list_regions = data['region'].unique().tolist()\n",
    "list_regions.sort()\n",
    "list_regions"
   ]
  },
  {
   "cell_type": "code",
   "execution_count": null,
   "id": "f2337a67-d488-4fff-a5bb-7407e2fe501a",
   "metadata": {},
   "outputs": [],
   "source": [
    "\"\"\" Define features and target \"\"\"\n",
    "# target\n",
    "target = 'units_sold'\n",
    "list_target = [target]\n",
    "\n",
    "# list features - all variables in dataframe that are not target\n",
    "list_features = list(set(data.columns.tolist()) - set([target]))\n",
    "\n",
    "\n",
    "######  set manually list features\n",
    "list_columns_prices_regions = ['price_' + name_region for name_region in list_regions] # generate a list of all the columns of prices (prices for each region)\n",
    "list_columns_prices_regions = [column.lower() for column in list_columns_prices_regions]\n",
    "list_features = ['region'] + ['peak'] + list_columns_prices_regions # list features hardcoded\n",
    "\n",
    "\n",
    "print('list_features: ', list_features)\n",
    "print('list_target: ', list_target)"
   ]
  },
  {
   "cell_type": "code",
   "execution_count": null,
   "id": "575212bd-1cfa-4c32-a0d8-82bd76b630af",
   "metadata": {},
   "outputs": [],
   "source": [
    "\"\"\" create data X - features // y - target \"\"\"\n",
    "data_X = data[list_features]\n",
    "data_y = data[list_target]"
   ]
  },
  {
   "cell_type": "code",
   "execution_count": null,
   "id": "b06322e0-fb98-4f7a-999a-acaa661120d0",
   "metadata": {},
   "outputs": [],
   "source": [
    "data_X.head()"
   ]
  },
  {
   "cell_type": "code",
   "execution_count": null,
   "id": "26b41668-3b35-4e7b-b50a-ba9af07e2fc3",
   "metadata": {},
   "outputs": [],
   "source": [
    "data_y.head()"
   ]
  },
  {
   "cell_type": "code",
   "execution_count": null,
   "id": "32debb2b-3803-46f4-85c4-77c6acade642",
   "metadata": {},
   "outputs": [],
   "source": []
  },
  {
   "cell_type": "markdown",
   "id": "2a7da2c2-c3d4-437e-96c9-fd645b32fcb0",
   "metadata": {},
   "source": [
    "### 3. Split - train - test"
   ]
  },
  {
   "cell_type": "code",
   "execution_count": null,
   "id": "a6f5a60a-59fd-4113-9a51-d9dc4d55cb2a",
   "metadata": {},
   "outputs": [],
   "source": [
    "X_train, X_test, y_train, y_test = train_test_split(data_X, \n",
    "                                                    data_y, \n",
    "                                                    train_size = 0.7, \n",
    "                                                    random_state = 42\n",
    "                                                   )"
   ]
  },
  {
   "cell_type": "code",
   "execution_count": null,
   "id": "b8135c3c-28c7-4d70-997e-0a797e8d3265",
   "metadata": {},
   "outputs": [],
   "source": [
    "print('shapes')\n",
    "print('X_train: ', X_train.shape)\n",
    "print('y_train: ', y_train.shape)\n",
    "print('X_test: ', X_test.shape)\n",
    "print('y_test: ', y_test.shape)"
   ]
  },
  {
   "cell_type": "code",
   "execution_count": null,
   "id": "b002547d-25d9-495a-aa26-5c80ab909c94",
   "metadata": {},
   "outputs": [],
   "source": [
    "X_train.head(2)"
   ]
  },
  {
   "cell_type": "code",
   "execution_count": null,
   "id": "a35c79ee-128d-4839-a6af-3225e23470c8",
   "metadata": {},
   "outputs": [],
   "source": [
    "y_train.head(2)"
   ]
  },
  {
   "cell_type": "code",
   "execution_count": null,
   "id": "5e1be752-104f-4b08-8331-8e9e00100ce4",
   "metadata": {},
   "outputs": [],
   "source": [
    "X_test.head(2)"
   ]
  },
  {
   "cell_type": "code",
   "execution_count": null,
   "id": "ebf37aff-9c7d-4328-afd6-727bbd7d7aa5",
   "metadata": {},
   "outputs": [],
   "source": [
    "y_test.head(2)"
   ]
  },
  {
   "cell_type": "code",
   "execution_count": null,
   "id": "abc455ea-9ac9-458b-b414-14f0c964a6ec",
   "metadata": {},
   "outputs": [],
   "source": []
  },
  {
   "cell_type": "markdown",
   "id": "eb4104e1-7542-4c8d-a3bb-b73d5bee8940",
   "metadata": {},
   "source": [
    "### 4. Processing data\n",
    "- Region string. The model is divided into one model per region and delete this column before the training of the model (steps: divide data each region, delete region, train model), so it is not necessary this feature\n",
    "- Peak ok - binary variable\n",
    "- price normalize continuous variable"
   ]
  },
  {
   "cell_type": "markdown",
   "id": "ef2b08db-14c2-47de-88f6-ed4df8b71a8b",
   "metadata": {},
   "source": [
    "#### 4.1 Scaler Prices"
   ]
  },
  {
   "cell_type": "code",
   "execution_count": null,
   "id": "48a3e36b-e6f3-4a00-9a6f-2926088a860f",
   "metadata": {},
   "outputs": [],
   "source": [
    "# # instance of class scaler\n",
    "# scaler_prices = StandardScaler()\n",
    "\n",
    "# # fit_transform train\n",
    "# X_train[list_columns_prices_regions] = scaler_prices.fit_transform(X_train[list_columns_prices_regions])\n",
    "\n",
    "# # transfom test\n",
    "# X_test[list_columns_prices_regions] = scaler_prices.fit_transform(X_test[list_columns_prices_regions])"
   ]
  },
  {
   "cell_type": "code",
   "execution_count": null,
   "id": "d9162f6c-2012-423e-98ba-5083c27307fc",
   "metadata": {},
   "outputs": [],
   "source": [
    "# transformer data sklearn\n",
    "feat_transform_multiple_lr = make_column_transformer(\n",
    "    (\"passthrough\", [\"peak\"]),  # it is important the order in transformations to conserve the order in columns\n",
    "    (StandardScaler(), list_columns_prices_regions),\n",
    "    verbose_feature_names_out=False, # conserve original column names\n",
    "    remainder='drop'\n",
    ")"
   ]
  },
  {
   "cell_type": "code",
   "execution_count": null,
   "id": "bf62d57d-7bfc-49e4-9774-27ada07e44c0",
   "metadata": {},
   "outputs": [],
   "source": [
    "X_train.head(2)"
   ]
  },
  {
   "cell_type": "code",
   "execution_count": null,
   "id": "2589d6c5-a237-42d2-a4b8-1aed13bad8a8",
   "metadata": {},
   "outputs": [],
   "source": [
    "X_train.shape"
   ]
  },
  {
   "cell_type": "code",
   "execution_count": null,
   "id": "153850b6-0907-438e-9778-05ff5d16d768",
   "metadata": {},
   "outputs": [],
   "source": [
    "# shape output\n",
    "feat_transform_multiple_lr.fit_transform(X_train).shape"
   ]
  },
  {
   "cell_type": "code",
   "execution_count": null,
   "id": "bcf01d97-f371-4d2b-af98-fb77cae77a19",
   "metadata": {},
   "outputs": [],
   "source": [
    "# example output\n",
    "feat_transform_multiple_lr.fit_transform(X_train)[0, :]"
   ]
  },
  {
   "cell_type": "code",
   "execution_count": null,
   "id": "3a41c776-46fd-49e0-b2be-1351388dd435",
   "metadata": {},
   "outputs": [],
   "source": []
  },
  {
   "cell_type": "markdown",
   "id": "3adb18dd-bdcd-4bcd-82fe-d2713b3454f3",
   "metadata": {},
   "source": [
    "### 5. Pipeline processing data + train model"
   ]
  },
  {
   "cell_type": "code",
   "execution_count": null,
   "id": "d90effdf-448d-4d8e-8915-993b59c722ec",
   "metadata": {},
   "outputs": [],
   "source": [
    "#linear_reg_pipeline = make_pipeline(feat_transform_multiple_lr, LinearRegression())"
   ]
  },
  {
   "cell_type": "code",
   "execution_count": null,
   "id": "3fe6f8c6-3744-4be9-b59c-dc729bf02bb1",
   "metadata": {},
   "outputs": [],
   "source": []
  },
  {
   "cell_type": "markdown",
   "id": "084d18d3-2b34-490b-962c-714b6bb10ed7",
   "metadata": {},
   "source": [
    "### 6. Split data train&test by regions\n",
    "Generate datasets train and test for each region to train differents models for each region' dataset"
   ]
  },
  {
   "cell_type": "code",
   "execution_count": null,
   "id": "8f812fb8-a4e3-42cd-933a-ffb61f1f6eac",
   "metadata": {},
   "outputs": [],
   "source": [
    "# generate a dictionaries to save \"X_train\", \"y_train\", \"X_test\", \"y_test\", \"model\" by each region\n",
    "dic_X_train = {} \n",
    "dic_y_train = {} \n",
    "dic_X_test = {}\n",
    "dic_y_test = {}\n",
    "dic_lr_model = {}"
   ]
  },
  {
   "cell_type": "code",
   "execution_count": null,
   "id": "57a86321-c81f-4f77-ab53-b0beb1e7bd29",
   "metadata": {},
   "outputs": [],
   "source": [
    "# add column region in data \"y\" to filter data by region\n",
    "y_train['region'] = X_train[['region']]\n",
    "y_test['region'] = X_test[['region']]\n",
    "\n",
    "for region_name in list_regions:\n",
    "    #print(region_name)\n",
    "\n",
    "    ##### TRAIN\n",
    "    # generate X_train filtered by region\n",
    "    X_train_filter_region = X_train[X_train['region'] == region_name]\n",
    "    X_train_filter_region = X_train_filter_region.drop(columns = 'region')\n",
    "    \n",
    "    # generate y_train filtered by region\n",
    "    y_train_filter_region = y_train[y_train['region'] == region_name]\n",
    "    y_train_filter_region = y_train_filter_region.drop(columns = 'region')\n",
    "\n",
    "\n",
    "    ##### TEST\n",
    "    # generate X_test filtered by region\n",
    "    X_test_filter_region = X_test[X_test['region'] == region_name]\n",
    "    X_test_filter_region = X_test_filter_region.drop(columns = 'region')\n",
    "    \n",
    "    # generate y_test filtered by region\n",
    "    y_test_filter_region = y_test[y_test['region'] == region_name]\n",
    "    y_test_filter_region = y_test_filter_region.drop(columns = 'region')\n",
    "\n",
    "\n",
    "    ##### MODEL\n",
    "    #lr_model_filter_region = LinearRegression()\n",
    "    lr_model_filter_region = make_pipeline(feat_transform_multiple_lr, LinearRegression())\n",
    "\n",
    "\n",
    "    ##### SAVE IN DICCTIONARIES\n",
    "    dic_X_train[region_name] = X_train_filter_region\n",
    "    dic_y_train[region_name] = y_train_filter_region\n",
    "    dic_X_test[region_name] = X_test_filter_region\n",
    "    dic_y_test[region_name] = y_test_filter_region\n",
    "    dic_lr_model[region_name] = lr_model_filter_region"
   ]
  },
  {
   "cell_type": "code",
   "execution_count": null,
   "id": "2a50880c-6b55-4afa-b02a-64e68722dd89",
   "metadata": {},
   "outputs": [],
   "source": [
    "# show example models\n",
    "dic_lr_model"
   ]
  },
  {
   "cell_type": "code",
   "execution_count": null,
   "id": "cd700160-d18f-42c0-84c3-d4b7b27f1b6d",
   "metadata": {},
   "outputs": [],
   "source": [
    "# show example train dataset\n",
    "region_example = list(dic_X_train.keys())[0]\n",
    "dic_X_train[region_example]"
   ]
  },
  {
   "cell_type": "code",
   "execution_count": null,
   "id": "e8d59522-a526-40ca-8dd3-8e0f409f498b",
   "metadata": {},
   "outputs": [],
   "source": []
  },
  {
   "cell_type": "markdown",
   "id": "d4427c38-985a-4f9c-a76a-8a6c9c842ab0",
   "metadata": {},
   "source": [
    "### 7. Train model with all train dataset"
   ]
  },
  {
   "cell_type": "code",
   "execution_count": null,
   "id": "f120f664-63ca-4415-bf78-cfd4360a08ff",
   "metadata": {},
   "outputs": [],
   "source": [
    "for region_name in list_regions:\n",
    "    print(f'trainning: {region_name}')\n",
    "    dic_lr_model[region_name].fit(dic_X_train[region_name], dic_y_train[region_name])"
   ]
  },
  {
   "cell_type": "code",
   "execution_count": null,
   "id": "f6e2fa62-bdc5-493c-becd-a309f9f9d407",
   "metadata": {},
   "outputs": [],
   "source": []
  },
  {
   "cell_type": "markdown",
   "id": "5fadad32-154a-4a0e-b83f-472a70a05e12",
   "metadata": {},
   "source": [
    "## 8. Evaluate Performance Model"
   ]
  },
  {
   "cell_type": "markdown",
   "id": "647ae3a2-0bd0-4d27-b313-e3bd46550fb7",
   "metadata": {},
   "source": [
    "## Performance all data\n",
    "Evaluate performance of the model with all the train and test data"
   ]
  },
  {
   "cell_type": "markdown",
   "id": "cac79541-6bcb-4dfd-b922-cf038f91eae8",
   "metadata": {},
   "source": [
    "#### 8.0 Get y_train_pred , y_test_pred"
   ]
  },
  {
   "cell_type": "markdown",
   "id": "53243482-da9d-4dce-bccf-7f03aa3e86cd",
   "metadata": {},
   "source": [
    "#### 8.0.1 Get predictions of the data segmented by region. Each segmentation has it own model\n",
    "Generate a dictionary where the values predicted for each region are saved"
   ]
  },
  {
   "cell_type": "code",
   "execution_count": null,
   "id": "ab69dc07-111a-4e40-9e7e-542237f2786f",
   "metadata": {},
   "outputs": [],
   "source": [
    "### generate dictionary to save y_pred\n",
    "dic_y_train_pred = {}\n",
    "dic_y_test_pred = {}\n",
    "\n",
    "### save y_pred\n",
    "for region_name in list_regions:\n",
    "    \n",
    "    y_train_pred = dic_lr_model[region_name].predict(dic_X_train[region_name])\n",
    "    dic_y_train_pred[region_name] = pd.DataFrame(y_train_pred)\n",
    "\n",
    "    y_test_pred = dic_lr_model[region_name].predict(dic_X_test[region_name])\n",
    "    dic_y_test_pred[region_name] = pd.DataFrame(y_test_pred)"
   ]
  },
  {
   "cell_type": "markdown",
   "id": "08193706-78c7-4674-b036-561a70f0cb1c",
   "metadata": {},
   "source": [
    "#### 8.0.2 Get predictions of all the data.\n",
    "Join the data predicted (train and test) (true and predited) for each region into only one dataframe"
   ]
  },
  {
   "cell_type": "code",
   "execution_count": null,
   "id": "0c01d4f1-2615-4097-8c1e-97cc74c65b75",
   "metadata": {},
   "outputs": [],
   "source": [
    "###### generate a data of all regions append\n",
    "\n",
    "# create dataframes placeholders\n",
    "y_train_joined = pd.DataFrame()\n",
    "y_test_joined = pd.DataFrame()\n",
    "y_train_joined_pred = pd.DataFrame()\n",
    "y_test_joined_pred = pd.DataFrame()\n",
    "\n",
    "\n",
    "# generate y_train_joined, y_test_joined and the predicted values y_train_joined_pred, y_test_joined_pred\n",
    "for region_name in list_regions:\n",
    "    #print(region_name)\n",
    "\n",
    "    # y_train\n",
    "    y_train_joined = pd.concat([y_train_joined, dic_y_train[region_name]])\n",
    "\n",
    "    # y_train_pred\n",
    "    y_train_joined_pred = pd.concat([y_train_joined_pred, dic_y_train_pred[region_name]])\n",
    "\n",
    "\n",
    "    # y_test\n",
    "    y_test_joined = pd.concat([y_test_joined, dic_y_test[region_name]])\n",
    "\n",
    "    # y_test_pred\n",
    "    y_test_joined_pred = pd.concat([y_test_joined_pred, dic_y_test_pred[region_name]])"
   ]
  },
  {
   "cell_type": "code",
   "execution_count": null,
   "id": "2390fd02-e0f1-43d5-8096-1b4d2fe10c12",
   "metadata": {},
   "outputs": [],
   "source": [
    "print('view shape')\n",
    "print('y_train: ', y_train_joined.shape)\n",
    "print('y_train_pred: ', y_train_joined_pred.shape)\n",
    "\n",
    "print('y_test: ', y_test_joined.shape)\n",
    "print('y_test_pred: ', y_test_joined_pred.shape)"
   ]
  },
  {
   "cell_type": "code",
   "execution_count": null,
   "id": "6d94a69d-0ce0-433b-bd5c-9d1fe0d00b36",
   "metadata": {},
   "outputs": [],
   "source": []
  },
  {
   "cell_type": "markdown",
   "id": "ff2eca45-d0f7-436c-8505-ae1361d93f09",
   "metadata": {},
   "source": [
    "#### 8.1. Evaluate performance model - metrics"
   ]
  },
  {
   "cell_type": "code",
   "execution_count": null,
   "id": "c03f03e8-98db-4bed-b789-d1ade4e97d8b",
   "metadata": {},
   "outputs": [],
   "source": [
    "def print_metrics_evaluation(y_train,  y_train_pred, y_test, y_test_pred):\n",
    "    \"\"\"\n",
    "    Print metrics of supervised models. Train and Test metrics\n",
    "\n",
    "    Args:\n",
    "        y_train\n",
    "        y_train_pred\n",
    "        y_test\n",
    "        y_test_pred\n",
    "    \"\"\"\n",
    "    # evaluate model\n",
    "    \n",
    "    # r2\n",
    "    r2_train = r2_score(y_train, y_train_pred).round(3)\n",
    "    r2_test = r2_score(y_test, y_test_pred).round(3)\n",
    "    \n",
    "    print('\\nR2')\n",
    "    print('r2_train: ', r2_train)\n",
    "    print('r2_test: ', r2_test)\n",
    "    \n",
    "    \n",
    "    # mae\n",
    "    mae_train = mean_absolute_error(y_train, y_train_pred).round(3)\n",
    "    mae_test = mean_absolute_error(y_test, y_test_pred).round(3)\n",
    "    \n",
    "    print('\\nMAE')\n",
    "    print('mae_train: ', mae_train)\n",
    "    print('mae_test: ', mae_test)\n",
    "    \n",
    "    # mse\n",
    "    mse_train = mean_squared_error(y_train, y_train_pred, squared = True).round(3)\n",
    "    mse_test= mean_squared_error(y_test, y_test_pred, squared = True).round(3)\n",
    "    \n",
    "    print('\\nMSE')\n",
    "    print('mse_train: ', mse_train)\n",
    "    print('mse_test: ', mse_test)\n",
    "    \n",
    "    \n",
    "    # rmse\n",
    "    rmse_train = mean_squared_error(y_train, y_train_pred, squared = False).round(3)\n",
    "    rmse_test= mean_squared_error(y_test, y_test_pred, squared = False).round(3)\n",
    "    \n",
    "    print('\\nRMSE')\n",
    "    print('rmse_train: ', rmse_train)\n",
    "    print('rmse_test: ', rmse_test)"
   ]
  },
  {
   "cell_type": "code",
   "execution_count": null,
   "id": "89c945ad-f3f3-4d81-b4b0-97b91cc19602",
   "metadata": {},
   "outputs": [],
   "source": [
    "print_metrics_evaluation(y_train = y_train_joined, \n",
    "                         y_train_pred = y_train_joined_pred, \n",
    "                         y_test = y_test_joined, \n",
    "                         y_test_pred = y_test_joined_pred\n",
    "                        )"
   ]
  },
  {
   "cell_type": "code",
   "execution_count": null,
   "id": "678bf309-5057-4808-918e-2b746bcc9241",
   "metadata": {},
   "outputs": [],
   "source": []
  },
  {
   "cell_type": "markdown",
   "id": "bcbb8ee2-8f86-4b8a-b590-cc2e09c7cee7",
   "metadata": {},
   "source": [
    "#### 8.2 Evaluate performance model - y true vs y_predicted"
   ]
  },
  {
   "cell_type": "code",
   "execution_count": null,
   "id": "fcbffb69-e8a5-40d3-97dc-4cd144ca52b7",
   "metadata": {},
   "outputs": [],
   "source": [
    "def plot_y_true_vs_y_pred(df_y_true, df_y_pred, title_plot):\n",
    "    \"\"\"\n",
    "    Plot y_true vs y_pred. Both in format dataframe\n",
    "    \"\"\"\n",
    "    fig, ax = plt.subplots()\n",
    "    scatter_plot = ax.scatter(df_y_true, df_y_pred, alpha=0.3, marker='x', label='y_true vs y_pred')\n",
    "\n",
    "    # Add bisectriz\n",
    "    x = np.linspace(df_y_true.min()[0], df_y_true.max()[0], df_y_true.shape[0])\n",
    "    y = x  # Bisectriz: y = x\n",
    "    ax.plot(x, y, label='Bisectriz', color='red', alpha=0.3)\n",
    "\n",
    "    # Add names to axis\n",
    "    ax.set_xlabel('Y true')\n",
    "    ax.set_ylabel('Y pred')\n",
    "    \n",
    "    ax.set_title(title_plot)\n",
    "    ax.legend()\n",
    "    \n",
    "    return fig"
   ]
  },
  {
   "cell_type": "code",
   "execution_count": null,
   "id": "80b3641e-f3db-47e6-8940-59950f88ec66",
   "metadata": {},
   "outputs": [],
   "source": [
    "# plot TRAIN\n",
    "plot_true_pred_train = plot_y_true_vs_y_pred(df_y_true = y_train_joined,\n",
    "                                             df_y_pred = y_train_joined_pred,\n",
    "                                             title_plot = 'TRAIN DATA'\n",
    "                                            )"
   ]
  },
  {
   "cell_type": "code",
   "execution_count": null,
   "id": "04119e55-4845-46e5-9b0e-eed190c4fe88",
   "metadata": {},
   "outputs": [],
   "source": [
    "# plot TEST\n",
    "plot_true_pred_test = plot_y_true_vs_y_pred(df_y_true = y_test_joined,\n",
    "                                            df_y_pred = y_test_joined_pred,\n",
    "                                            title_plot = 'TEST DATA'\n",
    "                                           )"
   ]
  },
  {
   "cell_type": "code",
   "execution_count": null,
   "id": "34437cc1-8359-47eb-8d8e-ce514bed8125",
   "metadata": {},
   "outputs": [],
   "source": []
  },
  {
   "cell_type": "markdown",
   "id": "0947827f-2480-4bb7-adca-c2dde8fe1ffc",
   "metadata": {},
   "source": [
    "## -> Performance by region\n",
    "Evaluate performance of the model with the data segmented. In this example, divide by region"
   ]
  },
  {
   "cell_type": "code",
   "execution_count": null,
   "id": "d741e233-8d8a-43e3-95d7-f1161ac00e59",
   "metadata": {},
   "outputs": [],
   "source": []
  },
  {
   "cell_type": "markdown",
   "id": "df436ab9-427a-4b65-8523-c8522849eab1",
   "metadata": {},
   "source": [
    "#### 8.3 Evaluate performance model by region - metrics by region\n",
    "In this example, each region has its own model. So, for each region the metrics are calculated and then show in one only dataframe"
   ]
  },
  {
   "cell_type": "code",
   "execution_count": null,
   "id": "fac59907-6525-4e21-b3b9-14074d6209e7",
   "metadata": {},
   "outputs": [],
   "source": [
    "# r2\n",
    "r2_train_list = []\n",
    "r2_test_list = []\n",
    "for region_name in list_regions:\n",
    "    r2_train = r2_score(dic_y_train[region_name], dic_y_train_pred[region_name]).round(3)\n",
    "    r2_test = r2_score(dic_y_test[region_name], dic_y_test_pred[region_name]).round(3)\n",
    "\n",
    "    r2_train_list.append(r2_train)\n",
    "    r2_test_list.append(r2_test)\n",
    "\n",
    "print('\\nR2')\n",
    "print('r2_train: ', r2_train_list)\n",
    "print('r2_test: ', r2_test_list)"
   ]
  },
  {
   "cell_type": "code",
   "execution_count": null,
   "id": "ec266671-e0d7-4c3d-bc16-b2274cda8847",
   "metadata": {},
   "outputs": [],
   "source": [
    "# mae\n",
    "mae_train_list = []\n",
    "mae_test_list = []\n",
    "\n",
    "for region_name in list_regions:\n",
    "    mae_train = mean_absolute_error(dic_y_train[region_name], dic_y_train_pred[region_name]).round(3)\n",
    "    mae_test = mean_absolute_error(dic_y_test[region_name], dic_y_test_pred[region_name]).round(3)\n",
    "\n",
    "    mae_train_list.append(mae_train)\n",
    "    mae_test_list.append(mae_test)\n",
    "\n",
    "\n",
    "print('\\nMAE')\n",
    "print('mae_train: ', mae_train_list)\n",
    "print('mae_test: ', mae_test_list)"
   ]
  },
  {
   "cell_type": "code",
   "execution_count": null,
   "id": "a17a5666-33c6-4959-9ec1-64eec258eeb5",
   "metadata": {},
   "outputs": [],
   "source": [
    "# mse\n",
    "mse_train_list = []\n",
    "mse_test_list = []\n",
    "\n",
    "for region_name in list_regions:\n",
    "    mse_train = mean_squared_error(dic_y_train[region_name], dic_y_train_pred[region_name], squared = True).round(3)\n",
    "    mse_test= mean_squared_error(dic_y_test[region_name], dic_y_test_pred[region_name], squared = True).round(3)\n",
    "\n",
    "    mse_train_list.append(mse_train)\n",
    "    mse_test_list.append(mse_test)\n",
    "\n",
    "print('\\nMSE')\n",
    "print('mse_train: ', mse_train_list)\n",
    "print('mse_test: ', mse_test_list)"
   ]
  },
  {
   "cell_type": "code",
   "execution_count": null,
   "id": "a5572936-4c87-4891-b15a-1309f5d7b48f",
   "metadata": {},
   "outputs": [],
   "source": [
    "# rmse\n",
    "rmse_train_list = []\n",
    "rmse_test_list = []\n",
    "\n",
    "for region_name in list_regions:\n",
    "    rmse_train = mean_squared_error(dic_y_train[region_name], dic_y_train_pred[region_name], squared = False).round(3)\n",
    "    rmse_test= mean_squared_error(dic_y_test[region_name], dic_y_test_pred[region_name], squared = False).round(3)\n",
    "\n",
    "    rmse_train_list.append(rmse_train)\n",
    "    rmse_test_list.append(rmse_test)\n",
    "\n",
    "\n",
    "print('\\nRMSE')\n",
    "print('rmse_train: ', rmse_train_list)\n",
    "print('rmse_test: ', rmse_test_list)"
   ]
  },
  {
   "cell_type": "code",
   "execution_count": null,
   "id": "443050e9-cdf5-4852-92db-475440f8f994",
   "metadata": {},
   "outputs": [],
   "source": [
    "#### save in a dataframe TRAIN\n",
    "df_metrics_each_region_train = pd.DataFrame()\n",
    "df_metrics_each_region_train['region'] = list_regions\n",
    "df_metrics_each_region_train['r2'] = r2_train_list\n",
    "df_metrics_each_region_train['mae'] = mae_train_list\n",
    "df_metrics_each_region_train['mse'] = mse_train_list\n",
    "df_metrics_each_region_train['rmse'] = rmse_train_list\n",
    "\n",
    "\n",
    "# sort columns to compare\n",
    "df_metrics_each_region_train = df_metrics_each_region_train.sort_values(by = 'region')\n",
    "\n",
    "df_metrics_each_region_train"
   ]
  },
  {
   "cell_type": "code",
   "execution_count": null,
   "id": "6cd2dc05-7758-4098-8cd8-1787ac872fc7",
   "metadata": {},
   "outputs": [],
   "source": [
    "#### save in a dataframe TEST\n",
    "df_metrics_each_region_test = pd.DataFrame()\n",
    "df_metrics_each_region_test['region'] = list_regions\n",
    "df_metrics_each_region_test['r2'] = r2_test_list\n",
    "df_metrics_each_region_test['mae'] = mae_test_list\n",
    "df_metrics_each_region_test['mse'] = mse_test_list\n",
    "df_metrics_each_region_test['rmse'] = rmse_test_list\n",
    "\n",
    "\n",
    "# sort columns to compare\n",
    "df_metrics_each_region_test = df_metrics_each_region_test.sort_values(by = 'region')\n",
    "\n",
    "df_metrics_each_region_test"
   ]
  },
  {
   "cell_type": "code",
   "execution_count": null,
   "id": "86542dcc-3683-4af4-ba74-aabd93e7b982",
   "metadata": {},
   "outputs": [],
   "source": []
  },
  {
   "cell_type": "markdown",
   "id": "ce307954-0833-4b76-a100-da5f91ab6f56",
   "metadata": {},
   "source": [
    "#### 8.4 Evaluate y_true vs y_pred by region (individual plot)"
   ]
  },
  {
   "cell_type": "code",
   "execution_count": null,
   "id": "df11fdbd-3de6-4ce5-bb98-7ed2b7f39f54",
   "metadata": {},
   "outputs": [],
   "source": [
    "def plot_y_true_vs_y_pred(df_y_true, df_y_pred, title_plot):\n",
    "    \"\"\"\n",
    "    Plot y_true vs y_pred. Both in format dataframe\n",
    "    \"\"\"\n",
    "    fig, ax = plt.subplots()\n",
    "    scatter_plot = ax.scatter(df_y_true, df_y_pred, alpha=0.3, marker='x', label='y_true vs y_pred')\n",
    "\n",
    "    # Add bisectriz\n",
    "    x = np.linspace(df_y_true.min()[0], df_y_true.max()[0], df_y_true.shape[0])\n",
    "    y = x  # Bisectriz: y = x\n",
    "    ax.plot(x, y, label='Bisectriz', color='red', alpha=0.3)\n",
    "\n",
    "    # Add names to axis\n",
    "    ax.set_xlabel('Y true')\n",
    "    ax.set_ylabel('Y pred')\n",
    "    \n",
    "    ax.set_title(title_plot)\n",
    "    ax.legend()\n",
    "\n",
    "    \n",
    "    \n",
    "    return fig"
   ]
  },
  {
   "cell_type": "code",
   "execution_count": null,
   "id": "28a7ef37-d4da-48d7-a879-3e499d8b273c",
   "metadata": {},
   "outputs": [],
   "source": [
    "### TRAIN\n",
    "for region_name in list_regions:\n",
    "    print(region_name)\n",
    "    \n",
    "    # plot\n",
    "    plot_y_true_vs_y_pred(df_y_true = dic_y_train[region_name],\n",
    "                         df_y_pred = dic_y_train_pred[region_name],\n",
    "                          title_plot = f'y_true vs y_pred for region: {region_name}'\n",
    "                         )"
   ]
  },
  {
   "cell_type": "code",
   "execution_count": null,
   "id": "519a2b3b-a7ee-4e3f-8a94-094dd43992ba",
   "metadata": {},
   "outputs": [],
   "source": [
    "### TEST\n",
    "for region_name in list_regions:\n",
    "    print(region_name)\n",
    "    \n",
    "    # plot\n",
    "    plot_y_true_vs_y_pred(df_y_true = dic_y_test[region_name],\n",
    "                         df_y_pred = dic_y_test_pred[region_name],\n",
    "                          title_plot = f'y_true vs y_pred for region: {region_name}'\n",
    "                         )"
   ]
  },
  {
   "cell_type": "code",
   "execution_count": null,
   "id": "f4edc1d7-5b1d-4581-a565-1b225853b7db",
   "metadata": {},
   "outputs": [],
   "source": []
  },
  {
   "cell_type": "code",
   "execution_count": null,
   "id": "e4f678d9-5383-442d-9e31-232e856d014a",
   "metadata": {},
   "outputs": [],
   "source": []
  },
  {
   "cell_type": "markdown",
   "id": "c45e341a-5280-4ef9-acf4-17548c70aab9",
   "metadata": {},
   "source": [
    "#### 8.5 Evaluate y_true vs y_pred by region (one plot true vs pred - colored by region)"
   ]
  },
  {
   "cell_type": "code",
   "execution_count": null,
   "id": "30631580-4f1b-476a-8683-2701174c03a0",
   "metadata": {},
   "outputs": [],
   "source": [
    "############# TRAIN\n",
    "y = pd.DataFrame()\n",
    "for region_name in list_regions:\n",
    "    #print(region_name)\n",
    "    # generate a data of all regions append\n",
    "    y = pd.concat([y, dic_y_train[region_name]])\n",
    "    \n",
    "    \n",
    "    # plot scatter plot for each region\n",
    "    ### plot scatter plot\n",
    "    fig_plot = plt.scatter(dic_y_train[region_name], \n",
    "                           dic_y_train_pred[region_name],\n",
    "                          alpha = 0.3,\n",
    "                          marker = 'x',\n",
    "                          label = f'region: {region_name}')\n",
    "    \n",
    "    ### add names to axis\n",
    "    plt.xlabel('Y true')\n",
    "    plt.ylabel('Y pred')\n",
    "\n",
    "\n",
    "### add bisectriz \n",
    "x_bisectriz = np.linspace(y.min()[0], y.max()[0], y.shape[0])\n",
    "y_bisectriz = x_bisectriz  # Bisectriz: y = x\n",
    "plt.plot(x_bisectriz, y_bisectriz, label='Bisectriz', color='red')\n",
    "\n",
    "# title\n",
    "plt.title('y_true vs y_pred')\n",
    "plt.legend()"
   ]
  },
  {
   "cell_type": "code",
   "execution_count": null,
   "id": "7a188cbf-363f-40de-9111-304bae78fe0a",
   "metadata": {},
   "outputs": [],
   "source": []
  },
  {
   "cell_type": "code",
   "execution_count": null,
   "id": "aace8de2-6e33-423f-8853-8c8b9435671d",
   "metadata": {},
   "outputs": [],
   "source": [
    "############# TEST\n",
    "y = pd.DataFrame()\n",
    "for region_name in list_regions:\n",
    "    #print(region_name)\n",
    "    # generate a data of all regions append\n",
    "    y = pd.concat([y, dic_y_test[region_name]])\n",
    "    \n",
    "    \n",
    "    # plot scatter plot for each region\n",
    "    ### plot scatter plot\n",
    "    fig_plot = plt.scatter(dic_y_test[region_name], \n",
    "                           dic_y_test_pred[region_name],\n",
    "                          alpha = 0.3,\n",
    "                          marker = 'x',\n",
    "                          label = f'region: {region_name}')\n",
    "    \n",
    "    ### add names to axis\n",
    "    plt.xlabel('Y true')\n",
    "    plt.ylabel('Y pred')\n",
    "\n",
    "\n",
    "### add bisectriz \n",
    "x_bisectriz = np.linspace(y.min()[0], y.max()[0], y.shape[0])\n",
    "y_bisectriz = x_bisectriz  # Bisectriz: y = x\n",
    "plt.plot(x_bisectriz, y_bisectriz, label='Bisectriz', color='red')\n",
    "\n",
    "# title\n",
    "plt.title('y_true vs y_pred')\n",
    "plt.legend()"
   ]
  },
  {
   "cell_type": "code",
   "execution_count": null,
   "id": "5be95684-de33-45c9-a063-a2c6b72bc67b",
   "metadata": {},
   "outputs": [],
   "source": []
  },
  {
   "cell_type": "code",
   "execution_count": null,
   "id": "bfe5f0b2-b7a0-4bcf-b658-754631000b70",
   "metadata": {},
   "outputs": [],
   "source": []
  },
  {
   "cell_type": "markdown",
   "id": "7d728de5-ab42-4e8a-8f64-5541da0193cc",
   "metadata": {},
   "source": [
    "## Save model and transformations"
   ]
  },
  {
   "cell_type": "code",
   "execution_count": null,
   "id": "dcd0235c-9113-4e94-85f3-6d57262246bc",
   "metadata": {},
   "outputs": [],
   "source": [
    "import pickle\n",
    "\n",
    "# params\n",
    "path_folder_artifacts = 'artifacts/models/5_prices_regions_multiple_lr-gurobi-free-licence/'"
   ]
  },
  {
   "cell_type": "code",
   "execution_count": null,
   "id": "ae02667b-d058-46c5-a4bb-5ba7c2a6165d",
   "metadata": {},
   "outputs": [],
   "source": [
    "### save all the models - save each model with its region name \"model_{region}.pkl\"\n",
    "\n",
    "for region_name in list_regions:\n",
    "    print(f'saving model: {region_name}')\n",
    "    name_artifact_model = f'model_{region_name}.pkl'\n",
    "    path_artifact_model = path_folder_artifacts + name_artifact_model\n",
    "    with open(path_artifact_model, 'wb') as artifact:\n",
    "        pickle.dump(dic_lr_model[region_name], artifact)"
   ]
  },
  {
   "cell_type": "code",
   "execution_count": null,
   "id": "177429b7-a255-444f-ab3f-e24c5ae9aa71",
   "metadata": {},
   "outputs": [],
   "source": [
    "dic_lr_model[region_name]"
   ]
  },
  {
   "cell_type": "code",
   "execution_count": null,
   "id": "80fcc08d-d1ff-4ca9-8121-bf7cd48e0cb2",
   "metadata": {},
   "outputs": [],
   "source": []
  },
  {
   "cell_type": "code",
   "execution_count": null,
   "id": "abfae641-1cad-48dc-aa03-f24c0118a3d9",
   "metadata": {},
   "outputs": [],
   "source": []
  },
  {
   "cell_type": "code",
   "execution_count": null,
   "id": "d471affa-4cf4-4470-b4d7-af551722e943",
   "metadata": {},
   "outputs": [],
   "source": []
  }
 ],
 "metadata": {
  "kernelspec": {
   "display_name": "Python 3 (ipykernel)",
   "language": "python",
   "name": "python3"
  },
  "language_info": {
   "codemirror_mode": {
    "name": "ipython",
    "version": 3
   },
   "file_extension": ".py",
   "mimetype": "text/x-python",
   "name": "python",
   "nbconvert_exporter": "python",
   "pygments_lexer": "ipython3",
   "version": "3.10.14"
  }
 },
 "nbformat": 4,
 "nbformat_minor": 5
}
