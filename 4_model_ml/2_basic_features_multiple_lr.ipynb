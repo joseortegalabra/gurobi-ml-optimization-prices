{
 "cells": [
  {
   "cell_type": "markdown",
   "id": "d566b98a-f9da-485d-a0f1-792ad36a7f59",
   "metadata": {},
   "source": [
    "## data prices regions - train one linear regression model\n",
    "\n",
    "Content:\n",
    "- data: basic features: units_sold\tprice\tregion\tpeak\n",
    "  \n",
    "- Model: artifact that contain the model and the feature engineering (previosly a feature engineering was done, but for example objetive, in this part a do more feature engineering and \"compile\" it with the model)\n",
    "\n",
    "- **In the previous notebook, the linear regression fits good into all dataset, but seeing the performance in each region the metrics are bad. So, in this example, multiple linear regressions are fitted, one by region.**\n",
    "\n",
    "- Originally, the list of features are ['region', 'peak', 'price'], but in this example, the data is divided into multiple groups by feature \"region\". **So the models are trained using the features ['peak', 'price']**"
   ]
  },
  {
   "cell_type": "code",
   "execution_count": null,
   "id": "6f0b4cce-a1d6-4b34-bcc2-d902abb7f99d",
   "metadata": {},
   "outputs": [],
   "source": [
    "import pandas as pd\n",
    "import matplotlib.pyplot as plt\n",
    "import numpy as np\n",
    "\n",
    "from sklearn.model_selection import train_test_split\n",
    "\n",
    "from sklearn.preprocessing import OneHotEncoder\n",
    "from sklearn.preprocessing import StandardScaler\n",
    "from sklearn.compose import make_column_transformer\n",
    "\n",
    "from sklearn.linear_model import LinearRegression\n",
    "from sklearn.model_selection import cross_val_score\n",
    "from sklearn.pipeline import make_pipeline\n",
    "\n",
    "from sklearn.metrics import r2_score\n",
    "from sklearn.metrics import mean_absolute_error\n",
    "from sklearn.metrics import mean_squared_error"
   ]
  },
  {
   "cell_type": "code",
   "execution_count": null,
   "id": "f90eca1c-802c-402b-ad02-c2dab2db1646",
   "metadata": {},
   "outputs": [],
   "source": []
  },
  {
   "cell_type": "markdown",
   "id": "0778cfbc-5056-4f0a-b52b-70fb6aacd600",
   "metadata": {},
   "source": [
    "### 0. Root repo"
   ]
  },
  {
   "cell_type": "code",
   "execution_count": null,
   "id": "b7e27800-aa46-4ec2-97f3-791cbfe89246",
   "metadata": {},
   "outputs": [],
   "source": [
    "import os\n",
    "# fix root path to save outputs\n",
    "actual_path = os.path.abspath(os.getcwd())\n",
    "list_root_path = actual_path.split('\\\\')[:-1]\n",
    "root_path = '\\\\'.join(list_root_path)\n",
    "os.chdir(root_path)\n",
    "print('root path: ', root_path)"
   ]
  },
  {
   "cell_type": "code",
   "execution_count": null,
   "id": "de856fce-39cd-4369-9132-cc4db8dd9946",
   "metadata": {},
   "outputs": [],
   "source": []
  },
  {
   "cell_type": "markdown",
   "id": "0eaa6386-22bd-4d01-ac4d-dcf148364671",
   "metadata": {},
   "source": [
    "### 1. Read data"
   ]
  },
  {
   "cell_type": "code",
   "execution_count": null,
   "id": "559f704d-5bf8-4008-aa8d-faca5329fbb0",
   "metadata": {},
   "outputs": [],
   "source": [
    "# read data\n",
    "path_data_basic_features = 'artifacts/data/data_basic_features.pkl'\n",
    "data = pd.read_pickle(path_data_basic_features)\n",
    "\n",
    "data.head()"
   ]
  },
  {
   "cell_type": "markdown",
   "id": "8dda34c3-fc67-426a-9a4a-681b50058773",
   "metadata": {},
   "source": [
    "### 2. Generate X, y, list features, list segmentation data"
   ]
  },
  {
   "cell_type": "code",
   "execution_count": null,
   "id": "029cb2c5-078e-4aca-90dd-f6d9b3a2b28e",
   "metadata": {},
   "outputs": [],
   "source": [
    "\"\"\" Define features and target \"\"\"\n",
    "# target\n",
    "target = 'units_sold'\n",
    "list_target = [target]\n",
    "\n",
    "# list features - all variables in dataframe that are not target\n",
    "list_features = list(set(data.columns.tolist()) - set([target]))\n",
    "\n",
    "### set manually list features\n",
    "list_features = ['region', 'peak', 'price']\n",
    "\n",
    "print('list_features: ', list_features)\n",
    "print('list_target: ', list_target)"
   ]
  },
  {
   "cell_type": "code",
   "execution_count": null,
   "id": "6d483da9-3497-487a-93b1-31592a21da5f",
   "metadata": {},
   "outputs": [],
   "source": [
    "\"\"\" create data X - features // y - target \"\"\"\n",
    "data_X = data[list_features]\n",
    "data_y = data[list_target]"
   ]
  },
  {
   "cell_type": "code",
   "execution_count": null,
   "id": "a1846ead-34a2-43a8-802e-fbd5feb51c35",
   "metadata": {},
   "outputs": [],
   "source": [
    "\"\"\" Create list regions \"\"\"\n",
    "list_regions = data_X['region'].unique().tolist()\n",
    "list_regions.sort()\n",
    "list_regions"
   ]
  },
  {
   "cell_type": "code",
   "execution_count": null,
   "id": "ad48643d-5a22-4fb1-a028-170f2acf52ae",
   "metadata": {},
   "outputs": [],
   "source": []
  },
  {
   "cell_type": "code",
   "execution_count": null,
   "id": "df99df7b-6d80-4495-9748-a11cefb47113",
   "metadata": {},
   "outputs": [],
   "source": []
  },
  {
   "cell_type": "code",
   "execution_count": null,
   "id": "7ec0d0d1-0115-4539-a32d-b1b66c16c0a2",
   "metadata": {},
   "outputs": [],
   "source": []
  },
  {
   "cell_type": "markdown",
   "id": "b2d0274a-1220-4cf7-ace7-a4d32863ae72",
   "metadata": {},
   "source": [
    "### 3. Split - train - test"
   ]
  },
  {
   "cell_type": "code",
   "execution_count": null,
   "id": "53fe8269-b927-478e-bde7-4fee448c4161",
   "metadata": {},
   "outputs": [],
   "source": [
    "X_train, X_test, y_train, y_test = train_test_split(data_X, \n",
    "                                                    data_y, \n",
    "                                                    train_size = 0.7, \n",
    "                                                    random_state = 42\n",
    "                                                   )"
   ]
  },
  {
   "cell_type": "code",
   "execution_count": null,
   "id": "c6c43704-ded8-4e68-9bd3-ef3fa9e8aa40",
   "metadata": {},
   "outputs": [],
   "source": [
    "print('shapes')\n",
    "print('X_train: ', X_train.shape)\n",
    "print('y_train: ', y_train.shape)\n",
    "print('X_test: ', X_test.shape)\n",
    "print('y_test: ', y_test.shape)"
   ]
  },
  {
   "cell_type": "code",
   "execution_count": null,
   "id": "773e893a-0b1f-436e-9ff1-a19f26e112f9",
   "metadata": {},
   "outputs": [],
   "source": [
    "X_train.head(2)"
   ]
  },
  {
   "cell_type": "code",
   "execution_count": null,
   "id": "0bd0be60-6111-4bb6-a7af-9044b29e7dac",
   "metadata": {},
   "outputs": [],
   "source": [
    "y_train.head(2)"
   ]
  },
  {
   "cell_type": "code",
   "execution_count": null,
   "id": "6db58195-5722-4322-9c7e-04ecd513c509",
   "metadata": {},
   "outputs": [],
   "source": [
    "X_test.head(2)"
   ]
  },
  {
   "cell_type": "code",
   "execution_count": null,
   "id": "bf751c32-41af-4746-b0bf-e0683aefc1f1",
   "metadata": {},
   "outputs": [],
   "source": [
    "y_test.head(2)"
   ]
  },
  {
   "cell_type": "code",
   "execution_count": null,
   "id": "76daccb8-e624-4496-840a-7f2070d3900c",
   "metadata": {},
   "outputs": [],
   "source": []
  },
  {
   "cell_type": "markdown",
   "id": "a7e8a84e-42e9-4fdf-821b-23fb3871f20b",
   "metadata": {},
   "source": [
    "### 4. Pipeline processing data\n",
    "- Region string. The model is divided into one model per region and delete this column before the training of the model (steps: divide data each region, delete region, train model), so it is not necessary this feature\n",
    "- Peak ok - binary variable\n",
    "- price normalize continuous variable"
   ]
  },
  {
   "cell_type": "code",
   "execution_count": null,
   "id": "857c2621-181f-4025-9d41-142e806b3fa1",
   "metadata": {},
   "outputs": [],
   "source": [
    "feat_transform_multiple_lr = make_column_transformer(\n",
    "    (StandardScaler(), [\"price\"]),\n",
    "    (\"passthrough\", [\"peak\"]),\n",
    "    verbose_feature_names_out=False, # conserve original column names\n",
    "    remainder='drop'\n",
    ")"
   ]
  },
  {
   "cell_type": "code",
   "execution_count": null,
   "id": "f5346452-e0f7-4fde-b036-c96c165f4242",
   "metadata": {},
   "outputs": [],
   "source": [
    "# shape output\n",
    "feat_transform_multiple_lr.fit_transform(X_train).shape"
   ]
  },
  {
   "cell_type": "code",
   "execution_count": null,
   "id": "2f8f67e3-b2c1-4682-81c1-648da86c882a",
   "metadata": {},
   "outputs": [],
   "source": [
    "# example output\n",
    "feat_transform_multiple_lr.fit_transform(X_train)[0, :]"
   ]
  },
  {
   "cell_type": "code",
   "execution_count": null,
   "id": "dde74f6e-7cc5-4967-bcfc-45dd74ab1e0d",
   "metadata": {},
   "outputs": [],
   "source": [
    "# original example output\n",
    "X_train.iloc[0, :]"
   ]
  },
  {
   "cell_type": "code",
   "execution_count": null,
   "id": "1dde6eaa-0513-4e80-9ec9-5560e1258296",
   "metadata": {},
   "outputs": [],
   "source": []
  },
  {
   "cell_type": "code",
   "execution_count": null,
   "id": "b50e551e-631f-4de3-9d16-994e8ed89dd2",
   "metadata": {},
   "outputs": [],
   "source": []
  },
  {
   "cell_type": "markdown",
   "id": "69f3519c-b181-4a41-940b-1563ff87c900",
   "metadata": {},
   "source": [
    "### 5. Pipeline processing data + train model"
   ]
  },
  {
   "cell_type": "code",
   "execution_count": null,
   "id": "11061dbf-a1f9-424d-b36d-285aa8165fec",
   "metadata": {},
   "outputs": [],
   "source": [
    "#linear_reg_pipeline = make_pipeline(feat_transform_multiple_lr, LinearRegression())"
   ]
  },
  {
   "cell_type": "code",
   "execution_count": null,
   "id": "6ff10b75-9c32-49cf-a5a8-37cd3cca36c0",
   "metadata": {},
   "outputs": [],
   "source": []
  },
  {
   "cell_type": "code",
   "execution_count": null,
   "id": "f94a79c4-10bb-4bb1-bb9c-12449e757bca",
   "metadata": {},
   "outputs": [],
   "source": []
  },
  {
   "cell_type": "markdown",
   "id": "b1a285e1-977f-4e1d-991a-dddf8d47e4ea",
   "metadata": {},
   "source": [
    "### 6. Split data train&test by regions\n",
    "Generate datasets train and test for each region to train differents models for each region' dataset"
   ]
  },
  {
   "cell_type": "code",
   "execution_count": null,
   "id": "34e8393d-cfb7-4e15-b3c0-30514659b7b2",
   "metadata": {},
   "outputs": [],
   "source": [
    "# generate a dictionaries to save \"X_train\", \"y_train\", \"X_test\", \"y_test\", \"model\" by each region\n",
    "dic_X_train = {} \n",
    "dic_y_train = {} \n",
    "dic_X_test = {}\n",
    "dic_y_test = {}\n",
    "dic_lr_model = {}"
   ]
  },
  {
   "cell_type": "code",
   "execution_count": null,
   "id": "3deb5062-e8de-431e-8c90-a1d859e8370b",
   "metadata": {},
   "outputs": [],
   "source": [
    "# add column region in data \"y\" to filter data by region\n",
    "y_train['region'] = X_train[['region']]\n",
    "y_test['region'] = X_test[['region']]\n",
    "\n",
    "for region_name in list_regions:\n",
    "    #print(region_name)\n",
    "\n",
    "    ##### TRAIN\n",
    "    # generate X_train filtered by region\n",
    "    X_train_filter_region = X_train[X_train['region'] == region_name]\n",
    "    X_train_filter_region = X_train_filter_region.drop(columns = 'region')\n",
    "    \n",
    "    # generate y_train filtered by region\n",
    "    y_train_filter_region = y_train[y_train['region'] == region_name]\n",
    "    y_train_filter_region = y_train_filter_region.drop(columns = 'region')\n",
    "\n",
    "\n",
    "    ##### TEST\n",
    "    # generate X_test filtered by region\n",
    "    X_test_filter_region = X_test[X_test['region'] == region_name]\n",
    "    X_test_filter_region = X_test_filter_region.drop(columns = 'region')\n",
    "    \n",
    "    # generate y_test filtered by region\n",
    "    y_test_filter_region = y_test[y_test['region'] == region_name]\n",
    "    y_test_filter_region = y_test_filter_region.drop(columns = 'region')\n",
    "\n",
    "\n",
    "    ##### MODEL\n",
    "    linear_reg_pipeline = make_pipeline(feat_transform_multiple_lr, LinearRegression())\n",
    "\n",
    "\n",
    "    ##### SAVE IN DICCTIONARIES\n",
    "    dic_X_train[region_name] = X_train_filter_region\n",
    "    dic_y_train[region_name] = y_train_filter_region\n",
    "    dic_X_test[region_name] = X_test_filter_region\n",
    "    dic_y_test[region_name] = y_test_filter_region\n",
    "    dic_lr_model[region_name] = linear_reg_pipeline"
   ]
  },
  {
   "cell_type": "code",
   "execution_count": null,
   "id": "3954cd6c-59e0-4f02-a036-be3da9265884",
   "metadata": {},
   "outputs": [],
   "source": [
    "# show example\n",
    "dic_lr_model"
   ]
  },
  {
   "cell_type": "code",
   "execution_count": null,
   "id": "f44516a8-f570-4190-bffc-af5fceffaf80",
   "metadata": {},
   "outputs": [],
   "source": [
    "# show example train dataset\n",
    "region_example = list(dic_X_train.keys())[0]\n",
    "dic_X_train[region_example]"
   ]
  },
  {
   "cell_type": "code",
   "execution_count": null,
   "id": "8002459c-b307-4351-9198-400c9891938f",
   "metadata": {},
   "outputs": [],
   "source": []
  },
  {
   "cell_type": "markdown",
   "id": "346f4f79-8abb-4aaa-94a2-f488abd5e485",
   "metadata": {},
   "source": [
    "### 7. Train model with all train dataset"
   ]
  },
  {
   "cell_type": "code",
   "execution_count": null,
   "id": "4aefd753-3b8d-4ecb-a207-dfbada7172f5",
   "metadata": {},
   "outputs": [],
   "source": [
    "for region_name in list_regions:\n",
    "    print(f'trainning: {region_name}')\n",
    "    dic_lr_model[region_name].fit(dic_X_train[region_name], dic_y_train[region_name])"
   ]
  },
  {
   "cell_type": "code",
   "execution_count": null,
   "id": "9284d359-c2c1-4846-be72-54101fac0c5e",
   "metadata": {},
   "outputs": [],
   "source": []
  },
  {
   "cell_type": "markdown",
   "id": "4b5abe04-dba8-4bd1-9e52-b713a0ba28b5",
   "metadata": {},
   "source": [
    "## 8. Evaluate Performance Model"
   ]
  },
  {
   "cell_type": "markdown",
   "id": "fb2fd6fe-d072-4a34-8a68-cca697eb3889",
   "metadata": {},
   "source": [
    "## Performance all data\n",
    "Evaluate performance of the model with all the train and test data"
   ]
  },
  {
   "cell_type": "markdown",
   "id": "7628cc75-bf4b-4c88-b364-1cf846c0bb12",
   "metadata": {},
   "source": [
    "#### 8.0 Get y_train_pred , y_test_pred"
   ]
  },
  {
   "cell_type": "markdown",
   "id": "0ecab3e2-31cc-4fdb-9e17-2392ed801b61",
   "metadata": {},
   "source": [
    "#### 8.0.1 Get predictions of the data segmented by region. Each segmentation has it own model\n",
    "Generate a dictionary where the values predicted for each region are saved"
   ]
  },
  {
   "cell_type": "code",
   "execution_count": null,
   "id": "0d4a3889-4347-4f50-9f5d-1139652f789c",
   "metadata": {},
   "outputs": [],
   "source": [
    "### generate dictionary to save y_pred\n",
    "dic_y_train_pred = {}\n",
    "dic_y_test_pred = {}\n",
    "\n",
    "### save y_pred\n",
    "for region_name in list_regions:\n",
    "    \n",
    "    y_train_pred = dic_lr_model[region_name].predict(dic_X_train[region_name])\n",
    "    dic_y_train_pred[region_name] = pd.DataFrame(y_train_pred)\n",
    "\n",
    "    y_test_pred = dic_lr_model[region_name].predict(dic_X_test[region_name])\n",
    "    dic_y_test_pred[region_name] = pd.DataFrame(y_test_pred)"
   ]
  },
  {
   "cell_type": "code",
   "execution_count": null,
   "id": "e59a5485-8d12-42da-b827-0e87d49164c1",
   "metadata": {},
   "outputs": [],
   "source": []
  },
  {
   "cell_type": "markdown",
   "id": "7aebb94e-4da4-4b01-ae22-7c5bd9c29da2",
   "metadata": {},
   "source": [
    "#### 8.0.2 Get predictions of all the data.\n",
    "Join the data predicted (train and test) (true and predited) for each region into only one dataframe"
   ]
  },
  {
   "cell_type": "code",
   "execution_count": null,
   "id": "022f974f-3fc0-4eab-9109-30b2ef0d5824",
   "metadata": {},
   "outputs": [],
   "source": [
    "###### generate a data of all regions append\n",
    "\n",
    "# create dataframes placeholders\n",
    "y_train_joined = pd.DataFrame()\n",
    "y_test_joined = pd.DataFrame()\n",
    "y_train_joined_pred = pd.DataFrame()\n",
    "y_test_joined_pred = pd.DataFrame()\n",
    "\n",
    "\n",
    "# generate y_train_joined, y_test_joined and the predicted values y_train_joined_pred, y_test_joined_pred\n",
    "for region_name in list_regions:\n",
    "    print(region_name)\n",
    "\n",
    "    # y_train\n",
    "    y_train_joined = pd.concat([y_train_joined, dic_y_train[region_name]])\n",
    "\n",
    "    # y_train_pred\n",
    "    y_train_joined_pred = pd.concat([y_train_joined_pred, dic_y_train_pred[region_name]])\n",
    "\n",
    "\n",
    "    # y_test\n",
    "    y_test_joined = pd.concat([y_test_joined, dic_y_test[region_name]])\n",
    "\n",
    "    # y_test_pred\n",
    "    y_test_joined_pred = pd.concat([y_test_joined_pred, dic_y_test_pred[region_name]])"
   ]
  },
  {
   "cell_type": "code",
   "execution_count": null,
   "id": "ad2feb2d-5d3d-4db8-8861-8a5a0c24e2c4",
   "metadata": {},
   "outputs": [],
   "source": [
    "print('view shape')\n",
    "print('y_train: ', y_train_joined.shape)\n",
    "print('y_train_pred: ', y_train_joined_pred.shape)\n",
    "\n",
    "print('y_test: ', y_test_joined.shape)\n",
    "print('y_test_pred: ', y_test_joined_pred.shape)"
   ]
  },
  {
   "cell_type": "code",
   "execution_count": null,
   "id": "5ae29e68-dfb4-4b72-9360-858a2ca50177",
   "metadata": {},
   "outputs": [],
   "source": []
  },
  {
   "cell_type": "markdown",
   "id": "30f4911b-4d32-4d21-a127-f34d849155e4",
   "metadata": {},
   "source": [
    "#### 8.1. Evaluate performance model - metrics"
   ]
  },
  {
   "cell_type": "code",
   "execution_count": null,
   "id": "d41a237e-5103-4c83-be88-f1c6cef689dd",
   "metadata": {},
   "outputs": [],
   "source": [
    "def print_metrics_evaluation(y_train,  y_train_pred, y_test, y_test_pred):\n",
    "    \"\"\"\n",
    "    Print metrics of supervised models. Train and Test metrics\n",
    "\n",
    "    Args:\n",
    "        y_train\n",
    "        y_train_pred\n",
    "        y_test\n",
    "        y_test_pred\n",
    "    \"\"\"\n",
    "    # evaluate model\n",
    "    \n",
    "    # r2\n",
    "    r2_train = r2_score(y_train, y_train_pred).round(3)\n",
    "    r2_test = r2_score(y_test, y_test_pred).round(3)\n",
    "    \n",
    "    print('\\nR2')\n",
    "    print('r2_train: ', r2_train)\n",
    "    print('r2_test: ', r2_test)\n",
    "    \n",
    "    \n",
    "    # mae\n",
    "    mae_train = mean_absolute_error(y_train, y_train_pred).round(3)\n",
    "    mae_test = mean_absolute_error(y_test, y_test_pred).round(3)\n",
    "    \n",
    "    print('\\nMAE')\n",
    "    print('mae_train: ', mae_train)\n",
    "    print('mae_test: ', mae_test)\n",
    "    \n",
    "    # mse\n",
    "    mse_train = mean_squared_error(y_train, y_train_pred, squared = True).round(3)\n",
    "    mse_test= mean_squared_error(y_test, y_test_pred, squared = True).round(3)\n",
    "    \n",
    "    print('\\nMSE')\n",
    "    print('mse_train: ', mse_train)\n",
    "    print('mse_test: ', mse_test)\n",
    "    \n",
    "    \n",
    "    # rmse\n",
    "    rmse_train = mean_squared_error(y_train, y_train_pred, squared = False).round(3)\n",
    "    rmse_test= mean_squared_error(y_test, y_test_pred, squared = False).round(3)\n",
    "    \n",
    "    print('\\nRMSE')\n",
    "    print('rmse_train: ', rmse_train)\n",
    "    print('rmse_test: ', rmse_test)"
   ]
  },
  {
   "cell_type": "code",
   "execution_count": null,
   "id": "137d4652-757f-4701-acd6-bf941219780e",
   "metadata": {},
   "outputs": [],
   "source": [
    "print_metrics_evaluation(y_train = y_train_joined, \n",
    "                         y_train_pred = y_train_joined_pred, \n",
    "                         y_test = y_test_joined, \n",
    "                         y_test_pred = y_test_joined_pred\n",
    "                        )"
   ]
  },
  {
   "cell_type": "code",
   "execution_count": null,
   "id": "bb88ea34-b0d0-47aa-ad4d-62766792a4dd",
   "metadata": {},
   "outputs": [],
   "source": []
  },
  {
   "cell_type": "code",
   "execution_count": null,
   "id": "d3520209-4e26-474c-be24-2f51ea3053b7",
   "metadata": {},
   "outputs": [],
   "source": []
  },
  {
   "cell_type": "markdown",
   "id": "702f9437-59a7-41cd-bf9f-7ef0e360479c",
   "metadata": {},
   "source": [
    "#### 8.2 Evaluate performance model - y true vs y_predicted"
   ]
  },
  {
   "cell_type": "code",
   "execution_count": null,
   "id": "e8d06fe8-0df0-48b7-9d68-37a652253a7d",
   "metadata": {},
   "outputs": [],
   "source": [
    "def plot_y_true_vs_y_pred(df_y_true, df_y_pred, title_plot):\n",
    "    \"\"\"\n",
    "    Plot y_true vs y_pred. Both in format dataframe\n",
    "    \"\"\"\n",
    "    fig, ax = plt.subplots()\n",
    "    scatter_plot = ax.scatter(df_y_true, df_y_pred, alpha=0.3, marker='x', label='y_true vs y_pred')\n",
    "\n",
    "    # Add bisectriz\n",
    "    x = np.linspace(df_y_true.min()[0], df_y_true.max()[0], df_y_true.shape[0])\n",
    "    y = x  # Bisectriz: y = x\n",
    "    ax.plot(x, y, label='Bisectriz', color='red', alpha=0.3)\n",
    "\n",
    "    # Add names to axis\n",
    "    ax.set_xlabel('Y true')\n",
    "    ax.set_ylabel('Y pred')\n",
    "    \n",
    "    ax.set_title(title_plot)\n",
    "    ax.legend()\n",
    "    \n",
    "    return fig"
   ]
  },
  {
   "cell_type": "code",
   "execution_count": null,
   "id": "77fc8737-6f88-4245-8c13-faaa5a53d4d8",
   "metadata": {},
   "outputs": [],
   "source": [
    "# plot TRAIN\n",
    "plot_true_pred_train = plot_y_true_vs_y_pred(df_y_true = y_train_joined,\n",
    "                                             df_y_pred = y_train_joined_pred,\n",
    "                                             title_plot = 'TRAIN DATA'\n",
    "                                            )"
   ]
  },
  {
   "cell_type": "code",
   "execution_count": null,
   "id": "d4610d7f-f060-4afc-a3e4-fa004c127cdf",
   "metadata": {},
   "outputs": [],
   "source": [
    "# plot TEST\n",
    "plot_true_pred_test = plot_y_true_vs_y_pred(df_y_true = y_test_joined,\n",
    "                                            df_y_pred = y_test_joined_pred,\n",
    "                                            title_plot = 'TEST DATA'\n",
    "                                           )"
   ]
  },
  {
   "cell_type": "code",
   "execution_count": null,
   "id": "bce4b7b1-4938-497b-a123-1422a93db06d",
   "metadata": {},
   "outputs": [],
   "source": []
  },
  {
   "cell_type": "markdown",
   "id": "70c8ee64-2ae8-49cf-94d0-da0cc609ff3d",
   "metadata": {},
   "source": [
    "## -> Performance by region\n",
    "Evaluate performance of the model with the data segmented. In this example, divide by region"
   ]
  },
  {
   "cell_type": "code",
   "execution_count": null,
   "id": "27a16896-4b63-4dd7-870f-e41c16dc091d",
   "metadata": {},
   "outputs": [],
   "source": []
  },
  {
   "cell_type": "markdown",
   "id": "b8e322ee-5066-4c91-b7ac-6a32968af00e",
   "metadata": {},
   "source": [
    "#### 8.3 Evaluate performance model by region - metrics by region\n",
    "In this example, each region has its own model. So, for each region the metrics are calculated and then show in one only dataframe"
   ]
  },
  {
   "cell_type": "code",
   "execution_count": null,
   "id": "06bf050e-0f2d-4024-894c-aefea10251db",
   "metadata": {},
   "outputs": [],
   "source": [
    "# r2\n",
    "r2_train_list = []\n",
    "r2_test_list = []\n",
    "for region_name in list_regions:\n",
    "    r2_train = r2_score(dic_y_train[region_name], dic_y_train_pred[region_name]).round(3)\n",
    "    r2_test = r2_score(dic_y_test[region_name], dic_y_test_pred[region_name]).round(3)\n",
    "\n",
    "    r2_train_list.append(r2_train)\n",
    "    r2_test_list.append(r2_test)\n",
    "\n",
    "print('\\nR2')\n",
    "print('r2_train: ', r2_train_list)\n",
    "print('r2_test: ', r2_test_list)"
   ]
  },
  {
   "cell_type": "code",
   "execution_count": null,
   "id": "43211123-5538-4824-9670-91e722485602",
   "metadata": {},
   "outputs": [],
   "source": [
    "# mae\n",
    "mae_train_list = []\n",
    "mae_test_list = []\n",
    "\n",
    "for region_name in list_regions:\n",
    "    mae_train = mean_absolute_error(dic_y_train[region_name], dic_y_train_pred[region_name]).round(3)\n",
    "    mae_test = mean_absolute_error(dic_y_test[region_name], dic_y_test_pred[region_name]).round(3)\n",
    "\n",
    "    mae_train_list.append(mae_train)\n",
    "    mae_test_list.append(mae_test)\n",
    "\n",
    "\n",
    "print('\\nMAE')\n",
    "print('mae_train: ', mae_train_list)\n",
    "print('mae_test: ', mae_test_list)"
   ]
  },
  {
   "cell_type": "code",
   "execution_count": null,
   "id": "da3c06b9-4921-4337-9df8-b0fe5dfa8c84",
   "metadata": {},
   "outputs": [],
   "source": [
    "# mse\n",
    "mse_train_list = []\n",
    "mse_test_list = []\n",
    "\n",
    "for region_name in list_regions:\n",
    "    mse_train = mean_squared_error(dic_y_train[region_name], dic_y_train_pred[region_name], squared = True).round(3)\n",
    "    mse_test= mean_squared_error(dic_y_test[region_name], dic_y_test_pred[region_name], squared = True).round(3)\n",
    "\n",
    "    mse_train_list.append(mse_train)\n",
    "    mse_test_list.append(mse_test)\n",
    "\n",
    "print('\\nMSE')\n",
    "print('mse_train: ', mse_train_list)\n",
    "print('mse_test: ', mse_test_list)"
   ]
  },
  {
   "cell_type": "code",
   "execution_count": null,
   "id": "94c7dead-406f-4973-a098-fc6130b2589f",
   "metadata": {},
   "outputs": [],
   "source": [
    "# rmse\n",
    "rmse_train_list = []\n",
    "rmse_test_list = []\n",
    "\n",
    "for region_name in list_regions:\n",
    "    rmse_train = mean_squared_error(dic_y_train[region_name], dic_y_train_pred[region_name], squared = False).round(3)\n",
    "    rmse_test= mean_squared_error(dic_y_test[region_name], dic_y_test_pred[region_name], squared = False).round(3)\n",
    "\n",
    "    rmse_train_list.append(rmse_train)\n",
    "    rmse_test_list.append(rmse_test)\n",
    "\n",
    "\n",
    "print('\\nRMSE')\n",
    "print('rmse_train: ', rmse_train_list)\n",
    "print('rmse_test: ', rmse_test_list)"
   ]
  },
  {
   "cell_type": "code",
   "execution_count": null,
   "id": "99caa825-3837-466e-beff-8d1b9fe04d19",
   "metadata": {},
   "outputs": [],
   "source": [
    "#### save in a dataframe TRAIN\n",
    "df_metrics_each_region_train = pd.DataFrame()\n",
    "df_metrics_each_region_train['region'] = list_regions\n",
    "df_metrics_each_region_train['r2'] = r2_train_list\n",
    "df_metrics_each_region_train['mae'] = mae_train_list\n",
    "df_metrics_each_region_train['mse'] = mse_train_list\n",
    "df_metrics_each_region_train['rmse'] = rmse_train_list\n",
    "\n",
    "\n",
    "# sort columns to compare\n",
    "df_metrics_each_region_train = df_metrics_each_region_train.sort_values(by = 'region')\n",
    "\n",
    "df_metrics_each_region_train"
   ]
  },
  {
   "cell_type": "code",
   "execution_count": null,
   "id": "1039f7e5-6b9f-46ed-9a33-34850edde2ca",
   "metadata": {},
   "outputs": [],
   "source": [
    "#### save in a dataframe TEST\n",
    "df_metrics_each_region_test = pd.DataFrame()\n",
    "df_metrics_each_region_test['region'] = list_regions\n",
    "df_metrics_each_region_test['r2'] = r2_test_list\n",
    "df_metrics_each_region_test['mae'] = mae_test_list\n",
    "df_metrics_each_region_test['mse'] = mse_test_list\n",
    "df_metrics_each_region_test['rmse'] = rmse_test_list\n",
    "\n",
    "\n",
    "# sort columns to compare\n",
    "df_metrics_each_region_test = df_metrics_each_region_test.sort_values(by = 'region')\n",
    "\n",
    "df_metrics_each_region_test"
   ]
  },
  {
   "cell_type": "markdown",
   "id": "bfb515df-c9ee-4752-9c53-cd448e7c09c3",
   "metadata": {},
   "source": [
    "#### 8.4 Evaluate y_true vs y_pred by region (individual plot)"
   ]
  },
  {
   "cell_type": "code",
   "execution_count": null,
   "id": "f7588323-86e1-4d85-bcea-f49a22e169b6",
   "metadata": {},
   "outputs": [],
   "source": [
    "def plot_y_true_vs_y_pred(df_y_true, df_y_pred, title_plot):\n",
    "    \"\"\"\n",
    "    Plot y_true vs y_pred. Both in format dataframe\n",
    "    \"\"\"\n",
    "    fig, ax = plt.subplots()\n",
    "    scatter_plot = ax.scatter(df_y_true, df_y_pred, alpha=0.3, marker='x', label='y_true vs y_pred')\n",
    "\n",
    "    # Add bisectriz\n",
    "    x = np.linspace(df_y_true.min()[0], df_y_true.max()[0], df_y_true.shape[0])\n",
    "    y = x  # Bisectriz: y = x\n",
    "    ax.plot(x, y, label='Bisectriz', color='red', alpha=0.3)\n",
    "\n",
    "    # Add names to axis\n",
    "    ax.set_xlabel('Y true')\n",
    "    ax.set_ylabel('Y pred')\n",
    "    \n",
    "    ax.set_title(title_plot)\n",
    "    ax.legend()\n",
    "\n",
    "    \n",
    "    \n",
    "    return fig"
   ]
  },
  {
   "cell_type": "code",
   "execution_count": null,
   "id": "db44d83c-2891-406c-ac2f-b0134e2d1710",
   "metadata": {},
   "outputs": [],
   "source": [
    "### TRAIN\n",
    "for region_name in list_regions:\n",
    "    print(region_name)\n",
    "    \n",
    "    # plot\n",
    "    plot_y_true_vs_y_pred(df_y_true = dic_y_train[region_name],\n",
    "                         df_y_pred = dic_y_train_pred[region_name],\n",
    "                          title_plot = f'y_true vs y_pred for region: {region_name}'\n",
    "                         )"
   ]
  },
  {
   "cell_type": "code",
   "execution_count": null,
   "id": "cab7ffbb-a252-4607-bba6-4478f6acbfd3",
   "metadata": {},
   "outputs": [],
   "source": [
    "### TEST\n",
    "for region_name in list_regions:\n",
    "    print(region_name)\n",
    "    \n",
    "    # plot\n",
    "    plot_y_true_vs_y_pred(df_y_true = dic_y_test[region_name],\n",
    "                         df_y_pred = dic_y_test_pred[region_name],\n",
    "                          title_plot = f'y_true vs y_pred for region: {region_name}'\n",
    "                         )"
   ]
  },
  {
   "cell_type": "code",
   "execution_count": null,
   "id": "9a3b5ffb-3d5a-4a31-9814-1cbcae84bed6",
   "metadata": {},
   "outputs": [],
   "source": []
  },
  {
   "cell_type": "code",
   "execution_count": null,
   "id": "161e2ea0-0ed5-48d5-8614-8942f45373bc",
   "metadata": {},
   "outputs": [],
   "source": []
  },
  {
   "cell_type": "code",
   "execution_count": null,
   "id": "0a56a779-280d-4127-bea8-b26565e2184c",
   "metadata": {},
   "outputs": [],
   "source": []
  },
  {
   "cell_type": "markdown",
   "id": "acee5782-607a-4d28-9f25-f8c4a2b1cbe3",
   "metadata": {},
   "source": [
    "#### 8.5 Evaluate y_true vs y_pred by region (one plot true vs pred - colored by region)"
   ]
  },
  {
   "cell_type": "code",
   "execution_count": null,
   "id": "8fc0a2aa-453d-45be-bea3-5ac330c77b0b",
   "metadata": {},
   "outputs": [],
   "source": [
    "############# TRAIN\n",
    "y = pd.DataFrame()\n",
    "for region_name in list_regions:\n",
    "    #print(region_name)\n",
    "    # generate a data of all regions append\n",
    "    y = pd.concat([y, dic_y_train[region_name]])\n",
    "    \n",
    "    \n",
    "    # plot scatter plot for each region\n",
    "    ### plot scatter plot\n",
    "    fig_plot = plt.scatter(dic_y_train[region_name], \n",
    "                           dic_y_train_pred[region_name],\n",
    "                          alpha = 0.3,\n",
    "                          marker = 'x',\n",
    "                          label = f'region: {region_name}')\n",
    "    \n",
    "    ### add names to axis\n",
    "    plt.xlabel('Y true')\n",
    "    plt.ylabel('Y pred')\n",
    "\n",
    "\n",
    "### add bisectriz \n",
    "x_bisectriz = np.linspace(y.min()[0], y.max()[0], y.shape[0])\n",
    "y_bisectriz = x_bisectriz  # Bisectriz: y = x\n",
    "plt.plot(x_bisectriz, y_bisectriz, label='Bisectriz', color='red')\n",
    "\n",
    "# title\n",
    "plt.title('y_true vs y_pred')\n",
    "plt.legend()"
   ]
  },
  {
   "cell_type": "code",
   "execution_count": null,
   "id": "03c741bc-7341-4f16-bd3d-e29e9b582c14",
   "metadata": {},
   "outputs": [],
   "source": [
    "############# TEST\n",
    "y = pd.DataFrame()\n",
    "for region_name in list_regions:\n",
    "    #print(region_name)\n",
    "    # generate a data of all regions append\n",
    "    y = pd.concat([y, dic_y_test[region_name]])\n",
    "    \n",
    "    \n",
    "    # plot scatter plot for each region\n",
    "    ### plot scatter plot\n",
    "    fig_plot = plt.scatter(dic_y_test[region_name], \n",
    "                           dic_y_test_pred[region_name],\n",
    "                          alpha = 0.3,\n",
    "                          marker = 'x',\n",
    "                          label = f'region: {region_name}')\n",
    "    \n",
    "    ### add names to axis\n",
    "    plt.xlabel('Y true')\n",
    "    plt.ylabel('Y pred')\n",
    "\n",
    "\n",
    "### add bisectriz \n",
    "x_bisectriz = np.linspace(y.min()[0], y.max()[0], y.shape[0])\n",
    "y_bisectriz = x_bisectriz  # Bisectriz: y = x\n",
    "plt.plot(x_bisectriz, y_bisectriz, label='Bisectriz', color='red')\n",
    "\n",
    "# title\n",
    "plt.title('y_true vs y_pred')\n",
    "plt.legend()"
   ]
  },
  {
   "cell_type": "code",
   "execution_count": null,
   "id": "4389c9af-0177-4af8-bcd8-3e16bb122839",
   "metadata": {},
   "outputs": [],
   "source": []
  },
  {
   "cell_type": "code",
   "execution_count": null,
   "id": "9f5305d9-25c2-4b29-9d85-c023f4e03307",
   "metadata": {},
   "outputs": [],
   "source": []
  },
  {
   "cell_type": "markdown",
   "id": "72bad1fd-0928-4be7-90cc-97e71e2f5201",
   "metadata": {},
   "source": [
    "## Insights:\n",
    "- Al dividir la data para tener un modelo por region, disminuyen la cantidad de features que ve cada modelo (antes region era una feature y al ser categórica se dividió en mulitples columnas generando varias features)\n",
    "- Se observa una performance global peor\n",
    "- Se observa una performance por región regular, con algunas regiones con mejores performance que el notebook 1 y otras con peor performance"
   ]
  },
  {
   "cell_type": "code",
   "execution_count": null,
   "id": "91f70b50-4f1f-4bb9-993c-e95b65834d2b",
   "metadata": {},
   "outputs": [],
   "source": []
  }
 ],
 "metadata": {
  "kernelspec": {
   "display_name": "Python 3 (ipykernel)",
   "language": "python",
   "name": "python3"
  },
  "language_info": {
   "codemirror_mode": {
    "name": "ipython",
    "version": 3
   },
   "file_extension": ".py",
   "mimetype": "text/x-python",
   "name": "python",
   "nbconvert_exporter": "python",
   "pygments_lexer": "ipython3",
   "version": "3.10.14"
  }
 },
 "nbformat": 4,
 "nbformat_minor": 5
}
