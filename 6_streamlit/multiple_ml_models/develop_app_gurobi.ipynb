{
 "cells": [
  {
   "cell_type": "markdown",
   "id": "22af6b68-9353-43b3-a410-d4aeb1e09ed3",
   "metadata": {},
   "source": [
    "# DEVELOP APP \n",
    "Notebook to develop app - focused in re-use the codes of notebook: \"5_optimization/2_multiple_ml_models\""
   ]
  },
  {
   "cell_type": "markdown",
   "id": "ec518247-2417-4eb6-bbde-41b6d6d3bc2a",
   "metadata": {},
   "source": [
    "# Gurobi optimization using multiple machine learning models\n",
    "## Optimize for Price and Supply of Avocados\n",
    "- In this example there multiple linear regressions, but gurobi machine learning acept multiple models. Documentation **\"gurobi-machinelearning\"**\n",
    "\n",
    "https://gurobi-machinelearning.readthedocs.io/en/stable/api.html\n",
    "\n",
    "\n",
    "- In addition, to define the decision variables, parameters, restriction, etc of the optimization model are used **\"gurobipy-pandas\"**. Using this package is possible define the optimization model using pandas DataFrames\n",
    "\n",
    "https://gurobipy-pandas.readthedocs.io/en/stable/"
   ]
  },
  {
   "cell_type": "code",
   "execution_count": null,
   "id": "f13dc83a-84fa-43c6-a95f-9950d3f5f061",
   "metadata": {},
   "outputs": [],
   "source": [
    "import pickle\n",
    "import pandas as pd\n",
    "import numpy as np\n",
    "import os\n",
    "\n",
    "#gurobi\n",
    "import gurobipy_pandas as gppd\n",
    "from gurobi_ml import add_predictor_constr\n",
    "import gurobipy as gp"
   ]
  },
  {
   "cell_type": "code",
   "execution_count": null,
   "id": "fe000d94-8818-46fa-aad1-8f4ec76e9877",
   "metadata": {},
   "outputs": [],
   "source": []
  },
  {
   "cell_type": "markdown",
   "id": "2031a6c6-e76a-442b-a0ce-f74537a6898a",
   "metadata": {},
   "source": [
    "# USER INPUT\n",
    "VALUES THAT THE USER INGRESS TO TEST THE OPTIMIZATION"
   ]
  },
  {
   "cell_type": "code",
   "execution_count": null,
   "id": "5e91ab82-4663-4b10-b8be-6c3b0ba65082",
   "metadata": {},
   "outputs": [],
   "source": [
    "### PRICES MIN AND MAX OF PRODUCT\n",
    "input_product_price_min = 0\n",
    "input_product_price_max = 2\n",
    "\n",
    "### SUPPLY PRODUCT FOR EACH REGIONS\n",
    "input_supply_product = 25\n",
    "\n",
    "### COSTS - TRANSPORT - WASTE - ETC\n",
    "input_c_waste = 0.1\n",
    "\n",
    "input_c_transport_Great_Lakes = 0.3\n",
    "input_c_transport_Midsouth = 0.1\n",
    "input_c_transport_Northeast = 0.4\n",
    "input_c_transport_Northern_New_England = 0.5\n",
    "input_c_transport_SouthCentral = 0.3\n",
    "input_c_transport_Southeast = 0.2\n",
    "input_c_transport_West = 0.2\n",
    "input_c_transport_Plains = 0.2\n",
    "\n",
    "### SEASONALY 1: peak moths, 0: no\n",
    "input_seasonality_peak = 0"
   ]
  },
  {
   "cell_type": "code",
   "execution_count": null,
   "id": "ff3806b0-f9f5-4caf-9748-80e4d7749f8c",
   "metadata": {},
   "outputs": [],
   "source": []
  },
  {
   "cell_type": "code",
   "execution_count": null,
   "id": "f1bc9d1c-3dbd-4a5b-87f0-c48e37222801",
   "metadata": {},
   "outputs": [],
   "source": []
  },
  {
   "cell_type": "markdown",
   "id": "a88d5cfa-efee-436f-9f30-696a23517824",
   "metadata": {},
   "source": [
    "## PREPARATION"
   ]
  },
  {
   "cell_type": "markdown",
   "id": "9279de0e-974a-4aff-9967-3e3e3554791e",
   "metadata": {},
   "source": [
    "### 1. Load data needs to use\n",
    "In this example data is loaded because it is necesary to generate parameters of optimization model"
   ]
  },
  {
   "cell_type": "code",
   "execution_count": null,
   "id": "4878f497-6db5-4101-b237-d15d80614ea2",
   "metadata": {},
   "outputs": [],
   "source": [
    "def read_historical_data():\n",
    "    ##### read data that have all the units sold for each region\n",
    "    path_data_basic_features = 'data/data_basic_features.pkl'\n",
    "    data_units_sold = pd.read_pickle(path_data_basic_features)\n",
    "    \n",
    "    ##### use data to generate parameters for optimization model\n",
    "    # min, max deliry each region\n",
    "    data_min_delivery = data_units_sold.groupby(\"region\")[\"units_sold\"].min().rename('min_delivery')\n",
    "    data_max_delivery = data_units_sold.groupby(\"region\")[\"units_sold\"].max().rename('max_delivery')\n",
    "    \n",
    "    # historical distribution of price each region\n",
    "    data_historical_max_price = data_units_sold.groupby(\"region\")[\"price\"].max().rename('max_price')\n",
    "\n",
    "    return data_min_delivery, data_max_delivery, data_historical_max_price"
   ]
  },
  {
   "cell_type": "code",
   "execution_count": null,
   "id": "64d13119-ce3c-45f0-92ef-b224afa0448d",
   "metadata": {},
   "outputs": [],
   "source": [
    "data_min_delivery, data_max_delivery, data_historical_max_price = read_historical_data()"
   ]
  },
  {
   "cell_type": "code",
   "execution_count": null,
   "id": "2b34d060-e03e-41e5-bb14-b914d886d121",
   "metadata": {},
   "outputs": [],
   "source": [
    "data_min_delivery"
   ]
  },
  {
   "cell_type": "code",
   "execution_count": null,
   "id": "a60a7416-a4a5-4293-810a-e3c4400a5f0c",
   "metadata": {},
   "outputs": [],
   "source": [
    "data_max_delivery"
   ]
  },
  {
   "cell_type": "markdown",
   "id": "dad1fc4c-2849-4383-a5c5-13ab26ceb5e5",
   "metadata": {},
   "source": [
    "### 2. Load model machine learning\n",
    "Load models that given an input (price of each regions and other features) predict the price (One different model to predict the price of each region)\n",
    "\n",
    "The model was trained in the notebook \"models/5_prices_regions_multiple_lr\""
   ]
  },
  {
   "cell_type": "code",
   "execution_count": null,
   "id": "561f5640-ebbe-46ef-8255-0afab5472be2",
   "metadata": {},
   "outputs": [],
   "source": [
    "def read_ml_models_trained():\n",
    "    # params\n",
    "    path_folder_artifacts = 'models/'\n",
    "    list_models_names = os.listdir(path_folder_artifacts)\n",
    "    \n",
    "    ### load models\n",
    "    dict_models = {}\n",
    "    for model_name in list_models_names:\n",
    "        # params\n",
    "        #print(f'loading model: {model_name}')\n",
    "        path_model = path_folder_artifacts + model_name\n",
    "        \n",
    "        # load\n",
    "        aux = model_name.split('.')[0].split('_')[1:]\n",
    "        model_name_index = '_'.join(aux)\n",
    "        with open(path_model, 'rb') as artifact:\n",
    "            dict_models[model_name_index] = pickle.load(artifact)\n",
    "\n",
    "    return dict_models"
   ]
  },
  {
   "cell_type": "code",
   "execution_count": null,
   "id": "721b6db5-32af-47b6-a9bb-30b3cbb44020",
   "metadata": {},
   "outputs": [],
   "source": [
    "dict_models = read_ml_models_trained()"
   ]
  },
  {
   "cell_type": "code",
   "execution_count": null,
   "id": "096ea52d-4e2a-4492-8a85-e84a4881069d",
   "metadata": {},
   "outputs": [],
   "source": []
  },
  {
   "cell_type": "markdown",
   "id": "dec2d181-1424-455f-b7a1-2b35ad47fbfa",
   "metadata": {},
   "source": [
    "## RUN OPTIMIZATION"
   ]
  },
  {
   "cell_type": "markdown",
   "id": "03bcf94f-2240-4a7a-a6d4-76d869e86a19",
   "metadata": {},
   "source": [
    "### 0. Load transversal params - sets of optimization model\n",
    "Transversal all codes, not only this code. For example order in features in the data.\n",
    "\n",
    "Save the sets of optimization model as pandas index"
   ]
  },
  {
   "cell_type": "code",
   "execution_count": null,
   "id": "92e27017-176c-4017-ab0e-d974eefe8d2d",
   "metadata": {},
   "outputs": [],
   "source": [
    "list_regions = ['Great_Lakes', 'Midsouth', 'Northeast', 'Northern_New_England', 'Plains', 'SouthCentral', 'Southeast', 'West']\n",
    "regions = list_regions\n",
    "index_regions = pd.Index(regions)"
   ]
  },
  {
   "cell_type": "code",
   "execution_count": null,
   "id": "39afd60b-4b57-4787-b53e-ac03d869af21",
   "metadata": {},
   "outputs": [],
   "source": []
  },
  {
   "cell_type": "markdown",
   "id": "3857e7c6-5f08-4220-a4a3-571f29ee9ab1",
   "metadata": {},
   "source": [
    "### 1. Create guroby optimization model\n",
    "Documentation: https://www.gurobi.com/documentation/current/refman/py_model.html"
   ]
  },
  {
   "cell_type": "code",
   "execution_count": null,
   "id": "d0be0947-0bd6-4f6b-8f12-a9bd8c2ca3ef",
   "metadata": {},
   "outputs": [],
   "source": [
    "model_opt = gp.Model(name = \"Avocado_Price_Allocation\")"
   ]
  },
  {
   "cell_type": "code",
   "execution_count": null,
   "id": "bdd2ced3-f0fc-45cb-9937-e13280af8a48",
   "metadata": {},
   "outputs": [],
   "source": []
  },
  {
   "cell_type": "markdown",
   "id": "97dec9f4-559b-40dd-98a7-4e4e9fa29cf0",
   "metadata": {},
   "source": [
    "### 2. Upper bounds and lower bounds of decision variables\n",
    "Values that are boundss in decision variables. In gurobi the upper and lower boundss could be defined in the same moment that variables are created and not are defined as restrictions explicitly \n",
    "\n",
    "- $a_{min},a_{max}$: minimum and maximum price ($\\$$) per avocado (price is a input of machine learning model)\n",
    "- $b^r_{min},b^r_{max}$: minimum and maximum number of avocados allocated to region $r$"
   ]
  },
  {
   "cell_type": "code",
   "execution_count": null,
   "id": "29d7894e-3713-4894-ad04-9a9d34935291",
   "metadata": {},
   "outputs": [],
   "source": [
    "# product_price_min, product_price_max: min and max price of product A\n",
    "product_price_min = input_product_price_min\n",
    "product_price_max = input_product_price_max\n",
    "\n",
    "\n",
    "# b_min(r), b_max(r): min and max historical products send to each region (value get from historical data)\n",
    "b_min = data_min_delivery\n",
    "b_max = data_max_delivery"
   ]
  },
  {
   "cell_type": "code",
   "execution_count": null,
   "id": "8d1e1404-438a-4ec2-9d53-ad90e0015d79",
   "metadata": {},
   "outputs": [],
   "source": []
  },
  {
   "cell_type": "markdown",
   "id": "71476d65-cbb9-4c58-8fbf-48c6bc0a6bae",
   "metadata": {},
   "source": [
    "### 3. Input parameters of optimization model\n",
    "##### That are not decision variables either parameters of machine learning model)\n",
    "\n",
    "**Set**\n",
    "- $r$ : will be used to denote each region\n",
    "\n",
    "\n",
    "**Parameters Optimization Model**\n",
    "- $B$: available avocados to be distributed across the regions.Total amount of avocado supply\n",
    "\n",
    "- $c_{waste}$: cost ($\\$$) per wasted avocado\n",
    "\n",
    "- $c^r_{transport}$: cost ($\\$$) of transporting a avocado to region $r$"
   ]
  },
  {
   "cell_type": "code",
   "execution_count": null,
   "id": "99fa181c-08e1-4a07-a0a6-85ecffcbf27b",
   "metadata": {},
   "outputs": [],
   "source": [
    "# B: supply product\n",
    "B = input_supply_product\n",
    "\n",
    "\n",
    "# c_waste: cost of waste product\n",
    "c_waste = input_c_waste\n",
    "\n",
    "\n",
    "# c_transport(r): cost transport for each region\n",
    "c_transport = pd.Series(\n",
    "    {\n",
    "        \"Great_Lakes\": input_c_transport_Great_Lakes,\n",
    "        \"Midsouth\": input_c_transport_Midsouth,\n",
    "        \"Northeast\": input_c_transport_Northeast,\n",
    "        \"Northern_New_England\": input_c_transport_Northern_New_England,\n",
    "        \"SouthCentral\": input_c_transport_SouthCentral,\n",
    "        \"Southeast\": input_c_transport_Southeast,\n",
    "        \"West\": input_c_transport_West,\n",
    "        \"Plains\": input_c_transport_Plains,\n",
    "    }, name='transport_cost')\n",
    "c_transport = c_transport.loc[regions]"
   ]
  },
  {
   "cell_type": "code",
   "execution_count": null,
   "id": "96f73646-014d-4a57-bf95-3213215f67d9",
   "metadata": {},
   "outputs": [],
   "source": []
  },
  {
   "cell_type": "code",
   "execution_count": null,
   "id": "b7697eec-752c-45c1-8a6b-a5ba7bbf0424",
   "metadata": {},
   "outputs": [],
   "source": []
  },
  {
   "cell_type": "code",
   "execution_count": null,
   "id": "fbc26f12-9f19-422a-9986-d0e2eeee1171",
   "metadata": {},
   "outputs": [],
   "source": []
  },
  {
   "cell_type": "markdown",
   "id": "c11376a0-0796-4e1c-9c56-5f89e6cbc283",
   "metadata": {},
   "source": [
    "### 4. Features input machine learning model fixed (that are not decision variables or parameters in optimization model)\n",
    "Define the features that are inputs of machine learning model that are not decision variables of optimization model (so this values doesn't change). And also, this features that are not parameters of optimization model, so this values are not used in the restrictions"
   ]
  },
  {
   "cell_type": "code",
   "execution_count": null,
   "id": "615bf8fd-3999-403b-85da-4b84ba3d9de2",
   "metadata": {},
   "outputs": [],
   "source": [
    "peak_or_not = input_seasonality_peak\n",
    "instance_ml_model = pd.DataFrame(\n",
    "    data={\n",
    "        \"peak\": peak_or_not\n",
    "    },\n",
    "    index=regions\n",
    ")"
   ]
  },
  {
   "cell_type": "code",
   "execution_count": null,
   "id": "f27f2ed8-d4fe-4122-ae6c-02c6a518ccb2",
   "metadata": {},
   "outputs": [],
   "source": []
  },
  {
   "cell_type": "markdown",
   "id": "e03f732d-f128-461c-b30d-2f6908fbcbad",
   "metadata": {},
   "source": [
    "### 5. Decision variables of optimization model\n",
    "\n",
    "Let us now define the decision variables. In our model, we want to store the price and number of avocados allocated to each region. We also want variables that track how many avocados are predicted to be sold and how many are predicted to be wasted. \n",
    "\n",
    "- $p(r)$ the price of an avocado ($\\$$) in each region. The maxium price. It is a feature of machine learning model\n",
    "- $x(r)$ the number of avocados supplied to each region\n",
    "- $s(r)$ the predicted number of avocados sold in each region\n",
    "- $u(r)$ the predicted number of avocados unsold (wasted) in each region\n",
    "- $d(r)$ the predicted demand in each region. It is the target of machine learning model (because this value change according the input, it is a decision variable)\n",
    "\n",
    "All those variables are created using gurobipy-pandas, with the function `gppd.add_vars`. To use this function it is necessary to define:\n",
    "- model: optimization model of gurobi\n",
    "- index: pandas index. With this index it can defined the sets of the decision variables\n",
    "- name: name of the decision variable\n",
    "- Example: x = gppd.add_vars(model, index, name=\"x\")"
   ]
  },
  {
   "cell_type": "code",
   "execution_count": null,
   "id": "8145e863-8cc2-4492-b00d-2d0a48e97a4a",
   "metadata": {},
   "outputs": [],
   "source": [
    "# p(r): price. feature of machine learning model\n",
    "price = gppd.add_vars(model_opt, index_regions, name = \"price\", lb = product_price_min, ub = product_price_max) # bounds prices\n",
    "\n",
    "\n",
    "# x(r): supply\n",
    "supply = gppd.add_vars(model_opt, index_regions, name = \"supply\", lb = b_min, ub= b_max) # bounds supply - using historical data\n",
    "\n",
    "\n",
    "# s(r): solds given a certain price\n",
    "sold = gppd.add_vars(model_opt, index_regions, name = \"sold\")\n",
    "\n",
    "\n",
    "# u(r): inventary. units not sold. waste.\n",
    "inventory = gppd.add_vars(model_opt, index_regions, name = \"inventory\") \n",
    "\n",
    "\n",
    "# d(r): demand. output of machine learning model\n",
    "demand = gppd.add_vars(model_opt, index_regions, lb = -gp.GRB.INFINITY, name = \"demand\") # BY DEFULT LOWER BOUND IS ZERO"
   ]
  },
  {
   "cell_type": "code",
   "execution_count": null,
   "id": "211d78c7-3a62-4221-b08f-5bbded5fd332",
   "metadata": {},
   "outputs": [],
   "source": []
  },
  {
   "cell_type": "markdown",
   "id": "6455507f-2965-48c4-adb4-338b1b80e6f3",
   "metadata": {},
   "source": [
    "### 6. Constraints (constraints that are not generated by a ml model)"
   ]
  },
  {
   "cell_type": "markdown",
   "id": "18b2d0d5-e11b-488e-ae0a-308d5cf2fa24",
   "metadata": {},
   "source": [
    "#### 6.1 Add the Supply Constraint\n",
    "Make sure that the total number of avocados supplied is equal to $B$\n",
    "\\begin{align*} \n",
    "\\sum_{r} supply_r &= B \n",
    "\\end{align*}"
   ]
  },
  {
   "cell_type": "code",
   "execution_count": null,
   "id": "8a4a1bc4-69a7-46eb-a3d7-c704aa92f8ce",
   "metadata": {},
   "outputs": [],
   "source": [
    "model_opt.addConstr(supply.sum() == B, name = 'supply')"
   ]
  },
  {
   "cell_type": "markdown",
   "id": "f45578d8-a427-4732-9e7a-99877087cbd2",
   "metadata": {},
   "source": [
    "#### 6.2 Add Constraints That Define Sales Quantity\n",
    "The sales quantity is the minimum of the allocated quantity and the predicted demand, i.e., $s_r = \\min \\{x_r,d_r(p_r)\\}$ This relationship can be modeled by the following two constraints for each region $r$.\n",
    "\n",
    "\\begin{align*} \n",
    "sold_r &\\leq supply_r                \\:\\:\\:\\:\\forall r\\\\\n",
    "sold_r &\\leq demand(p_r,r)                   \\:\\:\\:\\:\\forall r\n",
    "\\end{align*}"
   ]
  },
  {
   "cell_type": "code",
   "execution_count": null,
   "id": "956b018f-7d6a-431b-ac79-8d5dcde4a026",
   "metadata": {},
   "outputs": [],
   "source": [
    "gppd.add_constrs(model_opt, sold, gp.GRB.LESS_EQUAL, supply, name = 'solds <= supply')\n",
    "gppd.add_constrs(model_opt, sold, gp.GRB.LESS_EQUAL, demand, name = 'solds <= demand')"
   ]
  },
  {
   "cell_type": "code",
   "execution_count": null,
   "id": "da9242e3-b62e-494d-97d6-f92cb63454d8",
   "metadata": {},
   "outputs": [],
   "source": []
  },
  {
   "cell_type": "markdown",
   "id": "d2b3f1c9-7df1-434c-af68-f2674687879a",
   "metadata": {},
   "source": [
    "#### 6.3 Add the Wastage Constraints\n",
    "Define the predicted unsold number of avocados in each region, given by the supplied quantity that is not sold. For each region $r$.\n",
    "\n",
    "\\begin{align*} \n",
    "inventory_r &= supply_r - sold_r                 \\:\\:\\:\\:\\forall r\n",
    "\\end{align*}"
   ]
  },
  {
   "cell_type": "code",
   "execution_count": null,
   "id": "37157007-53d2-4a67-a49c-6650581bda74",
   "metadata": {},
   "outputs": [],
   "source": [
    "gppd.add_constrs(model_opt, inventory, gp.GRB.EQUAL, supply - sold, name = 'waste')"
   ]
  },
  {
   "cell_type": "code",
   "execution_count": null,
   "id": "3648bad7-0c50-45a6-bc28-bf30d0ebbb37",
   "metadata": {},
   "outputs": [],
   "source": []
  },
  {
   "cell_type": "markdown",
   "id": "d6459a34-7dd5-4639-83f1-4707fd790544",
   "metadata": {},
   "source": [
    "#### 6.4 Model update - add the constraint to gurobi model"
   ]
  },
  {
   "cell_type": "code",
   "execution_count": null,
   "id": "d91f7a5e-fa55-4fc6-84e1-b1238c1a2917",
   "metadata": {},
   "outputs": [],
   "source": [
    "model_opt.update()"
   ]
  },
  {
   "cell_type": "code",
   "execution_count": null,
   "id": "0f9cf10d-070d-499d-9d26-54987977fab9",
   "metadata": {},
   "outputs": [],
   "source": []
  },
  {
   "cell_type": "markdown",
   "id": "d00c9c20-5457-4875-bb44-558c4e010ea4",
   "metadata": {},
   "source": [
    "### 7. Add constraints that are machine learning models\n",
    "To add constraints that have machine learning models it is necessary define a dataframe that are the instance of prediction (it has columns as gurobi decision variables) and then create the constraint in gurobi.\n",
    "\n",
    "In this example, where each region has its own model, the dataframe instance also needs to be defined indidually. For the decision variable that are defined in the set \"regions\" it is important filter the dataframe instance with the correct element of the set region\n",
    "\n",
    "**So, for each element in set region will be defined the instance dataframe and a constraint. Each region has it own model**Also, the instance has only one row, so now it is possible define a optimization model with set \"time\" and each row of the dataframe could be the instance of time t, t+1, t+2, etc\n",
    "\n",
    "\n",
    "**IMPORTANT: LOGICALLY, FOR THIS EXAMPLE, TO DEFINE THE CONSTRAINTS OF ML MODELS, A FOR COULD HAVE BEEN MADE IN THE SET \"REGIONS\" BUT IT WAS NOT DONE CONSCIOUSLY THINKING OF AN EXAMPLE IN WHICH RESTRICTIONS HAVE TO BE DEFINED IN DIFFERENT SETS**"
   ]
  },
  {
   "cell_type": "code",
   "execution_count": null,
   "id": "e4926a8f-8b9e-44f4-9270-86e508420749",
   "metadata": {},
   "outputs": [],
   "source": [
    "############ create instance for predict demand fo each region ############\n",
    "\n",
    "for region in regions:\n",
    "\n",
    "    # there is a dataframe with features fixed (no decision variables). filter it by region\n",
    "    aux_features_fixed = instance_ml_model.loc[[region]]  \n",
    "    \n",
    "    # create a dataframe with decision variables gurobi. filter it by region. In this example the price of all regions are features of the ml model\n",
    "    aux_features_decision =  pd.DataFrame(price).T\n",
    "    aux_features_decision.index = [region]\n",
    "    \n",
    "    #name_columns_feature_decision = aux_features_decision.columns # CORRECTION NAME COLUMNS TO BE THE SAME COLUMNS NAMES IN DATAFRAME USED TO TRAIN\n",
    "    name_columns_feature_decision = ['price_' + name_region for name_region in list_regions]\n",
    "    name_columns_feature_decision = [column.lower() for column in name_columns_feature_decision]\n",
    "    aux_features_decision.columns = name_columns_feature_decision\n",
    "    \n",
    "    # join into a dataframe instance\n",
    "    instance = pd.concat([aux_features_fixed, aux_features_decision], axis=1) # generate instance\n",
    "    \n",
    "    \n",
    "    ############ create constraint based in machine learning model ############\n",
    "    # load model\n",
    "    model_ml = dict_models[region]\n",
    "    \n",
    "    ## add model to predict the demand for each region with the SAME MODEL\n",
    "    pred_constr = add_predictor_constr(gp_model = model_opt, \n",
    "                                       predictor = model_ml, \n",
    "                                       input_vars = instance, \n",
    "                                       output_vars = demand[region], # filter decision variable for the element of the set region,\n",
    "                                       name = f'model_predict_{region}'\n",
    "                                      )\n",
    "    #pred_constr.print_stats()"
   ]
  },
  {
   "cell_type": "code",
   "execution_count": null,
   "id": "7a5eb010-5e7a-4a9d-a272-8c6d5db10404",
   "metadata": {},
   "outputs": [],
   "source": []
  },
  {
   "cell_type": "code",
   "execution_count": null,
   "id": "4435d3aa-7a67-415e-b5bc-c591c99ba7b0",
   "metadata": {},
   "outputs": [],
   "source": []
  },
  {
   "cell_type": "code",
   "execution_count": null,
   "id": "41aad436-b673-4c07-a934-af91312691c2",
   "metadata": {},
   "outputs": [],
   "source": []
  },
  {
   "cell_type": "markdown",
   "id": "eae2618c-b69f-4c54-b63b-91ea6a0f6c56",
   "metadata": {},
   "source": [
    "### 8. Define Objetive Function\n",
    "The goal is to maximize the **net revenue**, which is the product of price and quantity, minus costs over all regions. This model assumes the purchase costs are fixed (since the amount $B$ is fixed) and are therefore not incorporated.\n",
    "\n",
    "\\begin{align} \n",
    "\\textrm{maximize} &  \\sum_{r}  (price_r * sold_r - c_{waste} * inventory_r -\n",
    "c^r_{transport} * supply_r)& \n",
    "\\end{align}"
   ]
  },
  {
   "cell_type": "code",
   "execution_count": null,
   "id": "062427d8-df20-45bb-be94-869cde638c9f",
   "metadata": {},
   "outputs": [],
   "source": [
    "model_opt.setObjective((price * sold).sum() - c_waste * inventory.sum() - (c_transport * supply).sum(),\n",
    "               gp.GRB.MAXIMIZE)"
   ]
  },
  {
   "cell_type": "code",
   "execution_count": null,
   "id": "6b02898c-4b8a-4db7-a689-57a3af81904f",
   "metadata": {},
   "outputs": [],
   "source": []
  },
  {
   "cell_type": "markdown",
   "id": "14bfbd7e-ff7a-48b6-8dab-5d5c8e832f8c",
   "metadata": {},
   "source": [
    "### 9. Solve optimization problem\n",
    "The objective is **quadratic** since we take the product of price and the predicted sales, both of which are variables. Maximizing a quadratic\n",
    "term is said to be **non-convex**, and we specify this by setting the value of the [Gurobi NonConvex\n",
    "parameter](https://www.gurobi.com/documentation/10.0/refman/nonconvex.html) to be $2$."
   ]
  },
  {
   "cell_type": "code",
   "execution_count": null,
   "id": "b645dcf1-b3bc-4a78-947d-294263bc5acd",
   "metadata": {},
   "outputs": [],
   "source": [
    "# solve cuadratic problems\n",
    "model_opt.Params.NonConvex = 2"
   ]
  },
  {
   "cell_type": "code",
   "execution_count": null,
   "id": "d524177d-48cd-4252-b31c-c19c4a03bb36",
   "metadata": {},
   "outputs": [],
   "source": [
    "# solve\n",
    "model_opt.optimize()"
   ]
  },
  {
   "cell_type": "code",
   "execution_count": null,
   "id": "b54e4944-8471-4659-9747-49ecf5b782ec",
   "metadata": {},
   "outputs": [],
   "source": [
    "#### know the status of the model - 2 a optimal solution was founded\n",
    "# docu: https://www.gurobi.com/documentation/current/refman/optimization_status_codes.html#sec:StatusCodes\n",
    "model_opt.Status"
   ]
  },
  {
   "cell_type": "markdown",
   "id": "35408af3-867e-42b7-8191-8b58e237205b",
   "metadata": {},
   "source": [
    "### 10. Save optimal values in a dataframe\n",
    "To get the optimal values of decision variables it is neccesary call \"var.gppd.X\""
   ]
  },
  {
   "cell_type": "code",
   "execution_count": null,
   "id": "92c62a68-2364-456c-af2f-792908179173",
   "metadata": {},
   "outputs": [],
   "source": [
    "# create dataframe with index\n",
    "solution = pd.DataFrame(index=index_regions)\n",
    "\n",
    "# save optimal values\n",
    "solution[\"Price\"] = price.gppd.X\n",
    "solution[\"Historical_Max_Price\"] = data_historical_max_price  # this is informative value get from historical data\n",
    "solution[\"Allocated(supply)\"] = supply.gppd.X\n",
    "solution[\"Sold\"] = sold.gppd.X\n",
    "solution[\"Inventory\"] = inventory.gppd.X\n",
    "solution[\"Pred_demand\"] = demand.gppd.X\n",
    "solution[\"Diff Demand - Supply\"] = demand.gppd.X - supply.gppd.X\n",
    "\n",
    "# sum values\n",
    "total_sum = solution.sum()\n",
    "total_sum[\"Price\"] = np.NaN\n",
    "total_sum[\"Historical_Max_Price\"] = np.NaN\n",
    "solution.loc[\"Total\", :] = total_sum\n",
    "\n",
    "# round values\n",
    "solution = solution.round(3)"
   ]
  },
  {
   "cell_type": "code",
   "execution_count": null,
   "id": "c542883a-f36d-4efb-a187-601c93760cf9",
   "metadata": {},
   "outputs": [],
   "source": [
    "# show value objetive function\n",
    "opt_revenue = model_opt.ObjVal\n",
    "opt_revenue = np.round(opt_revenue, 2)\n",
    "print(f\"\\n The optimal net revenue: ${opt_revenue} million\")"
   ]
  },
  {
   "cell_type": "code",
   "execution_count": null,
   "id": "033ee5de-de23-41fd-a52f-b76b830ccd04",
   "metadata": {},
   "outputs": [],
   "source": []
  },
  {
   "cell_type": "code",
   "execution_count": null,
   "id": "2f72543c-2194-4d7c-acf4-567924fa962c",
   "metadata": {},
   "outputs": [],
   "source": [
    "# show value decision variables\n",
    "solution"
   ]
  },
  {
   "cell_type": "code",
   "execution_count": null,
   "id": "bb7641c7-993e-48fa-8da1-1eaa816cb1e2",
   "metadata": {},
   "outputs": [],
   "source": []
  },
  {
   "cell_type": "code",
   "execution_count": null,
   "id": "fcec9fc6-ab7e-48ce-abbc-61adb5630478",
   "metadata": {},
   "outputs": [],
   "source": [
    "#excel_solution = solution.to_excel('solution.xlsx', index=False)\n",
    "#excel_solution"
   ]
  },
  {
   "cell_type": "code",
   "execution_count": null,
   "id": "f7a2bdcc-2d52-499d-8dcd-a628ba69cca4",
   "metadata": {},
   "outputs": [],
   "source": []
  },
  {
   "cell_type": "markdown",
   "id": "990ff5ca-69ae-4ae4-93b9-36f4467da626",
   "metadata": {},
   "source": [
    "# ANALYSIS SOLUTION\n",
    "Analysis the solution given by the optimization.\n",
    "\n",
    "For example, see the income generated for each segment of product, etc"
   ]
  },
  {
   "cell_type": "code",
   "execution_count": null,
   "id": "ba28e16c-eb65-4771-8f41-42d7e815290d",
   "metadata": {},
   "outputs": [],
   "source": []
  }
 ],
 "metadata": {
  "kernelspec": {
   "display_name": "Python 3 (ipykernel)",
   "language": "python",
   "name": "python3"
  },
  "language_info": {
   "codemirror_mode": {
    "name": "ipython",
    "version": 3
   },
   "file_extension": ".py",
   "mimetype": "text/x-python",
   "name": "python",
   "nbconvert_exporter": "python",
   "pygments_lexer": "ipython3",
   "version": "3.10.14"
  }
 },
 "nbformat": 4,
 "nbformat_minor": 5
}
