{
 "cells": [
  {
   "cell_type": "markdown",
   "id": "1379bfdc-a9ff-47e6-a2ae-9c10b0727b4e",
   "metadata": {},
   "source": [
    "## Feature Engineering\n",
    "Transform the data to train differents models"
   ]
  },
  {
   "cell_type": "code",
   "execution_count": null,
   "id": "3d6e4aed-d06c-4b23-b6ec-dcb6ca78b3f6",
   "metadata": {},
   "outputs": [],
   "source": [
    "import pandas as pd"
   ]
  },
  {
   "cell_type": "code",
   "execution_count": null,
   "id": "89666cc9-70c8-4a0a-b45e-1fed067ccfef",
   "metadata": {},
   "outputs": [],
   "source": []
  },
  {
   "cell_type": "markdown",
   "id": "d8730799-eb1a-4438-a302-12fcc712e665",
   "metadata": {},
   "source": [
    "### 0. Root repo"
   ]
  },
  {
   "cell_type": "code",
   "execution_count": null,
   "id": "e7529970-716c-469c-b332-89c8d449fa48",
   "metadata": {},
   "outputs": [],
   "source": [
    "import os\n",
    "# fix root path to save outputs\n",
    "actual_path = os.path.abspath(os.getcwd())\n",
    "list_root_path = actual_path.split('\\\\')[:-1]\n",
    "root_path = '\\\\'.join(list_root_path)\n",
    "os.chdir(root_path)\n",
    "print('root path: ', root_path)"
   ]
  },
  {
   "cell_type": "code",
   "execution_count": null,
   "id": "56cfc260-7d33-42b3-a6a5-608b5f4548d2",
   "metadata": {},
   "outputs": [],
   "source": []
  },
  {
   "cell_type": "markdown",
   "id": "054098b1-4af3-4093-b770-2402ce9d3c02",
   "metadata": {},
   "source": [
    "### 1. Load data"
   ]
  },
  {
   "cell_type": "code",
   "execution_count": null,
   "id": "65fff804-1f43-4b1e-8e82-ca4d98ca8be0",
   "metadata": {},
   "outputs": [],
   "source": [
    "path_data = 'artifacts/data/data_raw.pkl'\n",
    "data = pd.read_pickle(path_data)\n",
    "data.head()"
   ]
  },
  {
   "cell_type": "code",
   "execution_count": null,
   "id": "47e9840a-ae3e-4c28-a3df-c0bed5cc4934",
   "metadata": {},
   "outputs": [],
   "source": [
    "data.shape"
   ]
  },
  {
   "cell_type": "code",
   "execution_count": null,
   "id": "1e15f677-0e9a-4189-9093-8681244ef6fb",
   "metadata": {},
   "outputs": [],
   "source": []
  },
  {
   "cell_type": "markdown",
   "id": "b1a45c9b-bd79-4b3f-8e14-2af9c05d51ee",
   "metadata": {},
   "source": [
    "### 2. Delete the region \"Total_US\" to have only data for each region"
   ]
  },
  {
   "cell_type": "code",
   "execution_count": null,
   "id": "12e2d3e5-5ec4-4af8-bc54-71fce10f36a6",
   "metadata": {},
   "outputs": [],
   "source": [
    "# create a dataframe with all regions, deleting the total_US\n",
    "regions = [\n",
    "    \"Great_Lakes\",\n",
    "    \"Midsouth\",\n",
    "    \"Northeast\",\n",
    "    \"Northern_New_England\",\n",
    "    \"SouthCentral\",\n",
    "    \"Southeast\",\n",
    "    \"West\",\n",
    "    \"Plains\",\n",
    "]\n",
    "data = data[data.region.isin(regions)]"
   ]
  },
  {
   "cell_type": "code",
   "execution_count": null,
   "id": "227a52bc-56d2-47b5-a6d7-575a8ca4dcf0",
   "metadata": {},
   "outputs": [],
   "source": [
    "data.shape"
   ]
  },
  {
   "cell_type": "code",
   "execution_count": null,
   "id": "e5d9151f-9646-4ee2-bbff-c8ad26aa2b02",
   "metadata": {},
   "outputs": [],
   "source": []
  },
  {
   "cell_type": "markdown",
   "id": "df3e6c05-9833-447e-a087-dcdd15083dfc",
   "metadata": {},
   "source": [
    "### 3. Set index date"
   ]
  },
  {
   "cell_type": "code",
   "execution_count": null,
   "id": "44076671-ca6f-4c8f-9b9a-25ec6c9a4f9f",
   "metadata": {},
   "outputs": [],
   "source": [
    "data.set_index('date', inplace = True)"
   ]
  },
  {
   "cell_type": "code",
   "execution_count": null,
   "id": "fadc8da2-aea1-415e-a4d7-45b98040bad9",
   "metadata": {},
   "outputs": [],
   "source": [
    "data.head()"
   ]
  },
  {
   "cell_type": "code",
   "execution_count": null,
   "id": "e1c587db-714c-425d-acb0-4875b242cc7b",
   "metadata": {},
   "outputs": [],
   "source": []
  },
  {
   "cell_type": "markdown",
   "id": "9d2d9650-2ef3-4a61-bc6c-21f1cf6b4020",
   "metadata": {},
   "source": [
    "### 4. Delete column year and month. Because this feature won't be use.\n",
    "ONLY IT WILL USE THE COLUMN \"peak\" to the model, as seasonality feature"
   ]
  },
  {
   "cell_type": "code",
   "execution_count": null,
   "id": "b16f00fa-2ef0-4e48-a11b-75ccee750b2f",
   "metadata": {},
   "outputs": [],
   "source": [
    "data = data.drop(columns = ['year', 'month'])\n",
    "data.head()"
   ]
  },
  {
   "cell_type": "code",
   "execution_count": null,
   "id": "be43ed0c-da5c-48c3-b2bb-872d73ed172a",
   "metadata": {},
   "outputs": [],
   "source": []
  },
  {
   "cell_type": "markdown",
   "id": "8c55637a-674a-4921-85a3-4f69888de935",
   "metadata": {},
   "source": [
    "### Save data to predict basic model. Columns: [\"units_sold\", \"price\", \"region\", \"peak\"]"
   ]
  },
  {
   "cell_type": "code",
   "execution_count": null,
   "id": "01eceb94-f340-4f62-8bf1-36c72885bca9",
   "metadata": {},
   "outputs": [],
   "source": [
    "data.head()"
   ]
  },
  {
   "cell_type": "code",
   "execution_count": null,
   "id": "06dc93b2-29f4-4d93-88d5-e010eec9701e",
   "metadata": {},
   "outputs": [],
   "source": [
    "path_data_basic_features = 'artifacts/data/data_basic_features.pkl'\n",
    "data.to_pickle(path_data_basic_features)"
   ]
  },
  {
   "cell_type": "code",
   "execution_count": null,
   "id": "093b90ee-7cdf-46d1-a040-6b4fd88d317e",
   "metadata": {},
   "outputs": [],
   "source": []
  },
  {
   "cell_type": "code",
   "execution_count": null,
   "id": "6ad104a1-3fea-4bec-86ff-1a655945eee7",
   "metadata": {},
   "outputs": [],
   "source": []
  },
  {
   "cell_type": "markdown",
   "id": "15eb89aa-fdea-4249-abac-a2297a05a56c",
   "metadata": {},
   "source": []
  },
  {
   "cell_type": "markdown",
   "id": "fe5cbf7c-1876-411d-8ac2-17694ac0124e",
   "metadata": {},
   "source": [
    "## GENERATE SECOND DATA SET - \"prices_regions\" - predict demand considering multiple prices"
   ]
  },
  {
   "cell_type": "code",
   "execution_count": null,
   "id": "8d7e1d06-cab2-4010-b455-1d787386f3a1",
   "metadata": {},
   "outputs": [],
   "source": [
    "# filter usefull columns\n",
    "list_columns_to_comparation = ['units_sold', 'price', 'region', 'peak']\n",
    "df_filtered_columns = data[list_columns_to_comparation]\n",
    "df_filtered_columns"
   ]
  },
  {
   "cell_type": "code",
   "execution_count": null,
   "id": "e7e406e4-d212-4636-a425-8573d4d85c33",
   "metadata": {},
   "outputs": [],
   "source": [
    "df_filtered_columns.reset_index(inplace = True) # reset index to works codes"
   ]
  },
  {
   "cell_type": "code",
   "execution_count": null,
   "id": "b45e9c56-4dce-4335-92bc-2307a01aca34",
   "metadata": {},
   "outputs": [],
   "source": [
    "#### Pivot data to generate a pivot table with the prices for each region in one row\n",
    "df_pivot_prices = df_filtered_columns.pivot(index='date', columns='region', values='price').reset_index()\n",
    "df_pivot_prices.columns = ['date'] + ['price_' + col.lower().replace(' ', '_') for col in df_pivot_prices.columns[1:]]\n",
    "df_pivot_prices"
   ]
  },
  {
   "cell_type": "code",
   "execution_count": null,
   "id": "adf87b0f-0bba-4c80-a8f2-48626cf102be",
   "metadata": {},
   "outputs": [],
   "source": [
    "# delete original column price, with the price in this region\n",
    "df_filtered_columns = df_filtered_columns.drop(columns = ['price']) \n",
    "df_filtered_columns.head()"
   ]
  },
  {
   "cell_type": "code",
   "execution_count": null,
   "id": "00161aec-2c43-4966-abc5-cc6231112acc",
   "metadata": {},
   "outputs": [],
   "source": [
    "#### merge the original data with units solds and region with the data that have the price for each region\n",
    "df_prices_regions = pd.merge(df_filtered_columns, df_pivot_prices, on='date', how='left')\n",
    "df_prices_regions.head(9)"
   ]
  },
  {
   "cell_type": "code",
   "execution_count": null,
   "id": "0d07dbbc-9020-4be9-8b87-be5a04f8f39c",
   "metadata": {},
   "outputs": [],
   "source": [
    "#set index date\n",
    "df_prices_regions.set_index('date', inplace = True)"
   ]
  },
  {
   "cell_type": "code",
   "execution_count": null,
   "id": "94cf41f7-a055-42e9-aad0-4f063768dee1",
   "metadata": {},
   "outputs": [],
   "source": []
  },
  {
   "cell_type": "code",
   "execution_count": null,
   "id": "1790dd80-a356-4ae5-a4fb-2ba6507dd88c",
   "metadata": {},
   "outputs": [],
   "source": []
  },
  {
   "cell_type": "markdown",
   "id": "84eadd59-0a51-4c79-8b5a-ec19515e1c04",
   "metadata": {},
   "source": [
    "### Save data to predict demand considering multiple prices - dataset: \"prices_regions\"\n",
    "In this example considering prices of all regions"
   ]
  },
  {
   "cell_type": "code",
   "execution_count": null,
   "id": "da5ba8c5-6eff-4b9e-b45a-82e5f5e0dd95",
   "metadata": {},
   "outputs": [],
   "source": [
    "df_prices_regions.head()"
   ]
  },
  {
   "cell_type": "code",
   "execution_count": null,
   "id": "24951ac3-9c88-409e-9e86-ff46307646da",
   "metadata": {},
   "outputs": [],
   "source": [
    "path_data_prices_regions = 'artifacts/data/data_prices_regions.pkl'\n",
    "df_prices_regions.to_pickle(path_data_prices_regions)"
   ]
  },
  {
   "cell_type": "code",
   "execution_count": null,
   "id": "a6f2da0f-1571-4f3a-851b-4c68279771ac",
   "metadata": {},
   "outputs": [],
   "source": []
  }
 ],
 "metadata": {
  "kernelspec": {
   "display_name": "Python 3 (ipykernel)",
   "language": "python",
   "name": "python3"
  },
  "language_info": {
   "codemirror_mode": {
    "name": "ipython",
    "version": 3
   },
   "file_extension": ".py",
   "mimetype": "text/x-python",
   "name": "python",
   "nbconvert_exporter": "python",
   "pygments_lexer": "ipython3",
   "version": "3.10.14"
  }
 },
 "nbformat": 4,
 "nbformat_minor": 5
}
